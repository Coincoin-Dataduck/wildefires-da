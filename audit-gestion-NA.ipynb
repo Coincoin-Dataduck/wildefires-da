{
 "cells": [
  {
   "cell_type": "markdown",
   "id": "75b51c7f",
   "metadata": {},
   "source": [
    "### Objectif"
   ]
  },
  {
   "cell_type": "markdown",
   "id": "70f2c01e",
   "metadata": {},
   "source": [
    "<ol>\n",
    "    <li>Etudier la répartition des NA associées aux variables 'FIRE CODE' et 'FIRE NAME'</li>\n",
    "    <li>Etudier la répartition des NA associées aux variables 'CONT_DATE' et 'CONT_DOY'</li>\n",
    "</ol>"
   ]
  },
  {
   "cell_type": "markdown",
   "id": "85b268b6",
   "metadata": {},
   "source": [
    "### Import des librairies"
   ]
  },
  {
   "cell_type": "code",
   "execution_count": 1,
   "id": "54109c5c",
   "metadata": {},
   "outputs": [],
   "source": [
    "import pandas as pd\n",
    "import numpy as np\n",
    "import sqlalchemy as db\n",
    "import matplotlib.pyplot as plt\n",
    "import seaborn as sns\n",
    "\n",
    "%matplotlib inline"
   ]
  },
  {
   "cell_type": "markdown",
   "id": "a7f1c5df",
   "metadata": {},
   "source": [
    "### Chagement du jeu de données"
   ]
  },
  {
   "cell_type": "code",
   "execution_count": 3,
   "id": "bbf322f3",
   "metadata": {},
   "outputs": [
    {
     "ename": "OperationalError",
     "evalue": "(sqlite3.OperationalError) no such table: Fires\n[SQL: SELECT * FROM Fires]\n(Background on this error at: https://sqlalche.me/e/14/e3q8)",
     "output_type": "error",
     "traceback": [
      "\u001b[1;31m---------------------------------------------------------------------------\u001b[0m",
      "\u001b[1;31mOperationalError\u001b[0m                          Traceback (most recent call last)",
      "\u001b[1;32mC:\\ProgramData\\Anaconda3\\lib\\site-packages\\sqlalchemy\\engine\\base.py\u001b[0m in \u001b[0;36m_execute_context\u001b[1;34m(self, dialect, constructor, statement, parameters, execution_options, *args, **kw)\u001b[0m\n\u001b[0;32m   1770\u001b[0m                 \u001b[1;32mif\u001b[0m \u001b[1;32mnot\u001b[0m \u001b[0mevt_handled\u001b[0m\u001b[1;33m:\u001b[0m\u001b[1;33m\u001b[0m\u001b[1;33m\u001b[0m\u001b[0m\n\u001b[1;32m-> 1771\u001b[1;33m                     self.dialect.do_execute(\n\u001b[0m\u001b[0;32m   1772\u001b[0m                         \u001b[0mcursor\u001b[0m\u001b[1;33m,\u001b[0m \u001b[0mstatement\u001b[0m\u001b[1;33m,\u001b[0m \u001b[0mparameters\u001b[0m\u001b[1;33m,\u001b[0m \u001b[0mcontext\u001b[0m\u001b[1;33m\u001b[0m\u001b[1;33m\u001b[0m\u001b[0m\n",
      "\u001b[1;32mC:\\ProgramData\\Anaconda3\\lib\\site-packages\\sqlalchemy\\engine\\default.py\u001b[0m in \u001b[0;36mdo_execute\u001b[1;34m(self, cursor, statement, parameters, context)\u001b[0m\n\u001b[0;32m    716\u001b[0m     \u001b[1;32mdef\u001b[0m \u001b[0mdo_execute\u001b[0m\u001b[1;33m(\u001b[0m\u001b[0mself\u001b[0m\u001b[1;33m,\u001b[0m \u001b[0mcursor\u001b[0m\u001b[1;33m,\u001b[0m \u001b[0mstatement\u001b[0m\u001b[1;33m,\u001b[0m \u001b[0mparameters\u001b[0m\u001b[1;33m,\u001b[0m \u001b[0mcontext\u001b[0m\u001b[1;33m=\u001b[0m\u001b[1;32mNone\u001b[0m\u001b[1;33m)\u001b[0m\u001b[1;33m:\u001b[0m\u001b[1;33m\u001b[0m\u001b[1;33m\u001b[0m\u001b[0m\n\u001b[1;32m--> 717\u001b[1;33m         \u001b[0mcursor\u001b[0m\u001b[1;33m.\u001b[0m\u001b[0mexecute\u001b[0m\u001b[1;33m(\u001b[0m\u001b[0mstatement\u001b[0m\u001b[1;33m,\u001b[0m \u001b[0mparameters\u001b[0m\u001b[1;33m)\u001b[0m\u001b[1;33m\u001b[0m\u001b[1;33m\u001b[0m\u001b[0m\n\u001b[0m\u001b[0;32m    718\u001b[0m \u001b[1;33m\u001b[0m\u001b[0m\n",
      "\u001b[1;31mOperationalError\u001b[0m: no such table: Fires",
      "\nThe above exception was the direct cause of the following exception:\n",
      "\u001b[1;31mOperationalError\u001b[0m                          Traceback (most recent call last)",
      "\u001b[1;32m~\\AppData\\Local\\Temp\\1/ipykernel_1848/1011279611.py\u001b[0m in \u001b[0;36m<module>\u001b[1;34m\u001b[0m\n\u001b[0;32m      2\u001b[0m \u001b[0mconnection\u001b[0m \u001b[1;33m=\u001b[0m \u001b[0mengine\u001b[0m\u001b[1;33m.\u001b[0m\u001b[0mconnect\u001b[0m\u001b[1;33m(\u001b[0m\u001b[1;33m)\u001b[0m\u001b[1;33m\u001b[0m\u001b[1;33m\u001b[0m\u001b[0m\n\u001b[0;32m      3\u001b[0m \u001b[0mmetadata\u001b[0m \u001b[1;33m=\u001b[0m \u001b[0mdb\u001b[0m\u001b[1;33m.\u001b[0m\u001b[0mMetaData\u001b[0m\u001b[1;33m(\u001b[0m\u001b[1;33m)\u001b[0m\u001b[1;33m\u001b[0m\u001b[1;33m\u001b[0m\u001b[0m\n\u001b[1;32m----> 4\u001b[1;33m \u001b[0mFires\u001b[0m \u001b[1;33m=\u001b[0m \u001b[0mpd\u001b[0m\u001b[1;33m.\u001b[0m\u001b[0mread_sql_query\u001b[0m\u001b[1;33m(\u001b[0m\u001b[1;34m\"SELECT * FROM Fires\"\u001b[0m\u001b[1;33m,\u001b[0m \u001b[0mcon\u001b[0m \u001b[1;33m=\u001b[0m \u001b[0mconnection\u001b[0m\u001b[1;33m)\u001b[0m\u001b[1;33m\u001b[0m\u001b[1;33m\u001b[0m\u001b[0m\n\u001b[0m",
      "\u001b[1;32mC:\\ProgramData\\Anaconda3\\lib\\site-packages\\pandas\\io\\sql.py\u001b[0m in \u001b[0;36mread_sql_query\u001b[1;34m(sql, con, index_col, coerce_float, params, parse_dates, chunksize, dtype)\u001b[0m\n\u001b[0;32m    434\u001b[0m     \"\"\"\n\u001b[0;32m    435\u001b[0m     \u001b[0mpandas_sql\u001b[0m \u001b[1;33m=\u001b[0m \u001b[0mpandasSQL_builder\u001b[0m\u001b[1;33m(\u001b[0m\u001b[0mcon\u001b[0m\u001b[1;33m)\u001b[0m\u001b[1;33m\u001b[0m\u001b[1;33m\u001b[0m\u001b[0m\n\u001b[1;32m--> 436\u001b[1;33m     return pandas_sql.read_query(\n\u001b[0m\u001b[0;32m    437\u001b[0m         \u001b[0msql\u001b[0m\u001b[1;33m,\u001b[0m\u001b[1;33m\u001b[0m\u001b[1;33m\u001b[0m\u001b[0m\n\u001b[0;32m    438\u001b[0m         \u001b[0mindex_col\u001b[0m\u001b[1;33m=\u001b[0m\u001b[0mindex_col\u001b[0m\u001b[1;33m,\u001b[0m\u001b[1;33m\u001b[0m\u001b[1;33m\u001b[0m\u001b[0m\n",
      "\u001b[1;32mC:\\ProgramData\\Anaconda3\\lib\\site-packages\\pandas\\io\\sql.py\u001b[0m in \u001b[0;36mread_query\u001b[1;34m(self, sql, index_col, coerce_float, parse_dates, params, chunksize, dtype)\u001b[0m\n\u001b[0;32m   1577\u001b[0m         \u001b[0margs\u001b[0m \u001b[1;33m=\u001b[0m \u001b[0m_convert_params\u001b[0m\u001b[1;33m(\u001b[0m\u001b[0msql\u001b[0m\u001b[1;33m,\u001b[0m \u001b[0mparams\u001b[0m\u001b[1;33m)\u001b[0m\u001b[1;33m\u001b[0m\u001b[1;33m\u001b[0m\u001b[0m\n\u001b[0;32m   1578\u001b[0m \u001b[1;33m\u001b[0m\u001b[0m\n\u001b[1;32m-> 1579\u001b[1;33m         \u001b[0mresult\u001b[0m \u001b[1;33m=\u001b[0m \u001b[0mself\u001b[0m\u001b[1;33m.\u001b[0m\u001b[0mexecute\u001b[0m\u001b[1;33m(\u001b[0m\u001b[1;33m*\u001b[0m\u001b[0margs\u001b[0m\u001b[1;33m)\u001b[0m\u001b[1;33m\u001b[0m\u001b[1;33m\u001b[0m\u001b[0m\n\u001b[0m\u001b[0;32m   1580\u001b[0m         \u001b[0mcolumns\u001b[0m \u001b[1;33m=\u001b[0m \u001b[0mresult\u001b[0m\u001b[1;33m.\u001b[0m\u001b[0mkeys\u001b[0m\u001b[1;33m(\u001b[0m\u001b[1;33m)\u001b[0m\u001b[1;33m\u001b[0m\u001b[1;33m\u001b[0m\u001b[0m\n\u001b[0;32m   1581\u001b[0m \u001b[1;33m\u001b[0m\u001b[0m\n",
      "\u001b[1;32mC:\\ProgramData\\Anaconda3\\lib\\site-packages\\pandas\\io\\sql.py\u001b[0m in \u001b[0;36mexecute\u001b[1;34m(self, *args, **kwargs)\u001b[0m\n\u001b[0;32m   1422\u001b[0m     \u001b[1;32mdef\u001b[0m \u001b[0mexecute\u001b[0m\u001b[1;33m(\u001b[0m\u001b[0mself\u001b[0m\u001b[1;33m,\u001b[0m \u001b[1;33m*\u001b[0m\u001b[0margs\u001b[0m\u001b[1;33m,\u001b[0m \u001b[1;33m**\u001b[0m\u001b[0mkwargs\u001b[0m\u001b[1;33m)\u001b[0m\u001b[1;33m:\u001b[0m\u001b[1;33m\u001b[0m\u001b[1;33m\u001b[0m\u001b[0m\n\u001b[0;32m   1423\u001b[0m         \u001b[1;34m\"\"\"Simple passthrough to SQLAlchemy connectable\"\"\"\u001b[0m\u001b[1;33m\u001b[0m\u001b[1;33m\u001b[0m\u001b[0m\n\u001b[1;32m-> 1424\u001b[1;33m         \u001b[1;32mreturn\u001b[0m \u001b[0mself\u001b[0m\u001b[1;33m.\u001b[0m\u001b[0mconnectable\u001b[0m\u001b[1;33m.\u001b[0m\u001b[0mexecution_options\u001b[0m\u001b[1;33m(\u001b[0m\u001b[1;33m)\u001b[0m\u001b[1;33m.\u001b[0m\u001b[0mexecute\u001b[0m\u001b[1;33m(\u001b[0m\u001b[1;33m*\u001b[0m\u001b[0margs\u001b[0m\u001b[1;33m,\u001b[0m \u001b[1;33m**\u001b[0m\u001b[0mkwargs\u001b[0m\u001b[1;33m)\u001b[0m\u001b[1;33m\u001b[0m\u001b[1;33m\u001b[0m\u001b[0m\n\u001b[0m\u001b[0;32m   1425\u001b[0m \u001b[1;33m\u001b[0m\u001b[0m\n\u001b[0;32m   1426\u001b[0m     def read_table(\n",
      "\u001b[1;32mC:\\ProgramData\\Anaconda3\\lib\\site-packages\\sqlalchemy\\engine\\base.py\u001b[0m in \u001b[0;36mexecute\u001b[1;34m(self, statement, *multiparams, **params)\u001b[0m\n\u001b[0;32m   1246\u001b[0m             )\n\u001b[0;32m   1247\u001b[0m \u001b[1;33m\u001b[0m\u001b[0m\n\u001b[1;32m-> 1248\u001b[1;33m             return self._exec_driver_sql(\n\u001b[0m\u001b[0;32m   1249\u001b[0m                 \u001b[0mstatement\u001b[0m\u001b[1;33m,\u001b[0m\u001b[1;33m\u001b[0m\u001b[1;33m\u001b[0m\u001b[0m\n\u001b[0;32m   1250\u001b[0m                 \u001b[0mmultiparams\u001b[0m\u001b[1;33m,\u001b[0m\u001b[1;33m\u001b[0m\u001b[1;33m\u001b[0m\u001b[0m\n",
      "\u001b[1;32mC:\\ProgramData\\Anaconda3\\lib\\site-packages\\sqlalchemy\\engine\\base.py\u001b[0m in \u001b[0;36m_exec_driver_sql\u001b[1;34m(self, statement, multiparams, params, execution_options, future)\u001b[0m\n\u001b[0;32m   1545\u001b[0m \u001b[1;33m\u001b[0m\u001b[0m\n\u001b[0;32m   1546\u001b[0m         \u001b[0mdialect\u001b[0m \u001b[1;33m=\u001b[0m \u001b[0mself\u001b[0m\u001b[1;33m.\u001b[0m\u001b[0mdialect\u001b[0m\u001b[1;33m\u001b[0m\u001b[1;33m\u001b[0m\u001b[0m\n\u001b[1;32m-> 1547\u001b[1;33m         ret = self._execute_context(\n\u001b[0m\u001b[0;32m   1548\u001b[0m             \u001b[0mdialect\u001b[0m\u001b[1;33m,\u001b[0m\u001b[1;33m\u001b[0m\u001b[1;33m\u001b[0m\u001b[0m\n\u001b[0;32m   1549\u001b[0m             \u001b[0mdialect\u001b[0m\u001b[1;33m.\u001b[0m\u001b[0mexecution_ctx_cls\u001b[0m\u001b[1;33m.\u001b[0m\u001b[0m_init_statement\u001b[0m\u001b[1;33m,\u001b[0m\u001b[1;33m\u001b[0m\u001b[1;33m\u001b[0m\u001b[0m\n",
      "\u001b[1;32mC:\\ProgramData\\Anaconda3\\lib\\site-packages\\sqlalchemy\\engine\\base.py\u001b[0m in \u001b[0;36m_execute_context\u001b[1;34m(self, dialect, constructor, statement, parameters, execution_options, *args, **kw)\u001b[0m\n\u001b[0;32m   1812\u001b[0m \u001b[1;33m\u001b[0m\u001b[0m\n\u001b[0;32m   1813\u001b[0m         \u001b[1;32mexcept\u001b[0m \u001b[0mBaseException\u001b[0m \u001b[1;32mas\u001b[0m \u001b[0me\u001b[0m\u001b[1;33m:\u001b[0m\u001b[1;33m\u001b[0m\u001b[1;33m\u001b[0m\u001b[0m\n\u001b[1;32m-> 1814\u001b[1;33m             self._handle_dbapi_exception(\n\u001b[0m\u001b[0;32m   1815\u001b[0m                 \u001b[0me\u001b[0m\u001b[1;33m,\u001b[0m \u001b[0mstatement\u001b[0m\u001b[1;33m,\u001b[0m \u001b[0mparameters\u001b[0m\u001b[1;33m,\u001b[0m \u001b[0mcursor\u001b[0m\u001b[1;33m,\u001b[0m \u001b[0mcontext\u001b[0m\u001b[1;33m\u001b[0m\u001b[1;33m\u001b[0m\u001b[0m\n\u001b[0;32m   1816\u001b[0m             )\n",
      "\u001b[1;32mC:\\ProgramData\\Anaconda3\\lib\\site-packages\\sqlalchemy\\engine\\base.py\u001b[0m in \u001b[0;36m_handle_dbapi_exception\u001b[1;34m(self, e, statement, parameters, cursor, context)\u001b[0m\n\u001b[0;32m   1993\u001b[0m                 \u001b[0mutil\u001b[0m\u001b[1;33m.\u001b[0m\u001b[0mraise_\u001b[0m\u001b[1;33m(\u001b[0m\u001b[0mnewraise\u001b[0m\u001b[1;33m,\u001b[0m \u001b[0mwith_traceback\u001b[0m\u001b[1;33m=\u001b[0m\u001b[0mexc_info\u001b[0m\u001b[1;33m[\u001b[0m\u001b[1;36m2\u001b[0m\u001b[1;33m]\u001b[0m\u001b[1;33m,\u001b[0m \u001b[0mfrom_\u001b[0m\u001b[1;33m=\u001b[0m\u001b[0me\u001b[0m\u001b[1;33m)\u001b[0m\u001b[1;33m\u001b[0m\u001b[1;33m\u001b[0m\u001b[0m\n\u001b[0;32m   1994\u001b[0m             \u001b[1;32melif\u001b[0m \u001b[0mshould_wrap\u001b[0m\u001b[1;33m:\u001b[0m\u001b[1;33m\u001b[0m\u001b[1;33m\u001b[0m\u001b[0m\n\u001b[1;32m-> 1995\u001b[1;33m                 util.raise_(\n\u001b[0m\u001b[0;32m   1996\u001b[0m                     \u001b[0msqlalchemy_exception\u001b[0m\u001b[1;33m,\u001b[0m \u001b[0mwith_traceback\u001b[0m\u001b[1;33m=\u001b[0m\u001b[0mexc_info\u001b[0m\u001b[1;33m[\u001b[0m\u001b[1;36m2\u001b[0m\u001b[1;33m]\u001b[0m\u001b[1;33m,\u001b[0m \u001b[0mfrom_\u001b[0m\u001b[1;33m=\u001b[0m\u001b[0me\u001b[0m\u001b[1;33m\u001b[0m\u001b[1;33m\u001b[0m\u001b[0m\n\u001b[0;32m   1997\u001b[0m                 )\n",
      "\u001b[1;32mC:\\ProgramData\\Anaconda3\\lib\\site-packages\\sqlalchemy\\util\\compat.py\u001b[0m in \u001b[0;36mraise_\u001b[1;34m(***failed resolving arguments***)\u001b[0m\n\u001b[0;32m    205\u001b[0m \u001b[1;33m\u001b[0m\u001b[0m\n\u001b[0;32m    206\u001b[0m         \u001b[1;32mtry\u001b[0m\u001b[1;33m:\u001b[0m\u001b[1;33m\u001b[0m\u001b[1;33m\u001b[0m\u001b[0m\n\u001b[1;32m--> 207\u001b[1;33m             \u001b[1;32mraise\u001b[0m \u001b[0mexception\u001b[0m\u001b[1;33m\u001b[0m\u001b[1;33m\u001b[0m\u001b[0m\n\u001b[0m\u001b[0;32m    208\u001b[0m         \u001b[1;32mfinally\u001b[0m\u001b[1;33m:\u001b[0m\u001b[1;33m\u001b[0m\u001b[1;33m\u001b[0m\u001b[0m\n\u001b[0;32m    209\u001b[0m             \u001b[1;31m# credit to\u001b[0m\u001b[1;33m\u001b[0m\u001b[1;33m\u001b[0m\u001b[0m\n",
      "\u001b[1;32mC:\\ProgramData\\Anaconda3\\lib\\site-packages\\sqlalchemy\\engine\\base.py\u001b[0m in \u001b[0;36m_execute_context\u001b[1;34m(self, dialect, constructor, statement, parameters, execution_options, *args, **kw)\u001b[0m\n\u001b[0;32m   1769\u001b[0m                             \u001b[1;32mbreak\u001b[0m\u001b[1;33m\u001b[0m\u001b[1;33m\u001b[0m\u001b[0m\n\u001b[0;32m   1770\u001b[0m                 \u001b[1;32mif\u001b[0m \u001b[1;32mnot\u001b[0m \u001b[0mevt_handled\u001b[0m\u001b[1;33m:\u001b[0m\u001b[1;33m\u001b[0m\u001b[1;33m\u001b[0m\u001b[0m\n\u001b[1;32m-> 1771\u001b[1;33m                     self.dialect.do_execute(\n\u001b[0m\u001b[0;32m   1772\u001b[0m                         \u001b[0mcursor\u001b[0m\u001b[1;33m,\u001b[0m \u001b[0mstatement\u001b[0m\u001b[1;33m,\u001b[0m \u001b[0mparameters\u001b[0m\u001b[1;33m,\u001b[0m \u001b[0mcontext\u001b[0m\u001b[1;33m\u001b[0m\u001b[1;33m\u001b[0m\u001b[0m\n\u001b[0;32m   1773\u001b[0m                     )\n",
      "\u001b[1;32mC:\\ProgramData\\Anaconda3\\lib\\site-packages\\sqlalchemy\\engine\\default.py\u001b[0m in \u001b[0;36mdo_execute\u001b[1;34m(self, cursor, statement, parameters, context)\u001b[0m\n\u001b[0;32m    715\u001b[0m \u001b[1;33m\u001b[0m\u001b[0m\n\u001b[0;32m    716\u001b[0m     \u001b[1;32mdef\u001b[0m \u001b[0mdo_execute\u001b[0m\u001b[1;33m(\u001b[0m\u001b[0mself\u001b[0m\u001b[1;33m,\u001b[0m \u001b[0mcursor\u001b[0m\u001b[1;33m,\u001b[0m \u001b[0mstatement\u001b[0m\u001b[1;33m,\u001b[0m \u001b[0mparameters\u001b[0m\u001b[1;33m,\u001b[0m \u001b[0mcontext\u001b[0m\u001b[1;33m=\u001b[0m\u001b[1;32mNone\u001b[0m\u001b[1;33m)\u001b[0m\u001b[1;33m:\u001b[0m\u001b[1;33m\u001b[0m\u001b[1;33m\u001b[0m\u001b[0m\n\u001b[1;32m--> 717\u001b[1;33m         \u001b[0mcursor\u001b[0m\u001b[1;33m.\u001b[0m\u001b[0mexecute\u001b[0m\u001b[1;33m(\u001b[0m\u001b[0mstatement\u001b[0m\u001b[1;33m,\u001b[0m \u001b[0mparameters\u001b[0m\u001b[1;33m)\u001b[0m\u001b[1;33m\u001b[0m\u001b[1;33m\u001b[0m\u001b[0m\n\u001b[0m\u001b[0;32m    718\u001b[0m \u001b[1;33m\u001b[0m\u001b[0m\n\u001b[0;32m    719\u001b[0m     \u001b[1;32mdef\u001b[0m \u001b[0mdo_execute_no_params\u001b[0m\u001b[1;33m(\u001b[0m\u001b[0mself\u001b[0m\u001b[1;33m,\u001b[0m \u001b[0mcursor\u001b[0m\u001b[1;33m,\u001b[0m \u001b[0mstatement\u001b[0m\u001b[1;33m,\u001b[0m \u001b[0mcontext\u001b[0m\u001b[1;33m=\u001b[0m\u001b[1;32mNone\u001b[0m\u001b[1;33m)\u001b[0m\u001b[1;33m:\u001b[0m\u001b[1;33m\u001b[0m\u001b[1;33m\u001b[0m\u001b[0m\n",
      "\u001b[1;31mOperationalError\u001b[0m: (sqlite3.OperationalError) no such table: Fires\n[SQL: SELECT * FROM Fires]\n(Background on this error at: https://sqlalche.me/e/14/e3q8)"
     ]
    }
   ],
   "source": [
    "engine = db.create_engine('sqlite:///FPA_FOD_20170508.sqlite')\n",
    "connection = engine.connect()\n",
    "metadata = db.MetaData()\n",
    "Fires = pd.read_sql_query(\"SELECT * FROM Fires\", con = connection)"
   ]
  },
  {
   "cell_type": "code",
   "execution_count": 3,
   "id": "315d1f40",
   "metadata": {},
   "outputs": [
    {
     "data": {
      "text/plain": [
       "Index(['OBJECTID', 'FOD_ID', 'FPA_ID', 'SOURCE_SYSTEM_TYPE', 'SOURCE_SYSTEM',\n",
       "       'NWCG_REPORTING_AGENCY', 'NWCG_REPORTING_UNIT_ID',\n",
       "       'NWCG_REPORTING_UNIT_NAME', 'SOURCE_REPORTING_UNIT',\n",
       "       'SOURCE_REPORTING_UNIT_NAME', 'LOCAL_FIRE_REPORT_ID',\n",
       "       'LOCAL_INCIDENT_ID', 'FIRE_CODE', 'FIRE_NAME',\n",
       "       'ICS_209_INCIDENT_NUMBER', 'ICS_209_NAME', 'MTBS_ID', 'MTBS_FIRE_NAME',\n",
       "       'COMPLEX_NAME', 'FIRE_YEAR', 'DISCOVERY_DATE', 'DISCOVERY_DOY',\n",
       "       'DISCOVERY_TIME', 'STAT_CAUSE_CODE', 'STAT_CAUSE_DESCR', 'CONT_DATE',\n",
       "       'CONT_DOY', 'CONT_TIME', 'FIRE_SIZE', 'FIRE_SIZE_CLASS', 'LATITUDE',\n",
       "       'LONGITUDE', 'OWNER_CODE', 'OWNER_DESCR', 'STATE', 'COUNTY',\n",
       "       'FIPS_CODE', 'FIPS_NAME', 'Shape'],\n",
       "      dtype='object')"
      ]
     },
     "execution_count": 3,
     "metadata": {},
     "output_type": "execute_result"
    }
   ],
   "source": [
    "Fires.columns"
   ]
  },
  {
   "cell_type": "markdown",
   "id": "1e47c556",
   "metadata": {},
   "source": [
    "### Travail sur la variable 'FIRE CODE'"
   ]
  },
  {
   "cell_type": "markdown",
   "id": "f5e08f7b",
   "metadata": {},
   "source": [
    "Vérification de la répartition des valeurs Fire Code NA par taille de feux"
   ]
  },
  {
   "cell_type": "code",
   "execution_count": 4,
   "id": "3bb37c7b",
   "metadata": {},
   "outputs": [],
   "source": [
    "Fires_code = Fires[['FIRE_SIZE_CLASS', 'FIRE_CODE']]"
   ]
  },
  {
   "cell_type": "code",
   "execution_count": 5,
   "id": "f7d01641",
   "metadata": {},
   "outputs": [],
   "source": [
    "FIRE_CODE_ind = np.where(Fires_code.FIRE_CODE.isna(), 1, 0)"
   ]
  },
  {
   "cell_type": "code",
   "execution_count": 6,
   "id": "8e6804aa",
   "metadata": {},
   "outputs": [],
   "source": [
    "FIRE_CODE_ind = pd.Series(FIRE_CODE_ind)"
   ]
  },
  {
   "cell_type": "code",
   "execution_count": 7,
   "id": "a8bb6f92",
   "metadata": {},
   "outputs": [
    {
     "name": "stderr",
     "output_type": "stream",
     "text": [
      "C:\\Users\\GTHC0100\\AppData\\Local\\Temp\\1/ipykernel_19252/3905042824.py:1: SettingWithCopyWarning: \n",
      "A value is trying to be set on a copy of a slice from a DataFrame.\n",
      "Try using .loc[row_indexer,col_indexer] = value instead\n",
      "\n",
      "See the caveats in the documentation: https://pandas.pydata.org/pandas-docs/stable/user_guide/indexing.html#returning-a-view-versus-a-copy\n",
      "  Fires_code['FIRE_CODE_ind'] = FIRE_CODE_ind\n"
     ]
    }
   ],
   "source": [
    "Fires_code['FIRE_CODE_ind'] = FIRE_CODE_ind"
   ]
  },
  {
   "cell_type": "code",
   "execution_count": 8,
   "id": "68f8a1e2",
   "metadata": {},
   "outputs": [
    {
     "data": {
      "text/html": [
       "<div>\n",
       "<style scoped>\n",
       "    .dataframe tbody tr th:only-of-type {\n",
       "        vertical-align: middle;\n",
       "    }\n",
       "\n",
       "    .dataframe tbody tr th {\n",
       "        vertical-align: top;\n",
       "    }\n",
       "\n",
       "    .dataframe thead th {\n",
       "        text-align: right;\n",
       "    }\n",
       "</style>\n",
       "<table border=\"1\" class=\"dataframe\">\n",
       "  <thead>\n",
       "    <tr style=\"text-align: right;\">\n",
       "      <th></th>\n",
       "      <th>FIRE_CODE</th>\n",
       "      <th>FIRE_CODE_ind</th>\n",
       "    </tr>\n",
       "    <tr>\n",
       "      <th>FIRE_SIZE_CLASS</th>\n",
       "      <th></th>\n",
       "      <th></th>\n",
       "    </tr>\n",
       "  </thead>\n",
       "  <tbody>\n",
       "    <tr>\n",
       "      <th>A</th>\n",
       "      <td>173771</td>\n",
       "      <td>493148</td>\n",
       "    </tr>\n",
       "    <tr>\n",
       "      <th>B</th>\n",
       "      <td>103285</td>\n",
       "      <td>836091</td>\n",
       "    </tr>\n",
       "    <tr>\n",
       "      <th>C</th>\n",
       "      <td>27617</td>\n",
       "      <td>192460</td>\n",
       "    </tr>\n",
       "    <tr>\n",
       "      <th>D</th>\n",
       "      <td>7603</td>\n",
       "      <td>20824</td>\n",
       "    </tr>\n",
       "    <tr>\n",
       "      <th>E</th>\n",
       "      <td>5558</td>\n",
       "      <td>8549</td>\n",
       "    </tr>\n",
       "    <tr>\n",
       "      <th>F</th>\n",
       "      <td>4271</td>\n",
       "      <td>3515</td>\n",
       "    </tr>\n",
       "    <tr>\n",
       "      <th>G</th>\n",
       "      <td>2724</td>\n",
       "      <td>1049</td>\n",
       "    </tr>\n",
       "  </tbody>\n",
       "</table>\n",
       "</div>"
      ],
      "text/plain": [
       "                 FIRE_CODE  FIRE_CODE_ind\n",
       "FIRE_SIZE_CLASS                          \n",
       "A                   173771         493148\n",
       "B                   103285         836091\n",
       "C                    27617         192460\n",
       "D                     7603          20824\n",
       "E                     5558           8549\n",
       "F                     4271           3515\n",
       "G                     2724           1049"
      ]
     },
     "execution_count": 8,
     "metadata": {},
     "output_type": "execute_result"
    }
   ],
   "source": [
    "Fires_code_groupby = Fires_code.groupby('FIRE_SIZE_CLASS').agg({'FIRE_CODE':'count', 'FIRE_CODE_ind':'sum'})\n",
    "Fires_code_groupby"
   ]
  },
  {
   "cell_type": "code",
   "execution_count": 9,
   "id": "712c7436",
   "metadata": {},
   "outputs": [],
   "source": [
    "Fires_code_groupby.rename({'FIRE_CODE':'Nb FIRE_CODE valides', 'FIRE_CODE_ind':'Nb FIRE_CODE nan'}, axis = 1, inplace = True)"
   ]
  },
  {
   "cell_type": "code",
   "execution_count": 10,
   "id": "a04b62d3",
   "metadata": {
    "scrolled": true
   },
   "outputs": [],
   "source": [
    "Fires_code_groupby['Nb FIRE_CODE nan'] = Fires_code_groupby['Nb FIRE_CODE nan'].astype('int64')"
   ]
  },
  {
   "cell_type": "code",
   "execution_count": 11,
   "id": "d0e46df0",
   "metadata": {},
   "outputs": [
    {
     "name": "stdout",
     "output_type": "stream",
     "text": [
      "<class 'pandas.core.frame.DataFrame'>\n",
      "Index: 7 entries, A to G\n",
      "Data columns (total 2 columns):\n",
      " #   Column                Non-Null Count  Dtype\n",
      "---  ------                --------------  -----\n",
      " 0   Nb FIRE_CODE valides  7 non-null      int64\n",
      " 1   Nb FIRE_CODE nan      7 non-null      int64\n",
      "dtypes: int64(2)\n",
      "memory usage: 168.0+ bytes\n"
     ]
    }
   ],
   "source": [
    "Fires_code_groupby.info()"
   ]
  },
  {
   "cell_type": "code",
   "execution_count": 12,
   "id": "7c60a246",
   "metadata": {
    "scrolled": true
   },
   "outputs": [],
   "source": [
    "Fires_code_groupby['Nb FIRE_CODE total'] = Fires_code_groupby['Nb FIRE_CODE valides'] + Fires_code_groupby['Nb FIRE_CODE nan']"
   ]
  },
  {
   "cell_type": "code",
   "execution_count": 13,
   "id": "d3c8a5bd",
   "metadata": {},
   "outputs": [
    {
     "data": {
      "text/html": [
       "<div>\n",
       "<style scoped>\n",
       "    .dataframe tbody tr th:only-of-type {\n",
       "        vertical-align: middle;\n",
       "    }\n",
       "\n",
       "    .dataframe tbody tr th {\n",
       "        vertical-align: top;\n",
       "    }\n",
       "\n",
       "    .dataframe thead th {\n",
       "        text-align: right;\n",
       "    }\n",
       "</style>\n",
       "<table border=\"1\" class=\"dataframe\">\n",
       "  <thead>\n",
       "    <tr style=\"text-align: right;\">\n",
       "      <th></th>\n",
       "      <th>Nb FIRE_CODE valides</th>\n",
       "      <th>Nb FIRE_CODE nan</th>\n",
       "      <th>Nb FIRE_CODE total</th>\n",
       "    </tr>\n",
       "    <tr>\n",
       "      <th>FIRE_SIZE_CLASS</th>\n",
       "      <th></th>\n",
       "      <th></th>\n",
       "      <th></th>\n",
       "    </tr>\n",
       "  </thead>\n",
       "  <tbody>\n",
       "    <tr>\n",
       "      <th>A</th>\n",
       "      <td>173771</td>\n",
       "      <td>493148</td>\n",
       "      <td>666919</td>\n",
       "    </tr>\n",
       "    <tr>\n",
       "      <th>B</th>\n",
       "      <td>103285</td>\n",
       "      <td>836091</td>\n",
       "      <td>939376</td>\n",
       "    </tr>\n",
       "    <tr>\n",
       "      <th>C</th>\n",
       "      <td>27617</td>\n",
       "      <td>192460</td>\n",
       "      <td>220077</td>\n",
       "    </tr>\n",
       "    <tr>\n",
       "      <th>D</th>\n",
       "      <td>7603</td>\n",
       "      <td>20824</td>\n",
       "      <td>28427</td>\n",
       "    </tr>\n",
       "    <tr>\n",
       "      <th>E</th>\n",
       "      <td>5558</td>\n",
       "      <td>8549</td>\n",
       "      <td>14107</td>\n",
       "    </tr>\n",
       "    <tr>\n",
       "      <th>F</th>\n",
       "      <td>4271</td>\n",
       "      <td>3515</td>\n",
       "      <td>7786</td>\n",
       "    </tr>\n",
       "    <tr>\n",
       "      <th>G</th>\n",
       "      <td>2724</td>\n",
       "      <td>1049</td>\n",
       "      <td>3773</td>\n",
       "    </tr>\n",
       "  </tbody>\n",
       "</table>\n",
       "</div>"
      ],
      "text/plain": [
       "                 Nb FIRE_CODE valides  Nb FIRE_CODE nan  Nb FIRE_CODE total\n",
       "FIRE_SIZE_CLASS                                                            \n",
       "A                              173771            493148              666919\n",
       "B                              103285            836091              939376\n",
       "C                               27617            192460              220077\n",
       "D                                7603             20824               28427\n",
       "E                                5558              8549               14107\n",
       "F                                4271              3515                7786\n",
       "G                                2724              1049                3773"
      ]
     },
     "execution_count": 13,
     "metadata": {},
     "output_type": "execute_result"
    }
   ],
   "source": [
    "Fires_code_groupby"
   ]
  },
  {
   "cell_type": "code",
   "execution_count": 14,
   "id": "39816eed",
   "metadata": {},
   "outputs": [],
   "source": [
    "Fires_code_groupby['Ratio FIRE_CODE nan'] = np.round(Fires_code_groupby['Nb FIRE_CODE nan']/Fires_code_groupby['Nb FIRE_CODE total'], 2)"
   ]
  },
  {
   "cell_type": "code",
   "execution_count": 15,
   "id": "d3dcc724",
   "metadata": {
    "scrolled": true
   },
   "outputs": [
    {
     "data": {
      "text/html": [
       "<div>\n",
       "<style scoped>\n",
       "    .dataframe tbody tr th:only-of-type {\n",
       "        vertical-align: middle;\n",
       "    }\n",
       "\n",
       "    .dataframe tbody tr th {\n",
       "        vertical-align: top;\n",
       "    }\n",
       "\n",
       "    .dataframe thead th {\n",
       "        text-align: right;\n",
       "    }\n",
       "</style>\n",
       "<table border=\"1\" class=\"dataframe\">\n",
       "  <thead>\n",
       "    <tr style=\"text-align: right;\">\n",
       "      <th></th>\n",
       "      <th>Nb FIRE_CODE valides</th>\n",
       "      <th>Nb FIRE_CODE nan</th>\n",
       "      <th>Nb FIRE_CODE total</th>\n",
       "      <th>Ratio FIRE_CODE nan</th>\n",
       "    </tr>\n",
       "    <tr>\n",
       "      <th>FIRE_SIZE_CLASS</th>\n",
       "      <th></th>\n",
       "      <th></th>\n",
       "      <th></th>\n",
       "      <th></th>\n",
       "    </tr>\n",
       "  </thead>\n",
       "  <tbody>\n",
       "    <tr>\n",
       "      <th>A</th>\n",
       "      <td>173771</td>\n",
       "      <td>493148</td>\n",
       "      <td>666919</td>\n",
       "      <td>0.74</td>\n",
       "    </tr>\n",
       "    <tr>\n",
       "      <th>B</th>\n",
       "      <td>103285</td>\n",
       "      <td>836091</td>\n",
       "      <td>939376</td>\n",
       "      <td>0.89</td>\n",
       "    </tr>\n",
       "    <tr>\n",
       "      <th>C</th>\n",
       "      <td>27617</td>\n",
       "      <td>192460</td>\n",
       "      <td>220077</td>\n",
       "      <td>0.87</td>\n",
       "    </tr>\n",
       "    <tr>\n",
       "      <th>D</th>\n",
       "      <td>7603</td>\n",
       "      <td>20824</td>\n",
       "      <td>28427</td>\n",
       "      <td>0.73</td>\n",
       "    </tr>\n",
       "    <tr>\n",
       "      <th>E</th>\n",
       "      <td>5558</td>\n",
       "      <td>8549</td>\n",
       "      <td>14107</td>\n",
       "      <td>0.61</td>\n",
       "    </tr>\n",
       "    <tr>\n",
       "      <th>F</th>\n",
       "      <td>4271</td>\n",
       "      <td>3515</td>\n",
       "      <td>7786</td>\n",
       "      <td>0.45</td>\n",
       "    </tr>\n",
       "    <tr>\n",
       "      <th>G</th>\n",
       "      <td>2724</td>\n",
       "      <td>1049</td>\n",
       "      <td>3773</td>\n",
       "      <td>0.28</td>\n",
       "    </tr>\n",
       "  </tbody>\n",
       "</table>\n",
       "</div>"
      ],
      "text/plain": [
       "                 Nb FIRE_CODE valides  Nb FIRE_CODE nan  Nb FIRE_CODE total  \\\n",
       "FIRE_SIZE_CLASS                                                               \n",
       "A                              173771            493148              666919   \n",
       "B                              103285            836091              939376   \n",
       "C                               27617            192460              220077   \n",
       "D                                7603             20824               28427   \n",
       "E                                5558              8549               14107   \n",
       "F                                4271              3515                7786   \n",
       "G                                2724              1049                3773   \n",
       "\n",
       "                 Ratio FIRE_CODE nan  \n",
       "FIRE_SIZE_CLASS                       \n",
       "A                               0.74  \n",
       "B                               0.89  \n",
       "C                               0.87  \n",
       "D                               0.73  \n",
       "E                               0.61  \n",
       "F                               0.45  \n",
       "G                               0.28  "
      ]
     },
     "execution_count": 15,
     "metadata": {},
     "output_type": "execute_result"
    }
   ],
   "source": [
    "Fires_code_groupby"
   ]
  },
  {
   "cell_type": "code",
   "execution_count": 16,
   "id": "91a5706e",
   "metadata": {},
   "outputs": [],
   "source": [
    "Fires_code_groupby.reset_index(inplace = True)"
   ]
  },
  {
   "cell_type": "code",
   "execution_count": 31,
   "id": "3fb0b549",
   "metadata": {
    "scrolled": false
   },
   "outputs": [
    {
     "data": {
      "image/png": "[encoded data removed]",
      "text/plain": [
       "<Figure size 720x432 with 1 Axes>"
      ]
     },
     "metadata": {
      "needs_background": "light"
     },
     "output_type": "display_data"
    }
   ],
   "source": [
    "plt.figure(figsize = (10,6))\n",
    "splot = sns.barplot(x = 'FIRE_SIZE_CLASS', y = 'Ratio FIRE_CODE nan', color = 'tab:blue', data = Fires_code_groupby)\n",
    "for p in splot.patches:\n",
    "    splot.annotate(format(p.get_height(), '.2f'), \n",
    "                   (p.get_x() + p.get_width() / 2., p.get_height()), \n",
    "                   ha = 'center', va = 'center', \n",
    "                   xytext = (0, 9), \n",
    "                   textcoords = 'offset points')\n",
    "plt.ylim(0,1)\n",
    "plt.title('Répartition des valeurs FIRE_CODE NA par classe de feux');"
   ]
  },
  {
   "cell_type": "markdown",
   "id": "029e8a2d",
   "metadata": {},
   "source": [
    "### Travail sur la variable 'FIRE NAME'"
   ]
  },
  {
   "cell_type": "markdown",
   "id": "c2e9d622",
   "metadata": {},
   "source": [
    "Vérification de la répartition des valeurs Fire Name NA par taille de feux"
   ]
  },
  {
   "cell_type": "code",
   "execution_count": 17,
   "id": "d5f33866",
   "metadata": {},
   "outputs": [],
   "source": [
    "Fires_name = Fires[['FIRE_SIZE_CLASS', 'FIRE_NAME']]"
   ]
  },
  {
   "cell_type": "code",
   "execution_count": 18,
   "id": "e1294e26",
   "metadata": {},
   "outputs": [],
   "source": [
    "FIRE_NAME_ind = np.where(Fires_name.FIRE_NAME.isna(), 1, 0)"
   ]
  },
  {
   "cell_type": "code",
   "execution_count": 19,
   "id": "80bde6be",
   "metadata": {},
   "outputs": [],
   "source": [
    "FIRE_NAME_ind = pd.Series(FIRE_NAME_ind)"
   ]
  },
  {
   "cell_type": "code",
   "execution_count": 20,
   "id": "3e870aa4",
   "metadata": {},
   "outputs": [
    {
     "name": "stderr",
     "output_type": "stream",
     "text": [
      "C:\\Users\\GTHC0100\\AppData\\Local\\Temp\\1/ipykernel_19252/3888196811.py:1: SettingWithCopyWarning: \n",
      "A value is trying to be set on a copy of a slice from a DataFrame.\n",
      "Try using .loc[row_indexer,col_indexer] = value instead\n",
      "\n",
      "See the caveats in the documentation: https://pandas.pydata.org/pandas-docs/stable/user_guide/indexing.html#returning-a-view-versus-a-copy\n",
      "  Fires_name['FIRE_NAME_ind'] = FIRE_NAME_ind\n"
     ]
    }
   ],
   "source": [
    "Fires_name['FIRE_NAME_ind'] = FIRE_NAME_ind"
   ]
  },
  {
   "cell_type": "code",
   "execution_count": 21,
   "id": "5cfd8cb8",
   "metadata": {},
   "outputs": [
    {
     "data": {
      "text/html": [
       "<div>\n",
       "<style scoped>\n",
       "    .dataframe tbody tr th:only-of-type {\n",
       "        vertical-align: middle;\n",
       "    }\n",
       "\n",
       "    .dataframe tbody tr th {\n",
       "        vertical-align: top;\n",
       "    }\n",
       "\n",
       "    .dataframe thead th {\n",
       "        text-align: right;\n",
       "    }\n",
       "</style>\n",
       "<table border=\"1\" class=\"dataframe\">\n",
       "  <thead>\n",
       "    <tr style=\"text-align: right;\">\n",
       "      <th></th>\n",
       "      <th>FIRE_NAME</th>\n",
       "      <th>FIRE_NAME_ind</th>\n",
       "    </tr>\n",
       "    <tr>\n",
       "      <th>FIRE_SIZE_CLASS</th>\n",
       "      <th></th>\n",
       "      <th></th>\n",
       "    </tr>\n",
       "  </thead>\n",
       "  <tbody>\n",
       "    <tr>\n",
       "      <th>A</th>\n",
       "      <td>395314</td>\n",
       "      <td>271605</td>\n",
       "    </tr>\n",
       "    <tr>\n",
       "      <th>B</th>\n",
       "      <td>399295</td>\n",
       "      <td>540081</td>\n",
       "    </tr>\n",
       "    <tr>\n",
       "      <th>C</th>\n",
       "      <td>88621</td>\n",
       "      <td>131456</td>\n",
       "    </tr>\n",
       "    <tr>\n",
       "      <th>D</th>\n",
       "      <td>18368</td>\n",
       "      <td>10059</td>\n",
       "    </tr>\n",
       "    <tr>\n",
       "      <th>E</th>\n",
       "      <td>10998</td>\n",
       "      <td>3109</td>\n",
       "    </tr>\n",
       "    <tr>\n",
       "      <th>F</th>\n",
       "      <td>7004</td>\n",
       "      <td>782</td>\n",
       "    </tr>\n",
       "    <tr>\n",
       "      <th>G</th>\n",
       "      <td>3676</td>\n",
       "      <td>97</td>\n",
       "    </tr>\n",
       "  </tbody>\n",
       "</table>\n",
       "</div>"
      ],
      "text/plain": [
       "                 FIRE_NAME  FIRE_NAME_ind\n",
       "FIRE_SIZE_CLASS                          \n",
       "A                   395314         271605\n",
       "B                   399295         540081\n",
       "C                    88621         131456\n",
       "D                    18368          10059\n",
       "E                    10998           3109\n",
       "F                     7004            782\n",
       "G                     3676             97"
      ]
     },
     "execution_count": 21,
     "metadata": {},
     "output_type": "execute_result"
    }
   ],
   "source": [
    "Fires_name_groupby = Fires_name.groupby('FIRE_SIZE_CLASS').agg({'FIRE_NAME':'count', 'FIRE_NAME_ind':'sum'})\n",
    "Fires_name_groupby"
   ]
  },
  {
   "cell_type": "code",
   "execution_count": 22,
   "id": "20896e10",
   "metadata": {},
   "outputs": [],
   "source": [
    "Fires_name_groupby.rename({'FIRE_NAME':'Nb FIRE_NAME valides', 'FIRE_NAME_ind':'Nb FIRE_NAME nan'}, axis = 1, inplace = True)"
   ]
  },
  {
   "cell_type": "code",
   "execution_count": 23,
   "id": "3780109e",
   "metadata": {
    "scrolled": true
   },
   "outputs": [],
   "source": [
    "Fires_name_groupby['Nb FIRE_NAME nan'] = Fires_name_groupby['Nb FIRE_NAME nan'].astype('int64')"
   ]
  },
  {
   "cell_type": "code",
   "execution_count": 24,
   "id": "c84454d1",
   "metadata": {},
   "outputs": [
    {
     "name": "stdout",
     "output_type": "stream",
     "text": [
      "<class 'pandas.core.frame.DataFrame'>\n",
      "Index: 7 entries, A to G\n",
      "Data columns (total 2 columns):\n",
      " #   Column                Non-Null Count  Dtype\n",
      "---  ------                --------------  -----\n",
      " 0   Nb FIRE_NAME valides  7 non-null      int64\n",
      " 1   Nb FIRE_NAME nan      7 non-null      int64\n",
      "dtypes: int64(2)\n",
      "memory usage: 168.0+ bytes\n"
     ]
    }
   ],
   "source": [
    "Fires_name_groupby.info()"
   ]
  },
  {
   "cell_type": "code",
   "execution_count": 25,
   "id": "56efb3c5",
   "metadata": {
    "scrolled": true
   },
   "outputs": [],
   "source": [
    "Fires_name_groupby['Nb FIRE_NAME total'] = Fires_name_groupby['Nb FIRE_NAME valides'] + Fires_name_groupby['Nb FIRE_NAME nan']"
   ]
  },
  {
   "cell_type": "code",
   "execution_count": 26,
   "id": "7b7b339e",
   "metadata": {},
   "outputs": [
    {
     "data": {
      "text/html": [
       "<div>\n",
       "<style scoped>\n",
       "    .dataframe tbody tr th:only-of-type {\n",
       "        vertical-align: middle;\n",
       "    }\n",
       "\n",
       "    .dataframe tbody tr th {\n",
       "        vertical-align: top;\n",
       "    }\n",
       "\n",
       "    .dataframe thead th {\n",
       "        text-align: right;\n",
       "    }\n",
       "</style>\n",
       "<table border=\"1\" class=\"dataframe\">\n",
       "  <thead>\n",
       "    <tr style=\"text-align: right;\">\n",
       "      <th></th>\n",
       "      <th>Nb FIRE_NAME valides</th>\n",
       "      <th>Nb FIRE_NAME nan</th>\n",
       "      <th>Nb FIRE_NAME total</th>\n",
       "    </tr>\n",
       "    <tr>\n",
       "      <th>FIRE_SIZE_CLASS</th>\n",
       "      <th></th>\n",
       "      <th></th>\n",
       "      <th></th>\n",
       "    </tr>\n",
       "  </thead>\n",
       "  <tbody>\n",
       "    <tr>\n",
       "      <th>A</th>\n",
       "      <td>395314</td>\n",
       "      <td>271605</td>\n",
       "      <td>666919</td>\n",
       "    </tr>\n",
       "    <tr>\n",
       "      <th>B</th>\n",
       "      <td>399295</td>\n",
       "      <td>540081</td>\n",
       "      <td>939376</td>\n",
       "    </tr>\n",
       "    <tr>\n",
       "      <th>C</th>\n",
       "      <td>88621</td>\n",
       "      <td>131456</td>\n",
       "      <td>220077</td>\n",
       "    </tr>\n",
       "    <tr>\n",
       "      <th>D</th>\n",
       "      <td>18368</td>\n",
       "      <td>10059</td>\n",
       "      <td>28427</td>\n",
       "    </tr>\n",
       "    <tr>\n",
       "      <th>E</th>\n",
       "      <td>10998</td>\n",
       "      <td>3109</td>\n",
       "      <td>14107</td>\n",
       "    </tr>\n",
       "    <tr>\n",
       "      <th>F</th>\n",
       "      <td>7004</td>\n",
       "      <td>782</td>\n",
       "      <td>7786</td>\n",
       "    </tr>\n",
       "    <tr>\n",
       "      <th>G</th>\n",
       "      <td>3676</td>\n",
       "      <td>97</td>\n",
       "      <td>3773</td>\n",
       "    </tr>\n",
       "  </tbody>\n",
       "</table>\n",
       "</div>"
      ],
      "text/plain": [
       "                 Nb FIRE_NAME valides  Nb FIRE_NAME nan  Nb FIRE_NAME total\n",
       "FIRE_SIZE_CLASS                                                            \n",
       "A                              395314            271605              666919\n",
       "B                              399295            540081              939376\n",
       "C                               88621            131456              220077\n",
       "D                               18368             10059               28427\n",
       "E                               10998              3109               14107\n",
       "F                                7004               782                7786\n",
       "G                                3676                97                3773"
      ]
     },
     "execution_count": 26,
     "metadata": {},
     "output_type": "execute_result"
    }
   ],
   "source": [
    "Fires_name_groupby"
   ]
  },
  {
   "cell_type": "code",
   "execution_count": 27,
   "id": "139eb03d",
   "metadata": {},
   "outputs": [],
   "source": [
    "Fires_name_groupby['Ratio FIRE_NAME nan'] = np.round(Fires_name_groupby['Nb FIRE_NAME nan']/Fires_name_groupby['Nb FIRE_NAME total'], 2)"
   ]
  },
  {
   "cell_type": "code",
   "execution_count": 28,
   "id": "3429274b",
   "metadata": {
    "scrolled": true
   },
   "outputs": [
    {
     "data": {
      "text/html": [
       "<div>\n",
       "<style scoped>\n",
       "    .dataframe tbody tr th:only-of-type {\n",
       "        vertical-align: middle;\n",
       "    }\n",
       "\n",
       "    .dataframe tbody tr th {\n",
       "        vertical-align: top;\n",
       "    }\n",
       "\n",
       "    .dataframe thead th {\n",
       "        text-align: right;\n",
       "    }\n",
       "</style>\n",
       "<table border=\"1\" class=\"dataframe\">\n",
       "  <thead>\n",
       "    <tr style=\"text-align: right;\">\n",
       "      <th></th>\n",
       "      <th>Nb FIRE_NAME valides</th>\n",
       "      <th>Nb FIRE_NAME nan</th>\n",
       "      <th>Nb FIRE_NAME total</th>\n",
       "      <th>Ratio FIRE_NAME nan</th>\n",
       "    </tr>\n",
       "    <tr>\n",
       "      <th>FIRE_SIZE_CLASS</th>\n",
       "      <th></th>\n",
       "      <th></th>\n",
       "      <th></th>\n",
       "      <th></th>\n",
       "    </tr>\n",
       "  </thead>\n",
       "  <tbody>\n",
       "    <tr>\n",
       "      <th>A</th>\n",
       "      <td>395314</td>\n",
       "      <td>271605</td>\n",
       "      <td>666919</td>\n",
       "      <td>0.41</td>\n",
       "    </tr>\n",
       "    <tr>\n",
       "      <th>B</th>\n",
       "      <td>399295</td>\n",
       "      <td>540081</td>\n",
       "      <td>939376</td>\n",
       "      <td>0.57</td>\n",
       "    </tr>\n",
       "    <tr>\n",
       "      <th>C</th>\n",
       "      <td>88621</td>\n",
       "      <td>131456</td>\n",
       "      <td>220077</td>\n",
       "      <td>0.60</td>\n",
       "    </tr>\n",
       "    <tr>\n",
       "      <th>D</th>\n",
       "      <td>18368</td>\n",
       "      <td>10059</td>\n",
       "      <td>28427</td>\n",
       "      <td>0.35</td>\n",
       "    </tr>\n",
       "    <tr>\n",
       "      <th>E</th>\n",
       "      <td>10998</td>\n",
       "      <td>3109</td>\n",
       "      <td>14107</td>\n",
       "      <td>0.22</td>\n",
       "    </tr>\n",
       "    <tr>\n",
       "      <th>F</th>\n",
       "      <td>7004</td>\n",
       "      <td>782</td>\n",
       "      <td>7786</td>\n",
       "      <td>0.10</td>\n",
       "    </tr>\n",
       "    <tr>\n",
       "      <th>G</th>\n",
       "      <td>3676</td>\n",
       "      <td>97</td>\n",
       "      <td>3773</td>\n",
       "      <td>0.03</td>\n",
       "    </tr>\n",
       "  </tbody>\n",
       "</table>\n",
       "</div>"
      ],
      "text/plain": [
       "                 Nb FIRE_NAME valides  Nb FIRE_NAME nan  Nb FIRE_NAME total  \\\n",
       "FIRE_SIZE_CLASS                                                               \n",
       "A                              395314            271605              666919   \n",
       "B                              399295            540081              939376   \n",
       "C                               88621            131456              220077   \n",
       "D                               18368             10059               28427   \n",
       "E                               10998              3109               14107   \n",
       "F                                7004               782                7786   \n",
       "G                                3676                97                3773   \n",
       "\n",
       "                 Ratio FIRE_NAME nan  \n",
       "FIRE_SIZE_CLASS                       \n",
       "A                               0.41  \n",
       "B                               0.57  \n",
       "C                               0.60  \n",
       "D                               0.35  \n",
       "E                               0.22  \n",
       "F                               0.10  \n",
       "G                               0.03  "
      ]
     },
     "execution_count": 28,
     "metadata": {},
     "output_type": "execute_result"
    }
   ],
   "source": [
    "Fires_name_groupby"
   ]
  },
  {
   "cell_type": "code",
   "execution_count": 29,
   "id": "c7a09e4b",
   "metadata": {},
   "outputs": [],
   "source": [
    "Fires_name_groupby.reset_index(inplace = True)"
   ]
  },
  {
   "cell_type": "code",
   "execution_count": 40,
   "id": "9ff3d1d0",
   "metadata": {},
   "outputs": [
    {
     "data": {
      "image/png": "[encoded data removed]",
      "text/plain": [
       "<Figure size 720x432 with 1 Axes>"
      ]
     },
     "metadata": {
      "needs_background": "light"
     },
     "output_type": "display_data"
    }
   ],
   "source": [
    "plt.figure(figsize = (10,6))\n",
    "splot = sns.barplot(x = 'FIRE_SIZE_CLASS', y = 'Ratio FIRE_NAME nan', color = 'indianred', data = Fires_name_groupby)\n",
    "for p in splot.patches:\n",
    "    splot.annotate(format(p.get_height(), '.2f'), \n",
    "                   (p.get_x() + p.get_width() / 2., p.get_height()), \n",
    "                   ha = 'center', va = 'center', \n",
    "                   xytext = (0, 9), \n",
    "                   textcoords = 'offset points')\n",
    "plt.ylim(0,1)\n",
    "plt.title('Répartition des valeurs FIRE_NAME NA par classe de feux');"
   ]
  },
  {
   "cell_type": "markdown",
   "id": "befad750",
   "metadata": {},
   "source": [
    "### Synthèse n°1"
   ]
  },
  {
   "cell_type": "code",
   "execution_count": 49,
   "id": "206fe879",
   "metadata": {
    "scrolled": false
   },
   "outputs": [
    {
     "data": {
      "image/png": "[encoded data removed]",
      "text/plain": [
       "<Figure size 720x864 with 2 Axes>"
      ]
     },
     "metadata": {
      "needs_background": "light"
     },
     "output_type": "display_data"
    }
   ],
   "source": [
    "fig = plt.figure(figsize = (10,12))\n",
    "\n",
    "plt.subplot(211)\n",
    "splot1 = sns.barplot(x = 'FIRE_SIZE_CLASS', y = 'Ratio FIRE_NAME nan', color = 'indianred', data = Fires_name_groupby)\n",
    "for p in splot1.patches:\n",
    "    splot1.annotate(format(p.get_height(), '.2f'), \n",
    "                   (p.get_x() + p.get_width() / 2., p.get_height()), \n",
    "                   ha = 'center', va = 'center', \n",
    "                   xytext = (0, 9), \n",
    "                   textcoords = 'offset points')\n",
    "plt.ylim(0,1)\n",
    "plt.title('Répartition des valeurs FIRE_NAME NA par classe de feux')\n",
    "\n",
    "plt.subplot(212)\n",
    "splot2 = sns.barplot(x = 'FIRE_SIZE_CLASS', y = 'Ratio FIRE_CODE nan', color = 'tab:blue', data = Fires_code_groupby)\n",
    "for p in splot2.patches:\n",
    "    splot2.annotate(format(p.get_height(), '.2f'), \n",
    "                   (p.get_x() + p.get_width() / 2., p.get_height()), \n",
    "                   ha = 'center', va = 'center', \n",
    "                   xytext = (0, 9), \n",
    "                   textcoords = 'offset points')\n",
    "plt.ylim(0,1)\n",
    "plt.title('Répartition des valeurs FIRE_CODE NA par classe de feux');"
   ]
  },
  {
   "cell_type": "markdown",
   "id": "cc322c16",
   "metadata": {},
   "source": [
    "### Travail sur la variable 'CONT_DATE'"
   ]
  },
  {
   "cell_type": "markdown",
   "id": "57585d20",
   "metadata": {},
   "source": [
    "Vérification de la répartition des valeurs CONT_DATE NA par taille de feux"
   ]
  },
  {
   "cell_type": "code",
   "execution_count": 51,
   "id": "ce3b8835",
   "metadata": {},
   "outputs": [],
   "source": [
    "Fires_cont_date = Fires[['FIRE_SIZE_CLASS', 'CONT_DATE']]"
   ]
  },
  {
   "cell_type": "code",
   "execution_count": 52,
   "id": "490c8503",
   "metadata": {},
   "outputs": [],
   "source": [
    "CONT_DATE_ind = np.where(Fires_cont_date.CONT_DATE.isna(), 1, 0)"
   ]
  },
  {
   "cell_type": "code",
   "execution_count": 53,
   "id": "370a513d",
   "metadata": {},
   "outputs": [],
   "source": [
    "CONT_DATE_ind = pd.Series(CONT_DATE_ind)"
   ]
  },
  {
   "cell_type": "code",
   "execution_count": 54,
   "id": "846c8650",
   "metadata": {},
   "outputs": [
    {
     "name": "stderr",
     "output_type": "stream",
     "text": [
      "C:\\Users\\GTHC0100\\AppData\\Local\\Temp\\1/ipykernel_19252/2372262452.py:1: SettingWithCopyWarning: \n",
      "A value is trying to be set on a copy of a slice from a DataFrame.\n",
      "Try using .loc[row_indexer,col_indexer] = value instead\n",
      "\n",
      "See the caveats in the documentation: https://pandas.pydata.org/pandas-docs/stable/user_guide/indexing.html#returning-a-view-versus-a-copy\n",
      "  Fires_cont_date['CONT_DATE_ind'] = CONT_DATE_ind\n"
     ]
    }
   ],
   "source": [
    "Fires_cont_date['CONT_DATE_ind'] = CONT_DATE_ind"
   ]
  },
  {
   "cell_type": "code",
   "execution_count": 55,
   "id": "93fe7cb5",
   "metadata": {},
   "outputs": [
    {
     "data": {
      "text/html": [
       "<div>\n",
       "<style scoped>\n",
       "    .dataframe tbody tr th:only-of-type {\n",
       "        vertical-align: middle;\n",
       "    }\n",
       "\n",
       "    .dataframe tbody tr th {\n",
       "        vertical-align: top;\n",
       "    }\n",
       "\n",
       "    .dataframe thead th {\n",
       "        text-align: right;\n",
       "    }\n",
       "</style>\n",
       "<table border=\"1\" class=\"dataframe\">\n",
       "  <thead>\n",
       "    <tr style=\"text-align: right;\">\n",
       "      <th></th>\n",
       "      <th>CONT_DATE</th>\n",
       "      <th>CONT_DATE_ind</th>\n",
       "    </tr>\n",
       "    <tr>\n",
       "      <th>FIRE_SIZE_CLASS</th>\n",
       "      <th></th>\n",
       "      <th></th>\n",
       "    </tr>\n",
       "  </thead>\n",
       "  <tbody>\n",
       "    <tr>\n",
       "      <th>A</th>\n",
       "      <td>421865</td>\n",
       "      <td>245054</td>\n",
       "    </tr>\n",
       "    <tr>\n",
       "      <th>B</th>\n",
       "      <td>429692</td>\n",
       "      <td>509684</td>\n",
       "    </tr>\n",
       "    <tr>\n",
       "      <th>C</th>\n",
       "      <td>103618</td>\n",
       "      <td>116459</td>\n",
       "    </tr>\n",
       "    <tr>\n",
       "      <th>D</th>\n",
       "      <td>15720</td>\n",
       "      <td>12707</td>\n",
       "    </tr>\n",
       "    <tr>\n",
       "      <th>E</th>\n",
       "      <td>9016</td>\n",
       "      <td>5091</td>\n",
       "    </tr>\n",
       "    <tr>\n",
       "      <th>F</th>\n",
       "      <td>5802</td>\n",
       "      <td>1984</td>\n",
       "    </tr>\n",
       "    <tr>\n",
       "      <th>G</th>\n",
       "      <td>3221</td>\n",
       "      <td>552</td>\n",
       "    </tr>\n",
       "  </tbody>\n",
       "</table>\n",
       "</div>"
      ],
      "text/plain": [
       "                 CONT_DATE  CONT_DATE_ind\n",
       "FIRE_SIZE_CLASS                          \n",
       "A                   421865         245054\n",
       "B                   429692         509684\n",
       "C                   103618         116459\n",
       "D                    15720          12707\n",
       "E                     9016           5091\n",
       "F                     5802           1984\n",
       "G                     3221            552"
      ]
     },
     "execution_count": 55,
     "metadata": {},
     "output_type": "execute_result"
    }
   ],
   "source": [
    "Fires_cont_date_groupby = Fires_cont_date.groupby('FIRE_SIZE_CLASS').agg({'CONT_DATE':'count', 'CONT_DATE_ind':'sum'})\n",
    "Fires_cont_date_groupby"
   ]
  },
  {
   "cell_type": "code",
   "execution_count": 56,
   "id": "1956173f",
   "metadata": {},
   "outputs": [],
   "source": [
    "Fires_cont_date_groupby.rename({'CONT_DATE':'Nb CONT_DATE valides', 'CONT_DATE_ind':'Nb CONT_DATE nan'}, axis = 1, inplace = True)"
   ]
  },
  {
   "cell_type": "code",
   "execution_count": 57,
   "id": "b69a477d",
   "metadata": {
    "scrolled": true
   },
   "outputs": [],
   "source": [
    "Fires_cont_date_groupby['Nb CONT_DATE nan'] = Fires_cont_date_groupby['Nb CONT_DATE nan'].astype('int64')"
   ]
  },
  {
   "cell_type": "code",
   "execution_count": 58,
   "id": "ee5c3a5b",
   "metadata": {},
   "outputs": [
    {
     "name": "stdout",
     "output_type": "stream",
     "text": [
      "<class 'pandas.core.frame.DataFrame'>\n",
      "Index: 7 entries, A to G\n",
      "Data columns (total 2 columns):\n",
      " #   Column                Non-Null Count  Dtype\n",
      "---  ------                --------------  -----\n",
      " 0   Nb CONT_DATE valides  7 non-null      int64\n",
      " 1   Nb CONT_DATE nan      7 non-null      int64\n",
      "dtypes: int64(2)\n",
      "memory usage: 168.0+ bytes\n"
     ]
    }
   ],
   "source": [
    "Fires_cont_date_groupby.info()"
   ]
  },
  {
   "cell_type": "code",
   "execution_count": 59,
   "id": "14b4c6c9",
   "metadata": {
    "scrolled": true
   },
   "outputs": [],
   "source": [
    "Fires_cont_date_groupby['Nb CONT_DATE total'] = Fires_cont_date_groupby['Nb CONT_DATE valides'] + Fires_cont_date_groupby['Nb CONT_DATE nan']"
   ]
  },
  {
   "cell_type": "code",
   "execution_count": 60,
   "id": "7ed16e7e",
   "metadata": {},
   "outputs": [
    {
     "data": {
      "text/html": [
       "<div>\n",
       "<style scoped>\n",
       "    .dataframe tbody tr th:only-of-type {\n",
       "        vertical-align: middle;\n",
       "    }\n",
       "\n",
       "    .dataframe tbody tr th {\n",
       "        vertical-align: top;\n",
       "    }\n",
       "\n",
       "    .dataframe thead th {\n",
       "        text-align: right;\n",
       "    }\n",
       "</style>\n",
       "<table border=\"1\" class=\"dataframe\">\n",
       "  <thead>\n",
       "    <tr style=\"text-align: right;\">\n",
       "      <th></th>\n",
       "      <th>Nb CONT_DATE valides</th>\n",
       "      <th>Nb CONT_DATE nan</th>\n",
       "      <th>Nb CONT_DATE total</th>\n",
       "    </tr>\n",
       "    <tr>\n",
       "      <th>FIRE_SIZE_CLASS</th>\n",
       "      <th></th>\n",
       "      <th></th>\n",
       "      <th></th>\n",
       "    </tr>\n",
       "  </thead>\n",
       "  <tbody>\n",
       "    <tr>\n",
       "      <th>A</th>\n",
       "      <td>421865</td>\n",
       "      <td>245054</td>\n",
       "      <td>666919</td>\n",
       "    </tr>\n",
       "    <tr>\n",
       "      <th>B</th>\n",
       "      <td>429692</td>\n",
       "      <td>509684</td>\n",
       "      <td>939376</td>\n",
       "    </tr>\n",
       "    <tr>\n",
       "      <th>C</th>\n",
       "      <td>103618</td>\n",
       "      <td>116459</td>\n",
       "      <td>220077</td>\n",
       "    </tr>\n",
       "    <tr>\n",
       "      <th>D</th>\n",
       "      <td>15720</td>\n",
       "      <td>12707</td>\n",
       "      <td>28427</td>\n",
       "    </tr>\n",
       "    <tr>\n",
       "      <th>E</th>\n",
       "      <td>9016</td>\n",
       "      <td>5091</td>\n",
       "      <td>14107</td>\n",
       "    </tr>\n",
       "    <tr>\n",
       "      <th>F</th>\n",
       "      <td>5802</td>\n",
       "      <td>1984</td>\n",
       "      <td>7786</td>\n",
       "    </tr>\n",
       "    <tr>\n",
       "      <th>G</th>\n",
       "      <td>3221</td>\n",
       "      <td>552</td>\n",
       "      <td>3773</td>\n",
       "    </tr>\n",
       "  </tbody>\n",
       "</table>\n",
       "</div>"
      ],
      "text/plain": [
       "                 Nb CONT_DATE valides  Nb CONT_DATE nan  Nb CONT_DATE total\n",
       "FIRE_SIZE_CLASS                                                            \n",
       "A                              421865            245054              666919\n",
       "B                              429692            509684              939376\n",
       "C                              103618            116459              220077\n",
       "D                               15720             12707               28427\n",
       "E                                9016              5091               14107\n",
       "F                                5802              1984                7786\n",
       "G                                3221               552                3773"
      ]
     },
     "execution_count": 60,
     "metadata": {},
     "output_type": "execute_result"
    }
   ],
   "source": [
    "Fires_cont_date_groupby"
   ]
  },
  {
   "cell_type": "code",
   "execution_count": 61,
   "id": "c402a8e5",
   "metadata": {},
   "outputs": [],
   "source": [
    "Fires_cont_date_groupby['Ratio CONT_DATE nan'] = np.round(Fires_cont_date_groupby['Nb CONT_DATE nan']/Fires_cont_date_groupby['Nb CONT_DATE total'], 2)"
   ]
  },
  {
   "cell_type": "code",
   "execution_count": 62,
   "id": "a0b53806",
   "metadata": {
    "scrolled": true
   },
   "outputs": [
    {
     "data": {
      "text/html": [
       "<div>\n",
       "<style scoped>\n",
       "    .dataframe tbody tr th:only-of-type {\n",
       "        vertical-align: middle;\n",
       "    }\n",
       "\n",
       "    .dataframe tbody tr th {\n",
       "        vertical-align: top;\n",
       "    }\n",
       "\n",
       "    .dataframe thead th {\n",
       "        text-align: right;\n",
       "    }\n",
       "</style>\n",
       "<table border=\"1\" class=\"dataframe\">\n",
       "  <thead>\n",
       "    <tr style=\"text-align: right;\">\n",
       "      <th></th>\n",
       "      <th>Nb CONT_DATE valides</th>\n",
       "      <th>Nb CONT_DATE nan</th>\n",
       "      <th>Nb CONT_DATE total</th>\n",
       "      <th>Ratio CONT_DATE nan</th>\n",
       "    </tr>\n",
       "    <tr>\n",
       "      <th>FIRE_SIZE_CLASS</th>\n",
       "      <th></th>\n",
       "      <th></th>\n",
       "      <th></th>\n",
       "      <th></th>\n",
       "    </tr>\n",
       "  </thead>\n",
       "  <tbody>\n",
       "    <tr>\n",
       "      <th>A</th>\n",
       "      <td>421865</td>\n",
       "      <td>245054</td>\n",
       "      <td>666919</td>\n",
       "      <td>0.37</td>\n",
       "    </tr>\n",
       "    <tr>\n",
       "      <th>B</th>\n",
       "      <td>429692</td>\n",
       "      <td>509684</td>\n",
       "      <td>939376</td>\n",
       "      <td>0.54</td>\n",
       "    </tr>\n",
       "    <tr>\n",
       "      <th>C</th>\n",
       "      <td>103618</td>\n",
       "      <td>116459</td>\n",
       "      <td>220077</td>\n",
       "      <td>0.53</td>\n",
       "    </tr>\n",
       "    <tr>\n",
       "      <th>D</th>\n",
       "      <td>15720</td>\n",
       "      <td>12707</td>\n",
       "      <td>28427</td>\n",
       "      <td>0.45</td>\n",
       "    </tr>\n",
       "    <tr>\n",
       "      <th>E</th>\n",
       "      <td>9016</td>\n",
       "      <td>5091</td>\n",
       "      <td>14107</td>\n",
       "      <td>0.36</td>\n",
       "    </tr>\n",
       "    <tr>\n",
       "      <th>F</th>\n",
       "      <td>5802</td>\n",
       "      <td>1984</td>\n",
       "      <td>7786</td>\n",
       "      <td>0.25</td>\n",
       "    </tr>\n",
       "    <tr>\n",
       "      <th>G</th>\n",
       "      <td>3221</td>\n",
       "      <td>552</td>\n",
       "      <td>3773</td>\n",
       "      <td>0.15</td>\n",
       "    </tr>\n",
       "  </tbody>\n",
       "</table>\n",
       "</div>"
      ],
      "text/plain": [
       "                 Nb CONT_DATE valides  Nb CONT_DATE nan  Nb CONT_DATE total  \\\n",
       "FIRE_SIZE_CLASS                                                               \n",
       "A                              421865            245054              666919   \n",
       "B                              429692            509684              939376   \n",
       "C                              103618            116459              220077   \n",
       "D                               15720             12707               28427   \n",
       "E                                9016              5091               14107   \n",
       "F                                5802              1984                7786   \n",
       "G                                3221               552                3773   \n",
       "\n",
       "                 Ratio CONT_DATE nan  \n",
       "FIRE_SIZE_CLASS                       \n",
       "A                               0.37  \n",
       "B                               0.54  \n",
       "C                               0.53  \n",
       "D                               0.45  \n",
       "E                               0.36  \n",
       "F                               0.25  \n",
       "G                               0.15  "
      ]
     },
     "execution_count": 62,
     "metadata": {},
     "output_type": "execute_result"
    }
   ],
   "source": [
    "Fires_cont_date_groupby"
   ]
  },
  {
   "cell_type": "code",
   "execution_count": 63,
   "id": "fa34be2f",
   "metadata": {},
   "outputs": [],
   "source": [
    "Fires_cont_date_groupby.reset_index(inplace = True)"
   ]
  },
  {
   "cell_type": "code",
   "execution_count": 65,
   "id": "f48915ea",
   "metadata": {},
   "outputs": [
    {
     "data": {
      "image/png": "[encoded data removed]",
      "text/plain": [
       "<Figure size 720x432 with 1 Axes>"
      ]
     },
     "metadata": {
      "needs_background": "light"
     },
     "output_type": "display_data"
    }
   ],
   "source": [
    "plt.figure(figsize = (10,6))\n",
    "splot = sns.barplot(x = 'FIRE_SIZE_CLASS', y = 'Ratio CONT_DATE nan', color = 'limegreen', data = Fires_cont_date_groupby)\n",
    "for p in splot.patches:\n",
    "    splot.annotate(format(p.get_height(), '.2f'), \n",
    "                   (p.get_x() + p.get_width() / 2., p.get_height()), \n",
    "                   ha = 'center', va = 'center', \n",
    "                   xytext = (0, 9), \n",
    "                   textcoords = 'offset points')\n",
    "plt.ylim(0,1)\n",
    "plt.title('Répartition des valeurs CONT_DATE NA par classe de feux');"
   ]
  },
  {
   "cell_type": "markdown",
   "id": "0b0be875",
   "metadata": {},
   "source": [
    "### Travail sur la variable 'CONT_DOY'"
   ]
  },
  {
   "cell_type": "markdown",
   "id": "9c8846e3",
   "metadata": {},
   "source": [
    "Vérification de la répartition des valeurs CONT_DOY NA par taille de feux"
   ]
  },
  {
   "cell_type": "code",
   "execution_count": 66,
   "id": "c0887f98",
   "metadata": {},
   "outputs": [],
   "source": [
    "Fires_cont_doy = Fires[['FIRE_SIZE_CLASS', 'CONT_DOY']]"
   ]
  },
  {
   "cell_type": "code",
   "execution_count": 67,
   "id": "092e77ba",
   "metadata": {},
   "outputs": [],
   "source": [
    "CONT_DOY_ind = np.where(Fires_cont_doy.CONT_DOY.isna(), 1, 0)"
   ]
  },
  {
   "cell_type": "code",
   "execution_count": 68,
   "id": "45d7cb00",
   "metadata": {},
   "outputs": [],
   "source": [
    "CONT_DOY_ind = pd.Series(CONT_DOY_ind)"
   ]
  },
  {
   "cell_type": "code",
   "execution_count": 69,
   "id": "3da8f9b6",
   "metadata": {},
   "outputs": [
    {
     "name": "stderr",
     "output_type": "stream",
     "text": [
      "C:\\Users\\GTHC0100\\AppData\\Local\\Temp\\1/ipykernel_19252/49065496.py:1: SettingWithCopyWarning: \n",
      "A value is trying to be set on a copy of a slice from a DataFrame.\n",
      "Try using .loc[row_indexer,col_indexer] = value instead\n",
      "\n",
      "See the caveats in the documentation: https://pandas.pydata.org/pandas-docs/stable/user_guide/indexing.html#returning-a-view-versus-a-copy\n",
      "  Fires_cont_doy['CONT_DOY_ind'] = CONT_DOY_ind\n"
     ]
    }
   ],
   "source": [
    "Fires_cont_doy['CONT_DOY_ind'] = CONT_DOY_ind"
   ]
  },
  {
   "cell_type": "code",
   "execution_count": 70,
   "id": "c9a39ccd",
   "metadata": {},
   "outputs": [
    {
     "data": {
      "text/html": [
       "<div>\n",
       "<style scoped>\n",
       "    .dataframe tbody tr th:only-of-type {\n",
       "        vertical-align: middle;\n",
       "    }\n",
       "\n",
       "    .dataframe tbody tr th {\n",
       "        vertical-align: top;\n",
       "    }\n",
       "\n",
       "    .dataframe thead th {\n",
       "        text-align: right;\n",
       "    }\n",
       "</style>\n",
       "<table border=\"1\" class=\"dataframe\">\n",
       "  <thead>\n",
       "    <tr style=\"text-align: right;\">\n",
       "      <th></th>\n",
       "      <th>CONT_DOY</th>\n",
       "      <th>CONT_DOY_ind</th>\n",
       "    </tr>\n",
       "    <tr>\n",
       "      <th>FIRE_SIZE_CLASS</th>\n",
       "      <th></th>\n",
       "      <th></th>\n",
       "    </tr>\n",
       "  </thead>\n",
       "  <tbody>\n",
       "    <tr>\n",
       "      <th>A</th>\n",
       "      <td>421865</td>\n",
       "      <td>245054</td>\n",
       "    </tr>\n",
       "    <tr>\n",
       "      <th>B</th>\n",
       "      <td>429692</td>\n",
       "      <td>509684</td>\n",
       "    </tr>\n",
       "    <tr>\n",
       "      <th>C</th>\n",
       "      <td>103618</td>\n",
       "      <td>116459</td>\n",
       "    </tr>\n",
       "    <tr>\n",
       "      <th>D</th>\n",
       "      <td>15720</td>\n",
       "      <td>12707</td>\n",
       "    </tr>\n",
       "    <tr>\n",
       "      <th>E</th>\n",
       "      <td>9016</td>\n",
       "      <td>5091</td>\n",
       "    </tr>\n",
       "    <tr>\n",
       "      <th>F</th>\n",
       "      <td>5802</td>\n",
       "      <td>1984</td>\n",
       "    </tr>\n",
       "    <tr>\n",
       "      <th>G</th>\n",
       "      <td>3221</td>\n",
       "      <td>552</td>\n",
       "    </tr>\n",
       "  </tbody>\n",
       "</table>\n",
       "</div>"
      ],
      "text/plain": [
       "                 CONT_DOY  CONT_DOY_ind\n",
       "FIRE_SIZE_CLASS                        \n",
       "A                  421865        245054\n",
       "B                  429692        509684\n",
       "C                  103618        116459\n",
       "D                   15720         12707\n",
       "E                    9016          5091\n",
       "F                    5802          1984\n",
       "G                    3221           552"
      ]
     },
     "execution_count": 70,
     "metadata": {},
     "output_type": "execute_result"
    }
   ],
   "source": [
    "Fires_cont_doy_groupby = Fires_cont_doy.groupby('FIRE_SIZE_CLASS').agg({'CONT_DOY':'count', 'CONT_DOY_ind':'sum'})\n",
    "Fires_cont_doy_groupby"
   ]
  },
  {
   "cell_type": "code",
   "execution_count": 71,
   "id": "75a45124",
   "metadata": {},
   "outputs": [],
   "source": [
    "Fires_cont_doy_groupby.rename({'CONT_DOY':'Nb CONT_DOY valides', 'CONT_DOY_ind':'Nb CONT_DOY nan'}, axis = 1, inplace = True)"
   ]
  },
  {
   "cell_type": "code",
   "execution_count": 72,
   "id": "ab68e343",
   "metadata": {
    "scrolled": true
   },
   "outputs": [],
   "source": [
    "Fires_cont_doy_groupby['Nb CONT_DOY nan'] = Fires_cont_doy_groupby['Nb CONT_DOY nan'].astype('int64')"
   ]
  },
  {
   "cell_type": "code",
   "execution_count": 73,
   "id": "224dc8a4",
   "metadata": {},
   "outputs": [
    {
     "name": "stdout",
     "output_type": "stream",
     "text": [
      "<class 'pandas.core.frame.DataFrame'>\n",
      "Index: 7 entries, A to G\n",
      "Data columns (total 2 columns):\n",
      " #   Column               Non-Null Count  Dtype\n",
      "---  ------               --------------  -----\n",
      " 0   Nb CONT_DOY valides  7 non-null      int64\n",
      " 1   Nb CONT_DOY nan      7 non-null      int64\n",
      "dtypes: int64(2)\n",
      "memory usage: 168.0+ bytes\n"
     ]
    }
   ],
   "source": [
    "Fires_cont_doy_groupby.info()"
   ]
  },
  {
   "cell_type": "code",
   "execution_count": 74,
   "id": "a15867ca",
   "metadata": {
    "scrolled": true
   },
   "outputs": [],
   "source": [
    "Fires_cont_doy_groupby['Nb CONT_DOY total'] = Fires_cont_doy_groupby['Nb CONT_DOY valides'] + Fires_cont_doy_groupby['Nb CONT_DOY nan']"
   ]
  },
  {
   "cell_type": "code",
   "execution_count": 75,
   "id": "28697183",
   "metadata": {},
   "outputs": [
    {
     "data": {
      "text/html": [
       "<div>\n",
       "<style scoped>\n",
       "    .dataframe tbody tr th:only-of-type {\n",
       "        vertical-align: middle;\n",
       "    }\n",
       "\n",
       "    .dataframe tbody tr th {\n",
       "        vertical-align: top;\n",
       "    }\n",
       "\n",
       "    .dataframe thead th {\n",
       "        text-align: right;\n",
       "    }\n",
       "</style>\n",
       "<table border=\"1\" class=\"dataframe\">\n",
       "  <thead>\n",
       "    <tr style=\"text-align: right;\">\n",
       "      <th></th>\n",
       "      <th>Nb CONT_DOY valides</th>\n",
       "      <th>Nb CONT_DOY nan</th>\n",
       "      <th>Nb CONT_DOY total</th>\n",
       "    </tr>\n",
       "    <tr>\n",
       "      <th>FIRE_SIZE_CLASS</th>\n",
       "      <th></th>\n",
       "      <th></th>\n",
       "      <th></th>\n",
       "    </tr>\n",
       "  </thead>\n",
       "  <tbody>\n",
       "    <tr>\n",
       "      <th>A</th>\n",
       "      <td>421865</td>\n",
       "      <td>245054</td>\n",
       "      <td>666919</td>\n",
       "    </tr>\n",
       "    <tr>\n",
       "      <th>B</th>\n",
       "      <td>429692</td>\n",
       "      <td>509684</td>\n",
       "      <td>939376</td>\n",
       "    </tr>\n",
       "    <tr>\n",
       "      <th>C</th>\n",
       "      <td>103618</td>\n",
       "      <td>116459</td>\n",
       "      <td>220077</td>\n",
       "    </tr>\n",
       "    <tr>\n",
       "      <th>D</th>\n",
       "      <td>15720</td>\n",
       "      <td>12707</td>\n",
       "      <td>28427</td>\n",
       "    </tr>\n",
       "    <tr>\n",
       "      <th>E</th>\n",
       "      <td>9016</td>\n",
       "      <td>5091</td>\n",
       "      <td>14107</td>\n",
       "    </tr>\n",
       "    <tr>\n",
       "      <th>F</th>\n",
       "      <td>5802</td>\n",
       "      <td>1984</td>\n",
       "      <td>7786</td>\n",
       "    </tr>\n",
       "    <tr>\n",
       "      <th>G</th>\n",
       "      <td>3221</td>\n",
       "      <td>552</td>\n",
       "      <td>3773</td>\n",
       "    </tr>\n",
       "  </tbody>\n",
       "</table>\n",
       "</div>"
      ],
      "text/plain": [
       "                 Nb CONT_DOY valides  Nb CONT_DOY nan  Nb CONT_DOY total\n",
       "FIRE_SIZE_CLASS                                                         \n",
       "A                             421865           245054             666919\n",
       "B                             429692           509684             939376\n",
       "C                             103618           116459             220077\n",
       "D                              15720            12707              28427\n",
       "E                               9016             5091              14107\n",
       "F                               5802             1984               7786\n",
       "G                               3221              552               3773"
      ]
     },
     "execution_count": 75,
     "metadata": {},
     "output_type": "execute_result"
    }
   ],
   "source": [
    "Fires_cont_doy_groupby"
   ]
  },
  {
   "cell_type": "code",
   "execution_count": 76,
   "id": "575ae019",
   "metadata": {},
   "outputs": [],
   "source": [
    "Fires_cont_doy_groupby['Ratio CONT_DOY nan'] = np.round(Fires_cont_doy_groupby['Nb CONT_DOY nan']/Fires_cont_doy_groupby['Nb CONT_DOY total'], 2)"
   ]
  },
  {
   "cell_type": "code",
   "execution_count": 77,
   "id": "928c5188",
   "metadata": {
    "scrolled": true
   },
   "outputs": [
    {
     "data": {
      "text/html": [
       "<div>\n",
       "<style scoped>\n",
       "    .dataframe tbody tr th:only-of-type {\n",
       "        vertical-align: middle;\n",
       "    }\n",
       "\n",
       "    .dataframe tbody tr th {\n",
       "        vertical-align: top;\n",
       "    }\n",
       "\n",
       "    .dataframe thead th {\n",
       "        text-align: right;\n",
       "    }\n",
       "</style>\n",
       "<table border=\"1\" class=\"dataframe\">\n",
       "  <thead>\n",
       "    <tr style=\"text-align: right;\">\n",
       "      <th></th>\n",
       "      <th>Nb CONT_DOY valides</th>\n",
       "      <th>Nb CONT_DOY nan</th>\n",
       "      <th>Nb CONT_DOY total</th>\n",
       "      <th>Ratio CONT_DOY nan</th>\n",
       "    </tr>\n",
       "    <tr>\n",
       "      <th>FIRE_SIZE_CLASS</th>\n",
       "      <th></th>\n",
       "      <th></th>\n",
       "      <th></th>\n",
       "      <th></th>\n",
       "    </tr>\n",
       "  </thead>\n",
       "  <tbody>\n",
       "    <tr>\n",
       "      <th>A</th>\n",
       "      <td>421865</td>\n",
       "      <td>245054</td>\n",
       "      <td>666919</td>\n",
       "      <td>0.37</td>\n",
       "    </tr>\n",
       "    <tr>\n",
       "      <th>B</th>\n",
       "      <td>429692</td>\n",
       "      <td>509684</td>\n",
       "      <td>939376</td>\n",
       "      <td>0.54</td>\n",
       "    </tr>\n",
       "    <tr>\n",
       "      <th>C</th>\n",
       "      <td>103618</td>\n",
       "      <td>116459</td>\n",
       "      <td>220077</td>\n",
       "      <td>0.53</td>\n",
       "    </tr>\n",
       "    <tr>\n",
       "      <th>D</th>\n",
       "      <td>15720</td>\n",
       "      <td>12707</td>\n",
       "      <td>28427</td>\n",
       "      <td>0.45</td>\n",
       "    </tr>\n",
       "    <tr>\n",
       "      <th>E</th>\n",
       "      <td>9016</td>\n",
       "      <td>5091</td>\n",
       "      <td>14107</td>\n",
       "      <td>0.36</td>\n",
       "    </tr>\n",
       "    <tr>\n",
       "      <th>F</th>\n",
       "      <td>5802</td>\n",
       "      <td>1984</td>\n",
       "      <td>7786</td>\n",
       "      <td>0.25</td>\n",
       "    </tr>\n",
       "    <tr>\n",
       "      <th>G</th>\n",
       "      <td>3221</td>\n",
       "      <td>552</td>\n",
       "      <td>3773</td>\n",
       "      <td>0.15</td>\n",
       "    </tr>\n",
       "  </tbody>\n",
       "</table>\n",
       "</div>"
      ],
      "text/plain": [
       "                 Nb CONT_DOY valides  Nb CONT_DOY nan  Nb CONT_DOY total  \\\n",
       "FIRE_SIZE_CLASS                                                            \n",
       "A                             421865           245054             666919   \n",
       "B                             429692           509684             939376   \n",
       "C                             103618           116459             220077   \n",
       "D                              15720            12707              28427   \n",
       "E                               9016             5091              14107   \n",
       "F                               5802             1984               7786   \n",
       "G                               3221              552               3773   \n",
       "\n",
       "                 Ratio CONT_DOY nan  \n",
       "FIRE_SIZE_CLASS                      \n",
       "A                              0.37  \n",
       "B                              0.54  \n",
       "C                              0.53  \n",
       "D                              0.45  \n",
       "E                              0.36  \n",
       "F                              0.25  \n",
       "G                              0.15  "
      ]
     },
     "execution_count": 77,
     "metadata": {},
     "output_type": "execute_result"
    }
   ],
   "source": [
    "Fires_cont_doy_groupby"
   ]
  },
  {
   "cell_type": "code",
   "execution_count": 78,
   "id": "fdbbf335",
   "metadata": {},
   "outputs": [],
   "source": [
    "Fires_cont_doy_groupby.reset_index(inplace = True)"
   ]
  },
  {
   "cell_type": "code",
   "execution_count": 79,
   "id": "337ea523",
   "metadata": {},
   "outputs": [
    {
     "data": {
      "image/png": "[encoded data removed]",
      "text/plain": [
       "<Figure size 720x432 with 1 Axes>"
      ]
     },
     "metadata": {
      "needs_background": "light"
     },
     "output_type": "display_data"
    }
   ],
   "source": [
    "plt.figure(figsize = (10,6))\n",
    "splot = sns.barplot(x = 'FIRE_SIZE_CLASS', y = 'Ratio CONT_DOY nan', color = 'orchid', data = Fires_cont_doy_groupby)\n",
    "for p in splot.patches:\n",
    "    splot.annotate(format(p.get_height(), '.2f'), \n",
    "                   (p.get_x() + p.get_width() / 2., p.get_height()), \n",
    "                   ha = 'center', va = 'center', \n",
    "                   xytext = (0, 9), \n",
    "                   textcoords = 'offset points')\n",
    "plt.ylim(0,1)\n",
    "plt.title('Répartition des valeurs CONT_DOY NA par classe de feux');"
   ]
  },
  {
   "cell_type": "markdown",
   "id": "d4cf39fc",
   "metadata": {},
   "source": [
    "### Synthèse n°2"
   ]
  },
  {
   "cell_type": "code",
   "execution_count": 80,
   "id": "6037aa12",
   "metadata": {},
   "outputs": [
    {
     "data": {
      "image/png": "[encoded data removed]",
      "text/plain": [
       "<Figure size 720x864 with 2 Axes>"
      ]
     },
     "metadata": {
      "needs_background": "light"
     },
     "output_type": "display_data"
    }
   ],
   "source": [
    "fig = plt.figure(figsize = (10,12))\n",
    "\n",
    "plt.subplot(211)\n",
    "splot = sns.barplot(x = 'FIRE_SIZE_CLASS', y = 'Ratio CONT_DATE nan', color = 'limegreen', data = Fires_cont_date_groupby)\n",
    "for p in splot.patches:\n",
    "    splot.annotate(format(p.get_height(), '.2f'), \n",
    "                   (p.get_x() + p.get_width() / 2., p.get_height()), \n",
    "                   ha = 'center', va = 'center', \n",
    "                   xytext = (0, 9), \n",
    "                   textcoords = 'offset points')\n",
    "plt.ylim(0,1)\n",
    "plt.title('Répartition des valeurs CONT_DATE NA par classe de feux')\n",
    "\n",
    "plt.subplot(212)\n",
    "splot = sns.barplot(x = 'FIRE_SIZE_CLASS', y = 'Ratio CONT_DOY nan', color = 'orchid', data = Fires_cont_doy_groupby)\n",
    "for p in splot.patches:\n",
    "    splot.annotate(format(p.get_height(), '.2f'), \n",
    "                   (p.get_x() + p.get_width() / 2., p.get_height()), \n",
    "                   ha = 'center', va = 'center', \n",
    "                   xytext = (0, 9), \n",
    "                   textcoords = 'offset points')\n",
    "plt.ylim(0,1)\n",
    "plt.title('Répartition des valeurs CONT_DOY NA par classe de feux');"
   ]
  }
 ],
 "metadata": {
  "kernelspec": {
   "display_name": "Python 3 (ipykernel)",
   "language": "python",
   "name": "python3"
  },
  "language_info": {
   "codemirror_mode": {
    "name": "ipython",
    "version": 3
   },
   "file_extension": ".py",
   "mimetype": "text/x-python",
   "name": "python",
   "nbconvert_exporter": "python",
   "pygments_lexer": "ipython3",
   "version": "3.9.7"
  }
 },
 "nbformat": 4,
 "nbformat_minor": 5
}
