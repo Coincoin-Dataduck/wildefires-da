{
 "cells": [
  {
   "cell_type": "markdown",
   "source": [
    "# Powerline fire study\n",
    "#### _Finding causes for the rise of wildfire caused by powerline in the US since 2008_"
   ],
   "metadata": {
    "collapsed": false,
    "pycharm": {
     "name": "#%% md\n"
    }
   }
  },
  {
   "cell_type": "markdown",
   "source": [
    "## The rise of powerline fire"
   ],
   "metadata": {
    "collapsed": false,
    "pycharm": {
     "name": "#%% md\n"
    }
   }
  },
  {
   "cell_type": "markdown",
   "source": [
    "### 1 - Set-up"
   ],
   "metadata": {
    "collapsed": false,
    "pycharm": {
     "name": "#%% md\n"
    }
   }
  },
  {
   "cell_type": "code",
   "execution_count": 28,
   "outputs": [],
   "source": [
    "#init\n",
    "import pandas as pd\n",
    "import numpy as np\n",
    "import matplotlib.pyplot as plt\n",
    "import seaborn as sns\n",
    "\n",
    "%matplotlib inline\n",
    "\n",
    "sns.set_theme(palette='autumn') #fire theme :eyes:\n",
    "\n",
    "import warnings\n",
    "warnings.filterwarnings('ignore')"
   ],
   "metadata": {
    "collapsed": false,
    "pycharm": {
     "name": "#%%\n"
    }
   }
  },
  {
   "cell_type": "code",
   "execution_count": 2,
   "outputs": [
    {
     "name": "stdout",
     "output_type": "stream",
     "text": [
      "<class 'pandas.core.frame.DataFrame'>\n",
      "Int64Index: 1880465 entries, 1 to 1880465\n",
      "Data columns (total 38 columns):\n",
      " #   Column                      Dtype         \n",
      "---  ------                      -----         \n",
      " 0   FOD_ID                      int64         \n",
      " 1   FPA_ID                      object        \n",
      " 2   SOURCE_SYSTEM_TYPE          object        \n",
      " 3   SOURCE_SYSTEM               object        \n",
      " 4   NWCG_REPORTING_AGENCY       object        \n",
      " 5   NWCG_REPORTING_UNIT_ID      object        \n",
      " 6   NWCG_REPORTING_UNIT_NAME    object        \n",
      " 7   SOURCE_REPORTING_UNIT       object        \n",
      " 8   SOURCE_REPORTING_UNIT_NAME  object        \n",
      " 9   LOCAL_FIRE_REPORT_ID        object        \n",
      " 10  LOCAL_INCIDENT_ID           object        \n",
      " 11  FIRE_CODE                   object        \n",
      " 12  FIRE_NAME                   object        \n",
      " 13  ICS_209_INCIDENT_NUMBER     object        \n",
      " 14  ICS_209_NAME                object        \n",
      " 15  MTBS_ID                     object        \n",
      " 16  MTBS_FIRE_NAME              object        \n",
      " 17  COMPLEX_NAME                object        \n",
      " 18  FIRE_YEAR                   int64         \n",
      " 19  DISCOVERY_DATE              datetime64[ns]\n",
      " 20  DISCOVERY_DOY               int64         \n",
      " 21  DISCOVERY_TIME              float64       \n",
      " 22  STAT_CAUSE_CODE             float64       \n",
      " 23  STAT_CAUSE_DESCR            object        \n",
      " 24  CONT_DATE                   datetime64[ns]\n",
      " 25  CONT_DOY                    float64       \n",
      " 26  CONT_TIME                   float64       \n",
      " 27  FIRE_SIZE                   float64       \n",
      " 28  FIRE_SIZE_CLASS             object        \n",
      " 29  LATITUDE                    float64       \n",
      " 30  LONGITUDE                   float64       \n",
      " 31  OWNER_CODE                  float64       \n",
      " 32  OWNER_DESCR                 object        \n",
      " 33  STATE                       object        \n",
      " 34  COUNTY                      object        \n",
      " 35  FIPS_CODE                   float64       \n",
      " 36  FIPS_NAME                   object        \n",
      " 37  Shape                       object        \n",
      "dtypes: datetime64[ns](2), float64(9), int64(3), object(24)\n",
      "memory usage: 559.5+ MB\n"
     ]
    }
   ],
   "source": [
    "#data import\n",
    "df = pd.read_csv('fires.csv', index_col = 'OBJECTID')\n",
    "df.DISCOVERY_DATE = pd.to_datetime(df.DISCOVERY_DATE) #seting up date format\n",
    "df.CONT_DATE = pd.to_datetime(df.CONT_DATE) #seting up date format\n",
    "df.info()"
   ],
   "metadata": {
    "collapsed": false,
    "pycharm": {
     "name": "#%%\n"
    }
   }
  },
  {
   "cell_type": "code",
   "execution_count": 5,
   "outputs": [],
   "source": [
    "#getting ride of unused column\n",
    "df.drop(['FPA_ID', 'SOURCE_SYSTEM', 'SOURCE_SYSTEM_TYPE', 'NWCG_REPORTING_AGENCY', 'NWCG_REPORTING_UNIT_ID', 'NWCG_REPORTING_UNIT_NAME', 'SOURCE_REPORTING_UNIT', 'SOURCE_REPORTING_UNIT_NAME','LOCAL_FIRE_REPORT_ID', 'LOCAL_INCIDENT_ID', 'FIRE_CODE', 'ICS_209_INCIDENT_NUMBER', 'ICS_209_NAME', 'MTBS_ID', 'OWNER_CODE', 'OWNER_DESCR', 'FIPS_CODE', 'Shape'], axis=1, inplace=True) #keeping name for further research in newspapers"
   ],
   "metadata": {
    "collapsed": false,
    "pycharm": {
     "name": "#%%\n"
    }
   }
  },
  {
   "cell_type": "code",
   "execution_count": 14,
   "outputs": [
    {
     "name": "stdout",
     "output_type": "stream",
     "text": [
      "<class 'pandas.core.frame.DataFrame'>\n",
      "Int64Index: 14448 entries, 173028 to 1880225\n",
      "Data columns (total 20 columns):\n",
      " #   Column            Non-Null Count  Dtype         \n",
      "---  ------            --------------  -----         \n",
      " 0   FOD_ID            14448 non-null  int64         \n",
      " 1   FIRE_NAME         10815 non-null  object        \n",
      " 2   MTBS_FIRE_NAME    179 non-null    object        \n",
      " 3   COMPLEX_NAME      29 non-null     object        \n",
      " 4   FIRE_YEAR         14448 non-null  int64         \n",
      " 5   DISCOVERY_DATE    14448 non-null  datetime64[ns]\n",
      " 6   DISCOVERY_DOY     14448 non-null  int64         \n",
      " 7   DISCOVERY_TIME    8462 non-null   float64       \n",
      " 8   STAT_CAUSE_CODE   14448 non-null  float64       \n",
      " 9   STAT_CAUSE_DESCR  14448 non-null  object        \n",
      " 10  CONT_DATE         8427 non-null   datetime64[ns]\n",
      " 11  CONT_DOY          8427 non-null   float64       \n",
      " 12  CONT_TIME         7826 non-null   float64       \n",
      " 13  FIRE_SIZE         14448 non-null  float64       \n",
      " 14  FIRE_SIZE_CLASS   14448 non-null  object        \n",
      " 15  LATITUDE          14448 non-null  float64       \n",
      " 16  LONGITUDE         14448 non-null  float64       \n",
      " 17  STATE             14448 non-null  object        \n",
      " 18  COUNTY            11558 non-null  object        \n",
      " 19  FIPS_NAME         11558 non-null  object        \n",
      "dtypes: datetime64[ns](2), float64(7), int64(3), object(8)\n",
      "memory usage: 2.3+ MB\n"
     ]
    }
   ],
   "source": [
    "#getting ride of other fire cause\n",
    "df_powerline = df.drop(df.loc[df['STAT_CAUSE_DESCR'] != 'Powerline'].index)\n",
    "df_powerline.info()"
   ],
   "metadata": {
    "collapsed": false,
    "pycharm": {
     "name": "#%%\n"
    }
   }
  },
  {
   "cell_type": "markdown",
   "source": [
    "### 2 - Analysis"
   ],
   "metadata": {
    "collapsed": false,
    "pycharm": {
     "name": "#%% md\n"
    }
   }
  },
  {
   "cell_type": "code",
   "execution_count": 29,
   "outputs": [
    {
     "data": {
      "text/plain": "<Figure size 720x360 with 1 Axes>",
      "image/png": "[encoded data removed]"
     },
     "metadata": {},
     "output_type": "display_data"
    }
   ],
   "source": [
    "sns.displot(df_powerline['FIRE_YEAR'], kde=True, height=5, aspect=2,);"
   ],
   "metadata": {
    "collapsed": false,
    "pycharm": {
     "name": "#%%\n"
    }
   }
  },
  {
   "cell_type": "markdown",
   "source": [
    "Obviously at first sight we have something around 2010.\n",
    "- What's the average of powerline fire by year\n",
    "- What's the year above this average ?\n",
    "- Is that tendency true for every state ?"
   ],
   "metadata": {
    "collapsed": false,
    "pycharm": {
     "name": "#%% md\n"
    }
   }
  },
  {
   "cell_type": "code",
   "execution_count": null,
   "outputs": [],
   "source": [],
   "metadata": {
    "collapsed": false,
    "pycharm": {
     "name": "#%%\n"
    }
   }
  }
 ],
 "metadata": {
  "kernelspec": {
   "display_name": "Python 3",
   "language": "python",
   "name": "python3"
  },
  "language_info": {
   "codemirror_mode": {
    "name": "ipython",
    "version": 2
   },
   "file_extension": ".py",
   "mimetype": "text/x-python",
   "name": "python",
   "nbconvert_exporter": "python",
   "pygments_lexer": "ipython2",
   "version": "2.7.6"
  }
 },
 "nbformat": 4,
 "nbformat_minor": 0
}