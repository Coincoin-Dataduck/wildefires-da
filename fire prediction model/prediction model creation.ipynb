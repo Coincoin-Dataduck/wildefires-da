{
 "cells": [
  {
   "cell_type": "markdown",
   "source": [
    "# Creation of a simple wildfire prediction model\n",
    "#### _A model to get the probability of a wildfire starting in a state of given parameter_\n",
    "\n",
    "## Finding the right parameter\n",
    "- Average wind speed\n",
    "- Wind direction\n",
    "- Humidity index\n",
    "- Average temperature\n",
    "- State\n",
    "- County\n",
    "\n",
    "Data source : [Global Surface Summary of the Day - GSOD](https://www.ncei.noaa.gov/metadata/geoportal/rest/metadata/item/gov.noaa.ncdc%3AC00516/html#)\n",
    "API : https://www.ncei.noaa.gov/support/access-data-service-api-user-documentation\n",
    "## Building a source dataset"
   ],
   "metadata": {
    "collapsed": false,
    "pycharm": {
     "name": "#%% md\n"
    }
   },
   "outputs": []
  },
  {
   "cell_type": "code",
   "execution_count": 1,
   "outputs": [],
   "source": [
    "import pandas as pd\n",
    "import os\n",
    "import numpy as np\n",
    "from datetime import datetime"
   ],
   "metadata": {
    "collapsed": false,
    "pycharm": {
     "name": "#%%\n"
    }
   }
  },
  {
   "cell_type": "markdown",
   "source": [
    "## 1 - Filtering data from other country"
   ],
   "metadata": {
    "collapsed": false,
    "pycharm": {
     "name": "#%% md\n"
    }
   }
  },
  {
   "cell_type": "code",
   "execution_count": null,
   "outputs": [],
   "source": [
    "start = datetime.now()\n",
    "for year in np.arange(1996,2016):\n",
    "    listoffiles = os.listdir(f'{year}') #get de files in folder\n",
    "    for file in listoffiles:\n",
    "        state = pd.read_csv(f'{year}/{file}')['NAME'][0] #get the station name\n",
    "        if pd.isna(state): #check if ther is a name\n",
    "            os.remove(f\"{year}/{file}\")\n",
    "        else:\n",
    "            if state[-2:] != 'US': #get the country code in the name and check\n",
    "                os.remove(f\"{year}/{file}\")\n",
    "end = datetime.now()\n",
    "elapsed = end-start\n",
    "print(elapsed)"
   ],
   "metadata": {
    "collapsed": false,
    "pycharm": {
     "name": "#%%\n"
    }
   }
  },
  {
   "cell_type": "markdown",
   "source": [
    "## 2 - The big merge"
   ],
   "metadata": {
    "collapsed": false,
    "pycharm": {
     "name": "#%% md\n"
    }
   }
  },
  {
   "cell_type": "code",
   "execution_count": 8,
   "outputs": [
    {
     "name": "stdout",
     "output_type": "stream",
     "text": [
      "0:01:58.528257\n"
     ]
    }
   ],
   "source": [
    "start = datetime.now()\n",
    "\n",
    "for year in np.arange(1992,2016):\n",
    "    listoffiles = os.listdir(f'{year}') #get the files in folder\n",
    "    yearstation = open(f'{year}/{year}.csv', 'a') #create the merge file for the year\n",
    "    for line in open(f'{year}/{listoffiles[0]}', 'r'): #go through every line in the file\n",
    "        yearstation.write(line) #write each line in the merge file\n",
    "    for file in listoffiles[1:]: #go through each file in the directory\n",
    "        station = open(f'{year}/{file}', 'r') #open the file\n",
    "        next(station) #skip header\n",
    "        for line in station: #go through every line in the file\n",
    "            yearstation.write(line) #write each line in the merge file\n",
    "        station.close()\n",
    "    yearstation.close()\n",
    "\n",
    "fullmerge = open('the_merge.csv', 'a') #create the merge file for the year\n",
    "for line in open('1992/1992.csv', 'r'): #go through every line in the file\n",
    "    fullmerge.write(line) #write each line in the merge file\n",
    "for year in np.arange(1993,2016):\n",
    "    current_year = open(f'{year}/{year}.csv', 'r') #open the file\n",
    "    next(current_year) #skip header\n",
    "    for line in current_year: #go through every line in the file\n",
    "        fullmerge.write(line) #write each line in the merge file\n",
    "    current_year.close()\n",
    "fullmerge.close()\n",
    "\n",
    "end = datetime.now()\n",
    "elapsed = end-start\n",
    "print(elapsed)"
   ],
   "metadata": {
    "collapsed": false,
    "pycharm": {
     "name": "#%%\n"
    }
   }
  }
 ],
 "metadata": {
  "kernelspec": {
   "display_name": "Python 3",
   "language": "python",
   "name": "python3"
  },
  "language_info": {
   "codemirror_mode": {
    "name": "ipython",
    "version": 2
   },
   "file_extension": ".py",
   "mimetype": "text/x-python",
   "name": "python",
   "nbconvert_exporter": "python",
   "pygments_lexer": "ipython2",
   "version": "2.7.6"
  }
 },
 "nbformat": 4,
 "nbformat_minor": 0
}