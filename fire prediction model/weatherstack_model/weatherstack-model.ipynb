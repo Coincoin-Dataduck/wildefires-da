{
 "cells": [
  {
   "cell_type": "markdown",
   "source": [
    "# Weatherstack prediction model\n",
    "Creating more robust model from weatherstack powerful API"
   ],
   "metadata": {
    "collapsed": false,
    "pycharm": {
     "name": "#%% md\n"
    }
   }
  },
  {
   "cell_type": "code",
   "execution_count": 3,
   "outputs": [],
   "source": [
    "import pandas as pd"
   ],
   "metadata": {
    "collapsed": false,
    "pycharm": {
     "name": "#%%\n"
    }
   }
  },
  {
   "cell_type": "code",
   "execution_count": 5,
   "outputs": [
    {
     "name": "stderr",
     "output_type": "stream",
     "text": [
      "/tmp/ipykernel_1280483/1917698032.py:2: DtypeWarning: Columns (8,10,11,12,13,14,15,16,17,18,35,37) have mixed types. Specify dtype option on import or set low_memory=False.\n",
      "  df_fire = pd.read_csv('fires.csv')\n"
     ]
    },
    {
     "data": {
      "text/plain": "         DISCOVERY_DATE  DISCOVERY_DOY   LATITUDE   LONGITUDE STATE\n0             2453403.5             33  40.036944 -121.005833    CA\n1             2453137.5            133  38.933056 -120.404444    CA\n2             2453156.5            152  38.984167 -120.735556    CA\n3             2453184.5            180  38.559167 -119.913333    CA\n4             2453184.5            180  38.559167 -119.933056    CA\n...                 ...            ...        ...         ...   ...\n1880460       2457291.5            269  40.481637 -122.389375    CA\n1880461       2457300.5            278  37.617619 -120.938570    CA\n1880462       2457144.5            122  37.617619 -120.938570    CA\n1880463       2457309.5            287  37.672235 -120.898356    CA\n1880464       2457095.5             73  34.263217 -116.830950    CA\n\n[1880465 rows x 5 columns]",
      "text/html": "<div>\n<style scoped>\n    .dataframe tbody tr th:only-of-type {\n        vertical-align: middle;\n    }\n\n    .dataframe tbody tr th {\n        vertical-align: top;\n    }\n\n    .dataframe thead th {\n        text-align: right;\n    }\n</style>\n<table border=\"1\" class=\"dataframe\">\n  <thead>\n    <tr style=\"text-align: right;\">\n      <th></th>\n      <th>DISCOVERY_DATE</th>\n      <th>DISCOVERY_DOY</th>\n      <th>LATITUDE</th>\n      <th>LONGITUDE</th>\n      <th>STATE</th>\n    </tr>\n  </thead>\n  <tbody>\n    <tr>\n      <th>0</th>\n      <td>2453403.5</td>\n      <td>33</td>\n      <td>40.036944</td>\n      <td>-121.005833</td>\n      <td>CA</td>\n    </tr>\n    <tr>\n      <th>1</th>\n      <td>2453137.5</td>\n      <td>133</td>\n      <td>38.933056</td>\n      <td>-120.404444</td>\n      <td>CA</td>\n    </tr>\n    <tr>\n      <th>2</th>\n      <td>2453156.5</td>\n      <td>152</td>\n      <td>38.984167</td>\n      <td>-120.735556</td>\n      <td>CA</td>\n    </tr>\n    <tr>\n      <th>3</th>\n      <td>2453184.5</td>\n      <td>180</td>\n      <td>38.559167</td>\n      <td>-119.913333</td>\n      <td>CA</td>\n    </tr>\n    <tr>\n      <th>4</th>\n      <td>2453184.5</td>\n      <td>180</td>\n      <td>38.559167</td>\n      <td>-119.933056</td>\n      <td>CA</td>\n    </tr>\n    <tr>\n      <th>...</th>\n      <td>...</td>\n      <td>...</td>\n      <td>...</td>\n      <td>...</td>\n      <td>...</td>\n    </tr>\n    <tr>\n      <th>1880460</th>\n      <td>2457291.5</td>\n      <td>269</td>\n      <td>40.481637</td>\n      <td>-122.389375</td>\n      <td>CA</td>\n    </tr>\n    <tr>\n      <th>1880461</th>\n      <td>2457300.5</td>\n      <td>278</td>\n      <td>37.617619</td>\n      <td>-120.938570</td>\n      <td>CA</td>\n    </tr>\n    <tr>\n      <th>1880462</th>\n      <td>2457144.5</td>\n      <td>122</td>\n      <td>37.617619</td>\n      <td>-120.938570</td>\n      <td>CA</td>\n    </tr>\n    <tr>\n      <th>1880463</th>\n      <td>2457309.5</td>\n      <td>287</td>\n      <td>37.672235</td>\n      <td>-120.898356</td>\n      <td>CA</td>\n    </tr>\n    <tr>\n      <th>1880464</th>\n      <td>2457095.5</td>\n      <td>73</td>\n      <td>34.263217</td>\n      <td>-116.830950</td>\n      <td>CA</td>\n    </tr>\n  </tbody>\n</table>\n<p>1880465 rows × 5 columns</p>\n</div>"
     },
     "execution_count": 5,
     "metadata": {},
     "output_type": "execute_result"
    }
   ],
   "source": [
    "#getting fire data\n",
    "df_fire = pd.read_csv('fires.csv')\n",
    "\n",
    "# deletion on unrelevent column\n",
    "df_fire = df_fire.drop(['OBJECTID',\n",
    "                        'FOD_ID',\n",
    "                        'FPA_ID',\n",
    "                        'SOURCE_SYSTEM_TYPE',\n",
    "                        'SOURCE_SYSTEM',\n",
    "                        'NWCG_REPORTING_AGENCY',\n",
    "                        'NWCG_REPORTING_UNIT_ID',\n",
    "                        'NWCG_REPORTING_UNIT_NAME',\n",
    "                        'SOURCE_REPORTING_UNIT',\n",
    "                        'SOURCE_REPORTING_UNIT_NAME',\n",
    "                        'LOCAL_FIRE_REPORT_ID',\n",
    "                        'LOCAL_INCIDENT_ID',\n",
    "                        'FIRE_CODE',\n",
    "                        'FIRE_NAME',\n",
    "                        'ICS_209_INCIDENT_NUMBER',\n",
    "                        'ICS_209_NAME',\n",
    "                        'MTBS_ID',\n",
    "                        'MTBS_FIRE_NAME',\n",
    "                        'COMPLEX_NAME',\n",
    "                        'FIRE_YEAR',\n",
    "                        'DISCOVERY_DOY',\n",
    "                        'DISCOVERY_TIME',\n",
    "                        'STAT_CAUSE_CODE',\n",
    "                        'STAT_CAUSE_DESCR',\n",
    "                        'CONT_DATE',\n",
    "                        'CONT_DOY',\n",
    "                        'CONT_TIME',\n",
    "                        'FIRE_SIZE',\n",
    "                        'FIRE_SIZE_CLASS',\n",
    "                        'OWNER_CODE',\n",
    "                        'OWNER_DESCR',\n",
    "                        'COUNTY',\n",
    "                        'FIPS_CODE',\n",
    "                        'FIPS_NAME',\n",
    "                        'STATE',\n",
    "                        'Shape'], axis=1)\n",
    "\n",
    "df_fire"
   ],
   "metadata": {
    "collapsed": false,
    "pycharm": {
     "name": "#%%\n"
    }
   }
  }
 ],
 "metadata": {
  "kernelspec": {
   "display_name": "Python 3",
   "language": "python",
   "name": "python3"
  },
  "language_info": {
   "codemirror_mode": {
    "name": "ipython",
    "version": 2
   },
   "file_extension": ".py",
   "mimetype": "text/x-python",
   "name": "python",
   "nbconvert_exporter": "python",
   "pygments_lexer": "ipython2",
   "version": "2.7.6"
  }
 },
 "nbformat": 4,
 "nbformat_minor": 0
}