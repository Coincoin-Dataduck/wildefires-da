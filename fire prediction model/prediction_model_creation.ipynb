{
 "cells": [
  {
   "cell_type": "code",
   "execution_count": 65,
   "metadata": {
    "pycharm": {
     "name": "#%%\n"
    }
   },
   "outputs": [],
   "source": [
    "import pandas as pd\n",
    "import os\n",
    "import numpy as np\n",
    "from datetime import datetime\n",
    "from sklearn.ensemble import HistGradientBoostingClassifier\n",
    "import seaborn as sns\n",
    "from sklearn.preprocessing import StandardScaler\n",
    "from sklearn.decomposition import PCA\n",
    "from sklearn.model_selection import train_test_split, GridSearchCV\n",
    "from sklearn.metrics import classification_report, roc_curve, auc, f1_score\n",
    "import matplotlib.pyplot as plt\n",
    "from sklearn.neighbors import KNeighborsClassifier\n",
    "import joblib\n",
    "import requests\n",
    "from sklearn.inspection import permutation_importance\n",
    "\n",
    "sns.set_theme(palette='gist_heat_r') #fire theme :eyes:"
   ]
  },
  {
   "cell_type": "markdown",
   "metadata": {
    "pycharm": {
     "name": "#%% md\n"
    }
   },
   "source": [
    "## 1 - Filtering data from other country"
   ]
  },
  {
   "cell_type": "code",
   "execution_count": null,
   "metadata": {
    "pycharm": {
     "name": "#%%\n"
    }
   },
   "outputs": [],
   "source": [
    "start = datetime.now()\n",
    "for year in np.arange(1996,2016):\n",
    "    listoffiles = os.listdir(f'{year}') #get de files in folder\n",
    "    for file in listoffiles:\n",
    "        state = pd.read_csv(f'{year}/{file}')['NAME'][0] #get the station name\n",
    "        if pd.isna(state): #check if ther is a name\n",
    "            os.remove(f\"{year}/{file}\")\n",
    "        else:\n",
    "            if state[-2:] != 'US': #get the country code in the name and check\n",
    "                os.remove(f\"{year}/{file}\")\n",
    "end = datetime.now()\n",
    "elapsed = end-start\n",
    "print(elapsed)"
   ]
  },
  {
   "cell_type": "markdown",
   "metadata": {
    "pycharm": {
     "name": "#%% md\n"
    }
   },
   "source": [
    "## 2 - The big merge"
   ]
  },
  {
   "cell_type": "code",
   "execution_count": null,
   "metadata": {
    "pycharm": {
     "name": "#%%\n"
    }
   },
   "outputs": [],
   "source": [
    "start = datetime.now()\n",
    "\n",
    "for year in np.arange(1992,2016):\n",
    "    listoffiles = os.listdir(f'{year}') #get the files in folder\n",
    "    yearstation = open(f'{year}/{year}.csv', 'a') #create the merge file for the year\n",
    "    for line in open(f'{year}/{listoffiles[0]}', 'r'): #go through every line in the file\n",
    "        yearstation.write(line) #write each line in the merge file\n",
    "    for file in listoffiles[1:]: #go through each file in the directory\n",
    "        station = open(f'{year}/{file}', 'r') #open the file\n",
    "        next(station) #skip header\n",
    "        for line in station: #go through every line in the file\n",
    "            yearstation.write(line) #write each line in the merge file\n",
    "        station.close()\n",
    "    yearstation.close()\n",
    "\n",
    "fullmerge = open('the_merge.csv', 'a') #create the merge file for the year\n",
    "for line in open('1992/1992.csv', 'r'): #go through every line in the file\n",
    "    fullmerge.write(line) #write each line in the merge file\n",
    "for year in np.arange(1993,2016):\n",
    "    current_year = open(f'{year}/{year}.csv', 'r') #open the file\n",
    "    next(current_year) #skip header\n",
    "    for line in current_year: #go through every line in the file\n",
    "        fullmerge.write(line) #write each line in the merge file\n",
    "    current_year.close()\n",
    "fullmerge.close()\n",
    "\n",
    "end = datetime.now()\n",
    "elapsed = end-start\n",
    "print(elapsed)"
   ]
  },
  {
   "cell_type": "markdown",
   "metadata": {
    "pycharm": {
     "name": "#%% md\n"
    }
   },
   "source": [
    "## 3 - Importing the datas\n",
    "### A - NOA Datas"
   ]
  },
  {
   "cell_type": "code",
   "execution_count": 13,
   "metadata": {
    "pycharm": {
     "name": "#%%\n"
    }
   },
   "outputs": [
    {
     "name": "stderr",
     "output_type": "stream",
     "text": [
      "/tmp/ipykernel_575/1555649159.py:1: DtypeWarning: Columns (0) have mixed types. Specify dtype option on import or set low_memory=False.\n",
      "  df = pd.read_csv(\"the_merge.csv\") # importing data from the merge\n"
     ]
    },
    {
     "data": {
      "text/html": [
       "<div>\n",
       "<style scoped>\n",
       "    .dataframe tbody tr th:only-of-type {\n",
       "        vertical-align: middle;\n",
       "    }\n",
       "\n",
       "    .dataframe tbody tr th {\n",
       "        vertical-align: top;\n",
       "    }\n",
       "\n",
       "    .dataframe thead th {\n",
       "        text-align: right;\n",
       "    }\n",
       "</style>\n",
       "<table border=\"1\" class=\"dataframe\">\n",
       "  <thead>\n",
       "    <tr style=\"text-align: right;\">\n",
       "      <th></th>\n",
       "      <th>STATION</th>\n",
       "      <th>DATE</th>\n",
       "      <th>LATITUDE</th>\n",
       "      <th>LONGITUDE</th>\n",
       "      <th>ELEVATION</th>\n",
       "      <th>NAME</th>\n",
       "      <th>TEMP</th>\n",
       "      <th>TEMP_ATTRIBUTES</th>\n",
       "      <th>DEWP</th>\n",
       "      <th>DEWP_ATTRIBUTES</th>\n",
       "      <th>...</th>\n",
       "      <th>MXSPD</th>\n",
       "      <th>GUST</th>\n",
       "      <th>MAX</th>\n",
       "      <th>MAX_ATTRIBUTES</th>\n",
       "      <th>MIN</th>\n",
       "      <th>MIN_ATTRIBUTES</th>\n",
       "      <th>PRCP</th>\n",
       "      <th>PRCP_ATTRIBUTES</th>\n",
       "      <th>SNDP</th>\n",
       "      <th>FRSHTT</th>\n",
       "    </tr>\n",
       "  </thead>\n",
       "  <tbody>\n",
       "    <tr>\n",
       "      <th>7375060</th>\n",
       "      <td>72267023042</td>\n",
       "      <td>2006-02-27</td>\n",
       "      <td>33.66560</td>\n",
       "      <td>-101.82310</td>\n",
       "      <td>991.8</td>\n",
       "      <td>LUBBOCK INTERNATIONAL AIRPORT, TX US</td>\n",
       "      <td>54.3</td>\n",
       "      <td>24</td>\n",
       "      <td>36.0</td>\n",
       "      <td>24</td>\n",
       "      <td>...</td>\n",
       "      <td>20.8</td>\n",
       "      <td>22.7</td>\n",
       "      <td>81.0</td>\n",
       "      <td></td>\n",
       "      <td>27.1</td>\n",
       "      <td></td>\n",
       "      <td>0.00</td>\n",
       "      <td>G</td>\n",
       "      <td>999.9</td>\n",
       "      <td>0</td>\n",
       "    </tr>\n",
       "    <tr>\n",
       "      <th>13009819</th>\n",
       "      <td>99999903093</td>\n",
       "      <td>2012-02-05</td>\n",
       "      <td>39.78570</td>\n",
       "      <td>-103.51700</td>\n",
       "      <td>1452.1</td>\n",
       "      <td>GENOA 35 N, CO US</td>\n",
       "      <td>13.3</td>\n",
       "      <td>24</td>\n",
       "      <td>9999.9</td>\n",
       "      <td>0</td>\n",
       "      <td>...</td>\n",
       "      <td>999.9</td>\n",
       "      <td>999.9</td>\n",
       "      <td>27.7</td>\n",
       "      <td></td>\n",
       "      <td>1.4</td>\n",
       "      <td></td>\n",
       "      <td>0.01</td>\n",
       "      <td>G</td>\n",
       "      <td>999.9</td>\n",
       "      <td>0</td>\n",
       "    </tr>\n",
       "    <tr>\n",
       "      <th>9039999</th>\n",
       "      <td>72537804887</td>\n",
       "      <td>2008-10-11</td>\n",
       "      <td>42.62944</td>\n",
       "      <td>-83.98417</td>\n",
       "      <td>287.7</td>\n",
       "      <td>HOWELL LIVINGSTON CO AIRPORT, MI US</td>\n",
       "      <td>56.5</td>\n",
       "      <td>24</td>\n",
       "      <td>41.3</td>\n",
       "      <td>24</td>\n",
       "      <td>...</td>\n",
       "      <td>12.0</td>\n",
       "      <td>999.9</td>\n",
       "      <td>73.4</td>\n",
       "      <td>*</td>\n",
       "      <td>41.0</td>\n",
       "      <td>*</td>\n",
       "      <td>0.00</td>\n",
       "      <td>I</td>\n",
       "      <td>999.9</td>\n",
       "      <td>0</td>\n",
       "    </tr>\n",
       "    <tr>\n",
       "      <th>4441190</th>\n",
       "      <td>72518799999</td>\n",
       "      <td>2001-04-28</td>\n",
       "      <td>44.68300</td>\n",
       "      <td>-73.51700</td>\n",
       "      <td>113.0</td>\n",
       "      <td>CLINTON CO, NY US</td>\n",
       "      <td>41.8</td>\n",
       "      <td>24</td>\n",
       "      <td>19.4</td>\n",
       "      <td>24</td>\n",
       "      <td>...</td>\n",
       "      <td>19.0</td>\n",
       "      <td>27.0</td>\n",
       "      <td>64.9</td>\n",
       "      <td></td>\n",
       "      <td>30.0</td>\n",
       "      <td></td>\n",
       "      <td>0.00</td>\n",
       "      <td>I</td>\n",
       "      <td>999.9</td>\n",
       "      <td>0</td>\n",
       "    </tr>\n",
       "    <tr>\n",
       "      <th>7780571</th>\n",
       "      <td>74000203042</td>\n",
       "      <td>2006-04-18</td>\n",
       "      <td>37.50000</td>\n",
       "      <td>-105.16667</td>\n",
       "      <td>3114.1</td>\n",
       "      <td>LA VETA PASS, CO US</td>\n",
       "      <td>44.4</td>\n",
       "      <td>24</td>\n",
       "      <td>-2.7</td>\n",
       "      <td>23</td>\n",
       "      <td>...</td>\n",
       "      <td>26.0</td>\n",
       "      <td>43.9</td>\n",
       "      <td>57.2</td>\n",
       "      <td>*</td>\n",
       "      <td>33.8</td>\n",
       "      <td>*</td>\n",
       "      <td>0.00</td>\n",
       "      <td>I</td>\n",
       "      <td>999.9</td>\n",
       "      <td>0</td>\n",
       "    </tr>\n",
       "    <tr>\n",
       "      <th>1810913</th>\n",
       "      <td>70343025403</td>\n",
       "      <td>1996-04-18</td>\n",
       "      <td>59.43300</td>\n",
       "      <td>-146.33300</td>\n",
       "      <td>14.0</td>\n",
       "      <td>MIDDLETON ISLAND, AK US</td>\n",
       "      <td>44.8</td>\n",
       "      <td>23</td>\n",
       "      <td>24.5</td>\n",
       "      <td>23</td>\n",
       "      <td>...</td>\n",
       "      <td>16.9</td>\n",
       "      <td>999.9</td>\n",
       "      <td>47.8</td>\n",
       "      <td>*</td>\n",
       "      <td>43.0</td>\n",
       "      <td>*</td>\n",
       "      <td>0.00</td>\n",
       "      <td>I</td>\n",
       "      <td>999.9</td>\n",
       "      <td>0</td>\n",
       "    </tr>\n",
       "    <tr>\n",
       "      <th>4394131</th>\n",
       "      <td>72464093058</td>\n",
       "      <td>2001-09-14</td>\n",
       "      <td>38.29010</td>\n",
       "      <td>-104.49830</td>\n",
       "      <td>1438.7</td>\n",
       "      <td>PUEBLO MEMORIAL AIRPORT, CO US</td>\n",
       "      <td>74.6</td>\n",
       "      <td>24</td>\n",
       "      <td>46.9</td>\n",
       "      <td>24</td>\n",
       "      <td>...</td>\n",
       "      <td>20.0</td>\n",
       "      <td>28.0</td>\n",
       "      <td>93.0</td>\n",
       "      <td></td>\n",
       "      <td>48.9</td>\n",
       "      <td></td>\n",
       "      <td>0.00</td>\n",
       "      <td>G</td>\n",
       "      <td>999.9</td>\n",
       "      <td>10000</td>\n",
       "    </tr>\n",
       "    <tr>\n",
       "      <th>2844140</th>\n",
       "      <td>72408013739</td>\n",
       "      <td>1998-08-13</td>\n",
       "      <td>39.87327</td>\n",
       "      <td>-75.22678</td>\n",
       "      <td>3.0</td>\n",
       "      <td>PHILADELPHIA INTERNATIONAL AIRPORT, PA US</td>\n",
       "      <td>75.8</td>\n",
       "      <td>24</td>\n",
       "      <td>66.2</td>\n",
       "      <td>24</td>\n",
       "      <td>...</td>\n",
       "      <td>11.1</td>\n",
       "      <td>999.9</td>\n",
       "      <td>82.9</td>\n",
       "      <td>*</td>\n",
       "      <td>69.8</td>\n",
       "      <td>*</td>\n",
       "      <td>0.00</td>\n",
       "      <td>D</td>\n",
       "      <td>999.9</td>\n",
       "      <td>100000</td>\n",
       "    </tr>\n",
       "    <tr>\n",
       "      <th>12390262</th>\n",
       "      <td>72232300362</td>\n",
       "      <td>2012-04-30</td>\n",
       "      <td>31.41700</td>\n",
       "      <td>-97.80000</td>\n",
       "      <td>276.1</td>\n",
       "      <td>GATESVILLE MUNICIPAL AIRPORT, TX US</td>\n",
       "      <td>76.6</td>\n",
       "      <td>24</td>\n",
       "      <td>65.6</td>\n",
       "      <td>24</td>\n",
       "      <td>...</td>\n",
       "      <td>15.0</td>\n",
       "      <td>21.0</td>\n",
       "      <td>84.2</td>\n",
       "      <td>*</td>\n",
       "      <td>69.8</td>\n",
       "      <td>*</td>\n",
       "      <td>0.00</td>\n",
       "      <td>I</td>\n",
       "      <td>999.9</td>\n",
       "      <td>0</td>\n",
       "    </tr>\n",
       "    <tr>\n",
       "      <th>260621</th>\n",
       "      <td>72545514931</td>\n",
       "      <td>1992-11-25</td>\n",
       "      <td>40.78333</td>\n",
       "      <td>-91.12528</td>\n",
       "      <td>210.9</td>\n",
       "      <td>BURLINGTON MUNICIPAL AIRPORT, IA US</td>\n",
       "      <td>38.9</td>\n",
       "      <td>23</td>\n",
       "      <td>37.1</td>\n",
       "      <td>23</td>\n",
       "      <td>...</td>\n",
       "      <td>10.9</td>\n",
       "      <td>999.9</td>\n",
       "      <td>41.0</td>\n",
       "      <td></td>\n",
       "      <td>37.9</td>\n",
       "      <td></td>\n",
       "      <td>0.39</td>\n",
       "      <td>D</td>\n",
       "      <td>999.9</td>\n",
       "      <td>11000</td>\n",
       "    </tr>\n",
       "  </tbody>\n",
       "</table>\n",
       "<p>10 rows × 28 columns</p>\n",
       "</div>"
      ],
      "text/plain": [
       "              STATION        DATE  LATITUDE  LONGITUDE  ELEVATION  \\\n",
       "7375060   72267023042  2006-02-27  33.66560 -101.82310      991.8   \n",
       "13009819  99999903093  2012-02-05  39.78570 -103.51700     1452.1   \n",
       "9039999   72537804887  2008-10-11  42.62944  -83.98417      287.7   \n",
       "4441190   72518799999  2001-04-28  44.68300  -73.51700      113.0   \n",
       "7780571   74000203042  2006-04-18  37.50000 -105.16667     3114.1   \n",
       "1810913   70343025403  1996-04-18  59.43300 -146.33300       14.0   \n",
       "4394131   72464093058  2001-09-14  38.29010 -104.49830     1438.7   \n",
       "2844140   72408013739  1998-08-13  39.87327  -75.22678        3.0   \n",
       "12390262  72232300362  2012-04-30  31.41700  -97.80000      276.1   \n",
       "260621    72545514931  1992-11-25  40.78333  -91.12528      210.9   \n",
       "\n",
       "                                               NAME  TEMP  TEMP_ATTRIBUTES  \\\n",
       "7375060        LUBBOCK INTERNATIONAL AIRPORT, TX US  54.3               24   \n",
       "13009819                          GENOA 35 N, CO US  13.3               24   \n",
       "9039999         HOWELL LIVINGSTON CO AIRPORT, MI US  56.5               24   \n",
       "4441190                           CLINTON CO, NY US  41.8               24   \n",
       "7780571                         LA VETA PASS, CO US  44.4               24   \n",
       "1810913                     MIDDLETON ISLAND, AK US  44.8               23   \n",
       "4394131              PUEBLO MEMORIAL AIRPORT, CO US  74.6               24   \n",
       "2844140   PHILADELPHIA INTERNATIONAL AIRPORT, PA US  75.8               24   \n",
       "12390262        GATESVILLE MUNICIPAL AIRPORT, TX US  76.6               24   \n",
       "260621          BURLINGTON MUNICIPAL AIRPORT, IA US  38.9               23   \n",
       "\n",
       "            DEWP  DEWP_ATTRIBUTES  ...  MXSPD   GUST   MAX  MAX_ATTRIBUTES  \\\n",
       "7375060     36.0               24  ...   20.8   22.7  81.0                   \n",
       "13009819  9999.9                0  ...  999.9  999.9  27.7                   \n",
       "9039999     41.3               24  ...   12.0  999.9  73.4               *   \n",
       "4441190     19.4               24  ...   19.0   27.0  64.9                   \n",
       "7780571     -2.7               23  ...   26.0   43.9  57.2               *   \n",
       "1810913     24.5               23  ...   16.9  999.9  47.8               *   \n",
       "4394131     46.9               24  ...   20.0   28.0  93.0                   \n",
       "2844140     66.2               24  ...   11.1  999.9  82.9               *   \n",
       "12390262    65.6               24  ...   15.0   21.0  84.2               *   \n",
       "260621      37.1               23  ...   10.9  999.9  41.0                   \n",
       "\n",
       "           MIN  MIN_ATTRIBUTES  PRCP  PRCP_ATTRIBUTES   SNDP  FRSHTT  \n",
       "7375060   27.1                  0.00                G  999.9       0  \n",
       "13009819   1.4                  0.01                G  999.9       0  \n",
       "9039999   41.0               *  0.00                I  999.9       0  \n",
       "4441190   30.0                  0.00                I  999.9       0  \n",
       "7780571   33.8               *  0.00                I  999.9       0  \n",
       "1810913   43.0               *  0.00                I  999.9       0  \n",
       "4394131   48.9                  0.00                G  999.9   10000  \n",
       "2844140   69.8               *  0.00                D  999.9  100000  \n",
       "12390262  69.8               *  0.00                I  999.9       0  \n",
       "260621    37.9                  0.39                D  999.9   11000  \n",
       "\n",
       "[10 rows x 28 columns]"
      ]
     },
     "execution_count": 13,
     "metadata": {},
     "output_type": "execute_result"
    }
   ],
   "source": [
    "df = pd.read_csv(\"the_merge.csv\") # importing data from the merge\n",
    "df.sample(10)"
   ]
  },
  {
   "cell_type": "markdown",
   "metadata": {
    "pycharm": {
     "name": "#%% md\n"
    }
   },
   "source": [
    "FIELD            DESCRIPTION\n",
    "\n",
    "STATION - Station number (WMO/DATSAV3 possibly combined w/WBAN number) \n",
    "\n",
    "DATE - Given in mm/dd/yyyy format\n",
    "\n",
    "LATITUDE - Given in decimated degrees (Southern Hemisphere values are negative)\n",
    "\n",
    "LONGITUDE - Given in decimated degrees (Western Hemisphere values are negative)\n",
    "\n",
    "ELEVATION - Given in meters\n",
    "\n",
    "NAME - Name of station/airport/military base\n",
    "\n",
    "TEMP - Mean temperature for the day in degrees Fahrenheit to tenths. Missing = 9999.9\n",
    "\n",
    "TEMP_ATTRIBUTES - Number of observations used in calculating mean temperature.\n",
    "\n",
    "DEWP - Mean dew point for the day in degrees Fahrenheit to tenths. Missing = 9999.9\n",
    "\n",
    "DEWP_ATTRIBUTES - Number of observations used in calculating mean dew point.  \n",
    "\n",
    "SLP - Mean sea level pressure for the day in millibars to tenths. Missing = 9999.9\n",
    "\n",
    "SLP_ATTRIBUTES - Number of observations used in calculating mean sea level pressure.\n",
    "\n",
    "STP - Mean station pressure for the day in millibars to tenths. Missing = 9999.9\n",
    "\n",
    "STP_ATTRIBUTES - Number of observations used in calculating mean station pressure.  \n",
    "\n",
    "VISIB - Mean visibility for the day in miles to tenths. Missing = 999.9\n",
    "\n",
    "VISIB_ATTRIBUTES - Number of observations used in calculating mean visibility.      \n",
    "\n",
    "WDSP - Mean wind speed for the day in knots to tenths.  Missing = 999.9 \n",
    "\n",
    "WDSP_ATTRIBUTES - Number of observations used in calculating mean wind speed.\n",
    "\n",
    "MXSPD - Maximum sustained wind speed reported for the day in knots to tenths. Missing = \n",
    "999.9\n",
    "\n",
    "GUST - Maximum wind gust reported for the day in knots to tenths.  Missing = 999.9\n",
    "\n",
    "MAX - Maximum temperature reported during the day in Fahrenheit to tenths. Missing = 9999.9\n"
   ]
  },
  {
   "cell_type": "code",
   "execution_count": 14,
   "metadata": {
    "pycharm": {
     "name": "#%%\n"
    }
   },
   "outputs": [],
   "source": [
    "column2drop = ['TEMP_ATTRIBUTES', 'DEWP_ATTRIBUTES', 'SLP_ATTRIBUTES', 'STP_ATTRIBUTES', 'VISIB_ATTRIBUTES', 'WDSP_ATTRIBUTES']\n",
    "df.drop(column2drop, axis = 1, inplace=True) #droping non relevant data for the merge"
   ]
  },
  {
   "cell_type": "code",
   "execution_count": null,
   "metadata": {
    "pycharm": {
     "name": "#%%\n"
    }
   },
   "outputs": [],
   "source": [
    "# setting the missing data to nan\n",
    "df.loc[df['TEMP'] == 9999.9, 'TEMP'] = np.nan\n",
    "df.loc[df['DEWP'] == 9999.9, 'DEWP'] = np.nan\n",
    "df.loc[df['SLP'] == 9999.9, 'SLP'] = np.nan\n",
    "df.loc[df['STP'] == 9999.9, 'STP'] = np.nan\n",
    "df.loc[df['VISIB'] == 999.9, 'VISIB'] = np.nan\n",
    "df.loc[df['WDSP'] == 999.9, 'WDSP'] = np.nan\n",
    "df.loc[df['MXSPD'] == 999.9, 'MXSPD'] = np.nan\n",
    "df.loc[df['GUST'] == 999.9, 'GUST'] = np.nan\n",
    "df.loc[df['MAX'] == 9999.9, 'MAX'] = np.nan"
   ]
  },
  {
   "cell_type": "markdown",
   "metadata": {
    "pycharm": {
     "name": "#%% md\n"
    }
   },
   "source": [
    "### B - The fire prédiction model"
   ]
  },
  {
   "cell_type": "code",
   "execution_count": 15,
   "metadata": {
    "pycharm": {
     "name": "#%%\n"
    }
   },
   "outputs": [
    {
     "name": "stderr",
     "output_type": "stream",
     "text": [
      "/tmp/ipykernel_575/1521646404.py:1: DtypeWarning: Columns (8,10,11,12,13,14,15,16,17,18,35,37) have mixed types. Specify dtype option on import or set low_memory=False.\n",
      "  df_fire = pd.read_csv('fires.csv') #importing fire data\n"
     ]
    },
    {
     "data": {
      "text/html": [
       "<div>\n",
       "<style scoped>\n",
       "    .dataframe tbody tr th:only-of-type {\n",
       "        vertical-align: middle;\n",
       "    }\n",
       "\n",
       "    .dataframe tbody tr th {\n",
       "        vertical-align: top;\n",
       "    }\n",
       "\n",
       "    .dataframe thead th {\n",
       "        text-align: right;\n",
       "    }\n",
       "</style>\n",
       "<table border=\"1\" class=\"dataframe\">\n",
       "  <thead>\n",
       "    <tr style=\"text-align: right;\">\n",
       "      <th></th>\n",
       "      <th>OBJECTID</th>\n",
       "      <th>FOD_ID</th>\n",
       "      <th>FPA_ID</th>\n",
       "      <th>SOURCE_SYSTEM_TYPE</th>\n",
       "      <th>SOURCE_SYSTEM</th>\n",
       "      <th>NWCG_REPORTING_AGENCY</th>\n",
       "      <th>NWCG_REPORTING_UNIT_ID</th>\n",
       "      <th>NWCG_REPORTING_UNIT_NAME</th>\n",
       "      <th>SOURCE_REPORTING_UNIT</th>\n",
       "      <th>SOURCE_REPORTING_UNIT_NAME</th>\n",
       "      <th>...</th>\n",
       "      <th>FIRE_SIZE_CLASS</th>\n",
       "      <th>LATITUDE</th>\n",
       "      <th>LONGITUDE</th>\n",
       "      <th>OWNER_CODE</th>\n",
       "      <th>OWNER_DESCR</th>\n",
       "      <th>STATE</th>\n",
       "      <th>COUNTY</th>\n",
       "      <th>FIPS_CODE</th>\n",
       "      <th>FIPS_NAME</th>\n",
       "      <th>Shape</th>\n",
       "    </tr>\n",
       "  </thead>\n",
       "  <tbody>\n",
       "    <tr>\n",
       "      <th>0</th>\n",
       "      <td>1</td>\n",
       "      <td>1</td>\n",
       "      <td>FS-1418826</td>\n",
       "      <td>FED</td>\n",
       "      <td>FS-FIRESTAT</td>\n",
       "      <td>FS</td>\n",
       "      <td>USCAPNF</td>\n",
       "      <td>Plumas National Forest</td>\n",
       "      <td>511</td>\n",
       "      <td>Plumas National Forest</td>\n",
       "      <td>...</td>\n",
       "      <td>A</td>\n",
       "      <td>40.036944</td>\n",
       "      <td>-121.005833</td>\n",
       "      <td>5.0</td>\n",
       "      <td>USFS</td>\n",
       "      <td>CA</td>\n",
       "      <td>63.0</td>\n",
       "      <td>63.0</td>\n",
       "      <td>Plumas</td>\n",
       "      <td>AAGtEAAA6GTCkl9AXsDgyGyYugREQOhkwpJfQF7A4MhsmL...</td>\n",
       "    </tr>\n",
       "    <tr>\n",
       "      <th>1</th>\n",
       "      <td>2</td>\n",
       "      <td>2</td>\n",
       "      <td>FS-1418827</td>\n",
       "      <td>FED</td>\n",
       "      <td>FS-FIRESTAT</td>\n",
       "      <td>FS</td>\n",
       "      <td>USCAENF</td>\n",
       "      <td>Eldorado National Forest</td>\n",
       "      <td>503</td>\n",
       "      <td>Eldorado National Forest</td>\n",
       "      <td>...</td>\n",
       "      <td>A</td>\n",
       "      <td>38.933056</td>\n",
       "      <td>-120.404444</td>\n",
       "      <td>5.0</td>\n",
       "      <td>USFS</td>\n",
       "      <td>CA</td>\n",
       "      <td>61.0</td>\n",
       "      <td>61.0</td>\n",
       "      <td>Placer</td>\n",
       "      <td>AAGtEAAAVLbuauIZXsCQxlVdbndDQFS27mriGV7AkMZVXW...</td>\n",
       "    </tr>\n",
       "    <tr>\n",
       "      <th>2</th>\n",
       "      <td>3</td>\n",
       "      <td>3</td>\n",
       "      <td>FS-1418835</td>\n",
       "      <td>FED</td>\n",
       "      <td>FS-FIRESTAT</td>\n",
       "      <td>FS</td>\n",
       "      <td>USCAENF</td>\n",
       "      <td>Eldorado National Forest</td>\n",
       "      <td>503</td>\n",
       "      <td>Eldorado National Forest</td>\n",
       "      <td>...</td>\n",
       "      <td>A</td>\n",
       "      <td>38.984167</td>\n",
       "      <td>-120.735556</td>\n",
       "      <td>13.0</td>\n",
       "      <td>STATE OR PRIVATE</td>\n",
       "      <td>CA</td>\n",
       "      <td>17.0</td>\n",
       "      <td>17.0</td>\n",
       "      <td>El Dorado</td>\n",
       "      <td>AAGtEAAA0KWgVxMvXsBQu2Ys+X1DQNCloFcTL17AULtmLP...</td>\n",
       "    </tr>\n",
       "    <tr>\n",
       "      <th>3</th>\n",
       "      <td>4</td>\n",
       "      <td>4</td>\n",
       "      <td>FS-1418845</td>\n",
       "      <td>FED</td>\n",
       "      <td>FS-FIRESTAT</td>\n",
       "      <td>FS</td>\n",
       "      <td>USCAENF</td>\n",
       "      <td>Eldorado National Forest</td>\n",
       "      <td>503</td>\n",
       "      <td>Eldorado National Forest</td>\n",
       "      <td>...</td>\n",
       "      <td>A</td>\n",
       "      <td>38.559167</td>\n",
       "      <td>-119.913333</td>\n",
       "      <td>5.0</td>\n",
       "      <td>USFS</td>\n",
       "      <td>CA</td>\n",
       "      <td>3.0</td>\n",
       "      <td>3.0</td>\n",
       "      <td>Alpine</td>\n",
       "      <td>AAGtEAAAlKyjDXT6XcDoVADGkkdDQJSsow10+l3A6FQAxp...</td>\n",
       "    </tr>\n",
       "    <tr>\n",
       "      <th>4</th>\n",
       "      <td>5</td>\n",
       "      <td>5</td>\n",
       "      <td>FS-1418847</td>\n",
       "      <td>FED</td>\n",
       "      <td>FS-FIRESTAT</td>\n",
       "      <td>FS</td>\n",
       "      <td>USCAENF</td>\n",
       "      <td>Eldorado National Forest</td>\n",
       "      <td>503</td>\n",
       "      <td>Eldorado National Forest</td>\n",
       "      <td>...</td>\n",
       "      <td>A</td>\n",
       "      <td>38.559167</td>\n",
       "      <td>-119.933056</td>\n",
       "      <td>5.0</td>\n",
       "      <td>USFS</td>\n",
       "      <td>CA</td>\n",
       "      <td>3.0</td>\n",
       "      <td>3.0</td>\n",
       "      <td>Alpine</td>\n",
       "      <td>AAGtEAAAQOOqLrf7XcDoVADGkkdDQEDjqi63+13A6FQAxp...</td>\n",
       "    </tr>\n",
       "    <tr>\n",
       "      <th>...</th>\n",
       "      <td>...</td>\n",
       "      <td>...</td>\n",
       "      <td>...</td>\n",
       "      <td>...</td>\n",
       "      <td>...</td>\n",
       "      <td>...</td>\n",
       "      <td>...</td>\n",
       "      <td>...</td>\n",
       "      <td>...</td>\n",
       "      <td>...</td>\n",
       "      <td>...</td>\n",
       "      <td>...</td>\n",
       "      <td>...</td>\n",
       "      <td>...</td>\n",
       "      <td>...</td>\n",
       "      <td>...</td>\n",
       "      <td>...</td>\n",
       "      <td>...</td>\n",
       "      <td>...</td>\n",
       "      <td>...</td>\n",
       "      <td>...</td>\n",
       "    </tr>\n",
       "    <tr>\n",
       "      <th>1880460</th>\n",
       "      <td>1880461</td>\n",
       "      <td>300348363</td>\n",
       "      <td>2015CAIRS29019636</td>\n",
       "      <td>NONFED</td>\n",
       "      <td>ST-CACDF</td>\n",
       "      <td>ST/C&amp;L</td>\n",
       "      <td>USCASHU</td>\n",
       "      <td>Shasta-Trinity Unit</td>\n",
       "      <td>CASHU</td>\n",
       "      <td>Shasta-Trinity Unit</td>\n",
       "      <td>...</td>\n",
       "      <td>A</td>\n",
       "      <td>40.481637</td>\n",
       "      <td>-122.389375</td>\n",
       "      <td>13.0</td>\n",
       "      <td>STATE OR PRIVATE</td>\n",
       "      <td>CA</td>\n",
       "      <td>NaN</td>\n",
       "      <td>NaN</td>\n",
       "      <td>NaN</td>\n",
       "      <td>AAGtEAAAULgeheuYXsCYxf1Hpj1EQFC4HoXrmF7AmMX9R6...</td>\n",
       "    </tr>\n",
       "    <tr>\n",
       "      <th>1880461</th>\n",
       "      <td>1880462</td>\n",
       "      <td>300348373</td>\n",
       "      <td>2015CAIRS29217935</td>\n",
       "      <td>NONFED</td>\n",
       "      <td>ST-CACDF</td>\n",
       "      <td>ST/C&amp;L</td>\n",
       "      <td>USCATCU</td>\n",
       "      <td>Tuolumne-Calaveras Unit</td>\n",
       "      <td>CATCU</td>\n",
       "      <td>Tuolumne-Calaveras Unit</td>\n",
       "      <td>...</td>\n",
       "      <td>A</td>\n",
       "      <td>37.617619</td>\n",
       "      <td>-120.938570</td>\n",
       "      <td>12.0</td>\n",
       "      <td>MUNICIPAL/LOCAL</td>\n",
       "      <td>CA</td>\n",
       "      <td>NaN</td>\n",
       "      <td>NaN</td>\n",
       "      <td>NaN</td>\n",
       "      <td>AAGtEAAAAIC+iBE8XsCoygYlDs9CQACAvogRPF7AqMoGJQ...</td>\n",
       "    </tr>\n",
       "    <tr>\n",
       "      <th>1880462</th>\n",
       "      <td>1880463</td>\n",
       "      <td>300348375</td>\n",
       "      <td>2015CAIRS28364460</td>\n",
       "      <td>NONFED</td>\n",
       "      <td>ST-CACDF</td>\n",
       "      <td>ST/C&amp;L</td>\n",
       "      <td>USCATCU</td>\n",
       "      <td>Tuolumne-Calaveras Unit</td>\n",
       "      <td>CATCU</td>\n",
       "      <td>Tuolumne-Calaveras Unit</td>\n",
       "      <td>...</td>\n",
       "      <td>A</td>\n",
       "      <td>37.617619</td>\n",
       "      <td>-120.938570</td>\n",
       "      <td>12.0</td>\n",
       "      <td>MUNICIPAL/LOCAL</td>\n",
       "      <td>CA</td>\n",
       "      <td>NaN</td>\n",
       "      <td>NaN</td>\n",
       "      <td>NaN</td>\n",
       "      <td>AAGtEAAAAIC+iBE8XsCoygYlDs9CQACAvogRPF7AqMoGJQ...</td>\n",
       "    </tr>\n",
       "    <tr>\n",
       "      <th>1880463</th>\n",
       "      <td>1880464</td>\n",
       "      <td>300348377</td>\n",
       "      <td>2015CAIRS29218079</td>\n",
       "      <td>NONFED</td>\n",
       "      <td>ST-CACDF</td>\n",
       "      <td>ST/C&amp;L</td>\n",
       "      <td>USCATCU</td>\n",
       "      <td>Tuolumne-Calaveras Unit</td>\n",
       "      <td>CATCU</td>\n",
       "      <td>Tuolumne-Calaveras Unit</td>\n",
       "      <td>...</td>\n",
       "      <td>B</td>\n",
       "      <td>37.672235</td>\n",
       "      <td>-120.898356</td>\n",
       "      <td>12.0</td>\n",
       "      <td>MUNICIPAL/LOCAL</td>\n",
       "      <td>CA</td>\n",
       "      <td>NaN</td>\n",
       "      <td>NaN</td>\n",
       "      <td>NaN</td>\n",
       "      <td>AAGtEAAAeLpfqn45XsC4ZEzJC9ZCQHi6X6p+OV7AuGRMyQ...</td>\n",
       "    </tr>\n",
       "    <tr>\n",
       "      <th>1880464</th>\n",
       "      <td>1880465</td>\n",
       "      <td>300348399</td>\n",
       "      <td>2015CAIRS26733926</td>\n",
       "      <td>NONFED</td>\n",
       "      <td>ST-CACDF</td>\n",
       "      <td>ST/C&amp;L</td>\n",
       "      <td>USCABDU</td>\n",
       "      <td>San Bernardino Unit</td>\n",
       "      <td>CABDU</td>\n",
       "      <td>CDF - San Bernardino Unit</td>\n",
       "      <td>...</td>\n",
       "      <td>A</td>\n",
       "      <td>34.263217</td>\n",
       "      <td>-116.830950</td>\n",
       "      <td>13.0</td>\n",
       "      <td>STATE OR PRIVATE</td>\n",
       "      <td>CA</td>\n",
       "      <td>NaN</td>\n",
       "      <td>NaN</td>\n",
       "      <td>NaN</td>\n",
       "      <td>AAGtEAAAHKfoSC41XcAwYDsYsSFBQByn6EguNV3AMGA7GL...</td>\n",
       "    </tr>\n",
       "  </tbody>\n",
       "</table>\n",
       "<p>1880465 rows × 39 columns</p>\n",
       "</div>"
      ],
      "text/plain": [
       "         OBJECTID     FOD_ID             FPA_ID SOURCE_SYSTEM_TYPE  \\\n",
       "0               1          1         FS-1418826                FED   \n",
       "1               2          2         FS-1418827                FED   \n",
       "2               3          3         FS-1418835                FED   \n",
       "3               4          4         FS-1418845                FED   \n",
       "4               5          5         FS-1418847                FED   \n",
       "...           ...        ...                ...                ...   \n",
       "1880460   1880461  300348363  2015CAIRS29019636             NONFED   \n",
       "1880461   1880462  300348373  2015CAIRS29217935             NONFED   \n",
       "1880462   1880463  300348375  2015CAIRS28364460             NONFED   \n",
       "1880463   1880464  300348377  2015CAIRS29218079             NONFED   \n",
       "1880464   1880465  300348399  2015CAIRS26733926             NONFED   \n",
       "\n",
       "        SOURCE_SYSTEM NWCG_REPORTING_AGENCY NWCG_REPORTING_UNIT_ID  \\\n",
       "0         FS-FIRESTAT                    FS                USCAPNF   \n",
       "1         FS-FIRESTAT                    FS                USCAENF   \n",
       "2         FS-FIRESTAT                    FS                USCAENF   \n",
       "3         FS-FIRESTAT                    FS                USCAENF   \n",
       "4         FS-FIRESTAT                    FS                USCAENF   \n",
       "...               ...                   ...                    ...   \n",
       "1880460      ST-CACDF                ST/C&L                USCASHU   \n",
       "1880461      ST-CACDF                ST/C&L                USCATCU   \n",
       "1880462      ST-CACDF                ST/C&L                USCATCU   \n",
       "1880463      ST-CACDF                ST/C&L                USCATCU   \n",
       "1880464      ST-CACDF                ST/C&L                USCABDU   \n",
       "\n",
       "         NWCG_REPORTING_UNIT_NAME SOURCE_REPORTING_UNIT  \\\n",
       "0          Plumas National Forest                   511   \n",
       "1        Eldorado National Forest                   503   \n",
       "2        Eldorado National Forest                   503   \n",
       "3        Eldorado National Forest                   503   \n",
       "4        Eldorado National Forest                   503   \n",
       "...                           ...                   ...   \n",
       "1880460       Shasta-Trinity Unit                 CASHU   \n",
       "1880461   Tuolumne-Calaveras Unit                 CATCU   \n",
       "1880462   Tuolumne-Calaveras Unit                 CATCU   \n",
       "1880463   Tuolumne-Calaveras Unit                 CATCU   \n",
       "1880464       San Bernardino Unit                 CABDU   \n",
       "\n",
       "        SOURCE_REPORTING_UNIT_NAME  ... FIRE_SIZE_CLASS   LATITUDE  \\\n",
       "0           Plumas National Forest  ...               A  40.036944   \n",
       "1         Eldorado National Forest  ...               A  38.933056   \n",
       "2         Eldorado National Forest  ...               A  38.984167   \n",
       "3         Eldorado National Forest  ...               A  38.559167   \n",
       "4         Eldorado National Forest  ...               A  38.559167   \n",
       "...                            ...  ...             ...        ...   \n",
       "1880460        Shasta-Trinity Unit  ...               A  40.481637   \n",
       "1880461    Tuolumne-Calaveras Unit  ...               A  37.617619   \n",
       "1880462    Tuolumne-Calaveras Unit  ...               A  37.617619   \n",
       "1880463    Tuolumne-Calaveras Unit  ...               B  37.672235   \n",
       "1880464  CDF - San Bernardino Unit  ...               A  34.263217   \n",
       "\n",
       "          LONGITUDE OWNER_CODE       OWNER_DESCR STATE COUNTY FIPS_CODE  \\\n",
       "0       -121.005833        5.0              USFS    CA   63.0      63.0   \n",
       "1       -120.404444        5.0              USFS    CA   61.0      61.0   \n",
       "2       -120.735556       13.0  STATE OR PRIVATE    CA   17.0      17.0   \n",
       "3       -119.913333        5.0              USFS    CA    3.0       3.0   \n",
       "4       -119.933056        5.0              USFS    CA    3.0       3.0   \n",
       "...             ...        ...               ...   ...    ...       ...   \n",
       "1880460 -122.389375       13.0  STATE OR PRIVATE    CA    NaN       NaN   \n",
       "1880461 -120.938570       12.0   MUNICIPAL/LOCAL    CA    NaN       NaN   \n",
       "1880462 -120.938570       12.0   MUNICIPAL/LOCAL    CA    NaN       NaN   \n",
       "1880463 -120.898356       12.0   MUNICIPAL/LOCAL    CA    NaN       NaN   \n",
       "1880464 -116.830950       13.0  STATE OR PRIVATE    CA    NaN       NaN   \n",
       "\n",
       "         FIPS_NAME                                              Shape  \n",
       "0           Plumas  AAGtEAAA6GTCkl9AXsDgyGyYugREQOhkwpJfQF7A4MhsmL...  \n",
       "1           Placer  AAGtEAAAVLbuauIZXsCQxlVdbndDQFS27mriGV7AkMZVXW...  \n",
       "2        El Dorado  AAGtEAAA0KWgVxMvXsBQu2Ys+X1DQNCloFcTL17AULtmLP...  \n",
       "3           Alpine  AAGtEAAAlKyjDXT6XcDoVADGkkdDQJSsow10+l3A6FQAxp...  \n",
       "4           Alpine  AAGtEAAAQOOqLrf7XcDoVADGkkdDQEDjqi63+13A6FQAxp...  \n",
       "...            ...                                                ...  \n",
       "1880460        NaN  AAGtEAAAULgeheuYXsCYxf1Hpj1EQFC4HoXrmF7AmMX9R6...  \n",
       "1880461        NaN  AAGtEAAAAIC+iBE8XsCoygYlDs9CQACAvogRPF7AqMoGJQ...  \n",
       "1880462        NaN  AAGtEAAAAIC+iBE8XsCoygYlDs9CQACAvogRPF7AqMoGJQ...  \n",
       "1880463        NaN  AAGtEAAAeLpfqn45XsC4ZEzJC9ZCQHi6X6p+OV7AuGRMyQ...  \n",
       "1880464        NaN  AAGtEAAAHKfoSC41XcAwYDsYsSFBQByn6EguNV3AMGA7GL...  \n",
       "\n",
       "[1880465 rows x 39 columns]"
      ]
     },
     "execution_count": 15,
     "metadata": {},
     "output_type": "execute_result"
    }
   ],
   "source": [
    "df_fire = pd.read_csv('fires.csv') #importing fire data\n",
    "df_fire"
   ]
  },
  {
   "cell_type": "code",
   "execution_count": 16,
   "metadata": {
    "pycharm": {
     "name": "#%%\n"
    }
   },
   "outputs": [],
   "source": [
    "#cleaning data\n",
    "type = {\"FIRE_CODE\" : \"str\", \"FIRE_NAME\" : \"str\", \"STATE\" : \"str\"} #mixed type management\n",
    "df_fire = df_fire.astype(type)\n",
    "\n",
    "# deletion on unrelevent column\n",
    "df_fire = df_fire.drop(['OBJECTID',\n",
    "                        'FOD_ID', \n",
    "                        'FPA_ID', \n",
    "                        'SOURCE_SYSTEM_TYPE', \n",
    "                        'SOURCE_SYSTEM',\n",
    "                        'NWCG_REPORTING_AGENCY', \n",
    "                        'NWCG_REPORTING_UNIT_ID',\n",
    "                        'NWCG_REPORTING_UNIT_NAME', \n",
    "                        'SOURCE_REPORTING_UNIT',\n",
    "                        'SOURCE_REPORTING_UNIT_NAME', \n",
    "                        'LOCAL_FIRE_REPORT_ID',\n",
    "                        'LOCAL_INCIDENT_ID', \n",
    "                        'FIRE_CODE', \n",
    "                        'FIRE_NAME',\n",
    "                        'ICS_209_INCIDENT_NUMBER', \n",
    "                        'ICS_209_NAME', \n",
    "                        'MTBS_ID', \n",
    "                        'MTBS_FIRE_NAME',\n",
    "                        'COMPLEX_NAME', \n",
    "                        'FIRE_YEAR', \n",
    "                        'DISCOVERY_DOY',\n",
    "                        'DISCOVERY_TIME', \n",
    "                        'STAT_CAUSE_CODE', \n",
    "                        'STAT_CAUSE_DESCR', \n",
    "                        'CONT_DATE',\n",
    "                        'CONT_DOY', \n",
    "                        'CONT_TIME', \n",
    "                        'FIRE_SIZE', \n",
    "                        'FIRE_SIZE_CLASS', \n",
    "                        'LATITUDE',\n",
    "                        'LONGITUDE', \n",
    "                        'OWNER_CODE', \n",
    "                        'OWNER_DESCR', \n",
    "                        'COUNTY',\n",
    "                        'FIPS_CODE', \n",
    "                        'FIPS_NAME', \n",
    "                        'Shape'], axis=1)\n",
    "\n",
    "df_fire['DISCOVERY_DATE'] = pd.to_datetime(df_fire['DISCOVERY_DATE'] - pd.Timestamp(0).to_julian_date(), unit='D') #date formating"
   ]
  },
  {
   "cell_type": "markdown",
   "metadata": {
    "pycharm": {
     "name": "#%% md\n"
    }
   },
   "source": [
    "### C - Compiling datas"
   ]
  },
  {
   "cell_type": "code",
   "execution_count": 17,
   "metadata": {
    "pycharm": {
     "name": "#%%\n"
    }
   },
   "outputs": [],
   "source": [
    "df['STATE'] = df['NAME'].apply(lambda x : x[-5:-3]) #getting the state "
   ]
  },
  {
   "cell_type": "code",
   "execution_count": 18,
   "metadata": {
    "pycharm": {
     "name": "#%%\n"
    }
   },
   "outputs": [],
   "source": [
    "list_true_false = [',' in entry for entry in df['STATE']] #list to get rid of station that's are not within the ordinary boundary of a state (ie : marine station or remote islands)\n",
    "\n",
    "df.drop(index=df.loc[list_true_false].index, inplace=True)"
   ]
  },
  {
   "cell_type": "code",
   "execution_count": null,
   "outputs": [],
   "source": [
    "df_state = df.groupby(by = ['DATE', 'STATE']).mean() #groupingby the meteo data\n",
    "df_fire['fire'] = 1\n",
    "df_fire.rename(columns={'DISCOVERY_DATE' : 'DATE'}, inplace=True) #groupingby the fire\n",
    "df_fire_grouped = df_fire.groupby(by = ['DATE', 'STATE']).mean()"
   ],
   "metadata": {
    "collapsed": false,
    "pycharm": {
     "name": "#%%\n"
    }
   }
  },
  {
   "cell_type": "code",
   "execution_count": null,
   "outputs": [],
   "source": [
    "df_combined = df_state.merge(right = df_fire_grouped, right_index=True, left_index=True, how='left') #last merge on their index"
   ],
   "metadata": {
    "collapsed": false,
    "pycharm": {
     "name": "#%%\n"
    }
   }
  },
  {
   "cell_type": "code",
   "execution_count": null,
   "outputs": [],
   "source": [
    "df_combined['fire'] = df_combined['fire'].fillna(0) #geting ride of nan (no fire = 0)"
   ],
   "metadata": {
    "collapsed": false,
    "pycharm": {
     "name": "#%%\n"
    }
   }
  },
  {
   "cell_type": "code",
   "execution_count": null,
   "outputs": [],
   "source": [
    "df_combined['fire'] = df_combined['fire'].astype(int) #setting it to int\n",
    "df_combined.to_csv('combined-data.csv') #export for the team"
   ],
   "metadata": {
    "collapsed": false,
    "pycharm": {
     "name": "#%%\n"
    }
   }
  },
  {
   "cell_type": "markdown",
   "source": [
    "# 4 - Model building\n"
   ],
   "metadata": {
    "collapsed": false,
    "pycharm": {
     "name": "#%% md\n"
    }
   }
  },
  {
   "cell_type": "markdown",
   "source": [
    "## 4.1 - Reduction with ACP"
   ],
   "metadata": {
    "collapsed": false,
    "pycharm": {
     "name": "#%% md\n"
    }
   }
  },
  {
   "cell_type": "markdown",
   "source": [
    "Anticipating that model generation could be important I decided to see what can be achieved with basic reduction."
   ],
   "metadata": {
    "collapsed": false,
    "pycharm": {
     "name": "#%% md\n"
    }
   }
  },
  {
   "cell_type": "code",
   "execution_count": null,
   "outputs": [],
   "source": [
    "df = pd.read_csv('combined-data.csv')\n",
    "df_ACP = df.dropna()"
   ],
   "metadata": {
    "collapsed": false,
    "pycharm": {
     "name": "#%%\n"
    }
   }
  },
  {
   "cell_type": "code",
   "execution_count": null,
   "outputs": [],
   "source": [
    "def the_acp_reductionner(df_ACP):\n",
    "    scaler = StandardScaler()\n",
    "    target = df_ACP['fire']\n",
    "    pca = PCA()\n",
    "    df_norm = scaler.fit_transform(df_ACP)\n",
    "    Coord = pca.fit_transform(df_norm)\n",
    "\n",
    "    return (pca, Coord, target)\n",
    "\n",
    "pca_AK, coord_AK, target_AK = the_acp_reductionner(df.loc[df['STATE'] == 'AK'].drop(['STATE', 'DATE', 'LONGITUDE', 'LATITUDE'], axis=1).dropna())\n"
   ],
   "metadata": {
    "collapsed": false,
    "pycharm": {
     "name": "#%%\n"
    }
   }
  },
  {
   "cell_type": "code",
   "execution_count": null,
   "outputs": [],
   "source": [
    "plt.plot(np.arange(1, 16), pca_AK.explained_variance_)\n",
    "plt.xlabel('Nombre de facteur')\n",
    "plt.ylabel('Valeurs propres');"
   ],
   "metadata": {
    "collapsed": false,
    "pycharm": {
     "name": "#%%\n"
    }
   }
  },
  {
   "cell_type": "code",
   "execution_count": null,
   "outputs": [],
   "source": [
    "PCA_mat = pd.DataFrame({'AXE 1': coord_AK[:, 0], 'AXE 2': coord_AK[:, 1], 'target': target_AK})\n",
    "sns.scatterplot('AXE 1', 'AXE 2', hue='target', data=PCA_mat);"
   ],
   "metadata": {
    "collapsed": false,
    "pycharm": {
     "name": "#%%\n"
    }
   }
  },
  {
   "cell_type": "markdown",
   "source": [
    "ACP may be not useful taking into account that there are only only 13 variables and a big chunk of information have been lost."
   ],
   "metadata": {
    "collapsed": false,
    "pycharm": {
     "name": "#%% md\n"
    }
   }
  },
  {
   "cell_type": "markdown",
   "source": [
    "## 4.2 Finding the right model\n",
    "We chose to explore the random forest which seams to fit our needs here."
   ],
   "metadata": {
    "collapsed": false,
    "pycharm": {
     "name": "#%% md\n"
    }
   }
  },
  {
   "cell_type": "code",
   "execution_count": null,
   "outputs": [],
   "source": [
    "# Sampling\n",
    "df_RFC = df.dropna()\n",
    "target = df_RFC.loc[df['STATE'] == 'AK', 'fire']\n",
    "data_AK = df_RFC.loc[df['STATE'] == 'AK'].drop(['STATE', 'DATE', 'LONGITUDE', 'LATITUDE', 'fire'], axis=1)\n",
    "X_train, X_test, y_train, y_test = train_test_split(data_AK, target, test_size=0.2, random_state=66)"
   ],
   "metadata": {
    "collapsed": false,
    "pycharm": {
     "name": "#%%\n"
    }
   }
  },
  {
   "cell_type": "code",
   "execution_count": null,
   "outputs": [],
   "source": [
    "# Building the hyperparameter tuning\n",
    "RFC = ensemble.RandomForestClassifier()\n",
    "params = {'bootstrap': [True, False],\n",
    "          'max_depth': [20, 40, 60, 80, 100, None],\n",
    "          'min_samples_leaf': [1, 2, 4, 10, 20, 40],\n",
    "          'min_samples_split': [2, 5, 10],\n",
    "          'n_estimators': [100, 200, 400, 600, 800, 1000]}\n",
    "gridcv = GridSearchCV(RFC, param_grid=params, scoring='accuracy', cv=3, n_jobs=8)\n",
    "\n",
    "gridcv.fit(X_train, y_train)\n",
    "result = pd.DataFrame(gridcv.cv_results_)[['params', 'mean_test_score', 'std_test_score']]\n",
    "result.to_csv('RFC_result.csv') #exporting because of IDE crash\n",
    "result"
   ],
   "metadata": {
    "collapsed": false,
    "pycharm": {
     "name": "#%%\n"
    }
   }
  },
  {
   "cell_type": "markdown",
   "source": [
    "Les meilleurs paramètres sont donc : {'bootstrap': False, 'max_depth': None, 'min_samples_leaf': 2, 'min_samples_split': 2, 'n_estimators': 100}"
   ],
   "metadata": {
    "collapsed": false,
    "pycharm": {
     "name": "#%% md\n"
    }
   }
  },
  {
   "cell_type": "code",
   "execution_count": null,
   "outputs": [],
   "source": [
    "RFC = ensemble.RandomForestClassifier(random_state=321, min_samples_leaf=2, bootstrap=True) #testing the parameters\n",
    "RFC.fit(X_train, y_train)"
   ],
   "metadata": {
    "collapsed": false,
    "pycharm": {
     "name": "#%%\n"
    }
   }
  },
  {
   "cell_type": "code",
   "execution_count": null,
   "outputs": [],
   "source": [
    "y_pred = RFC.predict(X_test)\n",
    "pd.crosstab(y_test, y_pred, rownames=['Classe réelle'], colnames=['Classe prédite'])"
   ],
   "metadata": {
    "collapsed": false,
    "pycharm": {
     "name": "#%%\n"
    }
   }
  },
  {
   "cell_type": "code",
   "execution_count": null,
   "outputs": [],
   "source": [
    "print(classification_report(y_test, y_pred))"
   ],
   "metadata": {
    "collapsed": false,
    "pycharm": {
     "name": "#%%\n"
    }
   }
  },
  {
   "cell_type": "code",
   "execution_count": null,
   "outputs": [],
   "source": [
    "probs = RFC.predict_proba(X_test)\n",
    "fpr, tpr, seuils = roc_curve(y_test, probs[:,1])\n",
    "roc_auc = auc(fpr, tpr)\n",
    "\n",
    "plt.plot(fpr, tpr, color='orange', lw=2, label='Modèle clf (auc = %0.2f)' % roc_auc)\n",
    "plt.plot([0, 1], [0, 1], color='navy', lw=2, linestyle='--', label='Aléatoire (auc = 0.5)')\n",
    "plt.xlabel('Taux faux positifs')\n",
    "plt.ylabel('Taux vrais positifs')\n",
    "plt.title('Courbe ROC')\n",
    "plt.legend(loc=\"lower right\")\n",
    "plt.show();"
   ],
   "metadata": {
    "collapsed": false,
    "pycharm": {
     "name": "#%%\n"
    }
   }
  },
  {
   "cell_type": "markdown",
   "source": [
    "The accuracy is not very convincing for the prevention purposes, is high enough to get interesting statistics about feature importance."
   ],
   "metadata": {
    "collapsed": false,
    "pycharm": {
     "name": "#%% md\n"
    }
   }
  },
  {
   "cell_type": "code",
   "execution_count": null,
   "outputs": [],
   "source": [
    "importances = RFC.feature_importances_\n",
    "# Sort the feature importance in descending order\n",
    "sorted_indices = np.argsort(importances)[::-1]\n",
    "\n",
    "plt.title('Feature Importance')\n",
    "plt.bar(range(X_train.shape[1]), importances[sorted_indices], align='center')\n",
    "plt.xticks(range(X_train.shape[1]), X_train.columns[sorted_indices], rotation=90)\n",
    "plt.tight_layout()\n",
    "plt.show()"
   ],
   "metadata": {
    "collapsed": false,
    "pycharm": {
     "name": "#%%\n"
    }
   }
  },
  {
   "cell_type": "markdown",
   "source": [
    "Clearly Max temperature, average temperature and dewpoint are the most important feature. The wind play a probably biger part for the size of the fire."
   ],
   "metadata": {
    "collapsed": false,
    "pycharm": {
     "name": "#%% md\n"
    }
   }
  },
  {
   "cell_type": "markdown",
   "source": [
    "We can test if balanced datas could improve the result"
   ],
   "metadata": {
    "collapsed": false,
    "pycharm": {
     "name": "#%% md\n"
    }
   }
  },
  {
   "cell_type": "code",
   "execution_count": null,
   "outputs": [],
   "source": [
    "BRFC = BalancedRandomForestClassifier()\n",
    "params = {'bootstrap': [True, False],\n",
    "          'max_depth': [20, 40, 60, 80, 100, None],\n",
    "          'min_samples_leaf': [1, 2, 4],\n",
    "          'min_samples_split': [2, 5, 10],\n",
    "          'n_estimators': [100, 200, 400, 600, 800, 1000]}\n",
    "gridcv = GridSearchCV(BRFC, param_grid=params, scoring='accuracy', cv=3, n_jobs=8)\n",
    "\n",
    "gridcv.fit(X_train, y_train)\n",
    "result = pd.DataFrame(gridcv.cv_results_)[['params', 'mean_test_score', 'std_test_score']]\n",
    "result.to_csv('imbl_result.csv')"
   ],
   "metadata": {
    "collapsed": false,
    "pycharm": {
     "name": "#%%\n"
    }
   }
  },
  {
   "cell_type": "markdown",
   "source": [
    "The result are even less accurate. We need to check other algorithm."
   ],
   "metadata": {
    "collapsed": false,
    "pycharm": {
     "name": "#%% md\n"
    }
   }
  },
  {
   "cell_type": "code",
   "execution_count": null,
   "outputs": [],
   "source": [
    "KNC = KNeighborsClassifier(n_jobs=8)\n",
    "params = {'n_neighbors' : [5, 8, 10, 15, 20],\n",
    "          'weights' : ['uniform', 'distance'],\n",
    "          'algorithm' : ['ball_tree', 'kd_tree'],\n",
    "          'leaf_size' : [10, 20, 30, 40, 50]}\n",
    "\n",
    "gridcv = GridSearchCV(KNC, param_grid=params, scoring='accuracy', cv=3, n_jobs=8)\n",
    "\n",
    "gridcv.fit(X_train, y_train)\n",
    "result = pd.DataFrame(gridcv.cv_results_)[['params', 'mean_test_score', 'std_test_score']]\n",
    "result.to_csv('KNC_result.csv')"
   ],
   "metadata": {
    "collapsed": false,
    "pycharm": {
     "name": "#%%\n"
    }
   }
  },
  {
   "cell_type": "markdown",
   "source": [
    "Not much more convincing, We have better result with boosting algorythm. We can check the histgradienboosting which support nan natively."
   ],
   "metadata": {
    "collapsed": false,
    "pycharm": {
     "name": "#%% md\n"
    }
   }
  },
  {
   "cell_type": "code",
   "execution_count": null,
   "outputs": [],
   "source": [
    "df = pd.read_csv('combined-data.csv')\n",
    "target = df.loc[df['STATE'] == 'AK', 'fire']\n",
    "data_AK = df.loc[df['STATE'] == 'AK'].drop(['STATE', 'DATE', 'LONGITUDE', 'LATITUDE', 'fire'], axis=1)\n",
    "X_train, X_test, y_train, y_test = train_test_split(data_AK, target, test_size=0.2, random_state=66)"
   ],
   "metadata": {
    "collapsed": false,
    "pycharm": {
     "name": "#%%\n"
    }
   }
  },
  {
   "cell_type": "code",
   "execution_count": null,
   "outputs": [],
   "source": [
    "HGBC = HistGradientBoostingClassifier()\n",
    "params = {'max_leaf_nodes': [20, 31, 40, 50],\n",
    "          'max_depth': [20, 40, 60, 80, 100, None],\n",
    "          'min_samples_leaf': [10, 20, 40]}\n",
    "\n",
    "gridcv = GridSearchCV(HGBC, param_grid=params, scoring='accuracy', cv=3, n_jobs=8)\n",
    "\n",
    "gridcv.fit(X_train, y_train)\n",
    "result = pd.DataFrame(gridcv.cv_results_)[['params', 'mean_test_score', 'std_test_score']]\n",
    "result.to_csv('HGBC_result.csv')\n",
    "result"
   ],
   "metadata": {
    "collapsed": false,
    "pycharm": {
     "name": "#%%\n"
    }
   }
  },
  {
   "cell_type": "code",
   "execution_count": null,
   "outputs": [],
   "source": [
    "HGBC = HistGradientBoostingClassifier(max_depth=20, max_leaf_nodes=20, min_samples_leaf=40)\n",
    "HGBC.fit(X_train, y_train)"
   ],
   "metadata": {
    "collapsed": false,
    "pycharm": {
     "name": "#%%\n"
    }
   }
  },
  {
   "cell_type": "code",
   "execution_count": null,
   "outputs": [],
   "source": [
    "y_pred = HGBC.predict(X_test)\n",
    "pd.crosstab(y_test, y_pred, rownames=['Classe réelle'], colnames=['Classe prédite'])"
   ],
   "metadata": {
    "collapsed": false,
    "pycharm": {
     "name": "#%%\n"
    }
   }
  },
  {
   "cell_type": "code",
   "execution_count": null,
   "outputs": [],
   "source": [
    "print(classification_report(y_test, y_pred))"
   ],
   "metadata": {
    "collapsed": false,
    "pycharm": {
     "name": "#%%\n"
    }
   }
  },
  {
   "cell_type": "code",
   "execution_count": null,
   "outputs": [],
   "source": [
    "probs = HGBC.predict_proba(X_test)\n",
    "fpr, tpr, seuils = roc_curve(y_test, probs[:,1])\n",
    "roc_auc = auc(fpr, tpr)\n",
    "\n",
    "plt.plot(fpr, tpr, color='orange', lw=2, label='Modèle RFC (auc = %0.2f)' % roc_auc)\n",
    "plt.plot([0, 1], [0, 1], color='navy', lw=2, linestyle='--', label='Aléatoire (auc = 0.5)')\n",
    "plt.xlabel('Taux faux positifs')\n",
    "plt.ylabel('Taux vrais positifs')\n",
    "plt.title('Courbe ROC')\n",
    "plt.legend(loc=\"lower right\")\n",
    "plt.show();"
   ],
   "metadata": {
    "collapsed": false,
    "pycharm": {
     "name": "#%%\n"
    }
   }
  },
  {
   "cell_type": "markdown",
   "source": [
    "We have here much better result thanks to the incorporation of line with missing values.\n",
    "\n",
    "## 4.3 - Creating models for all states"
   ],
   "metadata": {
    "collapsed": false,
    "pycharm": {
     "name": "#%% md\n"
    }
   }
  },
  {
   "cell_type": "code",
   "execution_count": null,
   "outputs": [],
   "source": [
    "df = pd.read_csv('combined-data.csv') #getting the unaltered data\n",
    "state_list = df['STATE'].unique()\n",
    "\n",
    "test_result = {}\n",
    "\n",
    "#for each state, build a model, and store it.\n",
    "for state in state_list:\n",
    "    target = df.loc[df['STATE'] == state, 'fire']\n",
    "    data = df.loc[df['STATE'] == state].drop(['STATE', 'DATE', 'LONGITUDE', 'LATITUDE', 'fire'], axis=1)\n",
    "    X_train, X_test, y_train, y_test = train_test_split(data, target, test_size=0.2)\n",
    "\n",
    "    HGBC = HistGradientBoostingClassifier(max_depth=20, max_leaf_nodes=20, min_samples_leaf=40)\n",
    "    HGBC.fit(X_train, y_train)\n",
    "    y_pred = HGBC.predict(X_test)\n",
    "\n",
    "    #storing the model performance for each state\n",
    "    test_result[state] = f1_score(y_test, y_pred)\n",
    "\n",
    "    # save\n",
    "    joblib.dump(HGBC, f\"model_{state}.pkl\")\n"
   ],
   "metadata": {
    "collapsed": false,
    "pycharm": {
     "name": "#%%\n"
    }
   }
  },
  {
   "cell_type": "code",
   "execution_count": null,
   "outputs": [],
   "source": [
    "Model_performance = pd.DataFrame(test_result, index=['f1_score']).T\n",
    "Model_performance.sort_values(by='f1_score', ascending=False)"
   ],
   "metadata": {
    "collapsed": false,
    "pycharm": {
     "name": "#%%\n"
    }
   }
  },
  {
   "cell_type": "markdown",
   "source": [
    "Interestingly enough there is a huge discrepancy between the result of the states that could be worth investigating."
   ],
   "metadata": {
    "collapsed": false,
    "pycharm": {
     "name": "#%% md\n"
    }
   }
  },
  {
   "cell_type": "markdown",
   "source": [
    "### 4.3 - Building a production model to put in streamlit"
   ],
   "metadata": {
    "collapsed": false,
    "pycharm": {
     "name": "#%% md\n"
    }
   }
  },
  {
   "cell_type": "code",
   "execution_count": 2,
   "outputs": [],
   "source": [
    "#preparing and sampling data\n",
    "df = pd.read_csv('combined-data.csv')\n",
    "target = df.loc[df['STATE'] == 'AK', 'fire']\n",
    "\n",
    "#because will use information from live forcast we can't use ase many variables\n",
    "data_AK = df.loc[df['STATE'] == 'AK'].drop(['STATE', 'DATE', 'LONGITUDE', 'LATITUDE', 'ELEVATION', 'SLP', 'STP', 'VISIB', 'MXSPD', 'SNDP', 'FRSHTT', 'fire'], axis=1)\n",
    "X_train, X_test, y_train, y_test = train_test_split(data_AK, target, test_size=0.2, random_state=66)"
   ],
   "metadata": {
    "collapsed": false,
    "pycharm": {
     "name": "#%%\n"
    }
   }
  },
  {
   "cell_type": "code",
   "execution_count": 3,
   "outputs": [
    {
     "name": "stdout",
     "output_type": "stream",
     "text": [
      "              precision    recall  f1-score   support\n",
      "\n",
      "           0       0.88      0.88      0.88      1102\n",
      "           1       0.79      0.79      0.79       652\n",
      "\n",
      "    accuracy                           0.84      1754\n",
      "   macro avg       0.83      0.83      0.83      1754\n",
      "weighted avg       0.84      0.84      0.84      1754\n",
      "\n"
     ]
    }
   ],
   "source": [
    "HGBC = HistGradientBoostingClassifier(max_depth=20, max_leaf_nodes=20, min_samples_leaf=40)\n",
    "HGBC.fit(X_train, y_train)\n",
    "y_pred = HGBC.predict(X_test)\n",
    "print(classification_report(y_test, y_pred))"
   ],
   "metadata": {
    "collapsed": false,
    "pycharm": {
     "name": "#%%\n"
    }
   }
  },
  {
   "cell_type": "code",
   "execution_count": 14,
   "outputs": [
    {
     "data": {
      "text/plain": "<Figure size 432x288 with 1 Axes>",
      "image/png": "[encoded data removed]"
     },
     "metadata": {},
     "output_type": "display_data"
    }
   ],
   "source": [
    "probs = HGBC.predict_proba(X_test)\n",
    "fpr, tpr, seuils = roc_curve(y_test, probs[:,1])\n",
    "roc_auc = auc(fpr, tpr)\n",
    "\n",
    "plt.plot(fpr, tpr, color='orange', lw=2, label='Modèle RFC (auc = %0.2f)' % roc_auc)\n",
    "plt.plot([0, 1], [0, 1], color='navy', lw=2, linestyle='--', label='Aléatoire (auc = 0.5)')\n",
    "plt.xlabel('Taux faux positifs')\n",
    "plt.ylabel('Taux vrais positifs')\n",
    "plt.title('Courbe ROC')\n",
    "plt.legend(loc=\"lower right\")\n",
    "plt.show();"
   ],
   "metadata": {
    "collapsed": false,
    "pycharm": {
     "name": "#%%\n"
    }
   }
  },
  {
   "cell_type": "code",
   "execution_count": null,
   "outputs": [],
   "source": [
    "#export to put in streamlit\n",
    "joblib.dump(HGBC, \"alaska-model.pkl\") #extracting model for streamlit"
   ],
   "metadata": {
    "collapsed": false,
    "pycharm": {
     "name": "#%%\n"
    }
   }
  },
  {
   "cell_type": "markdown",
   "source": [
    "#### 4.3.1 - Evaluating the feature importance"
   ],
   "metadata": {
    "collapsed": false,
    "pycharm": {
     "name": "#%% md\n"
    }
   }
  },
  {
   "cell_type": "code",
   "execution_count": 126,
   "outputs": [
    {
     "name": "stdout",
     "output_type": "stream",
     "text": [
      "MAX     0.349 +/- 0.012\n",
      "DEWP    0.065 +/- 0.008\n",
      "TEMP    0.046 +/- 0.006\n",
      "GUST    0.036 +/- 0.005\n",
      "WDSP    0.018 +/- 0.003\n",
      "MIN     0.011 +/- 0.005\n"
     ]
    }
   ],
   "source": [
    "# using permutation_importance with r2 to get feature weight in the model\n",
    "#building the permutation importance\n",
    "r = permutation_importance(HGBC, X_test, y_test,\n",
    "                           n_repeats=30,\n",
    "                           random_state=0)\n",
    "\n",
    "#geting the r2 value for the model\n",
    "feature_importance = pd.DataFrame()\n",
    "for i in r.importances_mean.argsort()[::-1]:\n",
    "    if r.importances_mean[i] - 2 * r.importances_std[i] > 0:\n",
    "        # printing the data\n",
    "        print(f\"{data_AK.columns[i]:<8}\"\n",
    "              f\"{r.importances_mean[i]:.3f}\"\n",
    "              f\" +/- {r.importances_std[i]:.3f}\")\n",
    "        # building the df for visualisation\n",
    "        feature_importance[i] = [r.importances_mean[i], r.importances_std[i]]\n",
    "\n",
    "# reordering features\n",
    "feature = list(data_AK.columns)\n",
    "myorder = list(r.importances_mean.argsort()[::-1])\n",
    "feature = [feature[i] for i in myorder]\n",
    "\n",
    "# formating dataframe\n",
    "feature_importance.set_axis(feature[:6], axis=1, inplace=True)\n",
    "feature_importance.set_axis(['mean', 'sdt'], axis=0, inplace=True)\n",
    "feature_importance = feature_importance.transpose()\n",
    "feature_importance.reset_index(inplace=True)"
   ],
   "metadata": {
    "collapsed": false,
    "pycharm": {
     "name": "#%%\n"
    }
   }
  },
  {
   "cell_type": "code",
   "execution_count": 131,
   "outputs": [
    {
     "data": {
      "text/plain": "<Figure size 432x288 with 1 Axes>",
      "image/png": "[encoded data removed]"
     },
     "metadata": {},
     "output_type": "display_data"
    }
   ],
   "source": [
    "#displaying data\n",
    "sns.barplot(x='index', y='mean', data=feature_importance);"
   ],
   "metadata": {
    "collapsed": false,
    "pycharm": {
     "name": "#%%\n"
    }
   }
  },
  {
   "cell_type": "code",
   "execution_count": 133,
   "outputs": [
    {
     "data": {
      "text/plain": "{'lat': 64.9948,\n 'lon': -150.6313,\n 'timezone': 'America/Anchorage',\n 'timezone_offset': -28800,\n 'current': {'dt': 1658655436,\n  'sunrise': 1658666000,\n  'sunset': 1658735065,\n  'temp': 53.53,\n  'feels_like': 51.35,\n  'pressure': 1010,\n  'humidity': 59,\n  'dew_point': 39.58,\n  'uvi': 0,\n  'clouds': 100,\n  'visibility': 10000,\n  'wind_speed': 4.07,\n  'wind_deg': 32,\n  'wind_gust': 5.21,\n  'weather': [{'id': 804,\n    'main': 'Clouds',\n    'description': 'overcast clouds',\n    'icon': '04n'}]},\n 'hourly': [{'dt': 1658653200,\n   'temp': 53.67,\n   'feels_like': 51.46,\n   'pressure': 1010,\n   'humidity': 58,\n   'dew_point': 39.27,\n   'uvi': 0,\n   'clouds': 100,\n   'visibility': 10000,\n   'wind_speed': 4.29,\n   'wind_deg': 12,\n   'wind_gust': 5.3,\n   'weather': [{'id': 804,\n     'main': 'Clouds',\n     'description': 'overcast clouds',\n     'icon': '04n'}],\n   'pop': 0},\n  {'dt': 1658656800,\n   'temp': 53.53,\n   'feels_like': 51.35,\n   'pressure': 1010,\n   'humidity': 59,\n   'dew_point': 39.58,\n   'uvi': 0,\n   'clouds': 100,\n   'visibility': 10000,\n   'wind_speed': 4.07,\n   'wind_deg': 32,\n   'wind_gust': 5.21,\n   'weather': [{'id': 804,\n     'main': 'Clouds',\n     'description': 'overcast clouds',\n     'icon': '04n'}],\n   'pop': 0},\n  {'dt': 1658660400,\n   'temp': 53.26,\n   'feels_like': 51.1,\n   'pressure': 1010,\n   'humidity': 60,\n   'dew_point': 39.76,\n   'uvi': 0,\n   'clouds': 100,\n   'visibility': 10000,\n   'wind_speed': 4.27,\n   'wind_deg': 39,\n   'wind_gust': 5.7,\n   'weather': [{'id': 804,\n     'main': 'Clouds',\n     'description': 'overcast clouds',\n     'icon': '04n'}],\n   'pop': 0},\n  {'dt': 1658664000,\n   'temp': 52.56,\n   'feels_like': 50.38,\n   'pressure': 1010,\n   'humidity': 61,\n   'dew_point': 39.51,\n   'uvi': 0,\n   'clouds': 98,\n   'visibility': 10000,\n   'wind_speed': 3.22,\n   'wind_deg': 48,\n   'wind_gust': 3.69,\n   'weather': [{'id': 804,\n     'main': 'Clouds',\n     'description': 'overcast clouds',\n     'icon': '04n'}],\n   'pop': 0},\n  {'dt': 1658667600,\n   'temp': 51.55,\n   'feels_like': 49.37,\n   'pressure': 1011,\n   'humidity': 63,\n   'dew_point': 39.38,\n   'uvi': 0,\n   'clouds': 81,\n   'visibility': 10000,\n   'wind_speed': 1.74,\n   'wind_deg': 23,\n   'wind_gust': 1.72,\n   'weather': [{'id': 803,\n     'main': 'Clouds',\n     'description': 'broken clouds',\n     'icon': '04d'}],\n   'pop': 0},\n  {'dt': 1658671200,\n   'temp': 51.22,\n   'feels_like': 49.1,\n   'pressure': 1010,\n   'humidity': 65,\n   'dew_point': 39.88,\n   'uvi': 0.06,\n   'clouds': 75,\n   'visibility': 10000,\n   'wind_speed': 1.5,\n   'wind_deg': 39,\n   'wind_gust': 1.61,\n   'weather': [{'id': 803,\n     'main': 'Clouds',\n     'description': 'broken clouds',\n     'icon': '04d'}],\n   'pop': 0},\n  {'dt': 1658674800,\n   'temp': 52.72,\n   'feels_like': 50.7,\n   'pressure': 1010,\n   'humidity': 64,\n   'dew_point': 39.9,\n   'uvi': 0.17,\n   'clouds': 69,\n   'visibility': 10000,\n   'wind_speed': 1.61,\n   'wind_deg': 71,\n   'wind_gust': 2.39,\n   'weather': [{'id': 803,\n     'main': 'Clouds',\n     'description': 'broken clouds',\n     'icon': '04d'}],\n   'pop': 0},\n  {'dt': 1658678400,\n   'temp': 55.56,\n   'feels_like': 53.55,\n   'pressure': 1010,\n   'humidity': 58,\n   'dew_point': 39.96,\n   'uvi': 0.42,\n   'clouds': 68,\n   'visibility': 10000,\n   'wind_speed': 1.48,\n   'wind_deg': 97,\n   'wind_gust': 3.33,\n   'weather': [{'id': 803,\n     'main': 'Clouds',\n     'description': 'broken clouds',\n     'icon': '04d'}],\n   'pop': 0},\n  {'dt': 1658682000,\n   'temp': 57.04,\n   'feels_like': 54.99,\n   'pressure': 1010,\n   'humidity': 54,\n   'dew_point': 39.96,\n   'uvi': 0.76,\n   'clouds': 74,\n   'visibility': 10000,\n   'wind_speed': 2.37,\n   'wind_deg': 101,\n   'wind_gust': 4.63,\n   'weather': [{'id': 803,\n     'main': 'Clouds',\n     'description': 'broken clouds',\n     'icon': '04d'}],\n   'pop': 0},\n  {'dt': 1658685600,\n   'temp': 59.09,\n   'feels_like': 57.09,\n   'pressure': 1010,\n   'humidity': 51,\n   'dew_point': 40.24,\n   'uvi': 1.24,\n   'clouds': 79,\n   'visibility': 10000,\n   'wind_speed': 3.13,\n   'wind_deg': 109,\n   'wind_gust': 5.53,\n   'weather': [{'id': 803,\n     'main': 'Clouds',\n     'description': 'broken clouds',\n     'icon': '04d'}],\n   'pop': 0},\n  {'dt': 1658689200,\n   'temp': 62.6,\n   'feels_like': 60.73,\n   'pressure': 1010,\n   'humidity': 46,\n   'dew_point': 40.66,\n   'uvi': 2.6,\n   'clouds': 69,\n   'visibility': 10000,\n   'wind_speed': 3.38,\n   'wind_deg': 120,\n   'wind_gust': 5.66,\n   'weather': [{'id': 803,\n     'main': 'Clouds',\n     'description': 'broken clouds',\n     'icon': '04d'}],\n   'pop': 0},\n  {'dt': 1658692800,\n   'temp': 65.26,\n   'feels_like': 63.41,\n   'pressure': 1009,\n   'humidity': 41,\n   'dew_point': 40.14,\n   'uvi': 3.35,\n   'clouds': 45,\n   'visibility': 10000,\n   'wind_speed': 4.05,\n   'wind_deg': 129,\n   'wind_gust': 6.4,\n   'weather': [{'id': 802,\n     'main': 'Clouds',\n     'description': 'scattered clouds',\n     'icon': '03d'}],\n   'pop': 0},\n  {'dt': 1658696400,\n   'temp': 66.69,\n   'feels_like': 64.8,\n   'pressure': 1009,\n   'humidity': 37,\n   'dew_point': 39.16,\n   'uvi': 3.92,\n   'clouds': 63,\n   'visibility': 10000,\n   'wind_speed': 4.34,\n   'wind_deg': 139,\n   'wind_gust': 6.13,\n   'weather': [{'id': 803,\n     'main': 'Clouds',\n     'description': 'broken clouds',\n     'icon': '04d'}],\n   'pop': 0},\n  {'dt': 1658700000,\n   'temp': 67.98,\n   'feels_like': 66.07,\n   'pressure': 1009,\n   'humidity': 34,\n   'dew_point': 38.08,\n   'uvi': 4.25,\n   'clouds': 73,\n   'visibility': 10000,\n   'wind_speed': 4.7,\n   'wind_deg': 139,\n   'wind_gust': 5.99,\n   'weather': [{'id': 803,\n     'main': 'Clouds',\n     'description': 'broken clouds',\n     'icon': '04d'}],\n   'pop': 0},\n  {'dt': 1658703600,\n   'temp': 69.24,\n   'feels_like': 67.37,\n   'pressure': 1008,\n   'humidity': 32,\n   'dew_point': 37.44,\n   'uvi': 4.08,\n   'clouds': 66,\n   'visibility': 10000,\n   'wind_speed': 5.37,\n   'wind_deg': 139,\n   'wind_gust': 7.07,\n   'weather': [{'id': 803,\n     'main': 'Clouds',\n     'description': 'broken clouds',\n     'icon': '04d'}],\n   'pop': 0},\n  {'dt': 1658707200,\n   'temp': 70.14,\n   'feels_like': 68.31,\n   'pressure': 1008,\n   'humidity': 31,\n   'dew_point': 37.42,\n   'uvi': 3.51,\n   'clouds': 68,\n   'visibility': 10000,\n   'wind_speed': 5.3,\n   'wind_deg': 139,\n   'wind_gust': 7.63,\n   'weather': [{'id': 803,\n     'main': 'Clouds',\n     'description': 'broken clouds',\n     'icon': '04d'}],\n   'pop': 0},\n  {'dt': 1658710800,\n   'temp': 70.59,\n   'feels_like': 68.81,\n   'pressure': 1007,\n   'humidity': 31,\n   'dew_point': 37.56,\n   'uvi': 2.68,\n   'clouds': 80,\n   'visibility': 10000,\n   'wind_speed': 5.44,\n   'wind_deg': 132,\n   'wind_gust': 8.72,\n   'weather': [{'id': 803,\n     'main': 'Clouds',\n     'description': 'broken clouds',\n     'icon': '04d'}],\n   'pop': 0},\n  {'dt': 1658714400,\n   'temp': 70.5,\n   'feels_like': 68.7,\n   'pressure': 1006,\n   'humidity': 31,\n   'dew_point': 38.05,\n   'uvi': 1.88,\n   'clouds': 90,\n   'visibility': 10000,\n   'wind_speed': 5.73,\n   'wind_deg': 119,\n   'wind_gust': 9.42,\n   'weather': [{'id': 804,\n     'main': 'Clouds',\n     'description': 'overcast clouds',\n     'icon': '04d'}],\n   'pop': 0},\n  {'dt': 1658718000,\n   'temp': 70.07,\n   'feels_like': 68.29,\n   'pressure': 1006,\n   'humidity': 32,\n   'dew_point': 38.35,\n   'uvi': 1.17,\n   'clouds': 93,\n   'visibility': 10000,\n   'wind_speed': 6.33,\n   'wind_deg': 113,\n   'wind_gust': 10.09,\n   'weather': [{'id': 804,\n     'main': 'Clouds',\n     'description': 'overcast clouds',\n     'icon': '04d'}],\n   'pop': 0},\n  {'dt': 1658721600,\n   'temp': 69.24,\n   'feels_like': 67.6,\n   'pressure': 1005,\n   'humidity': 37,\n   'dew_point': 41.02,\n   'uvi': 0.5,\n   'clouds': 95,\n   'visibility': 10000,\n   'wind_speed': 5.06,\n   'wind_deg': 96,\n   'wind_gust': 10.13,\n   'weather': [{'id': 804,\n     'main': 'Clouds',\n     'description': 'overcast clouds',\n     'icon': '04d'}],\n   'pop': 0},\n  {'dt': 1658725200,\n   'temp': 65.71,\n   'feels_like': 64.15,\n   'pressure': 1005,\n   'humidity': 46,\n   'dew_point': 43.63,\n   'uvi': 0.23,\n   'clouds': 96,\n   'visibility': 10000,\n   'wind_speed': 4.45,\n   'wind_deg': 60,\n   'wind_gust': 9.28,\n   'weather': [{'id': 804,\n     'main': 'Clouds',\n     'description': 'overcast clouds',\n     'icon': '04d'}],\n   'pop': 0},\n  {'dt': 1658728800,\n   'temp': 62.73,\n   'feels_like': 61.09,\n   'pressure': 1005,\n   'humidity': 51,\n   'dew_point': 43.36,\n   'uvi': 0.1,\n   'clouds': 97,\n   'visibility': 10000,\n   'wind_speed': 4.97,\n   'wind_deg': 48,\n   'wind_gust': 9.75,\n   'weather': [{'id': 804,\n     'main': 'Clouds',\n     'description': 'overcast clouds',\n     'icon': '04d'}],\n   'pop': 0},\n  {'dt': 1658732400,\n   'temp': 60.84,\n   'feels_like': 59.07,\n   'pressure': 1004,\n   'humidity': 52,\n   'dew_point': 42.12,\n   'uvi': 0,\n   'clouds': 100,\n   'visibility': 10000,\n   'wind_speed': 5.46,\n   'wind_deg': 49,\n   'wind_gust': 18.14,\n   'weather': [{'id': 804,\n     'main': 'Clouds',\n     'description': 'overcast clouds',\n     'icon': '04d'}],\n   'pop': 0},\n  {'dt': 1658736000,\n   'temp': 58.91,\n   'feels_like': 56.95,\n   'pressure': 1004,\n   'humidity': 52,\n   'dew_point': 40.77,\n   'uvi': 0,\n   'clouds': 100,\n   'visibility': 10000,\n   'wind_speed': 5.03,\n   'wind_deg': 66,\n   'wind_gust': 15.68,\n   'weather': [{'id': 804,\n     'main': 'Clouds',\n     'description': 'overcast clouds',\n     'icon': '04n'}],\n   'pop': 0},\n  {'dt': 1658739600,\n   'temp': 56.3,\n   'feels_like': 54.27,\n   'pressure': 1004,\n   'humidity': 56,\n   'dew_point': 39.88,\n   'uvi': 0,\n   'clouds': 99,\n   'visibility': 10000,\n   'wind_speed': 4.88,\n   'wind_deg': 68,\n   'wind_gust': 5.75,\n   'weather': [{'id': 804,\n     'main': 'Clouds',\n     'description': 'overcast clouds',\n     'icon': '04n'}],\n   'pop': 0},\n  {'dt': 1658743200,\n   'temp': 54.64,\n   'feels_like': 52.63,\n   'pressure': 1004,\n   'humidity': 60,\n   'dew_point': 40.15,\n   'uvi': 0,\n   'clouds': 91,\n   'visibility': 10000,\n   'wind_speed': 4.79,\n   'wind_deg': 77,\n   'wind_gust': 6.42,\n   'weather': [{'id': 804,\n     'main': 'Clouds',\n     'description': 'overcast clouds',\n     'icon': '04n'}],\n   'pop': 0},\n  {'dt': 1658746800,\n   'temp': 52.72,\n   'feels_like': 50.79,\n   'pressure': 1005,\n   'humidity': 66,\n   'dew_point': 40.78,\n   'uvi': 0,\n   'clouds': 86,\n   'visibility': 10000,\n   'wind_speed': 4.65,\n   'wind_deg': 84,\n   'wind_gust': 4.5,\n   'weather': [{'id': 804,\n     'main': 'Clouds',\n     'description': 'overcast clouds',\n     'icon': '04n'}],\n   'pop': 0},\n  {'dt': 1658750400,\n   'temp': 53.35,\n   'feels_like': 51.44,\n   'pressure': 1004,\n   'humidity': 65,\n   'dew_point': 40.98,\n   'uvi': 0,\n   'clouds': 88,\n   'visibility': 10000,\n   'wind_speed': 4.18,\n   'wind_deg': 74,\n   'wind_gust': 4.63,\n   'weather': [{'id': 804,\n     'main': 'Clouds',\n     'description': 'overcast clouds',\n     'icon': '04n'}],\n   'pop': 0},\n  {'dt': 1658754000,\n   'temp': 54.48,\n   'feels_like': 52.59,\n   'pressure': 1004,\n   'humidity': 63,\n   'dew_point': 41.09,\n   'uvi': 0,\n   'clouds': 100,\n   'visibility': 10000,\n   'wind_speed': 4.12,\n   'wind_deg': 73,\n   'wind_gust': 7.09,\n   'weather': [{'id': 804,\n     'main': 'Clouds',\n     'description': 'overcast clouds',\n     'icon': '04d'}],\n   'pop': 0},\n  {'dt': 1658757600,\n   'temp': 52.65,\n   'feels_like': 50.76,\n   'pressure': 1004,\n   'humidity': 67,\n   'dew_point': 41.27,\n   'uvi': 0.03,\n   'clouds': 100,\n   'visibility': 10000,\n   'wind_speed': 5.39,\n   'wind_deg': 59,\n   'wind_gust': 9.75,\n   'weather': [{'id': 804,\n     'main': 'Clouds',\n     'description': 'overcast clouds',\n     'icon': '04d'}],\n   'pop': 0},\n  {'dt': 1658761200,\n   'temp': 55.29,\n   'feels_like': 53.53,\n   'pressure': 1003,\n   'humidity': 64,\n   'dew_point': 42.3,\n   'uvi': 0.09,\n   'clouds': 100,\n   'visibility': 10000,\n   'wind_speed': 4.12,\n   'wind_deg': 72,\n   'wind_gust': 11.54,\n   'weather': [{'id': 804,\n     'main': 'Clouds',\n     'description': 'overcast clouds',\n     'icon': '04d'}],\n   'pop': 0},\n  {'dt': 1658764800,\n   'temp': 58.71,\n   'feels_like': 57.06,\n   'pressure': 1002,\n   'humidity': 59,\n   'dew_point': 43.63,\n   'uvi': 0.42,\n   'clouds': 100,\n   'visibility': 10000,\n   'wind_speed': 4.99,\n   'wind_deg': 63,\n   'wind_gust': 17.47,\n   'weather': [{'id': 804,\n     'main': 'Clouds',\n     'description': 'overcast clouds',\n     'icon': '04d'}],\n   'pop': 0},\n  {'dt': 1658768400,\n   'temp': 62.74,\n   'feels_like': 61.07,\n   'pressure': 1001,\n   'humidity': 50,\n   'dew_point': 43.02,\n   'uvi': 0.77,\n   'clouds': 100,\n   'visibility': 10000,\n   'wind_speed': 7.31,\n   'wind_deg': 89,\n   'wind_gust': 21.85,\n   'weather': [{'id': 804,\n     'main': 'Clouds',\n     'description': 'overcast clouds',\n     'icon': '04d'}],\n   'pop': 0},\n  {'dt': 1658772000,\n   'temp': 65.46,\n   'feels_like': 63.82,\n   'pressure': 1001,\n   'humidity': 45,\n   'dew_point': 43.09,\n   'uvi': 1.26,\n   'clouds': 100,\n   'visibility': 10000,\n   'wind_speed': 8.5,\n   'wind_deg': 100,\n   'wind_gust': 18.88,\n   'weather': [{'id': 804,\n     'main': 'Clouds',\n     'description': 'overcast clouds',\n     'icon': '04d'}],\n   'pop': 0},\n  {'dt': 1658775600,\n   'temp': 68,\n   'feels_like': 66.52,\n   'pressure': 1000,\n   'humidity': 43,\n   'dew_point': 44.15,\n   'uvi': 1.77,\n   'clouds': 100,\n   'visibility': 10000,\n   'wind_speed': 10.83,\n   'wind_deg': 98,\n   'wind_gust': 19.42,\n   'weather': [{'id': 804,\n     'main': 'Clouds',\n     'description': 'overcast clouds',\n     'icon': '04d'}],\n   'pop': 0},\n  {'dt': 1658779200,\n   'temp': 71.56,\n   'feels_like': 70.3,\n   'pressure': 1000,\n   'humidity': 40,\n   'dew_point': 45.18,\n   'uvi': 2.29,\n   'clouds': 100,\n   'visibility': 10000,\n   'wind_speed': 10.36,\n   'wind_deg': 108,\n   'wind_gust': 15.95,\n   'weather': [{'id': 804,\n     'main': 'Clouds',\n     'description': 'overcast clouds',\n     'icon': '04d'}],\n   'pop': 0},\n  {'dt': 1658782800,\n   'temp': 73.92,\n   'feels_like': 72.9,\n   'pressure': 999,\n   'humidity': 40,\n   'dew_point': 47.14,\n   'uvi': 2.69,\n   'clouds': 100,\n   'visibility': 10000,\n   'wind_speed': 6.46,\n   'wind_deg': 107,\n   'wind_gust': 11.7,\n   'weather': [{'id': 804,\n     'main': 'Clouds',\n     'description': 'overcast clouds',\n     'icon': '04d'}],\n   'pop': 0},\n  {'dt': 1658786400,\n   'temp': 77.86,\n   'feels_like': 77.09,\n   'pressure': 998,\n   'humidity': 37,\n   'dew_point': 48.51,\n   'uvi': 2.61,\n   'clouds': 100,\n   'visibility': 10000,\n   'wind_speed': 2.55,\n   'wind_deg': 115,\n   'wind_gust': 8.84,\n   'weather': [{'id': 804,\n     'main': 'Clouds',\n     'description': 'overcast clouds',\n     'icon': '04d'}],\n   'pop': 0},\n  {'dt': 1658790000,\n   'temp': 78.4,\n   'feels_like': 77.63,\n   'pressure': 997,\n   'humidity': 36,\n   'dew_point': 48.54,\n   'uvi': 2.5,\n   'clouds': 94,\n   'visibility': 10000,\n   'wind_speed': 5.23,\n   'wind_deg': 245,\n   'wind_gust': 6.2,\n   'weather': [{'id': 804,\n     'main': 'Clouds',\n     'description': 'overcast clouds',\n     'icon': '04d'}],\n   'pop': 0},\n  {'dt': 1658793600,\n   'temp': 73.56,\n   'feels_like': 72.59,\n   'pressure': 998,\n   'humidity': 42,\n   'dew_point': 48.56,\n   'uvi': 2.14,\n   'clouds': 95,\n   'visibility': 10000,\n   'wind_speed': 12.73,\n   'wind_deg': 265,\n   'wind_gust': 13.42,\n   'weather': [{'id': 804,\n     'main': 'Clouds',\n     'description': 'overcast clouds',\n     'icon': '04d'}],\n   'pop': 0},\n  {'dt': 1658797200,\n   'temp': 67.23,\n   'feels_like': 66.09,\n   'pressure': 1000,\n   'humidity': 52,\n   'dew_point': 48.07,\n   'uvi': 0.4,\n   'clouds': 100,\n   'visibility': 10000,\n   'wind_speed': 12.37,\n   'wind_deg': 272,\n   'wind_gust': 21.77,\n   'weather': [{'id': 804,\n     'main': 'Clouds',\n     'description': 'overcast clouds',\n     'icon': '04d'}],\n   'pop': 0},\n  {'dt': 1658800800,\n   'temp': 62.92,\n   'feels_like': 61.92,\n   'pressure': 1001,\n   'humidity': 64,\n   'dew_point': 49.62,\n   'uvi': 0.28,\n   'clouds': 100,\n   'visibility': 10000,\n   'wind_speed': 9.17,\n   'wind_deg': 266,\n   'wind_gust': 22.82,\n   'weather': [{'id': 804,\n     'main': 'Clouds',\n     'description': 'overcast clouds',\n     'icon': '04d'}],\n   'pop': 0.45},\n  {'dt': 1658804400,\n   'temp': 55.99,\n   'feels_like': 55.76,\n   'pressure': 1003,\n   'humidity': 95,\n   'dew_point': 53.67,\n   'uvi': 0.18,\n   'clouds': 100,\n   'visibility': 7032,\n   'wind_speed': 9.01,\n   'wind_deg': 270,\n   'wind_gust': 26.08,\n   'weather': [{'id': 501,\n     'main': 'Rain',\n     'description': 'moderate rain',\n     'icon': '10d'}],\n   'pop': 1,\n   'rain': {'1h': 1.81}},\n  {'dt': 1658808000,\n   'temp': 54.64,\n   'feels_like': 54.27,\n   'pressure': 1005,\n   'humidity': 95,\n   'dew_point': 52.23,\n   'uvi': 0.05,\n   'clouds': 100,\n   'visibility': 6087,\n   'wind_speed': 10.27,\n   'wind_deg': 281,\n   'wind_gust': 24.07,\n   'weather': [{'id': 501,\n     'main': 'Rain',\n     'description': 'moderate rain',\n     'icon': '10d'}],\n   'pop': 1,\n   'rain': {'1h': 2.57}},\n  {'dt': 1658811600,\n   'temp': 53.26,\n   'feels_like': 52.84,\n   'pressure': 1006,\n   'humidity': 97,\n   'dew_point': 51.37,\n   'uvi': 0.02,\n   'clouds': 100,\n   'visibility': 6042,\n   'wind_speed': 6.22,\n   'wind_deg': 266,\n   'wind_gust': 23.35,\n   'weather': [{'id': 501,\n     'main': 'Rain',\n     'description': 'moderate rain',\n     'icon': '10d'}],\n   'pop': 1,\n   'rain': {'1h': 2.78}},\n  {'dt': 1658815200,\n   'temp': 53.19,\n   'feels_like': 52.63,\n   'pressure': 1008,\n   'humidity': 94,\n   'dew_point': 50.63,\n   'uvi': 0.01,\n   'clouds': 100,\n   'visibility': 8210,\n   'wind_speed': 5.28,\n   'wind_deg': 173,\n   'wind_gust': 19.44,\n   'weather': [{'id': 501,\n     'main': 'Rain',\n     'description': 'moderate rain',\n     'icon': '10d'}],\n   'pop': 1,\n   'rain': {'1h': 2.41}},\n  {'dt': 1658818800,\n   'temp': 52.23,\n   'feels_like': 51.62,\n   'pressure': 1008,\n   'humidity': 95,\n   'dew_point': 49.84,\n   'uvi': 0,\n   'clouds': 100,\n   'visibility': 10000,\n   'wind_speed': 4.7,\n   'wind_deg': 172,\n   'wind_gust': 11.48,\n   'weather': [{'id': 501,\n     'main': 'Rain',\n     'description': 'moderate rain',\n     'icon': '10d'}],\n   'pop': 0.96,\n   'rain': {'1h': 1.18}},\n  {'dt': 1658822400,\n   'temp': 51.31,\n   'feels_like': 50.56,\n   'pressure': 1010,\n   'humidity': 94,\n   'dew_point': 48.76,\n   'uvi': 0,\n   'clouds': 100,\n   'visibility': 9535,\n   'wind_speed': 6.53,\n   'wind_deg': 192,\n   'wind_gust': 17.31,\n   'weather': [{'id': 500,\n     'main': 'Rain',\n     'description': 'light rain',\n     'icon': '10n'}],\n   'pop': 0.94,\n   'rain': {'1h': 0.8}}],\n 'daily': [{'dt': 1658700000,\n   'sunrise': 1658666000,\n   'sunset': 1658735065,\n   'moonrise': 0,\n   'moonset': 0,\n   'moon_phase': 0.88,\n   'temp': {'day': 67.98,\n    'min': 51.22,\n    'max': 70.59,\n    'night': 60.84,\n    'eve': 69.24,\n    'morn': 55.56},\n   'feels_like': {'day': 66.07, 'night': 59.07, 'eve': 67.6, 'morn': 53.55},\n   'pressure': 1009,\n   'humidity': 34,\n   'dew_point': 38.08,\n   'wind_speed': 6.33,\n   'wind_deg': 113,\n   'wind_gust': 18.14,\n   'weather': [{'id': 803,\n     'main': 'Clouds',\n     'description': 'broken clouds',\n     'icon': '04d'}],\n   'clouds': 73,\n   'pop': 0,\n   'uvi': 4.25},\n  {'dt': 1658786400,\n   'sunrise': 1658752611,\n   'sunset': 1658821256,\n   'moonrise': 0,\n   'moonset': 0,\n   'moon_phase': 0.91,\n   'temp': {'day': 77.86,\n    'min': 52.23,\n    'max': 78.4,\n    'night': 52.23,\n    'eve': 54.64,\n    'morn': 58.71},\n   'feels_like': {'day': 77.09, 'night': 51.62, 'eve': 54.27, 'morn': 57.06},\n   'pressure': 998,\n   'humidity': 37,\n   'dew_point': 48.51,\n   'wind_speed': 12.73,\n   'wind_deg': 265,\n   'wind_gust': 26.08,\n   'weather': [{'id': 501,\n     'main': 'Rain',\n     'description': 'moderate rain',\n     'icon': '10d'}],\n   'clouds': 100,\n   'pop': 1,\n   'rain': 10.75,\n   'uvi': 2.69},\n  {'dt': 1658872800,\n   'sunrise': 1658839223,\n   'sunset': 1658907446,\n   'moonrise': 0,\n   'moonset': 0,\n   'moon_phase': 0.94,\n   'temp': {'day': 53.1,\n    'min': 46.81,\n    'max': 55.8,\n    'night': 50.79,\n    'eve': 53.02,\n    'morn': 47.98},\n   'feels_like': {'day': 50.88, 'night': 49.01, 'eve': 51.28, 'morn': 44.51},\n   'pressure': 1019,\n   'humidity': 59,\n   'dew_point': 38.37,\n   'wind_speed': 13.31,\n   'wind_deg': 237,\n   'wind_gust': 26.15,\n   'weather': [{'id': 501,\n     'main': 'Rain',\n     'description': 'moderate rain',\n     'icon': '10d'}],\n   'clouds': 99,\n   'pop': 0.94,\n   'rain': 4.27,\n   'uvi': 2.34},\n  {'dt': 1658959200,\n   'sunrise': 1658925834,\n   'sunset': 1658993635,\n   'moonrise': 0,\n   'moonset': 0,\n   'moon_phase': 0.97,\n   'temp': {'day': 55.8,\n    'min': 44.49,\n    'max': 59.81,\n    'night': 51.94,\n    'eve': 57,\n    'morn': 50.14},\n   'feels_like': {'day': 54.18, 'night': 50.09, 'eve': 54.99, 'morn': 48.43},\n   'pressure': 1022,\n   'humidity': 66,\n   'dew_point': 43.7,\n   'wind_speed': 9.46,\n   'wind_deg': 259,\n   'wind_gust': 24.02,\n   'weather': [{'id': 500,\n     'main': 'Rain',\n     'description': 'light rain',\n     'icon': '10d'}],\n   'clouds': 97,\n   'pop': 0.78,\n   'rain': 1,\n   'uvi': 2.76},\n  {'dt': 1659045600,\n   'sunrise': 1659012445,\n   'sunset': 1659079823,\n   'moonrise': 1659006180,\n   'moonset': 1658998980,\n   'moon_phase': 0,\n   'temp': {'day': 62.38,\n    'min': 41.13,\n    'max': 63,\n    'night': 52.79,\n    'eve': 60.93,\n    'morn': 48.88},\n   'feels_like': {'day': 60.21, 'night': 50.74, 'eve': 58.84, 'morn': 48.88},\n   'pressure': 1016,\n   'humidity': 40,\n   'dew_point': 37.22,\n   'wind_speed': 8.52,\n   'wind_deg': 319,\n   'wind_gust': 11.3,\n   'weather': [{'id': 801,\n     'main': 'Clouds',\n     'description': 'few clouds',\n     'icon': '02d'}],\n   'clouds': 14,\n   'pop': 0,\n   'uvi': 3},\n  {'dt': 1659132000,\n   'sunrise': 1659099055,\n   'sunset': 1659166011,\n   'moonrise': 1659100320,\n   'moonset': 1659083640,\n   'moon_phase': 0.03,\n   'temp': {'day': 60.15,\n    'min': 40.46,\n    'max': 62.98,\n    'night': 56.46,\n    'eve': 62.02,\n    'morn': 43.99},\n   'feels_like': {'day': 57.88, 'night': 54.45, 'eve': 59.85, 'morn': 43.99},\n   'pressure': 1012,\n   'humidity': 43,\n   'dew_point': 36.52,\n   'wind_speed': 3.36,\n   'wind_deg': 318,\n   'wind_gust': 3.4,\n   'weather': [{'id': 804,\n     'main': 'Clouds',\n     'description': 'overcast clouds',\n     'icon': '04d'}],\n   'clouds': 100,\n   'pop': 0,\n   'uvi': 3},\n  {'dt': 1659218400,\n   'sunrise': 1659185665,\n   'sunset': 1659252198,\n   'moonrise': 1659193260,\n   'moonset': 1659169200,\n   'moon_phase': 0.06,\n   'temp': {'day': 65.89,\n    'min': 48.63,\n    'max': 67.51,\n    'night': 58.48,\n    'eve': 66.56,\n    'morn': 50.4},\n   'feels_like': {'day': 64.06, 'night': 57.31, 'eve': 64.8, 'morn': 48.33},\n   'pressure': 1009,\n   'humidity': 40,\n   'dew_point': 39.85,\n   'wind_speed': 3.69,\n   'wind_deg': 146,\n   'wind_gust': 5.61,\n   'weather': [{'id': 804,\n     'main': 'Clouds',\n     'description': 'overcast clouds',\n     'icon': '04d'}],\n   'clouds': 100,\n   'pop': 0,\n   'uvi': 3},\n  {'dt': 1659304800,\n   'sunrise': 1659272275,\n   'sunset': 1659338384,\n   'moonrise': 1659285720,\n   'moonset': 1659255000,\n   'moon_phase': 0.1,\n   'temp': {'day': 65.55,\n    'min': 51.01,\n    'max': 66.79,\n    'night': 60.13,\n    'eve': 66.79,\n    'morn': 52.47},\n   'feels_like': {'day': 64.4, 'night': 58.71, 'eve': 65.39, 'morn': 51.37},\n   'pressure': 1017,\n   'humidity': 55,\n   'dew_point': 47.68,\n   'wind_speed': 3.11,\n   'wind_deg': 307,\n   'wind_gust': 4.97,\n   'weather': [{'id': 500,\n     'main': 'Rain',\n     'description': 'light rain',\n     'icon': '10d'}],\n   'clouds': 80,\n   'pop': 0.34,\n   'rain': 1.2,\n   'uvi': 3}]}"
     },
     "execution_count": 133,
     "metadata": {},
     "output_type": "execute_result"
    }
   ],
   "source": [
    "# getting data from openweather api to check format\n",
    "response = requests.request(\"GET\", 'https://api.openweathermap.org/data/3.0/onecall?lat=64.994774&lon=-150.631255&appid=78469ab347aed8375902e968d5daff8b&units=imperial')\n",
    "response.json()"
   ],
   "metadata": {
    "collapsed": false,
    "pycharm": {
     "name": "#%%\n"
    }
   }
  },
  {
   "cell_type": "code",
   "execution_count": 135,
   "outputs": [
    {
     "name": "stderr",
     "output_type": "stream",
     "text": [
      "/tmp/ipykernel_405770/565206975.py:11: SettingWithCopyWarning: \n",
      "A value is trying to be set on a copy of a slice from a DataFrame\n",
      "\n",
      "See the caveats in the documentation: https://pandas.pydata.org/pandas-docs/stable/user_guide/indexing.html#returning-a-view-versus-a-copy\n",
      "  weather_data['PRCP'][0] = 0\n"
     ]
    },
    {
     "data": {
      "text/plain": "array([[0.00745009, 0.99254991]])"
     },
     "execution_count": 135,
     "metadata": {},
     "output_type": "execute_result"
    }
   ],
   "source": [
    "# building the dataframe to prepare the prediction\n",
    "weather_data = pd.DataFrame([[response.json()['daily'][0]['temp']['day'],\n",
    "                              response.json()['daily'][0]['dew_point'],\n",
    "                              response.json()['daily'][0]['wind_speed'],\n",
    "                              response.json()['daily'][0]['wind_gust'],\n",
    "                              response.json()['daily'][0]['temp']['max'],\n",
    "                              response.json()['daily'][0]['temp']['min'],\n",
    "                              response.json()['daily'][0].get('rain')]],\n",
    "    columns=['TEMP', 'DEWP', 'WDSP', 'GUST', 'MAX', 'MIN', 'PRCP'])\n",
    "if weather_data['PRCP'][0] == None:\n",
    "    weather_data['PRCP'][0] = 0\n",
    "\n",
    "#prediction\n",
    "prediction = HGBC.predict_proba(weather_data)\n",
    "\n",
    "#display\n",
    "prediction"
   ],
   "metadata": {
    "collapsed": false,
    "pycharm": {
     "name": "#%%\n"
    }
   }
  },
  {
   "cell_type": "markdown",
   "metadata": {
    "pycharm": {
     "name": "#%% md\n"
    }
   },
   "source": []
  }
 ],
 "metadata": {
  "colab": {
   "collapsed_sections": [],
   "name": "prediction model creation.ipynb",
   "provenance": []
  },
  "kernelspec": {
   "display_name": "Python 3 (ipykernel)",
   "language": "python",
   "name": "python3"
  },
  "language_info": {
   "codemirror_mode": {
    "name": "ipython",
    "version": 3
   },
   "file_extension": ".py",
   "mimetype": "text/x-python",
   "name": "python",
   "nbconvert_exporter": "python",
   "pygments_lexer": "ipython3",
   "version": "3.8.10"
  }
 },
 "nbformat": 4,
 "nbformat_minor": 1
}