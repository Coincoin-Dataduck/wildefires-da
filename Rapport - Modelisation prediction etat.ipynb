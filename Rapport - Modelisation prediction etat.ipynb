{
 "cells": [
  {
   "cell_type": "markdown",
   "metadata": {},
   "source": [
    "# Projet DA WildFires - Modélisation d'une prédiction de feu au niveau d'un état\n",
    "__________________________________________________________________"
   ]
  },
  {
   "cell_type": "markdown",
   "metadata": {},
   "source": [
    "> Par C. FONTAINE"
   ]
  },
  {
   "cell_type": "markdown",
   "metadata": {},
   "source": [
    "## 0- Objectif de ce notebook"
   ]
  },
  {
   "cell_type": "markdown",
   "metadata": {},
   "source": [
    "Dans ce notebook, nous allons travailler à une modélisation permettant de prédire l'occurence d'un feu au  niveau d'un état à partir de données météo."
   ]
  },
  {
   "cell_type": "code",
   "execution_count": 97,
   "metadata": {
    "id": "Q9QoJ6Fy6Wpr",
    "pycharm": {
     "name": "#%%\n"
    }
   },
   "outputs": [],
   "source": [
    "import pandas as pd\n",
    "import os\n",
    "import numpy as np\n",
    "from datetime import datetime\n",
    "from sklearn.ensemble import HistGradientBoostingClassifier\n",
    "import matplotlib.pyplot as plt\n",
    "import seaborn as sns\n",
    "from sklearn.preprocessing import StandardScaler\n",
    "from sklearn.decomposition import PCA\n",
    "from sklearn import ensemble\n",
    "from sklearn.model_selection import train_test_split, GridSearchCV\n",
    "from sklearn.metrics import classification_report\n",
    "from sklearn.metrics import roc_curve, auc, f1_score\n",
    "import matplotlib.pyplot as plt\n",
    "from imblearn.ensemble import BalancedRandomForestClassifier\n",
    "from sklearn.neighbors import KNeighborsClassifier\n",
    "import joblib"
   ]
  },
  {
   "cell_type": "markdown",
   "metadata": {
    "id": "Ml7des-o6Wpt",
    "pycharm": {
     "name": "#%% md\n"
    }
   },
   "source": [
    "## 1 - Filtering data from other country"
   ]
  },
  {
   "cell_type": "code",
   "execution_count": 3,
   "metadata": {
    "id": "m6_4CUvy6Wpu",
    "pycharm": {
     "name": "#%%\n"
    }
   },
   "outputs": [
    {
     "ename": "FileNotFoundError",
     "evalue": "[Errno 2] No such file or directory: '1996'",
     "output_type": "error",
     "traceback": [
      "\u001b[0;31m---------------------------------------------------------------------------\u001b[0m",
      "\u001b[0;31mFileNotFoundError\u001b[0m                         Traceback (most recent call last)",
      "Input \u001b[0;32mIn [3]\u001b[0m, in \u001b[0;36m<cell line: 2>\u001b[0;34m()\u001b[0m\n\u001b[1;32m      1\u001b[0m start \u001b[38;5;241m=\u001b[39m datetime\u001b[38;5;241m.\u001b[39mnow()\n\u001b[1;32m      2\u001b[0m \u001b[38;5;28;01mfor\u001b[39;00m year \u001b[38;5;129;01min\u001b[39;00m np\u001b[38;5;241m.\u001b[39marange(\u001b[38;5;241m1996\u001b[39m,\u001b[38;5;241m2016\u001b[39m):\n\u001b[0;32m----> 3\u001b[0m     listoffiles \u001b[38;5;241m=\u001b[39m \u001b[43mos\u001b[49m\u001b[38;5;241;43m.\u001b[39;49m\u001b[43mlistdir\u001b[49m\u001b[43m(\u001b[49m\u001b[38;5;124;43mf\u001b[39;49m\u001b[38;5;124;43m'\u001b[39;49m\u001b[38;5;132;43;01m{\u001b[39;49;00m\u001b[43myear\u001b[49m\u001b[38;5;132;43;01m}\u001b[39;49;00m\u001b[38;5;124;43m'\u001b[39;49m\u001b[43m)\u001b[49m \u001b[38;5;66;03m#get de files in folder\u001b[39;00m\n\u001b[1;32m      4\u001b[0m     \u001b[38;5;28;01mfor\u001b[39;00m file \u001b[38;5;129;01min\u001b[39;00m listoffiles:\n\u001b[1;32m      5\u001b[0m         state \u001b[38;5;241m=\u001b[39m pd\u001b[38;5;241m.\u001b[39mread_csv(\u001b[38;5;124mf\u001b[39m\u001b[38;5;124m'\u001b[39m\u001b[38;5;132;01m{\u001b[39;00myear\u001b[38;5;132;01m}\u001b[39;00m\u001b[38;5;124m/\u001b[39m\u001b[38;5;132;01m{\u001b[39;00mfile\u001b[38;5;132;01m}\u001b[39;00m\u001b[38;5;124m'\u001b[39m)[\u001b[38;5;124m'\u001b[39m\u001b[38;5;124mNAME\u001b[39m\u001b[38;5;124m'\u001b[39m][\u001b[38;5;241m0\u001b[39m] \u001b[38;5;66;03m#get the station name\u001b[39;00m\n",
      "\u001b[0;31mFileNotFoundError\u001b[0m: [Errno 2] No such file or directory: '1996'"
     ]
    }
   ],
   "source": [
    "start = datetime.now()\n",
    "for year in np.arange(1996,2016):\n",
    "    listoffiles = os.listdir(f'{year}') #get de files in folder\n",
    "    for file in listoffiles:\n",
    "        state = pd.read_csv(f'{year}/{file}')['NAME'][0] #get the station name\n",
    "        if pd.isna(state): #check if ther is a name\n",
    "            os.remove(f\"{year}/{file}\")\n",
    "        else:\n",
    "            if state[-2:] != 'US': #get the country code in the name and check\n",
    "                os.remove(f\"{year}/{file}\")\n",
    "end = datetime.now()\n",
    "elapsed = end-start\n",
    "print(elapsed)"
   ]
  },
  {
   "cell_type": "markdown",
   "metadata": {
    "id": "Y6eDFW6W6Wpv",
    "pycharm": {
     "name": "#%% md\n"
    }
   },
   "source": [
    "## 2 - The big merge"
   ]
  },
  {
   "cell_type": "code",
   "execution_count": null,
   "metadata": {
    "id": "kIbj5TAz6Wpw",
    "outputId": "d9d305da-a089-475b-ffc6-c840c33b3a5d",
    "pycharm": {
     "name": "#%%\n"
    }
   },
   "outputs": [
    {
     "name": "stdout",
     "output_type": "stream",
     "text": [
      "0:01:58.528257\n"
     ]
    }
   ],
   "source": [
    "start = datetime.now()\n",
    "\n",
    "for year in np.arange(1992,2016):\n",
    "    listoffiles = os.listdir(f'{year}') #get the files in folder\n",
    "    yearstation = open(f'{year}/{year}.csv', 'a') #create the merge file for the year\n",
    "    for line in open(f'{year}/{listoffiles[0]}', 'r'): #go through every line in the file\n",
    "        yearstation.write(line) #write each line in the merge file\n",
    "    for file in listoffiles[1:]: #go through each file in the directory\n",
    "        station = open(f'{year}/{file}', 'r') #open the file\n",
    "        next(station) #skip header\n",
    "        for line in station: #go through every line in the file\n",
    "            yearstation.write(line) #write each line in the merge file\n",
    "        station.close()\n",
    "    yearstation.close()\n",
    "\n",
    "fullmerge = open('the_merge.csv', 'a') #create the merge file for the year\n",
    "for line in open('1992/1992.csv', 'r'): #go through every line in the file\n",
    "    fullmerge.write(line) #write each line in the merge file\n",
    "for year in np.arange(1993,2016):\n",
    "    current_year = open(f'{year}/{year}.csv', 'r') #open the file\n",
    "    next(current_year) #skip header\n",
    "    for line in current_year: #go through every line in the file\n",
    "        fullmerge.write(line) #write each line in the merge file\n",
    "    current_year.close()\n",
    "fullmerge.close()\n",
    "\n",
    "end = datetime.now()\n",
    "elapsed = end-start\n",
    "print(elapsed)"
   ]
  },
  {
   "cell_type": "markdown",
   "metadata": {
    "id": "aHvz4ozb6cYQ",
    "pycharm": {
     "name": "#%% md\n"
    }
   },
   "source": [
    "## 3 - Importing the datas\n",
    "### A - NOA Datas"
   ]
  },
  {
   "cell_type": "code",
   "execution_count": 3,
   "metadata": {
    "colab": {
     "base_uri": "https://localhost:8080/",
     "height": 646
    },
    "id": "t_hc4H1f6r0A",
    "outputId": "5474a146-93e6-42be-eaad-c908b9274acb",
    "pycharm": {
     "name": "#%%\n"
    }
   },
   "outputs": [
    {
     "name": "stderr",
     "output_type": "stream",
     "text": [
      "/tmp/ipykernel_164561/4042125064.py:1: DtypeWarning: Columns (0) have mixed types. Specify dtype option on import or set low_memory=False.\n",
      "  df = pd.read_csv(\"the_merge.csv\")\n"
     ]
    },
    {
     "data": {
      "text/html": [
       "<div>\n",
       "<style scoped>\n",
       "    .dataframe tbody tr th:only-of-type {\n",
       "        vertical-align: middle;\n",
       "    }\n",
       "\n",
       "    .dataframe tbody tr th {\n",
       "        vertical-align: top;\n",
       "    }\n",
       "\n",
       "    .dataframe thead th {\n",
       "        text-align: right;\n",
       "    }\n",
       "</style>\n",
       "<table border=\"1\" class=\"dataframe\">\n",
       "  <thead>\n",
       "    <tr style=\"text-align: right;\">\n",
       "      <th></th>\n",
       "      <th>STATION</th>\n",
       "      <th>DATE</th>\n",
       "      <th>LATITUDE</th>\n",
       "      <th>LONGITUDE</th>\n",
       "      <th>ELEVATION</th>\n",
       "      <th>NAME</th>\n",
       "      <th>TEMP</th>\n",
       "      <th>TEMP_ATTRIBUTES</th>\n",
       "      <th>DEWP</th>\n",
       "      <th>DEWP_ATTRIBUTES</th>\n",
       "      <th>...</th>\n",
       "      <th>MXSPD</th>\n",
       "      <th>GUST</th>\n",
       "      <th>MAX</th>\n",
       "      <th>MAX_ATTRIBUTES</th>\n",
       "      <th>MIN</th>\n",
       "      <th>MIN_ATTRIBUTES</th>\n",
       "      <th>PRCP</th>\n",
       "      <th>PRCP_ATTRIBUTES</th>\n",
       "      <th>SNDP</th>\n",
       "      <th>FRSHTT</th>\n",
       "    </tr>\n",
       "  </thead>\n",
       "  <tbody>\n",
       "    <tr>\n",
       "      <th>15739372</th>\n",
       "      <td>74768853858</td>\n",
       "      <td>2015-03-12</td>\n",
       "      <td>30.46361</td>\n",
       "      <td>-88.53194</td>\n",
       "      <td>5.5</td>\n",
       "      <td>PASCAGOULA LOTT INTERNATIONAL AIRPORT, MS US</td>\n",
       "      <td>68.5</td>\n",
       "      <td>24</td>\n",
       "      <td>66.9</td>\n",
       "      <td>24</td>\n",
       "      <td>...</td>\n",
       "      <td>12.0</td>\n",
       "      <td>20.0</td>\n",
       "      <td>72.0</td>\n",
       "      <td>*</td>\n",
       "      <td>66.2</td>\n",
       "      <td>*</td>\n",
       "      <td>0.17</td>\n",
       "      <td>G</td>\n",
       "      <td>999.9</td>\n",
       "      <td>10000</td>\n",
       "    </tr>\n",
       "    <tr>\n",
       "      <th>5964365</th>\n",
       "      <td>72256399999</td>\n",
       "      <td>2004-04-14</td>\n",
       "      <td>31.48300</td>\n",
       "      <td>-97.31700</td>\n",
       "      <td>180.0</td>\n",
       "      <td>MC GREGOR EXECUTIVE, TX US</td>\n",
       "      <td>53.3</td>\n",
       "      <td>24</td>\n",
       "      <td>41.8</td>\n",
       "      <td>24</td>\n",
       "      <td>...</td>\n",
       "      <td>11.1</td>\n",
       "      <td>14.0</td>\n",
       "      <td>71.6</td>\n",
       "      <td>*</td>\n",
       "      <td>35.6</td>\n",
       "      <td>*</td>\n",
       "      <td>0.00</td>\n",
       "      <td>G</td>\n",
       "      <td>999.9</td>\n",
       "      <td>0</td>\n",
       "    </tr>\n",
       "    <tr>\n",
       "      <th>3707572</th>\n",
       "      <td>72231599999</td>\n",
       "      <td>2000-06-19</td>\n",
       "      <td>30.03300</td>\n",
       "      <td>-90.01700</td>\n",
       "      <td>2.0</td>\n",
       "      <td>LAKEFRONT, LA US</td>\n",
       "      <td>82.9</td>\n",
       "      <td>24</td>\n",
       "      <td>75.5</td>\n",
       "      <td>24</td>\n",
       "      <td>...</td>\n",
       "      <td>18.1</td>\n",
       "      <td>22.9</td>\n",
       "      <td>89.6</td>\n",
       "      <td>*</td>\n",
       "      <td>78.8</td>\n",
       "      <td>*</td>\n",
       "      <td>0.01</td>\n",
       "      <td>B</td>\n",
       "      <td>999.9</td>\n",
       "      <td>10010</td>\n",
       "    </tr>\n",
       "    <tr>\n",
       "      <th>4772590</th>\n",
       "      <td>72257699999</td>\n",
       "      <td>2002-12-05</td>\n",
       "      <td>31.06700</td>\n",
       "      <td>-97.83300</td>\n",
       "      <td>309.0</td>\n",
       "      <td>ROBERT GRAY ARMY AIR FIELD, TX US</td>\n",
       "      <td>38.0</td>\n",
       "      <td>24</td>\n",
       "      <td>30.1</td>\n",
       "      <td>24</td>\n",
       "      <td>...</td>\n",
       "      <td>15.9</td>\n",
       "      <td>18.1</td>\n",
       "      <td>48.2</td>\n",
       "      <td>*</td>\n",
       "      <td>33.8</td>\n",
       "      <td>*</td>\n",
       "      <td>0.04</td>\n",
       "      <td>G</td>\n",
       "      <td>999.9</td>\n",
       "      <td>0</td>\n",
       "    </tr>\n",
       "    <tr>\n",
       "      <th>12494034</th>\n",
       "      <td>72334703809</td>\n",
       "      <td>2012-06-02</td>\n",
       "      <td>36.00020</td>\n",
       "      <td>-89.40940</td>\n",
       "      <td>91.4</td>\n",
       "      <td>DYERSBURG MUNICIPAL AIRPORT, TN US</td>\n",
       "      <td>74.2</td>\n",
       "      <td>9</td>\n",
       "      <td>51.8</td>\n",
       "      <td>9</td>\n",
       "      <td>...</td>\n",
       "      <td>12.0</td>\n",
       "      <td>18.1</td>\n",
       "      <td>78.8</td>\n",
       "      <td>*</td>\n",
       "      <td>64.4</td>\n",
       "      <td>*</td>\n",
       "      <td>0.00</td>\n",
       "      <td>G</td>\n",
       "      <td>999.9</td>\n",
       "      <td>0</td>\n",
       "    </tr>\n",
       "    <tr>\n",
       "      <th>5510578</th>\n",
       "      <td>72467699999</td>\n",
       "      <td>2003-05-21</td>\n",
       "      <td>39.22300</td>\n",
       "      <td>-106.86900</td>\n",
       "      <td>2384.0</td>\n",
       "      <td>ASPEN PITKIN CO SARD, CO US</td>\n",
       "      <td>51.6</td>\n",
       "      <td>24</td>\n",
       "      <td>24.1</td>\n",
       "      <td>24</td>\n",
       "      <td>...</td>\n",
       "      <td>14.0</td>\n",
       "      <td>21.0</td>\n",
       "      <td>68.0</td>\n",
       "      <td></td>\n",
       "      <td>30.9</td>\n",
       "      <td></td>\n",
       "      <td>0.01</td>\n",
       "      <td>G</td>\n",
       "      <td>999.9</td>\n",
       "      <td>0</td>\n",
       "    </tr>\n",
       "    <tr>\n",
       "      <th>13898513</th>\n",
       "      <td>99770199999</td>\n",
       "      <td>2013-03-25</td>\n",
       "      <td>27.63000</td>\n",
       "      <td>-82.57000</td>\n",
       "      <td>3.0</td>\n",
       "      <td>PORT MANATEE, FL US</td>\n",
       "      <td>65.2</td>\n",
       "      <td>24</td>\n",
       "      <td>9999.9</td>\n",
       "      <td>0</td>\n",
       "      <td>...</td>\n",
       "      <td>999.9</td>\n",
       "      <td>999.9</td>\n",
       "      <td>72.5</td>\n",
       "      <td>*</td>\n",
       "      <td>60.3</td>\n",
       "      <td>*</td>\n",
       "      <td>0.00</td>\n",
       "      <td>I</td>\n",
       "      <td>999.9</td>\n",
       "      <td>0</td>\n",
       "    </tr>\n",
       "    <tr>\n",
       "      <th>99424</th>\n",
       "      <td>72274799999</td>\n",
       "      <td>1992-12-30</td>\n",
       "      <td>32.85000</td>\n",
       "      <td>-109.63300</td>\n",
       "      <td>968.0</td>\n",
       "      <td>SAFFORD REGIONAL, AZ US</td>\n",
       "      <td>53.3</td>\n",
       "      <td>24</td>\n",
       "      <td>50.1</td>\n",
       "      <td>24</td>\n",
       "      <td>...</td>\n",
       "      <td>4.9</td>\n",
       "      <td>999.9</td>\n",
       "      <td>59.0</td>\n",
       "      <td>*</td>\n",
       "      <td>46.9</td>\n",
       "      <td>*</td>\n",
       "      <td>0.00</td>\n",
       "      <td>I</td>\n",
       "      <td>999.9</td>\n",
       "      <td>0</td>\n",
       "    </tr>\n",
       "    <tr>\n",
       "      <th>15320327</th>\n",
       "      <td>72286893138</td>\n",
       "      <td>2015-01-08</td>\n",
       "      <td>33.82220</td>\n",
       "      <td>-116.50430</td>\n",
       "      <td>124.7</td>\n",
       "      <td>PALM SPRINGS ASOS, CA US</td>\n",
       "      <td>64.8</td>\n",
       "      <td>24</td>\n",
       "      <td>37.2</td>\n",
       "      <td>24</td>\n",
       "      <td>...</td>\n",
       "      <td>8.0</td>\n",
       "      <td>999.9</td>\n",
       "      <td>84.0</td>\n",
       "      <td></td>\n",
       "      <td>50.0</td>\n",
       "      <td></td>\n",
       "      <td>0.00</td>\n",
       "      <td>G</td>\n",
       "      <td>999.9</td>\n",
       "      <td>0</td>\n",
       "    </tr>\n",
       "    <tr>\n",
       "      <th>7833306</th>\n",
       "      <td>99999954796</td>\n",
       "      <td>2006-03-01</td>\n",
       "      <td>41.49110</td>\n",
       "      <td>-71.54130</td>\n",
       "      <td>35.1</td>\n",
       "      <td>KINGSTON 1 NW, RI US</td>\n",
       "      <td>26.1</td>\n",
       "      <td>24</td>\n",
       "      <td>9999.9</td>\n",
       "      <td>0</td>\n",
       "      <td>...</td>\n",
       "      <td>999.9</td>\n",
       "      <td>999.9</td>\n",
       "      <td>34.5</td>\n",
       "      <td></td>\n",
       "      <td>19.0</td>\n",
       "      <td></td>\n",
       "      <td>0.00</td>\n",
       "      <td>G</td>\n",
       "      <td>999.9</td>\n",
       "      <td>0</td>\n",
       "    </tr>\n",
       "  </tbody>\n",
       "</table>\n",
       "<p>10 rows × 28 columns</p>\n",
       "</div>"
      ],
      "text/plain": [
       "              STATION        DATE  LATITUDE  LONGITUDE  ELEVATION  \\\n",
       "15739372  74768853858  2015-03-12  30.46361  -88.53194        5.5   \n",
       "5964365   72256399999  2004-04-14  31.48300  -97.31700      180.0   \n",
       "3707572   72231599999  2000-06-19  30.03300  -90.01700        2.0   \n",
       "4772590   72257699999  2002-12-05  31.06700  -97.83300      309.0   \n",
       "12494034  72334703809  2012-06-02  36.00020  -89.40940       91.4   \n",
       "5510578   72467699999  2003-05-21  39.22300 -106.86900     2384.0   \n",
       "13898513  99770199999  2013-03-25  27.63000  -82.57000        3.0   \n",
       "99424     72274799999  1992-12-30  32.85000 -109.63300      968.0   \n",
       "15320327  72286893138  2015-01-08  33.82220 -116.50430      124.7   \n",
       "7833306   99999954796  2006-03-01  41.49110  -71.54130       35.1   \n",
       "\n",
       "                                                  NAME  TEMP  TEMP_ATTRIBUTES  \\\n",
       "15739372  PASCAGOULA LOTT INTERNATIONAL AIRPORT, MS US  68.5               24   \n",
       "5964365                     MC GREGOR EXECUTIVE, TX US  53.3               24   \n",
       "3707572                               LAKEFRONT, LA US  82.9               24   \n",
       "4772590              ROBERT GRAY ARMY AIR FIELD, TX US  38.0               24   \n",
       "12494034            DYERSBURG MUNICIPAL AIRPORT, TN US  74.2                9   \n",
       "5510578                    ASPEN PITKIN CO SARD, CO US  51.6               24   \n",
       "13898513                           PORT MANATEE, FL US  65.2               24   \n",
       "99424                          SAFFORD REGIONAL, AZ US  53.3               24   \n",
       "15320327                      PALM SPRINGS ASOS, CA US  64.8               24   \n",
       "7833306                           KINGSTON 1 NW, RI US  26.1               24   \n",
       "\n",
       "            DEWP  DEWP_ATTRIBUTES  ...  MXSPD   GUST   MAX  MAX_ATTRIBUTES  \\\n",
       "15739372    66.9               24  ...   12.0   20.0  72.0               *   \n",
       "5964365     41.8               24  ...   11.1   14.0  71.6               *   \n",
       "3707572     75.5               24  ...   18.1   22.9  89.6               *   \n",
       "4772590     30.1               24  ...   15.9   18.1  48.2               *   \n",
       "12494034    51.8                9  ...   12.0   18.1  78.8               *   \n",
       "5510578     24.1               24  ...   14.0   21.0  68.0                   \n",
       "13898513  9999.9                0  ...  999.9  999.9  72.5               *   \n",
       "99424       50.1               24  ...    4.9  999.9  59.0               *   \n",
       "15320327    37.2               24  ...    8.0  999.9  84.0                   \n",
       "7833306   9999.9                0  ...  999.9  999.9  34.5                   \n",
       "\n",
       "           MIN  MIN_ATTRIBUTES  PRCP  PRCP_ATTRIBUTES   SNDP  FRSHTT  \n",
       "15739372  66.2               *  0.17                G  999.9   10000  \n",
       "5964365   35.6               *  0.00                G  999.9       0  \n",
       "3707572   78.8               *  0.01                B  999.9   10010  \n",
       "4772590   33.8               *  0.04                G  999.9       0  \n",
       "12494034  64.4               *  0.00                G  999.9       0  \n",
       "5510578   30.9                  0.01                G  999.9       0  \n",
       "13898513  60.3               *  0.00                I  999.9       0  \n",
       "99424     46.9               *  0.00                I  999.9       0  \n",
       "15320327  50.0                  0.00                G  999.9       0  \n",
       "7833306   19.0                  0.00                G  999.9       0  \n",
       "\n",
       "[10 rows x 28 columns]"
      ]
     },
     "execution_count": 3,
     "metadata": {},
     "output_type": "execute_result"
    }
   ],
   "source": [
    "df = pd.read_csv(\"the_merge.csv\") # importing data from the merge\n",
    "df.sample(10)"
   ]
  },
  {
   "cell_type": "markdown",
   "metadata": {
    "id": "-v1m19CY7ONX",
    "pycharm": {
     "name": "#%% md\n"
    }
   },
   "source": [
    "FIELD            DESCRIPTION\n",
    "\n",
    "STATION - Station number (WMO/DATSAV3 possibly combined w/WBAN number) \n",
    "\n",
    "DATE - Given in mm/dd/yyyy format\n",
    "\n",
    "LATITUDE - Given in decimated degrees (Southern Hemisphere values are negative)\n",
    "\n",
    "LONGITUDE - Given in decimated degrees (Western Hemisphere values are negative)\n",
    "\n",
    "ELEVATION - Given in meters\n",
    "\n",
    "NAME - Name of station/airport/military base\n",
    "\n",
    "TEMP - Mean temperature for the day in degrees Fahrenheit to tenths. Missing = 9999.9\n",
    "\n",
    "TEMP_ATTRIBUTES - Number of observations used in calculating mean temperature.\n",
    "\n",
    "DEWP - Mean dew point for the day in degrees Fahrenheit to tenths. Missing = 9999.9\n",
    "\n",
    "DEWP_ATTRIBUTES - Number of observations used in calculating mean dew point.  \n",
    "\n",
    "SLP - Mean sea level pressure for the day in millibars to tenths. Missing = 9999.9\n",
    "\n",
    "SLP_ATTRIBUTES - Number of observations used in calculating mean sea level pressure.\n",
    "\n",
    "STP - Mean station pressure for the day in millibars to tenths. Missing = 9999.9\n",
    "\n",
    "STP_ATTRIBUTES - Number of observations used in calculating mean station pressure.  \n",
    "\n",
    "VISIB - Mean visibility for the day in miles to tenths. Missing = 999.9\n",
    "\n",
    "VISIB_ATTRIBUTES - Number of observations used in calculating mean visibility.      \n",
    "\n",
    "WDSP - Mean wind speed for the day in knots to tenths.  Missing = 999.9 \n",
    "\n",
    "WDSP_ATTRIBUTES - Number of observations used in calculating mean wind speed.\n",
    "\n",
    "MXSPD - Maximum sustained wind speed reported for the day in knots to tenths. Missing = \n",
    "999.9\n",
    "\n",
    "GUST - Maximum wind gust reported for the day in knots to tenths.  Missing = 999.9\n",
    "\n",
    "MAX - Maximum temperature reported during the day in Fahrenheit to tenths. Missing = 9999.9\n"
   ]
  },
  {
   "cell_type": "code",
   "execution_count": 4,
   "metadata": {
    "id": "h2FVGHxH79Ws",
    "pycharm": {
     "name": "#%%\n"
    }
   },
   "outputs": [],
   "source": [
    "column2drop = ['TEMP_ATTRIBUTES', 'DEWP_ATTRIBUTES', 'SLP_ATTRIBUTES', 'STP_ATTRIBUTES', 'VISIB_ATTRIBUTES', 'WDSP_ATTRIBUTES']\n",
    "df.drop(column2drop, axis = 1, inplace=True) #droping non relevant data for the merge"
   ]
  },
  {
   "cell_type": "code",
   "execution_count": 5,
   "metadata": {
    "id": "3kxZeEU4JrVF",
    "pycharm": {
     "name": "#%%\n"
    }
   },
   "outputs": [],
   "source": [
    "# setting the missing data to nan\n",
    "df.loc[df['TEMP'] == 9999.9, 'TEMP'] = np.nan\n",
    "df.loc[df['DEWP'] == 9999.9, 'DEWP'] = np.nan\n",
    "df.loc[df['SLP'] == 9999.9, 'SLP'] = np.nan\n",
    "df.loc[df['STP'] == 9999.9, 'STP'] = np.nan\n",
    "df.loc[df['VISIB'] == 999.9, 'VISIB'] = np.nan\n",
    "df.loc[df['WDSP'] == 999.9, 'WDSP'] = np.nan\n",
    "df.loc[df['MXSPD'] == 999.9, 'MXSPD'] = np.nan\n",
    "df.loc[df['GUST'] == 999.9, 'GUST'] = np.nan\n",
    "df.loc[df['MAX'] == 9999.9, 'MAX'] = np.nan"
   ]
  },
  {
   "cell_type": "markdown",
   "metadata": {
    "id": "ztFAWfK89EGM",
    "pycharm": {
     "name": "#%% md\n"
    }
   },
   "source": [
    "### B - The fire prédiction model"
   ]
  },
  {
   "cell_type": "code",
   "execution_count": 6,
   "metadata": {
    "colab": {
     "base_uri": "https://localhost:8080/",
     "height": 576
    },
    "id": "XY9-lNlW97T6",
    "outputId": "3d737a8a-d4f6-4619-d5e2-1fc038ae6635",
    "pycharm": {
     "name": "#%%\n"
    }
   },
   "outputs": [
    {
     "name": "stderr",
     "output_type": "stream",
     "text": [
      "/tmp/ipykernel_164561/3696251853.py:1: DtypeWarning: Columns (8,10,11,12,13,14,15,16,17,18,35,37) have mixed types. Specify dtype option on import or set low_memory=False.\n",
      "  df_fire = pd.read_csv('fires.csv')\n"
     ]
    },
    {
     "data": {
      "text/html": [
       "<div>\n",
       "<style scoped>\n",
       "    .dataframe tbody tr th:only-of-type {\n",
       "        vertical-align: middle;\n",
       "    }\n",
       "\n",
       "    .dataframe tbody tr th {\n",
       "        vertical-align: top;\n",
       "    }\n",
       "\n",
       "    .dataframe thead th {\n",
       "        text-align: right;\n",
       "    }\n",
       "</style>\n",
       "<table border=\"1\" class=\"dataframe\">\n",
       "  <thead>\n",
       "    <tr style=\"text-align: right;\">\n",
       "      <th></th>\n",
       "      <th>OBJECTID</th>\n",
       "      <th>FOD_ID</th>\n",
       "      <th>FPA_ID</th>\n",
       "      <th>SOURCE_SYSTEM_TYPE</th>\n",
       "      <th>SOURCE_SYSTEM</th>\n",
       "      <th>NWCG_REPORTING_AGENCY</th>\n",
       "      <th>NWCG_REPORTING_UNIT_ID</th>\n",
       "      <th>NWCG_REPORTING_UNIT_NAME</th>\n",
       "      <th>SOURCE_REPORTING_UNIT</th>\n",
       "      <th>SOURCE_REPORTING_UNIT_NAME</th>\n",
       "      <th>...</th>\n",
       "      <th>FIRE_SIZE_CLASS</th>\n",
       "      <th>LATITUDE</th>\n",
       "      <th>LONGITUDE</th>\n",
       "      <th>OWNER_CODE</th>\n",
       "      <th>OWNER_DESCR</th>\n",
       "      <th>STATE</th>\n",
       "      <th>COUNTY</th>\n",
       "      <th>FIPS_CODE</th>\n",
       "      <th>FIPS_NAME</th>\n",
       "      <th>Shape</th>\n",
       "    </tr>\n",
       "  </thead>\n",
       "  <tbody>\n",
       "    <tr>\n",
       "      <th>0</th>\n",
       "      <td>1</td>\n",
       "      <td>1</td>\n",
       "      <td>FS-1418826</td>\n",
       "      <td>FED</td>\n",
       "      <td>FS-FIRESTAT</td>\n",
       "      <td>FS</td>\n",
       "      <td>USCAPNF</td>\n",
       "      <td>Plumas National Forest</td>\n",
       "      <td>511</td>\n",
       "      <td>Plumas National Forest</td>\n",
       "      <td>...</td>\n",
       "      <td>A</td>\n",
       "      <td>40.036944</td>\n",
       "      <td>-121.005833</td>\n",
       "      <td>5.0</td>\n",
       "      <td>USFS</td>\n",
       "      <td>CA</td>\n",
       "      <td>63.0</td>\n",
       "      <td>63.0</td>\n",
       "      <td>Plumas</td>\n",
       "      <td>AAGtEAAA6GTCkl9AXsDgyGyYugREQOhkwpJfQF7A4MhsmL...</td>\n",
       "    </tr>\n",
       "    <tr>\n",
       "      <th>1</th>\n",
       "      <td>2</td>\n",
       "      <td>2</td>\n",
       "      <td>FS-1418827</td>\n",
       "      <td>FED</td>\n",
       "      <td>FS-FIRESTAT</td>\n",
       "      <td>FS</td>\n",
       "      <td>USCAENF</td>\n",
       "      <td>Eldorado National Forest</td>\n",
       "      <td>503</td>\n",
       "      <td>Eldorado National Forest</td>\n",
       "      <td>...</td>\n",
       "      <td>A</td>\n",
       "      <td>38.933056</td>\n",
       "      <td>-120.404444</td>\n",
       "      <td>5.0</td>\n",
       "      <td>USFS</td>\n",
       "      <td>CA</td>\n",
       "      <td>61.0</td>\n",
       "      <td>61.0</td>\n",
       "      <td>Placer</td>\n",
       "      <td>AAGtEAAAVLbuauIZXsCQxlVdbndDQFS27mriGV7AkMZVXW...</td>\n",
       "    </tr>\n",
       "    <tr>\n",
       "      <th>2</th>\n",
       "      <td>3</td>\n",
       "      <td>3</td>\n",
       "      <td>FS-1418835</td>\n",
       "      <td>FED</td>\n",
       "      <td>FS-FIRESTAT</td>\n",
       "      <td>FS</td>\n",
       "      <td>USCAENF</td>\n",
       "      <td>Eldorado National Forest</td>\n",
       "      <td>503</td>\n",
       "      <td>Eldorado National Forest</td>\n",
       "      <td>...</td>\n",
       "      <td>A</td>\n",
       "      <td>38.984167</td>\n",
       "      <td>-120.735556</td>\n",
       "      <td>13.0</td>\n",
       "      <td>STATE OR PRIVATE</td>\n",
       "      <td>CA</td>\n",
       "      <td>17.0</td>\n",
       "      <td>17.0</td>\n",
       "      <td>El Dorado</td>\n",
       "      <td>AAGtEAAA0KWgVxMvXsBQu2Ys+X1DQNCloFcTL17AULtmLP...</td>\n",
       "    </tr>\n",
       "    <tr>\n",
       "      <th>3</th>\n",
       "      <td>4</td>\n",
       "      <td>4</td>\n",
       "      <td>FS-1418845</td>\n",
       "      <td>FED</td>\n",
       "      <td>FS-FIRESTAT</td>\n",
       "      <td>FS</td>\n",
       "      <td>USCAENF</td>\n",
       "      <td>Eldorado National Forest</td>\n",
       "      <td>503</td>\n",
       "      <td>Eldorado National Forest</td>\n",
       "      <td>...</td>\n",
       "      <td>A</td>\n",
       "      <td>38.559167</td>\n",
       "      <td>-119.913333</td>\n",
       "      <td>5.0</td>\n",
       "      <td>USFS</td>\n",
       "      <td>CA</td>\n",
       "      <td>3.0</td>\n",
       "      <td>3.0</td>\n",
       "      <td>Alpine</td>\n",
       "      <td>AAGtEAAAlKyjDXT6XcDoVADGkkdDQJSsow10+l3A6FQAxp...</td>\n",
       "    </tr>\n",
       "    <tr>\n",
       "      <th>4</th>\n",
       "      <td>5</td>\n",
       "      <td>5</td>\n",
       "      <td>FS-1418847</td>\n",
       "      <td>FED</td>\n",
       "      <td>FS-FIRESTAT</td>\n",
       "      <td>FS</td>\n",
       "      <td>USCAENF</td>\n",
       "      <td>Eldorado National Forest</td>\n",
       "      <td>503</td>\n",
       "      <td>Eldorado National Forest</td>\n",
       "      <td>...</td>\n",
       "      <td>A</td>\n",
       "      <td>38.559167</td>\n",
       "      <td>-119.933056</td>\n",
       "      <td>5.0</td>\n",
       "      <td>USFS</td>\n",
       "      <td>CA</td>\n",
       "      <td>3.0</td>\n",
       "      <td>3.0</td>\n",
       "      <td>Alpine</td>\n",
       "      <td>AAGtEAAAQOOqLrf7XcDoVADGkkdDQEDjqi63+13A6FQAxp...</td>\n",
       "    </tr>\n",
       "    <tr>\n",
       "      <th>...</th>\n",
       "      <td>...</td>\n",
       "      <td>...</td>\n",
       "      <td>...</td>\n",
       "      <td>...</td>\n",
       "      <td>...</td>\n",
       "      <td>...</td>\n",
       "      <td>...</td>\n",
       "      <td>...</td>\n",
       "      <td>...</td>\n",
       "      <td>...</td>\n",
       "      <td>...</td>\n",
       "      <td>...</td>\n",
       "      <td>...</td>\n",
       "      <td>...</td>\n",
       "      <td>...</td>\n",
       "      <td>...</td>\n",
       "      <td>...</td>\n",
       "      <td>...</td>\n",
       "      <td>...</td>\n",
       "      <td>...</td>\n",
       "      <td>...</td>\n",
       "    </tr>\n",
       "    <tr>\n",
       "      <th>1880460</th>\n",
       "      <td>1880461</td>\n",
       "      <td>300348363</td>\n",
       "      <td>2015CAIRS29019636</td>\n",
       "      <td>NONFED</td>\n",
       "      <td>ST-CACDF</td>\n",
       "      <td>ST/C&amp;L</td>\n",
       "      <td>USCASHU</td>\n",
       "      <td>Shasta-Trinity Unit</td>\n",
       "      <td>CASHU</td>\n",
       "      <td>Shasta-Trinity Unit</td>\n",
       "      <td>...</td>\n",
       "      <td>A</td>\n",
       "      <td>40.481637</td>\n",
       "      <td>-122.389375</td>\n",
       "      <td>13.0</td>\n",
       "      <td>STATE OR PRIVATE</td>\n",
       "      <td>CA</td>\n",
       "      <td>NaN</td>\n",
       "      <td>NaN</td>\n",
       "      <td>NaN</td>\n",
       "      <td>AAGtEAAAULgeheuYXsCYxf1Hpj1EQFC4HoXrmF7AmMX9R6...</td>\n",
       "    </tr>\n",
       "    <tr>\n",
       "      <th>1880461</th>\n",
       "      <td>1880462</td>\n",
       "      <td>300348373</td>\n",
       "      <td>2015CAIRS29217935</td>\n",
       "      <td>NONFED</td>\n",
       "      <td>ST-CACDF</td>\n",
       "      <td>ST/C&amp;L</td>\n",
       "      <td>USCATCU</td>\n",
       "      <td>Tuolumne-Calaveras Unit</td>\n",
       "      <td>CATCU</td>\n",
       "      <td>Tuolumne-Calaveras Unit</td>\n",
       "      <td>...</td>\n",
       "      <td>A</td>\n",
       "      <td>37.617619</td>\n",
       "      <td>-120.938570</td>\n",
       "      <td>12.0</td>\n",
       "      <td>MUNICIPAL/LOCAL</td>\n",
       "      <td>CA</td>\n",
       "      <td>NaN</td>\n",
       "      <td>NaN</td>\n",
       "      <td>NaN</td>\n",
       "      <td>AAGtEAAAAIC+iBE8XsCoygYlDs9CQACAvogRPF7AqMoGJQ...</td>\n",
       "    </tr>\n",
       "    <tr>\n",
       "      <th>1880462</th>\n",
       "      <td>1880463</td>\n",
       "      <td>300348375</td>\n",
       "      <td>2015CAIRS28364460</td>\n",
       "      <td>NONFED</td>\n",
       "      <td>ST-CACDF</td>\n",
       "      <td>ST/C&amp;L</td>\n",
       "      <td>USCATCU</td>\n",
       "      <td>Tuolumne-Calaveras Unit</td>\n",
       "      <td>CATCU</td>\n",
       "      <td>Tuolumne-Calaveras Unit</td>\n",
       "      <td>...</td>\n",
       "      <td>A</td>\n",
       "      <td>37.617619</td>\n",
       "      <td>-120.938570</td>\n",
       "      <td>12.0</td>\n",
       "      <td>MUNICIPAL/LOCAL</td>\n",
       "      <td>CA</td>\n",
       "      <td>NaN</td>\n",
       "      <td>NaN</td>\n",
       "      <td>NaN</td>\n",
       "      <td>AAGtEAAAAIC+iBE8XsCoygYlDs9CQACAvogRPF7AqMoGJQ...</td>\n",
       "    </tr>\n",
       "    <tr>\n",
       "      <th>1880463</th>\n",
       "      <td>1880464</td>\n",
       "      <td>300348377</td>\n",
       "      <td>2015CAIRS29218079</td>\n",
       "      <td>NONFED</td>\n",
       "      <td>ST-CACDF</td>\n",
       "      <td>ST/C&amp;L</td>\n",
       "      <td>USCATCU</td>\n",
       "      <td>Tuolumne-Calaveras Unit</td>\n",
       "      <td>CATCU</td>\n",
       "      <td>Tuolumne-Calaveras Unit</td>\n",
       "      <td>...</td>\n",
       "      <td>B</td>\n",
       "      <td>37.672235</td>\n",
       "      <td>-120.898356</td>\n",
       "      <td>12.0</td>\n",
       "      <td>MUNICIPAL/LOCAL</td>\n",
       "      <td>CA</td>\n",
       "      <td>NaN</td>\n",
       "      <td>NaN</td>\n",
       "      <td>NaN</td>\n",
       "      <td>AAGtEAAAeLpfqn45XsC4ZEzJC9ZCQHi6X6p+OV7AuGRMyQ...</td>\n",
       "    </tr>\n",
       "    <tr>\n",
       "      <th>1880464</th>\n",
       "      <td>1880465</td>\n",
       "      <td>300348399</td>\n",
       "      <td>2015CAIRS26733926</td>\n",
       "      <td>NONFED</td>\n",
       "      <td>ST-CACDF</td>\n",
       "      <td>ST/C&amp;L</td>\n",
       "      <td>USCABDU</td>\n",
       "      <td>San Bernardino Unit</td>\n",
       "      <td>CABDU</td>\n",
       "      <td>CDF - San Bernardino Unit</td>\n",
       "      <td>...</td>\n",
       "      <td>A</td>\n",
       "      <td>34.263217</td>\n",
       "      <td>-116.830950</td>\n",
       "      <td>13.0</td>\n",
       "      <td>STATE OR PRIVATE</td>\n",
       "      <td>CA</td>\n",
       "      <td>NaN</td>\n",
       "      <td>NaN</td>\n",
       "      <td>NaN</td>\n",
       "      <td>AAGtEAAAHKfoSC41XcAwYDsYsSFBQByn6EguNV3AMGA7GL...</td>\n",
       "    </tr>\n",
       "  </tbody>\n",
       "</table>\n",
       "<p>1880465 rows × 39 columns</p>\n",
       "</div>"
      ],
      "text/plain": [
       "         OBJECTID     FOD_ID             FPA_ID SOURCE_SYSTEM_TYPE  \\\n",
       "0               1          1         FS-1418826                FED   \n",
       "1               2          2         FS-1418827                FED   \n",
       "2               3          3         FS-1418835                FED   \n",
       "3               4          4         FS-1418845                FED   \n",
       "4               5          5         FS-1418847                FED   \n",
       "...           ...        ...                ...                ...   \n",
       "1880460   1880461  300348363  2015CAIRS29019636             NONFED   \n",
       "1880461   1880462  300348373  2015CAIRS29217935             NONFED   \n",
       "1880462   1880463  300348375  2015CAIRS28364460             NONFED   \n",
       "1880463   1880464  300348377  2015CAIRS29218079             NONFED   \n",
       "1880464   1880465  300348399  2015CAIRS26733926             NONFED   \n",
       "\n",
       "        SOURCE_SYSTEM NWCG_REPORTING_AGENCY NWCG_REPORTING_UNIT_ID  \\\n",
       "0         FS-FIRESTAT                    FS                USCAPNF   \n",
       "1         FS-FIRESTAT                    FS                USCAENF   \n",
       "2         FS-FIRESTAT                    FS                USCAENF   \n",
       "3         FS-FIRESTAT                    FS                USCAENF   \n",
       "4         FS-FIRESTAT                    FS                USCAENF   \n",
       "...               ...                   ...                    ...   \n",
       "1880460      ST-CACDF                ST/C&L                USCASHU   \n",
       "1880461      ST-CACDF                ST/C&L                USCATCU   \n",
       "1880462      ST-CACDF                ST/C&L                USCATCU   \n",
       "1880463      ST-CACDF                ST/C&L                USCATCU   \n",
       "1880464      ST-CACDF                ST/C&L                USCABDU   \n",
       "\n",
       "         NWCG_REPORTING_UNIT_NAME SOURCE_REPORTING_UNIT  \\\n",
       "0          Plumas National Forest                   511   \n",
       "1        Eldorado National Forest                   503   \n",
       "2        Eldorado National Forest                   503   \n",
       "3        Eldorado National Forest                   503   \n",
       "4        Eldorado National Forest                   503   \n",
       "...                           ...                   ...   \n",
       "1880460       Shasta-Trinity Unit                 CASHU   \n",
       "1880461   Tuolumne-Calaveras Unit                 CATCU   \n",
       "1880462   Tuolumne-Calaveras Unit                 CATCU   \n",
       "1880463   Tuolumne-Calaveras Unit                 CATCU   \n",
       "1880464       San Bernardino Unit                 CABDU   \n",
       "\n",
       "        SOURCE_REPORTING_UNIT_NAME  ... FIRE_SIZE_CLASS   LATITUDE  \\\n",
       "0           Plumas National Forest  ...               A  40.036944   \n",
       "1         Eldorado National Forest  ...               A  38.933056   \n",
       "2         Eldorado National Forest  ...               A  38.984167   \n",
       "3         Eldorado National Forest  ...               A  38.559167   \n",
       "4         Eldorado National Forest  ...               A  38.559167   \n",
       "...                            ...  ...             ...        ...   \n",
       "1880460        Shasta-Trinity Unit  ...               A  40.481637   \n",
       "1880461    Tuolumne-Calaveras Unit  ...               A  37.617619   \n",
       "1880462    Tuolumne-Calaveras Unit  ...               A  37.617619   \n",
       "1880463    Tuolumne-Calaveras Unit  ...               B  37.672235   \n",
       "1880464  CDF - San Bernardino Unit  ...               A  34.263217   \n",
       "\n",
       "          LONGITUDE OWNER_CODE       OWNER_DESCR STATE COUNTY FIPS_CODE  \\\n",
       "0       -121.005833        5.0              USFS    CA   63.0      63.0   \n",
       "1       -120.404444        5.0              USFS    CA   61.0      61.0   \n",
       "2       -120.735556       13.0  STATE OR PRIVATE    CA   17.0      17.0   \n",
       "3       -119.913333        5.0              USFS    CA    3.0       3.0   \n",
       "4       -119.933056        5.0              USFS    CA    3.0       3.0   \n",
       "...             ...        ...               ...   ...    ...       ...   \n",
       "1880460 -122.389375       13.0  STATE OR PRIVATE    CA    NaN       NaN   \n",
       "1880461 -120.938570       12.0   MUNICIPAL/LOCAL    CA    NaN       NaN   \n",
       "1880462 -120.938570       12.0   MUNICIPAL/LOCAL    CA    NaN       NaN   \n",
       "1880463 -120.898356       12.0   MUNICIPAL/LOCAL    CA    NaN       NaN   \n",
       "1880464 -116.830950       13.0  STATE OR PRIVATE    CA    NaN       NaN   \n",
       "\n",
       "         FIPS_NAME                                              Shape  \n",
       "0           Plumas  AAGtEAAA6GTCkl9AXsDgyGyYugREQOhkwpJfQF7A4MhsmL...  \n",
       "1           Placer  AAGtEAAAVLbuauIZXsCQxlVdbndDQFS27mriGV7AkMZVXW...  \n",
       "2        El Dorado  AAGtEAAA0KWgVxMvXsBQu2Ys+X1DQNCloFcTL17AULtmLP...  \n",
       "3           Alpine  AAGtEAAAlKyjDXT6XcDoVADGkkdDQJSsow10+l3A6FQAxp...  \n",
       "4           Alpine  AAGtEAAAQOOqLrf7XcDoVADGkkdDQEDjqi63+13A6FQAxp...  \n",
       "...            ...                                                ...  \n",
       "1880460        NaN  AAGtEAAAULgeheuYXsCYxf1Hpj1EQFC4HoXrmF7AmMX9R6...  \n",
       "1880461        NaN  AAGtEAAAAIC+iBE8XsCoygYlDs9CQACAvogRPF7AqMoGJQ...  \n",
       "1880462        NaN  AAGtEAAAAIC+iBE8XsCoygYlDs9CQACAvogRPF7AqMoGJQ...  \n",
       "1880463        NaN  AAGtEAAAeLpfqn45XsC4ZEzJC9ZCQHi6X6p+OV7AuGRMyQ...  \n",
       "1880464        NaN  AAGtEAAAHKfoSC41XcAwYDsYsSFBQByn6EguNV3AMGA7GL...  \n",
       "\n",
       "[1880465 rows x 39 columns]"
      ]
     },
     "execution_count": 6,
     "metadata": {},
     "output_type": "execute_result"
    }
   ],
   "source": [
    "df_fire = pd.read_csv('fires.csv') #importing fire data\n",
    "df_fire"
   ]
  },
  {
   "cell_type": "code",
   "execution_count": 7,
   "metadata": {
    "id": "vhSNCRku7Pho",
    "pycharm": {
     "name": "#%%\n"
    }
   },
   "outputs": [],
   "source": [
    "#cleaning data\n",
    "type = {\"FIRE_CODE\" : \"str\", \"FIRE_NAME\" : \"str\", \"STATE\" : \"str\"} #mixed type management\n",
    "df_fire = df_fire.astype(type)\n",
    "\n",
    "# deletion on unrelevent column\n",
    "df_fire = df_fire.drop(['OBJECTID',\n",
    "                        'FOD_ID', \n",
    "                        'FPA_ID', \n",
    "                        'SOURCE_SYSTEM_TYPE', \n",
    "                        'SOURCE_SYSTEM',\n",
    "                        'NWCG_REPORTING_AGENCY', \n",
    "                        'NWCG_REPORTING_UNIT_ID',\n",
    "                        'NWCG_REPORTING_UNIT_NAME', \n",
    "                        'SOURCE_REPORTING_UNIT',\n",
    "                        'SOURCE_REPORTING_UNIT_NAME', \n",
    "                        'LOCAL_FIRE_REPORT_ID',\n",
    "                        'LOCAL_INCIDENT_ID', \n",
    "                        'FIRE_CODE', \n",
    "                        'FIRE_NAME',\n",
    "                        'ICS_209_INCIDENT_NUMBER', \n",
    "                        'ICS_209_NAME', \n",
    "                        'MTBS_ID', \n",
    "                        'MTBS_FIRE_NAME',\n",
    "                        'COMPLEX_NAME', \n",
    "                        'FIRE_YEAR', \n",
    "                        'DISCOVERY_DOY',\n",
    "                        'DISCOVERY_TIME', \n",
    "                        'STAT_CAUSE_CODE', \n",
    "                        'STAT_CAUSE_DESCR', \n",
    "                        'CONT_DATE',\n",
    "                        'CONT_DOY', \n",
    "                        'CONT_TIME', \n",
    "                        'FIRE_SIZE', \n",
    "                        'FIRE_SIZE_CLASS', \n",
    "                        'LATITUDE',\n",
    "                        'LONGITUDE', \n",
    "                        'OWNER_CODE', \n",
    "                        'OWNER_DESCR', \n",
    "                        'COUNTY',\n",
    "                        'FIPS_CODE', \n",
    "                        'FIPS_NAME', \n",
    "                        'Shape'], axis=1)\n",
    "\n",
    "df_fire['DISCOVERY_DATE'] = pd.to_datetime(df_fire['DISCOVERY_DATE'] - pd.Timestamp(0).to_julian_date(), unit='D') #date formating"
   ]
  },
  {
   "cell_type": "markdown",
   "metadata": {
    "id": "owbBRBHjC-34",
    "pycharm": {
     "name": "#%% md\n"
    }
   },
   "source": [
    "### C - Compiling datas"
   ]
  },
  {
   "cell_type": "code",
   "execution_count": 8,
   "metadata": {
    "id": "PZlhO8b0BXdp",
    "pycharm": {
     "name": "#%%\n"
    }
   },
   "outputs": [],
   "source": [
    "df['STATE'] = df['NAME'].apply(lambda x : x[-5:-3]) #getting the state "
   ]
  },
  {
   "cell_type": "code",
   "execution_count": 9,
   "metadata": {
    "id": "YE-u9Pm_sLHS",
    "pycharm": {
     "name": "#%%\n"
    }
   },
   "outputs": [],
   "source": [
    "list_true_false = [',' in entry for entry in df['STATE']] #list to get rid of station that's are not within the ordinary boundary of a state (ie : marine station or remote islands)\n",
    "\n",
    "df.drop(index=df.loc[list_true_false].index, inplace=True)"
   ]
  },
  {
   "cell_type": "code",
   "execution_count": 17,
   "metadata": {
    "id": "ZS30cDNhElpm",
    "pycharm": {
     "name": "#%%\n"
    }
   },
   "outputs": [],
   "source": [
    "df_state = df.groupby(by = ['STATE', 'DATE']).mean() #groupingby the meteo data\n",
    "df_fire['fire'] = 1\n",
    "df_fire.rename(columns={'DISCOVERY_DATE' : 'DATE'}, inplace=True) #groupingby the fire\n",
    "df_fire_grouped = df_fire.groupby(by = ['STATE', 'DATE']).mean()"
   ]
  },
  {
   "cell_type": "code",
   "execution_count": 23,
   "metadata": {
    "pycharm": {
     "name": "#%%\n"
    }
   },
   "outputs": [],
   "source": [
    "df_combined = df_state.merge(right = df_fire_grouped, right_index=True, left_index=True, how='left') #last merge on their index"
   ]
  },
  {
   "cell_type": "code",
   "execution_count": 26,
   "metadata": {
    "pycharm": {
     "name": "#%%\n"
    }
   },
   "outputs": [],
   "source": [
    "df_combined['fire'] = df_combined['fire'].fillna(0) #geting ride of nan (no fire = 0)"
   ]
  },
  {
   "cell_type": "code",
   "execution_count": 31,
   "metadata": {
    "pycharm": {
     "name": "#%%\n"
    }
   },
   "outputs": [],
   "source": [
    "df_combined['fire'] = df_combined['fire'].astype(int) #setting it to int\n",
    "df_combined.to_csv('combined-data.csv') #export for the team"
   ]
  },
  {
   "cell_type": "markdown",
   "metadata": {
    "pycharm": {
     "name": "#%% md\n"
    }
   },
   "source": [
    "# 4 - Model building\n"
   ]
  },
  {
   "cell_type": "markdown",
   "metadata": {
    "pycharm": {
     "name": "#%% md\n"
    }
   },
   "source": [
    "## 4.1 - Reduction with ACP"
   ]
  },
  {
   "cell_type": "markdown",
   "metadata": {
    "pycharm": {
     "name": "#%% md\n"
    }
   },
   "source": [
    "Anticipating that model generation could be important I decided to see what can be achieved with basic reduction."
   ]
  },
  {
   "cell_type": "code",
   "execution_count": 66,
   "metadata": {
    "pycharm": {
     "name": "#%%\n"
    }
   },
   "outputs": [],
   "source": [
    "df = pd.read_csv('combined-data.csv')\n",
    "df_ACP = df.dropna()"
   ]
  },
  {
   "cell_type": "code",
   "execution_count": 5,
   "metadata": {
    "pycharm": {
     "name": "#%%\n"
    }
   },
   "outputs": [],
   "source": [
    "def the_acp_reductionner(df_ACP):\n",
    "    scaler = StandardScaler()\n",
    "    target = df_ACP['fire']\n",
    "    pca = PCA()\n",
    "    df_norm = scaler.fit_transform(df_ACP)\n",
    "    Coord = pca.fit_transform(df_norm)\n",
    "\n",
    "    return (pca, Coord, target)\n",
    "\n",
    "pca_AK, coord_AK, target_AK = the_acp_reductionner(df.loc[df['STATE'] == 'AK'].drop(['STATE', 'DATE', 'LONGITUDE', 'LATITUDE'], axis=1).dropna())\n"
   ]
  },
  {
   "cell_type": "code",
   "execution_count": 6,
   "metadata": {
    "pycharm": {
     "name": "#%%\n"
    }
   },
   "outputs": [
    {
     "data": {
      "image/png": "[encoded data removed]",
      "text/plain": [
       "<Figure size 432x288 with 1 Axes>"
      ]
     },
     "metadata": {
      "needs_background": "light"
     },
     "output_type": "display_data"
    }
   ],
   "source": [
    "plt.plot(np.arange(1, 16), pca_AK.explained_variance_)\n",
    "plt.xlabel('Nombre de facteur')\n",
    "plt.ylabel('Valeurs propres');"
   ]
  },
  {
   "cell_type": "code",
   "execution_count": 32,
   "metadata": {
    "pycharm": {
     "name": "#%%\n"
    }
   },
   "outputs": [
    {
     "name": "stderr",
     "output_type": "stream",
     "text": [
      "/usr/local/lib/python3.8/dist-packages/seaborn/_decorators.py:36: FutureWarning: Pass the following variables as keyword args: x, y. From version 0.12, the only valid positional argument will be `data`, and passing other arguments without an explicit keyword will result in an error or misinterpretation.\n",
      "  warnings.warn(\n"
     ]
    },
    {
     "data": {
      "image/png": "[encoded data removed]",
      "text/plain": [
       "<Figure size 432x288 with 1 Axes>"
      ]
     },
     "metadata": {
      "needs_background": "light"
     },
     "output_type": "display_data"
    }
   ],
   "source": [
    "PCA_mat = pd.DataFrame({'AXE 1': coord_AK[:, 0], 'AXE 2': coord_AK[:, 1], 'target': target_AK})\n",
    "sns.scatterplot('AXE 1', 'AXE 2', hue='target', data=PCA_mat);"
   ]
  },
  {
   "cell_type": "markdown",
   "metadata": {
    "pycharm": {
     "name": "#%% md\n"
    }
   },
   "source": [
    "ACP may be not useful taking into account that there are only only 13 variables and a big chunk of information have been lost."
   ]
  },
  {
   "cell_type": "markdown",
   "metadata": {
    "pycharm": {
     "name": "#%% md\n"
    }
   },
   "source": [
    "## 4.2 Finding the right model\n",
    "We chose to explore the random forest which seams to fit our needs here."
   ]
  },
  {
   "cell_type": "code",
   "execution_count": 69,
   "metadata": {
    "pycharm": {
     "name": "#%%\n"
    }
   },
   "outputs": [],
   "source": [
    "# Sampling\n",
    "df_RFC = df.dropna()\n",
    "target = df_RFC.loc[df['STATE'] == 'AK', 'fire']\n",
    "data_AK = df_RFC.loc[df['STATE'] == 'AK'].drop(['STATE', 'DATE', 'LONGITUDE', 'LATITUDE', 'fire'], axis=1)\n",
    "X_train, X_test, y_train, y_test = train_test_split(data_AK, target, test_size=0.2, random_state=66)"
   ]
  },
  {
   "cell_type": "code",
   "execution_count": null,
   "metadata": {
    "pycharm": {
     "is_executing": true,
     "name": "#%%\n"
    }
   },
   "outputs": [],
   "source": [
    "# Building the hyperparameter tuning\n",
    "RFC = ensemble.RandomForestClassifier()\n",
    "params = {'bootstrap': [True, False],\n",
    "          'max_depth': [20, 40, 60, 80, 100, None],\n",
    "          'min_samples_leaf': [1, 2, 4, 10, 20, 40],\n",
    "          'min_samples_split': [2, 5, 10],\n",
    "          'n_estimators': [100, 200, 400, 600, 800, 1000]}\n",
    "gridcv = GridSearchCV(RFC, param_grid=params, scoring='accuracy', cv=3, n_jobs=8)\n",
    "\n",
    "gridcv.fit(X_train, y_train)\n",
    "result = pd.DataFrame(gridcv.cv_results_)[['params', 'mean_test_score', 'std_test_score']]\n",
    "result.to_csv('RFC_result.csv') #exporting because of IDE crash\n",
    "result"
   ]
  },
  {
   "cell_type": "markdown",
   "metadata": {
    "pycharm": {
     "name": "#%% md\n"
    }
   },
   "source": [
    "Les meilleurs paramètres sont donc : {'bootstrap': False, 'max_depth': None, 'min_samples_leaf': 2, 'min_samples_split': 2, 'n_estimators': 100}"
   ]
  },
  {
   "cell_type": "code",
   "execution_count": 72,
   "metadata": {
    "pycharm": {
     "name": "#%%\n"
    }
   },
   "outputs": [
    {
     "data": {
      "text/html": [
       "<style>#sk-container-id-4 {color: black;background-color: white;}#sk-container-id-4 pre{padding: 0;}#sk-container-id-4 div.sk-toggleable {background-color: white;}#sk-container-id-4 label.sk-toggleable__label {cursor: pointer;display: block;width: 100%;margin-bottom: 0;padding: 0.3em;box-sizing: border-box;text-align: center;}#sk-container-id-4 label.sk-toggleable__label-arrow:before {content: \"▸\";float: left;margin-right: 0.25em;color: #696969;}#sk-container-id-4 label.sk-toggleable__label-arrow:hover:before {color: black;}#sk-container-id-4 div.sk-estimator:hover label.sk-toggleable__label-arrow:before {color: black;}#sk-container-id-4 div.sk-toggleable__content {max-height: 0;max-width: 0;overflow: hidden;text-align: left;background-color: #f0f8ff;}#sk-container-id-4 div.sk-toggleable__content pre {margin: 0.2em;color: black;border-radius: 0.25em;background-color: #f0f8ff;}#sk-container-id-4 input.sk-toggleable__control:checked~div.sk-toggleable__content {max-height: 200px;max-width: 100%;overflow: auto;}#sk-container-id-4 input.sk-toggleable__control:checked~label.sk-toggleable__label-arrow:before {content: \"▾\";}#sk-container-id-4 div.sk-estimator input.sk-toggleable__control:checked~label.sk-toggleable__label {background-color: #d4ebff;}#sk-container-id-4 div.sk-label input.sk-toggleable__control:checked~label.sk-toggleable__label {background-color: #d4ebff;}#sk-container-id-4 input.sk-hidden--visually {border: 0;clip: rect(1px 1px 1px 1px);clip: rect(1px, 1px, 1px, 1px);height: 1px;margin: -1px;overflow: hidden;padding: 0;position: absolute;width: 1px;}#sk-container-id-4 div.sk-estimator {font-family: monospace;background-color: #f0f8ff;border: 1px dotted black;border-radius: 0.25em;box-sizing: border-box;margin-bottom: 0.5em;}#sk-container-id-4 div.sk-estimator:hover {background-color: #d4ebff;}#sk-container-id-4 div.sk-parallel-item::after {content: \"\";width: 100%;border-bottom: 1px solid gray;flex-grow: 1;}#sk-container-id-4 div.sk-label:hover label.sk-toggleable__label {background-color: #d4ebff;}#sk-container-id-4 div.sk-serial::before {content: \"\";position: absolute;border-left: 1px solid gray;box-sizing: border-box;top: 0;bottom: 0;left: 50%;z-index: 0;}#sk-container-id-4 div.sk-serial {display: flex;flex-direction: column;align-items: center;background-color: white;padding-right: 0.2em;padding-left: 0.2em;position: relative;}#sk-container-id-4 div.sk-item {position: relative;z-index: 1;}#sk-container-id-4 div.sk-parallel {display: flex;align-items: stretch;justify-content: center;background-color: white;position: relative;}#sk-container-id-4 div.sk-item::before, #sk-container-id-4 div.sk-parallel-item::before {content: \"\";position: absolute;border-left: 1px solid gray;box-sizing: border-box;top: 0;bottom: 0;left: 50%;z-index: -1;}#sk-container-id-4 div.sk-parallel-item {display: flex;flex-direction: column;z-index: 1;position: relative;background-color: white;}#sk-container-id-4 div.sk-parallel-item:first-child::after {align-self: flex-end;width: 50%;}#sk-container-id-4 div.sk-parallel-item:last-child::after {align-self: flex-start;width: 50%;}#sk-container-id-4 div.sk-parallel-item:only-child::after {width: 0;}#sk-container-id-4 div.sk-dashed-wrapped {border: 1px dashed gray;margin: 0 0.4em 0.5em 0.4em;box-sizing: border-box;padding-bottom: 0.4em;background-color: white;}#sk-container-id-4 div.sk-label label {font-family: monospace;font-weight: bold;display: inline-block;line-height: 1.2em;}#sk-container-id-4 div.sk-label-container {text-align: center;}#sk-container-id-4 div.sk-container {/* jupyter's `normalize.less` sets `[hidden] { display: none; }` but bootstrap.min.css set `[hidden] { display: none !important; }` so we also need the `!important` here to be able to override the default hidden behavior on the sphinx rendered scikit-learn.org. See: https://github.com/scikit-learn/scikit-learn/issues/21755 */display: inline-block !important;position: relative;}#sk-container-id-4 div.sk-text-repr-fallback {display: none;}</style><div id=\"sk-container-id-4\" class=\"sk-top-container\"><div class=\"sk-text-repr-fallback\"><pre>RandomForestClassifier(min_samples_leaf=2, random_state=321)</pre><b>In a Jupyter environment, please rerun this cell to show the HTML representation or trust the notebook. <br />On GitHub, the HTML representation is unable to render, please try loading this page with nbviewer.org.</b></div><div class=\"sk-container\" hidden><div class=\"sk-item\"><div class=\"sk-estimator sk-toggleable\"><input class=\"sk-toggleable__control sk-hidden--visually\" id=\"sk-estimator-id-4\" type=\"checkbox\" checked><label for=\"sk-estimator-id-4\" class=\"sk-toggleable__label sk-toggleable__label-arrow\">RandomForestClassifier</label><div class=\"sk-toggleable__content\"><pre>RandomForestClassifier(min_samples_leaf=2, random_state=321)</pre></div></div></div></div></div>"
      ],
      "text/plain": [
       "RandomForestClassifier(min_samples_leaf=2, random_state=321)"
      ]
     },
     "execution_count": 72,
     "metadata": {},
     "output_type": "execute_result"
    }
   ],
   "source": [
    "RFC = ensemble.RandomForestClassifier(random_state=321, min_samples_leaf=2, bootstrap=True) #testing the parameters\n",
    "RFC.fit(X_train, y_train)"
   ]
  },
  {
   "cell_type": "code",
   "execution_count": 73,
   "metadata": {
    "pycharm": {
     "name": "#%%\n"
    }
   },
   "outputs": [
    {
     "data": {
      "text/html": [
       "<div>\n",
       "<style scoped>\n",
       "    .dataframe tbody tr th:only-of-type {\n",
       "        vertical-align: middle;\n",
       "    }\n",
       "\n",
       "    .dataframe tbody tr th {\n",
       "        vertical-align: top;\n",
       "    }\n",
       "\n",
       "    .dataframe thead th {\n",
       "        text-align: right;\n",
       "    }\n",
       "</style>\n",
       "<table border=\"1\" class=\"dataframe\">\n",
       "  <thead>\n",
       "    <tr style=\"text-align: right;\">\n",
       "      <th>Classe prédite</th>\n",
       "      <th>0</th>\n",
       "      <th>1</th>\n",
       "    </tr>\n",
       "    <tr>\n",
       "      <th>Classe réelle</th>\n",
       "      <th></th>\n",
       "      <th></th>\n",
       "    </tr>\n",
       "  </thead>\n",
       "  <tbody>\n",
       "    <tr>\n",
       "      <th>0</th>\n",
       "      <td>960</td>\n",
       "      <td>152</td>\n",
       "    </tr>\n",
       "    <tr>\n",
       "      <th>1</th>\n",
       "      <td>131</td>\n",
       "      <td>510</td>\n",
       "    </tr>\n",
       "  </tbody>\n",
       "</table>\n",
       "</div>"
      ],
      "text/plain": [
       "Classe prédite    0    1\n",
       "Classe réelle           \n",
       "0               960  152\n",
       "1               131  510"
      ]
     },
     "execution_count": 73,
     "metadata": {},
     "output_type": "execute_result"
    }
   ],
   "source": [
    "y_pred = RFC.predict(X_test)\n",
    "pd.crosstab(y_test, y_pred, rownames=['Classe réelle'], colnames=['Classe prédite'])"
   ]
  },
  {
   "cell_type": "code",
   "execution_count": 74,
   "metadata": {
    "pycharm": {
     "name": "#%%\n"
    }
   },
   "outputs": [
    {
     "name": "stdout",
     "output_type": "stream",
     "text": [
      "              precision    recall  f1-score   support\n",
      "\n",
      "           0       0.88      0.86      0.87      1112\n",
      "           1       0.77      0.80      0.78       641\n",
      "\n",
      "    accuracy                           0.84      1753\n",
      "   macro avg       0.83      0.83      0.83      1753\n",
      "weighted avg       0.84      0.84      0.84      1753\n",
      "\n"
     ]
    }
   ],
   "source": [
    "print(classification_report(y_test, y_pred))"
   ]
  },
  {
   "cell_type": "code",
   "execution_count": 77,
   "metadata": {
    "pycharm": {
     "name": "#%%\n"
    }
   },
   "outputs": [
    {
     "data": {
      "image/png": "[encoded data removed]",
      "text/plain": [
       "<Figure size 432x288 with 1 Axes>"
      ]
     },
     "metadata": {},
     "output_type": "display_data"
    }
   ],
   "source": [
    "probs = RFC.predict_proba(X_test)\n",
    "fpr, tpr, seuils = roc_curve(y_test, probs[:,1])\n",
    "roc_auc = auc(fpr, tpr)\n",
    "\n",
    "plt.plot(fpr, tpr, color='orange', lw=2, label='Modèle clf (auc = %0.2f)' % roc_auc)\n",
    "plt.plot([0, 1], [0, 1], color='navy', lw=2, linestyle='--', label='Aléatoire (auc = 0.5)')\n",
    "plt.xlabel('Taux faux positifs')\n",
    "plt.ylabel('Taux vrais positifs')\n",
    "plt.title('Courbe ROC')\n",
    "plt.legend(loc=\"lower right\")\n",
    "plt.show();"
   ]
  },
  {
   "cell_type": "markdown",
   "metadata": {
    "pycharm": {
     "name": "#%% md\n"
    }
   },
   "source": [
    "The accuracy is not very convincing for the prevention purposes, is high enough to get interesting statistics about feature importance."
   ]
  },
  {
   "cell_type": "code",
   "execution_count": 111,
   "metadata": {
    "pycharm": {
     "name": "#%%\n"
    }
   },
   "outputs": [
    {
     "data": {
      "image/png": "[encoded data removed]",
      "text/plain": [
       "<Figure size 432x288 with 1 Axes>"
      ]
     },
     "metadata": {},
     "output_type": "display_data"
    }
   ],
   "source": [
    "importances = RFC.feature_importances_\n",
    "# Sort the feature importance in descending order\n",
    "sorted_indices = np.argsort(importances)[::-1]\n",
    "\n",
    "plt.title('Feature Importance')\n",
    "plt.bar(range(X_train.shape[1]), importances[sorted_indices], align='center')\n",
    "plt.xticks(range(X_train.shape[1]), X_train.columns[sorted_indices], rotation=90)\n",
    "plt.tight_layout()\n",
    "plt.show()"
   ]
  },
  {
   "cell_type": "markdown",
   "metadata": {
    "pycharm": {
     "name": "#%% md\n"
    }
   },
   "source": [
    "Clearly Max temperature, average temperature and dewpoint are the most important feature. The wind play a probably biger part for the size of the fire."
   ]
  },
  {
   "cell_type": "markdown",
   "metadata": {
    "pycharm": {
     "name": "#%% md\n"
    }
   },
   "source": [
    "We can test if balanced datas could improve the result"
   ]
  },
  {
   "cell_type": "code",
   "execution_count": null,
   "metadata": {
    "pycharm": {
     "is_executing": true,
     "name": "#%%\n"
    }
   },
   "outputs": [],
   "source": [
    "BRFC = BalancedRandomForestClassifier()\n",
    "params = {'bootstrap': [True, False],\n",
    "          'max_depth': [20, 40, 60, 80, 100, None],\n",
    "          'min_samples_leaf': [1, 2, 4],\n",
    "          'min_samples_split': [2, 5, 10],\n",
    "          'n_estimators': [100, 200, 400, 600, 800, 1000]}\n",
    "gridcv = GridSearchCV(BRFC, param_grid=params, scoring='accuracy', cv=3, n_jobs=8)\n",
    "\n",
    "gridcv.fit(X_train, y_train)\n",
    "result = pd.DataFrame(gridcv.cv_results_)[['params', 'mean_test_score', 'std_test_score']]\n",
    "result.to_csv('imbl_result.csv')"
   ]
  },
  {
   "cell_type": "markdown",
   "metadata": {
    "pycharm": {
     "name": "#%% md\n"
    }
   },
   "source": [
    "The result are even less accurate. We need to check other algorithm."
   ]
  },
  {
   "cell_type": "code",
   "execution_count": 59,
   "metadata": {
    "pycharm": {
     "name": "#%%\n"
    }
   },
   "outputs": [],
   "source": [
    "KNC = KNeighborsClassifier(n_jobs=8)\n",
    "params = {'n_neighbors' : [5, 8, 10, 15, 20],\n",
    "          'weights' : ['uniform', 'distance'],\n",
    "          'algorithm' : ['ball_tree', 'kd_tree'],\n",
    "          'leaf_size' : [10, 20, 30, 40, 50]}\n",
    "\n",
    "gridcv = GridSearchCV(KNC, param_grid=params, scoring='accuracy', cv=3, n_jobs=8)\n",
    "\n",
    "gridcv.fit(X_train, y_train)\n",
    "result = pd.DataFrame(gridcv.cv_results_)[['params', 'mean_test_score', 'std_test_score']]\n",
    "result.to_csv('KNC_result.csv')"
   ]
  },
  {
   "cell_type": "markdown",
   "metadata": {
    "pycharm": {
     "name": "#%% md\n"
    }
   },
   "source": [
    "Not much more convincing, We have better result with boosting algorythm. We can check the histgradienboosting which support nan natively."
   ]
  },
  {
   "cell_type": "code",
   "execution_count": 80,
   "metadata": {
    "pycharm": {
     "name": "#%%\n"
    }
   },
   "outputs": [],
   "source": [
    "df = pd.read_csv('combined-data.csv')\n",
    "target = df.loc[df['STATE'] == 'AK', 'fire']\n",
    "data_AK = df.loc[df['STATE'] == 'AK'].drop(['STATE', 'DATE', 'LONGITUDE', 'LATITUDE', 'fire'], axis=1)\n",
    "X_train, X_test, y_train, y_test = train_test_split(data_AK, target, test_size=0.2, random_state=66)"
   ]
  },
  {
   "cell_type": "code",
   "execution_count": null,
   "metadata": {
    "pycharm": {
     "name": "#%%\n"
    }
   },
   "outputs": [],
   "source": [
    "HGBC = HistGradientBoostingClassifier()\n",
    "params = {'max_leaf_nodes': [20, 31, 40, 50],\n",
    "          'max_depth': [20, 40, 60, 80, 100, None],\n",
    "          'min_samples_leaf': [10, 20, 40]}\n",
    "\n",
    "gridcv = GridSearchCV(HGBC, param_grid=params, scoring='accuracy', cv=3, n_jobs=8)\n",
    "\n",
    "gridcv.fit(X_train, y_train)\n",
    "result = pd.DataFrame(gridcv.cv_results_)[['params', 'mean_test_score', 'std_test_score']]\n",
    "result.to_csv('HGBC_result.csv')\n",
    "result"
   ]
  },
  {
   "cell_type": "code",
   "execution_count": 81,
   "metadata": {
    "pycharm": {
     "name": "#%%\n"
    }
   },
   "outputs": [
    {
     "data": {
      "text/html": [
       "<style>#sk-container-id-7 {color: black;background-color: white;}#sk-container-id-7 pre{padding: 0;}#sk-container-id-7 div.sk-toggleable {background-color: white;}#sk-container-id-7 label.sk-toggleable__label {cursor: pointer;display: block;width: 100%;margin-bottom: 0;padding: 0.3em;box-sizing: border-box;text-align: center;}#sk-container-id-7 label.sk-toggleable__label-arrow:before {content: \"▸\";float: left;margin-right: 0.25em;color: #696969;}#sk-container-id-7 label.sk-toggleable__label-arrow:hover:before {color: black;}#sk-container-id-7 div.sk-estimator:hover label.sk-toggleable__label-arrow:before {color: black;}#sk-container-id-7 div.sk-toggleable__content {max-height: 0;max-width: 0;overflow: hidden;text-align: left;background-color: #f0f8ff;}#sk-container-id-7 div.sk-toggleable__content pre {margin: 0.2em;color: black;border-radius: 0.25em;background-color: #f0f8ff;}#sk-container-id-7 input.sk-toggleable__control:checked~div.sk-toggleable__content {max-height: 200px;max-width: 100%;overflow: auto;}#sk-container-id-7 input.sk-toggleable__control:checked~label.sk-toggleable__label-arrow:before {content: \"▾\";}#sk-container-id-7 div.sk-estimator input.sk-toggleable__control:checked~label.sk-toggleable__label {background-color: #d4ebff;}#sk-container-id-7 div.sk-label input.sk-toggleable__control:checked~label.sk-toggleable__label {background-color: #d4ebff;}#sk-container-id-7 input.sk-hidden--visually {border: 0;clip: rect(1px 1px 1px 1px);clip: rect(1px, 1px, 1px, 1px);height: 1px;margin: -1px;overflow: hidden;padding: 0;position: absolute;width: 1px;}#sk-container-id-7 div.sk-estimator {font-family: monospace;background-color: #f0f8ff;border: 1px dotted black;border-radius: 0.25em;box-sizing: border-box;margin-bottom: 0.5em;}#sk-container-id-7 div.sk-estimator:hover {background-color: #d4ebff;}#sk-container-id-7 div.sk-parallel-item::after {content: \"\";width: 100%;border-bottom: 1px solid gray;flex-grow: 1;}#sk-container-id-7 div.sk-label:hover label.sk-toggleable__label {background-color: #d4ebff;}#sk-container-id-7 div.sk-serial::before {content: \"\";position: absolute;border-left: 1px solid gray;box-sizing: border-box;top: 0;bottom: 0;left: 50%;z-index: 0;}#sk-container-id-7 div.sk-serial {display: flex;flex-direction: column;align-items: center;background-color: white;padding-right: 0.2em;padding-left: 0.2em;position: relative;}#sk-container-id-7 div.sk-item {position: relative;z-index: 1;}#sk-container-id-7 div.sk-parallel {display: flex;align-items: stretch;justify-content: center;background-color: white;position: relative;}#sk-container-id-7 div.sk-item::before, #sk-container-id-7 div.sk-parallel-item::before {content: \"\";position: absolute;border-left: 1px solid gray;box-sizing: border-box;top: 0;bottom: 0;left: 50%;z-index: -1;}#sk-container-id-7 div.sk-parallel-item {display: flex;flex-direction: column;z-index: 1;position: relative;background-color: white;}#sk-container-id-7 div.sk-parallel-item:first-child::after {align-self: flex-end;width: 50%;}#sk-container-id-7 div.sk-parallel-item:last-child::after {align-self: flex-start;width: 50%;}#sk-container-id-7 div.sk-parallel-item:only-child::after {width: 0;}#sk-container-id-7 div.sk-dashed-wrapped {border: 1px dashed gray;margin: 0 0.4em 0.5em 0.4em;box-sizing: border-box;padding-bottom: 0.4em;background-color: white;}#sk-container-id-7 div.sk-label label {font-family: monospace;font-weight: bold;display: inline-block;line-height: 1.2em;}#sk-container-id-7 div.sk-label-container {text-align: center;}#sk-container-id-7 div.sk-container {/* jupyter's `normalize.less` sets `[hidden] { display: none; }` but bootstrap.min.css set `[hidden] { display: none !important; }` so we also need the `!important` here to be able to override the default hidden behavior on the sphinx rendered scikit-learn.org. See: https://github.com/scikit-learn/scikit-learn/issues/21755 */display: inline-block !important;position: relative;}#sk-container-id-7 div.sk-text-repr-fallback {display: none;}</style><div id=\"sk-container-id-7\" class=\"sk-top-container\"><div class=\"sk-text-repr-fallback\"><pre>HistGradientBoostingClassifier(max_depth=20, max_leaf_nodes=20,\n",
       "                               min_samples_leaf=40)</pre><b>In a Jupyter environment, please rerun this cell to show the HTML representation or trust the notebook. <br />On GitHub, the HTML representation is unable to render, please try loading this page with nbviewer.org.</b></div><div class=\"sk-container\" hidden><div class=\"sk-item\"><div class=\"sk-estimator sk-toggleable\"><input class=\"sk-toggleable__control sk-hidden--visually\" id=\"sk-estimator-id-7\" type=\"checkbox\" checked><label for=\"sk-estimator-id-7\" class=\"sk-toggleable__label sk-toggleable__label-arrow\">HistGradientBoostingClassifier</label><div class=\"sk-toggleable__content\"><pre>HistGradientBoostingClassifier(max_depth=20, max_leaf_nodes=20,\n",
       "                               min_samples_leaf=40)</pre></div></div></div></div></div>"
      ],
      "text/plain": [
       "HistGradientBoostingClassifier(max_depth=20, max_leaf_nodes=20,\n",
       "                               min_samples_leaf=40)"
      ]
     },
     "execution_count": 81,
     "metadata": {},
     "output_type": "execute_result"
    }
   ],
   "source": [
    "HGBC = HistGradientBoostingClassifier(max_depth=20, max_leaf_nodes=20, min_samples_leaf=40)\n",
    "HGBC.fit(X_train, y_train)"
   ]
  },
  {
   "cell_type": "code",
   "execution_count": 82,
   "metadata": {
    "pycharm": {
     "name": "#%%\n"
    }
   },
   "outputs": [
    {
     "data": {
      "text/html": [
       "<div>\n",
       "<style scoped>\n",
       "    .dataframe tbody tr th:only-of-type {\n",
       "        vertical-align: middle;\n",
       "    }\n",
       "\n",
       "    .dataframe tbody tr th {\n",
       "        vertical-align: top;\n",
       "    }\n",
       "\n",
       "    .dataframe thead th {\n",
       "        text-align: right;\n",
       "    }\n",
       "</style>\n",
       "<table border=\"1\" class=\"dataframe\">\n",
       "  <thead>\n",
       "    <tr style=\"text-align: right;\">\n",
       "      <th>Classe prédite</th>\n",
       "      <th>0</th>\n",
       "      <th>1</th>\n",
       "    </tr>\n",
       "    <tr>\n",
       "      <th>Classe réelle</th>\n",
       "      <th></th>\n",
       "      <th></th>\n",
       "    </tr>\n",
       "  </thead>\n",
       "  <tbody>\n",
       "    <tr>\n",
       "      <th>0</th>\n",
       "      <td>1007</td>\n",
       "      <td>95</td>\n",
       "    </tr>\n",
       "    <tr>\n",
       "      <th>1</th>\n",
       "      <td>76</td>\n",
       "      <td>576</td>\n",
       "    </tr>\n",
       "  </tbody>\n",
       "</table>\n",
       "</div>"
      ],
      "text/plain": [
       "Classe prédite     0    1\n",
       "Classe réelle            \n",
       "0               1007   95\n",
       "1                 76  576"
      ]
     },
     "execution_count": 82,
     "metadata": {},
     "output_type": "execute_result"
    }
   ],
   "source": [
    "y_pred = RFC.predict(X_test)\n",
    "pd.crosstab(y_test, y_pred, rownames=['Classe réelle'], colnames=['Classe prédite'])"
   ]
  },
  {
   "cell_type": "code",
   "execution_count": 83,
   "metadata": {
    "pycharm": {
     "name": "#%%\n"
    }
   },
   "outputs": [
    {
     "name": "stdout",
     "output_type": "stream",
     "text": [
      "              precision    recall  f1-score   support\n",
      "\n",
      "           0       0.93      0.91      0.92      1102\n",
      "           1       0.86      0.88      0.87       652\n",
      "\n",
      "    accuracy                           0.90      1754\n",
      "   macro avg       0.89      0.90      0.90      1754\n",
      "weighted avg       0.90      0.90      0.90      1754\n",
      "\n"
     ]
    }
   ],
   "source": [
    "print(classification_report(y_test, y_pred))"
   ]
  },
  {
   "cell_type": "code",
   "execution_count": 85,
   "metadata": {
    "pycharm": {
     "name": "#%%\n"
    }
   },
   "outputs": [
    {
     "data": {
      "image/png": "[encoded data removed]",
      "text/plain": [
       "<Figure size 432x288 with 1 Axes>"
      ]
     },
     "metadata": {},
     "output_type": "display_data"
    }
   ],
   "source": [
    "probs = RFC.predict_proba(X_test)\n",
    "fpr, tpr, seuils = roc_curve(y_test, probs[:,1])\n",
    "roc_auc = auc(fpr, tpr)\n",
    "\n",
    "plt.plot(fpr, tpr, color='orange', lw=2, label='Modèle RFC (auc = %0.2f)' % roc_auc)\n",
    "plt.plot([0, 1], [0, 1], color='navy', lw=2, linestyle='--', label='Aléatoire (auc = 0.5)')\n",
    "plt.xlabel('Taux faux positifs')\n",
    "plt.ylabel('Taux vrais positifs')\n",
    "plt.title('Courbe ROC')\n",
    "plt.legend(loc=\"lower right\")\n",
    "plt.show();"
   ]
  },
  {
   "cell_type": "markdown",
   "metadata": {
    "pycharm": {
     "name": "#%% md\n"
    }
   },
   "source": [
    "We have here much better result thanks to the incorporation of line with missing values.\n",
    "\n",
    "## 4.3 - Creating models for all states"
   ]
  },
  {
   "cell_type": "code",
   "execution_count": null,
   "metadata": {
    "pycharm": {
     "name": "#%%\n"
    }
   },
   "outputs": [],
   "source": [
    "df = pd.read_csv('combined-data.csv') #getting the unaltered data\n",
    "state_list = df['STATE'].unique()\n",
    "\n",
    "test_result = {}\n",
    "\n",
    "#for each state, build a model, and store it.\n",
    "for state in state_list:\n",
    "    target = df.loc[df['STATE'] == state, 'fire']\n",
    "    data = df.loc[df['STATE'] == state].drop(['STATE', 'DATE', 'LONGITUDE', 'LATITUDE', 'fire'], axis=1)\n",
    "    X_train, X_test, y_train, y_test = train_test_split(data, target, test_size=0.2)\n",
    "\n",
    "    HGBC = HistGradientBoostingClassifier(max_depth=20, max_leaf_nodes=20, min_samples_leaf=40)\n",
    "    HGBC.fit(X_train, y_train)\n",
    "    y_pred = HGBC.predict(X_test)\n",
    "\n",
    "    #storing the model performance for each state\n",
    "    test_result[state] = f1_score(y_test, y_pred)\n",
    "\n",
    "    # save\n",
    "    joblib.dump(HGBC, f\"model_{state}.pkl\")\n"
   ]
  },
  {
   "cell_type": "code",
   "execution_count": 118,
   "metadata": {
    "pycharm": {
     "name": "#%%\n"
    }
   },
   "outputs": [
    {
     "data": {
      "text/html": [
       "<div>\n",
       "<style scoped>\n",
       "    .dataframe tbody tr th:only-of-type {\n",
       "        vertical-align: middle;\n",
       "    }\n",
       "\n",
       "    .dataframe tbody tr th {\n",
       "        vertical-align: top;\n",
       "    }\n",
       "\n",
       "    .dataframe thead th {\n",
       "        text-align: right;\n",
       "    }\n",
       "</style>\n",
       "<table border=\"1\" class=\"dataframe\">\n",
       "  <thead>\n",
       "    <tr style=\"text-align: right;\">\n",
       "      <th></th>\n",
       "      <th>f1_score</th>\n",
       "    </tr>\n",
       "  </thead>\n",
       "  <tbody>\n",
       "    <tr>\n",
       "      <th>CA</th>\n",
       "      <td>0.975882</td>\n",
       "    </tr>\n",
       "    <tr>\n",
       "      <th>FL</th>\n",
       "      <td>0.959330</td>\n",
       "    </tr>\n",
       "    <tr>\n",
       "      <th>GA</th>\n",
       "      <td>0.958308</td>\n",
       "    </tr>\n",
       "    <tr>\n",
       "      <th>AZ</th>\n",
       "      <td>0.927896</td>\n",
       "    </tr>\n",
       "    <tr>\n",
       "      <th>NC</th>\n",
       "      <td>0.920882</td>\n",
       "    </tr>\n",
       "    <tr>\n",
       "      <th>TX</th>\n",
       "      <td>0.918883</td>\n",
       "    </tr>\n",
       "    <tr>\n",
       "      <th>SC</th>\n",
       "      <td>0.913639</td>\n",
       "    </tr>\n",
       "    <tr>\n",
       "      <th>NY</th>\n",
       "      <td>0.895753</td>\n",
       "    </tr>\n",
       "    <tr>\n",
       "      <th>MS</th>\n",
       "      <td>0.889130</td>\n",
       "    </tr>\n",
       "    <tr>\n",
       "      <th>NM</th>\n",
       "      <td>0.884195</td>\n",
       "    </tr>\n",
       "    <tr>\n",
       "      <th>MT</th>\n",
       "      <td>0.882875</td>\n",
       "    </tr>\n",
       "    <tr>\n",
       "      <th>OR</th>\n",
       "      <td>0.882629</td>\n",
       "    </tr>\n",
       "    <tr>\n",
       "      <th>WA</th>\n",
       "      <td>0.876264</td>\n",
       "    </tr>\n",
       "    <tr>\n",
       "      <th>SD</th>\n",
       "      <td>0.872097</td>\n",
       "    </tr>\n",
       "    <tr>\n",
       "      <th>AL</th>\n",
       "      <td>0.870135</td>\n",
       "    </tr>\n",
       "    <tr>\n",
       "      <th>ID</th>\n",
       "      <td>0.861678</td>\n",
       "    </tr>\n",
       "    <tr>\n",
       "      <th>UT</th>\n",
       "      <td>0.851852</td>\n",
       "    </tr>\n",
       "    <tr>\n",
       "      <th>CO</th>\n",
       "      <td>0.850321</td>\n",
       "    </tr>\n",
       "    <tr>\n",
       "      <th>WI</th>\n",
       "      <td>0.834181</td>\n",
       "    </tr>\n",
       "    <tr>\n",
       "      <th>OK</th>\n",
       "      <td>0.802270</td>\n",
       "    </tr>\n",
       "    <tr>\n",
       "      <th>MN</th>\n",
       "      <td>0.801964</td>\n",
       "    </tr>\n",
       "    <tr>\n",
       "      <th>NJ</th>\n",
       "      <td>0.797699</td>\n",
       "    </tr>\n",
       "    <tr>\n",
       "      <th>AR</th>\n",
       "      <td>0.796232</td>\n",
       "    </tr>\n",
       "    <tr>\n",
       "      <th>AK</th>\n",
       "      <td>0.786860</td>\n",
       "    </tr>\n",
       "    <tr>\n",
       "      <th>HI</th>\n",
       "      <td>0.778873</td>\n",
       "    </tr>\n",
       "    <tr>\n",
       "      <th>WY</th>\n",
       "      <td>0.776139</td>\n",
       "    </tr>\n",
       "    <tr>\n",
       "      <th>LA</th>\n",
       "      <td>0.772063</td>\n",
       "    </tr>\n",
       "    <tr>\n",
       "      <th>ND</th>\n",
       "      <td>0.765882</td>\n",
       "    </tr>\n",
       "    <tr>\n",
       "      <th>NV</th>\n",
       "      <td>0.762402</td>\n",
       "    </tr>\n",
       "    <tr>\n",
       "      <th>TN</th>\n",
       "      <td>0.759861</td>\n",
       "    </tr>\n",
       "    <tr>\n",
       "      <th>VA</th>\n",
       "      <td>0.724409</td>\n",
       "    </tr>\n",
       "    <tr>\n",
       "      <th>ME</th>\n",
       "      <td>0.701299</td>\n",
       "    </tr>\n",
       "    <tr>\n",
       "      <th>KY</th>\n",
       "      <td>0.699567</td>\n",
       "    </tr>\n",
       "    <tr>\n",
       "      <th>PR</th>\n",
       "      <td>0.692654</td>\n",
       "    </tr>\n",
       "    <tr>\n",
       "      <th>WV</th>\n",
       "      <td>0.689869</td>\n",
       "    </tr>\n",
       "    <tr>\n",
       "      <th>MI</th>\n",
       "      <td>0.653358</td>\n",
       "    </tr>\n",
       "    <tr>\n",
       "      <th>NE</th>\n",
       "      <td>0.652215</td>\n",
       "    </tr>\n",
       "    <tr>\n",
       "      <th>MO</th>\n",
       "      <td>0.613953</td>\n",
       "    </tr>\n",
       "    <tr>\n",
       "      <th>MD</th>\n",
       "      <td>0.547206</td>\n",
       "    </tr>\n",
       "    <tr>\n",
       "      <th>IA</th>\n",
       "      <td>0.541485</td>\n",
       "    </tr>\n",
       "    <tr>\n",
       "      <th>PA</th>\n",
       "      <td>0.533552</td>\n",
       "    </tr>\n",
       "    <tr>\n",
       "      <th>CT</th>\n",
       "      <td>0.399312</td>\n",
       "    </tr>\n",
       "    <tr>\n",
       "      <th>NH</th>\n",
       "      <td>0.396552</td>\n",
       "    </tr>\n",
       "    <tr>\n",
       "      <th>OH</th>\n",
       "      <td>0.392265</td>\n",
       "    </tr>\n",
       "    <tr>\n",
       "      <th>KS</th>\n",
       "      <td>0.325359</td>\n",
       "    </tr>\n",
       "    <tr>\n",
       "      <th>MA</th>\n",
       "      <td>0.291667</td>\n",
       "    </tr>\n",
       "    <tr>\n",
       "      <th>IL</th>\n",
       "      <td>0.250000</td>\n",
       "    </tr>\n",
       "    <tr>\n",
       "      <th>RI</th>\n",
       "      <td>0.224719</td>\n",
       "    </tr>\n",
       "    <tr>\n",
       "      <th>IN</th>\n",
       "      <td>0.194986</td>\n",
       "    </tr>\n",
       "    <tr>\n",
       "      <th>VT</th>\n",
       "      <td>0.127660</td>\n",
       "    </tr>\n",
       "    <tr>\n",
       "      <th>DE</th>\n",
       "      <td>0.000000</td>\n",
       "    </tr>\n",
       "    <tr>\n",
       "      <th>VI</th>\n",
       "      <td>0.000000</td>\n",
       "    </tr>\n",
       "    <tr>\n",
       "      <th>DC</th>\n",
       "      <td>0.000000</td>\n",
       "    </tr>\n",
       "  </tbody>\n",
       "</table>\n",
       "</div>"
      ],
      "text/plain": [
       "    f1_score\n",
       "CA  0.975882\n",
       "FL  0.959330\n",
       "GA  0.958308\n",
       "AZ  0.927896\n",
       "NC  0.920882\n",
       "TX  0.918883\n",
       "SC  0.913639\n",
       "NY  0.895753\n",
       "MS  0.889130\n",
       "NM  0.884195\n",
       "MT  0.882875\n",
       "OR  0.882629\n",
       "WA  0.876264\n",
       "SD  0.872097\n",
       "AL  0.870135\n",
       "ID  0.861678\n",
       "UT  0.851852\n",
       "CO  0.850321\n",
       "WI  0.834181\n",
       "OK  0.802270\n",
       "MN  0.801964\n",
       "NJ  0.797699\n",
       "AR  0.796232\n",
       "AK  0.786860\n",
       "HI  0.778873\n",
       "WY  0.776139\n",
       "LA  0.772063\n",
       "ND  0.765882\n",
       "NV  0.762402\n",
       "TN  0.759861\n",
       "VA  0.724409\n",
       "ME  0.701299\n",
       "KY  0.699567\n",
       "PR  0.692654\n",
       "WV  0.689869\n",
       "MI  0.653358\n",
       "NE  0.652215\n",
       "MO  0.613953\n",
       "MD  0.547206\n",
       "IA  0.541485\n",
       "PA  0.533552\n",
       "CT  0.399312\n",
       "NH  0.396552\n",
       "OH  0.392265\n",
       "KS  0.325359\n",
       "MA  0.291667\n",
       "IL  0.250000\n",
       "RI  0.224719\n",
       "IN  0.194986\n",
       "VT  0.127660\n",
       "DE  0.000000\n",
       "VI  0.000000\n",
       "DC  0.000000"
      ]
     },
     "execution_count": 118,
     "metadata": {},
     "output_type": "execute_result"
    }
   ],
   "source": [
    "Model_performance = pd.DataFrame(test_result, index=['f1_score']).T\n",
    "Model_performance.sort_values(by='f1_score', ascending=False)"
   ]
  },
  {
   "cell_type": "markdown",
   "metadata": {
    "pycharm": {
     "name": "#%% md\n"
    }
   },
   "source": [
    "Interestingly enough there is a huge discrepancy between the result of the states that could be worth investigating."
   ]
  },
  {
   "cell_type": "markdown",
   "metadata": {
    "pycharm": {
     "name": "#%% md\n"
    }
   },
   "source": []
  }
 ],
 "metadata": {
  "colab": {
   "collapsed_sections": [],
   "name": "prediction model creation.ipynb",
   "provenance": []
  },
  "kernelspec": {
   "display_name": "Python 3 (ipykernel)",
   "language": "python",
   "name": "python3"
  },
  "language_info": {
   "codemirror_mode": {
    "name": "ipython",
    "version": 3
   },
   "file_extension": ".py",
   "mimetype": "text/x-python",
   "name": "python",
   "nbconvert_exporter": "python",
   "pygments_lexer": "ipython3",
   "version": "3.9.7"
  }
 },
 "nbformat": 4,
 "nbformat_minor": 4
}
