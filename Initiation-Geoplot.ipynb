{
 "cells": [
  {
   "cell_type": "markdown",
   "id": "f0d294cd",
   "metadata": {},
   "source": [
    "# Import des librairies et chargement des jeux de données"
   ]
  },
  {
   "cell_type": "code",
   "execution_count": 1,
   "id": "bed0325f",
   "metadata": {},
   "outputs": [
    {
     "name": "stderr",
     "output_type": "stream",
     "text": [
      "C:\\ProgramData\\Anaconda3\\lib\\site-packages\\geopandas\\_compat.py:111: UserWarning: The Shapely GEOS version (3.10.2-CAPI-1.16.0) is incompatible with the GEOS version PyGEOS was compiled with (3.10.1-CAPI-1.16.0). Conversions between both will be slow.\n",
      "  warnings.warn(\n"
     ]
    }
   ],
   "source": [
    "import pandas as pd\n",
    "import numpy as np\n",
    "import sqlalchemy as db\n",
    "import matplotlib.pyplot as plt\n",
    "%matplotlib inline\n",
    "\n",
    "import geoplot as gplt\n",
    "import geopandas as gpd\n",
    "import geoplot.crs as gcrs\n",
    "\n",
    "import warnings\n",
    "warnings.filterwarnings('ignore')"
   ]
  },
  {
   "cell_type": "markdown",
   "id": "58a7d7a2",
   "metadata": {},
   "source": [
    "* Base fires"
   ]
  },
  {
   "cell_type": "code",
   "execution_count": 2,
   "id": "ea0258b9",
   "metadata": {},
   "outputs": [],
   "source": [
    "engine = db.create_engine('sqlite:///FPA_FOD_20170508.sqlite')\n",
    "connection = engine.connect()\n",
    "metadata = db.MetaData()\n",
    "fires_all = pd.read_sql_query(\"SELECT * FROM fires\", con = connection)"
   ]
  },
  {
   "cell_type": "code",
   "execution_count": 3,
   "id": "0202da76",
   "metadata": {},
   "outputs": [
    {
     "data": {
      "text/plain": [
       "Index(['OBJECTID', 'FOD_ID', 'FPA_ID', 'SOURCE_SYSTEM_TYPE', 'SOURCE_SYSTEM',\n",
       "       'NWCG_REPORTING_AGENCY', 'NWCG_REPORTING_UNIT_ID',\n",
       "       'NWCG_REPORTING_UNIT_NAME', 'SOURCE_REPORTING_UNIT',\n",
       "       'SOURCE_REPORTING_UNIT_NAME', 'LOCAL_FIRE_REPORT_ID',\n",
       "       'LOCAL_INCIDENT_ID', 'FIRE_CODE', 'FIRE_NAME',\n",
       "       'ICS_209_INCIDENT_NUMBER', 'ICS_209_NAME', 'MTBS_ID', 'MTBS_FIRE_NAME',\n",
       "       'COMPLEX_NAME', 'FIRE_YEAR', 'DISCOVERY_DATE', 'DISCOVERY_DOY',\n",
       "       'DISCOVERY_TIME', 'STAT_CAUSE_CODE', 'STAT_CAUSE_DESCR', 'CONT_DATE',\n",
       "       'CONT_DOY', 'CONT_TIME', 'FIRE_SIZE', 'FIRE_SIZE_CLASS', 'LATITUDE',\n",
       "       'LONGITUDE', 'OWNER_CODE', 'OWNER_DESCR', 'STATE', 'COUNTY',\n",
       "       'FIPS_CODE', 'FIPS_NAME', 'Shape'],\n",
       "      dtype='object')"
      ]
     },
     "execution_count": 3,
     "metadata": {},
     "output_type": "execute_result"
    }
   ],
   "source": [
    "fires_all.columns"
   ]
  },
  {
   "cell_type": "code",
   "execution_count": 4,
   "id": "b3351c5e",
   "metadata": {},
   "outputs": [
    {
     "data": {
      "text/plain": [
       "array(['CA', 'NM', 'OR', 'NC', 'WY', 'CO', 'WA', 'MT', 'UT', 'AZ', 'SD',\n",
       "       'AR', 'NV', 'ID', 'MN', 'TX', 'FL', 'SC', 'LA', 'OK', 'KS', 'MO',\n",
       "       'NE', 'MI', 'KY', 'OH', 'IN', 'VA', 'IL', 'TN', 'GA', 'AK', 'ND',\n",
       "       'WV', 'WI', 'AL', 'NH', 'PA', 'MS', 'ME', 'VT', 'NY', 'IA', 'DC',\n",
       "       'MD', 'CT', 'MA', 'NJ', 'HI', 'DE', 'PR', 'RI'], dtype=object)"
      ]
     },
     "execution_count": 4,
     "metadata": {},
     "output_type": "execute_result"
    }
   ],
   "source": [
    "fires_all.STATE.unique()"
   ]
  },
  {
   "cell_type": "markdown",
   "id": "f2f2bd59",
   "metadata": {},
   "source": [
    "* Base usa"
   ]
  },
  {
   "cell_type": "code",
   "execution_count": 5,
   "id": "1765bbb7",
   "metadata": {},
   "outputs": [
    {
     "data": {
      "text/html": [
       "<div>\n",
       "<style scoped>\n",
       "    .dataframe tbody tr th:only-of-type {\n",
       "        vertical-align: middle;\n",
       "    }\n",
       "\n",
       "    .dataframe tbody tr th {\n",
       "        vertical-align: top;\n",
       "    }\n",
       "\n",
       "    .dataframe thead th {\n",
       "        text-align: right;\n",
       "    }\n",
       "</style>\n",
       "<table border=\"1\" class=\"dataframe\">\n",
       "  <thead>\n",
       "    <tr style=\"text-align: right;\">\n",
       "      <th></th>\n",
       "      <th>STATEFP</th>\n",
       "      <th>STATENS</th>\n",
       "      <th>AFFGEOID</th>\n",
       "      <th>GEOID</th>\n",
       "      <th>STUSPS</th>\n",
       "      <th>NAME</th>\n",
       "      <th>LSAD</th>\n",
       "      <th>ALAND</th>\n",
       "      <th>AWATER</th>\n",
       "      <th>geometry</th>\n",
       "    </tr>\n",
       "  </thead>\n",
       "  <tbody>\n",
       "    <tr>\n",
       "      <th>0</th>\n",
       "      <td>47</td>\n",
       "      <td>01325873</td>\n",
       "      <td>0400000US47</td>\n",
       "      <td>47</td>\n",
       "      <td>TN</td>\n",
       "      <td>Tennessee</td>\n",
       "      <td>00</td>\n",
       "      <td>106791646253</td>\n",
       "      <td>2322913374</td>\n",
       "      <td>POLYGON ((-90.30070 35.02879, -90.26530 35.040...</td>\n",
       "    </tr>\n",
       "    <tr>\n",
       "      <th>1</th>\n",
       "      <td>27</td>\n",
       "      <td>00662849</td>\n",
       "      <td>0400000US27</td>\n",
       "      <td>27</td>\n",
       "      <td>MN</td>\n",
       "      <td>Minnesota</td>\n",
       "      <td>00</td>\n",
       "      <td>206232157570</td>\n",
       "      <td>18949864226</td>\n",
       "      <td>POLYGON ((-97.22904 49.00069, -96.93096 48.999...</td>\n",
       "    </tr>\n",
       "    <tr>\n",
       "      <th>2</th>\n",
       "      <td>17</td>\n",
       "      <td>01779784</td>\n",
       "      <td>0400000US17</td>\n",
       "      <td>17</td>\n",
       "      <td>IL</td>\n",
       "      <td>Illinois</td>\n",
       "      <td>00</td>\n",
       "      <td>143778461053</td>\n",
       "      <td>6216594318</td>\n",
       "      <td>POLYGON ((-91.50626 40.20016, -91.49696 40.248...</td>\n",
       "    </tr>\n",
       "    <tr>\n",
       "      <th>3</th>\n",
       "      <td>30</td>\n",
       "      <td>00767982</td>\n",
       "      <td>0400000US30</td>\n",
       "      <td>30</td>\n",
       "      <td>MT</td>\n",
       "      <td>Montana</td>\n",
       "      <td>00</td>\n",
       "      <td>376973673895</td>\n",
       "      <td>3866689601</td>\n",
       "      <td>POLYGON ((-116.04919 49.00091, -115.50102 49.0...</td>\n",
       "    </tr>\n",
       "    <tr>\n",
       "      <th>4</th>\n",
       "      <td>11</td>\n",
       "      <td>01702382</td>\n",
       "      <td>0400000US11</td>\n",
       "      <td>11</td>\n",
       "      <td>DC</td>\n",
       "      <td>District of Columbia</td>\n",
       "      <td>00</td>\n",
       "      <td>158316124</td>\n",
       "      <td>18709762</td>\n",
       "      <td>POLYGON ((-77.11976 38.93434, -77.04102 38.995...</td>\n",
       "    </tr>\n",
       "  </tbody>\n",
       "</table>\n",
       "</div>"
      ],
      "text/plain": [
       "  STATEFP   STATENS     AFFGEOID GEOID STUSPS                  NAME LSAD  \\\n",
       "0      47  01325873  0400000US47    47     TN             Tennessee   00   \n",
       "1      27  00662849  0400000US27    27     MN             Minnesota   00   \n",
       "2      17  01779784  0400000US17    17     IL              Illinois   00   \n",
       "3      30  00767982  0400000US30    30     MT               Montana   00   \n",
       "4      11  01702382  0400000US11    11     DC  District of Columbia   00   \n",
       "\n",
       "          ALAND       AWATER  \\\n",
       "0  106791646253   2322913374   \n",
       "1  206232157570  18949864226   \n",
       "2  143778461053   6216594318   \n",
       "3  376973673895   3866689601   \n",
       "4     158316124     18709762   \n",
       "\n",
       "                                            geometry  \n",
       "0  POLYGON ((-90.30070 35.02879, -90.26530 35.040...  \n",
       "1  POLYGON ((-97.22904 49.00069, -96.93096 48.999...  \n",
       "2  POLYGON ((-91.50626 40.20016, -91.49696 40.248...  \n",
       "3  POLYGON ((-116.04919 49.00091, -115.50102 49.0...  \n",
       "4  POLYGON ((-77.11976 38.93434, -77.04102 38.995...  "
      ]
     },
     "execution_count": 5,
     "metadata": {},
     "output_type": "execute_result"
    }
   ],
   "source": [
    "usa = gpd.read_file(\"maps/cb_2020_us_state_20m.shp\")\n",
    "usa.head()"
   ]
  },
  {
   "cell_type": "code",
   "execution_count": 51,
   "id": "f21e247e",
   "metadata": {},
   "outputs": [
    {
     "data": {
      "text/plain": [
       "<AxesSubplot:>"
      ]
     },
     "execution_count": 51,
     "metadata": {},
     "output_type": "execute_result"
    },
    {
     "data": {
      "image/png": "[encoded data removed]",
      "text/plain": [
       "<Figure size 432x288 with 1 Axes>"
      ]
     },
     "metadata": {
      "needs_background": "light"
     },
     "output_type": "display_data"
    }
   ],
   "source": [
    "usa.plot()"
   ]
  },
  {
   "cell_type": "code",
   "execution_count": 6,
   "id": "7a436eaf",
   "metadata": {},
   "outputs": [
    {
     "data": {
      "text/plain": [
       "array(['TN', 'MN', 'IL', 'MT', 'DC', 'CA', 'KY', 'DE', 'TX', 'WI', 'MO',\n",
       "       'NY', 'IA', 'OR', 'VA', 'MD', 'LA', 'ID', 'GA', 'AK', 'MI', 'KS',\n",
       "       'AZ', 'WA', 'SD', 'IN', 'MA', 'WY', 'HI', 'NH', 'AL', 'ME', 'RI',\n",
       "       'NM', 'AR', 'FL', 'NV', 'VT', 'CT', 'ND', 'NE', 'OH', 'MS', 'UT',\n",
       "       'WV', 'OK', 'SC', 'PR', 'PA', 'CO', 'NC', 'NJ'], dtype=object)"
      ]
     },
     "execution_count": 6,
     "metadata": {},
     "output_type": "execute_result"
    }
   ],
   "source": [
    "usa.STUSPS.unique()"
   ]
  },
  {
   "cell_type": "markdown",
   "id": "b5630977",
   "metadata": {},
   "source": [
    "* Merge des 2 bases sur le code état"
   ]
  },
  {
   "cell_type": "code",
   "execution_count": 41,
   "id": "6adef9af",
   "metadata": {},
   "outputs": [],
   "source": [
    "fires_2015_state = fires_all[fires_all.FIRE_YEAR == 2015].groupby(by = 'STATE', as_index = 0).agg({'FIRE_SIZE':'sum', 'LATITUDE':'mean', 'LONGITUDE':'mean'})"
   ]
  },
  {
   "cell_type": "code",
   "execution_count": 42,
   "id": "e47de540",
   "metadata": {},
   "outputs": [
    {
     "data": {
      "text/html": [
       "<div>\n",
       "<style scoped>\n",
       "    .dataframe tbody tr th:only-of-type {\n",
       "        vertical-align: middle;\n",
       "    }\n",
       "\n",
       "    .dataframe tbody tr th {\n",
       "        vertical-align: top;\n",
       "    }\n",
       "\n",
       "    .dataframe thead th {\n",
       "        text-align: right;\n",
       "    }\n",
       "</style>\n",
       "<table border=\"1\" class=\"dataframe\">\n",
       "  <thead>\n",
       "    <tr style=\"text-align: right;\">\n",
       "      <th></th>\n",
       "      <th>STATE</th>\n",
       "      <th>FIRE_SIZE</th>\n",
       "      <th>LATITUDE</th>\n",
       "      <th>LONGITUDE</th>\n",
       "    </tr>\n",
       "  </thead>\n",
       "  <tbody>\n",
       "    <tr>\n",
       "      <th>0</th>\n",
       "      <td>AK</td>\n",
       "      <td>5136703.76</td>\n",
       "      <td>63.022124</td>\n",
       "      <td>-150.873482</td>\n",
       "    </tr>\n",
       "    <tr>\n",
       "      <th>1</th>\n",
       "      <td>AL</td>\n",
       "      <td>30833.71</td>\n",
       "      <td>32.698688</td>\n",
       "      <td>-86.920223</td>\n",
       "    </tr>\n",
       "    <tr>\n",
       "      <th>2</th>\n",
       "      <td>AR</td>\n",
       "      <td>18732.41</td>\n",
       "      <td>34.645311</td>\n",
       "      <td>-92.781083</td>\n",
       "    </tr>\n",
       "    <tr>\n",
       "      <th>3</th>\n",
       "      <td>AZ</td>\n",
       "      <td>155814.27</td>\n",
       "      <td>33.449588</td>\n",
       "      <td>-111.507316</td>\n",
       "    </tr>\n",
       "    <tr>\n",
       "      <th>4</th>\n",
       "      <td>CA</td>\n",
       "      <td>848728.61</td>\n",
       "      <td>37.887571</td>\n",
       "      <td>-120.607252</td>\n",
       "    </tr>\n",
       "  </tbody>\n",
       "</table>\n",
       "</div>"
      ],
      "text/plain": [
       "  STATE   FIRE_SIZE   LATITUDE   LONGITUDE\n",
       "0    AK  5136703.76  63.022124 -150.873482\n",
       "1    AL    30833.71  32.698688  -86.920223\n",
       "2    AR    18732.41  34.645311  -92.781083\n",
       "3    AZ   155814.27  33.449588 -111.507316\n",
       "4    CA   848728.61  37.887571 -120.607252"
      ]
     },
     "execution_count": 42,
     "metadata": {},
     "output_type": "execute_result"
    }
   ],
   "source": [
    "fires_2015_state.head()"
   ]
  },
  {
   "cell_type": "code",
   "execution_count": 43,
   "id": "d38338d9",
   "metadata": {},
   "outputs": [],
   "source": [
    "fires_2015_state = usa.merge(fires_2015_state, left_on=\"STUSPS\", right_on=\"STATE\")"
   ]
  },
  {
   "cell_type": "code",
   "execution_count": 44,
   "id": "e57e729f",
   "metadata": {
    "scrolled": false
   },
   "outputs": [
    {
     "data": {
      "text/html": [
       "<div>\n",
       "<style scoped>\n",
       "    .dataframe tbody tr th:only-of-type {\n",
       "        vertical-align: middle;\n",
       "    }\n",
       "\n",
       "    .dataframe tbody tr th {\n",
       "        vertical-align: top;\n",
       "    }\n",
       "\n",
       "    .dataframe thead th {\n",
       "        text-align: right;\n",
       "    }\n",
       "</style>\n",
       "<table border=\"1\" class=\"dataframe\">\n",
       "  <thead>\n",
       "    <tr style=\"text-align: right;\">\n",
       "      <th></th>\n",
       "      <th>STATEFP</th>\n",
       "      <th>STATENS</th>\n",
       "      <th>AFFGEOID</th>\n",
       "      <th>GEOID</th>\n",
       "      <th>STUSPS</th>\n",
       "      <th>NAME</th>\n",
       "      <th>LSAD</th>\n",
       "      <th>ALAND</th>\n",
       "      <th>AWATER</th>\n",
       "      <th>geometry</th>\n",
       "      <th>STATE</th>\n",
       "      <th>FIRE_SIZE</th>\n",
       "      <th>LATITUDE</th>\n",
       "      <th>LONGITUDE</th>\n",
       "    </tr>\n",
       "  </thead>\n",
       "  <tbody>\n",
       "    <tr>\n",
       "      <th>0</th>\n",
       "      <td>47</td>\n",
       "      <td>01325873</td>\n",
       "      <td>0400000US47</td>\n",
       "      <td>47</td>\n",
       "      <td>TN</td>\n",
       "      <td>Tennessee</td>\n",
       "      <td>00</td>\n",
       "      <td>106791646253</td>\n",
       "      <td>2322913374</td>\n",
       "      <td>POLYGON ((-90.30070 35.02879, -90.26530 35.040...</td>\n",
       "      <td>TN</td>\n",
       "      <td>8524.96</td>\n",
       "      <td>35.790451</td>\n",
       "      <td>-86.451118</td>\n",
       "    </tr>\n",
       "    <tr>\n",
       "      <th>1</th>\n",
       "      <td>27</td>\n",
       "      <td>00662849</td>\n",
       "      <td>0400000US27</td>\n",
       "      <td>27</td>\n",
       "      <td>MN</td>\n",
       "      <td>Minnesota</td>\n",
       "      <td>00</td>\n",
       "      <td>206232157570</td>\n",
       "      <td>18949864226</td>\n",
       "      <td>POLYGON ((-97.22904 49.00069, -96.93096 48.999...</td>\n",
       "      <td>MN</td>\n",
       "      <td>28952.47</td>\n",
       "      <td>47.127407</td>\n",
       "      <td>-94.306281</td>\n",
       "    </tr>\n",
       "    <tr>\n",
       "      <th>2</th>\n",
       "      <td>17</td>\n",
       "      <td>01779784</td>\n",
       "      <td>0400000US17</td>\n",
       "      <td>17</td>\n",
       "      <td>IL</td>\n",
       "      <td>Illinois</td>\n",
       "      <td>00</td>\n",
       "      <td>143778461053</td>\n",
       "      <td>6216594318</td>\n",
       "      <td>POLYGON ((-91.50626 40.20016, -91.49696 40.248...</td>\n",
       "      <td>IL</td>\n",
       "      <td>1591.50</td>\n",
       "      <td>40.025942</td>\n",
       "      <td>-89.607835</td>\n",
       "    </tr>\n",
       "    <tr>\n",
       "      <th>3</th>\n",
       "      <td>30</td>\n",
       "      <td>00767982</td>\n",
       "      <td>0400000US30</td>\n",
       "      <td>30</td>\n",
       "      <td>MT</td>\n",
       "      <td>Montana</td>\n",
       "      <td>00</td>\n",
       "      <td>376973673895</td>\n",
       "      <td>3866689601</td>\n",
       "      <td>POLYGON ((-116.04919 49.00091, -115.50102 49.0...</td>\n",
       "      <td>MT</td>\n",
       "      <td>350033.86</td>\n",
       "      <td>47.196306</td>\n",
       "      <td>-111.596525</td>\n",
       "    </tr>\n",
       "    <tr>\n",
       "      <th>4</th>\n",
       "      <td>11</td>\n",
       "      <td>01702382</td>\n",
       "      <td>0400000US11</td>\n",
       "      <td>11</td>\n",
       "      <td>DC</td>\n",
       "      <td>District of Columbia</td>\n",
       "      <td>00</td>\n",
       "      <td>158316124</td>\n",
       "      <td>18709762</td>\n",
       "      <td>POLYGON ((-77.11976 38.93434, -77.04102 38.995...</td>\n",
       "      <td>DC</td>\n",
       "      <td>2.20</td>\n",
       "      <td>38.919267</td>\n",
       "      <td>-77.013700</td>\n",
       "    </tr>\n",
       "  </tbody>\n",
       "</table>\n",
       "</div>"
      ],
      "text/plain": [
       "  STATEFP   STATENS     AFFGEOID GEOID STUSPS                  NAME LSAD  \\\n",
       "0      47  01325873  0400000US47    47     TN             Tennessee   00   \n",
       "1      27  00662849  0400000US27    27     MN             Minnesota   00   \n",
       "2      17  01779784  0400000US17    17     IL              Illinois   00   \n",
       "3      30  00767982  0400000US30    30     MT               Montana   00   \n",
       "4      11  01702382  0400000US11    11     DC  District of Columbia   00   \n",
       "\n",
       "          ALAND       AWATER  \\\n",
       "0  106791646253   2322913374   \n",
       "1  206232157570  18949864226   \n",
       "2  143778461053   6216594318   \n",
       "3  376973673895   3866689601   \n",
       "4     158316124     18709762   \n",
       "\n",
       "                                            geometry STATE  FIRE_SIZE  \\\n",
       "0  POLYGON ((-90.30070 35.02879, -90.26530 35.040...    TN    8524.96   \n",
       "1  POLYGON ((-97.22904 49.00069, -96.93096 48.999...    MN   28952.47   \n",
       "2  POLYGON ((-91.50626 40.20016, -91.49696 40.248...    IL    1591.50   \n",
       "3  POLYGON ((-116.04919 49.00091, -115.50102 49.0...    MT  350033.86   \n",
       "4  POLYGON ((-77.11976 38.93434, -77.04102 38.995...    DC       2.20   \n",
       "\n",
       "    LATITUDE   LONGITUDE  \n",
       "0  35.790451  -86.451118  \n",
       "1  47.127407  -94.306281  \n",
       "2  40.025942  -89.607835  \n",
       "3  47.196306 -111.596525  \n",
       "4  38.919267  -77.013700  "
      ]
     },
     "execution_count": 44,
     "metadata": {},
     "output_type": "execute_result"
    }
   ],
   "source": [
    "fires_2015_state.head()"
   ]
  },
  {
   "cell_type": "code",
   "execution_count": 53,
   "id": "523180fb",
   "metadata": {},
   "outputs": [
    {
     "data": {
      "text/plain": [
       "geopandas.geodataframe.GeoDataFrame"
      ]
     },
     "execution_count": 53,
     "metadata": {},
     "output_type": "execute_result"
    }
   ],
   "source": [
    "type(fires_2015_state)"
   ]
  },
  {
   "cell_type": "code",
   "execution_count": 47,
   "id": "b95b7654",
   "metadata": {},
   "outputs": [
    {
     "data": {
      "image/png": "[encoded data removed]",
      "text/plain": [
       "<Figure size 1800x1080 with 1 Axes>"
      ]
     },
     "metadata": {
      "needs_background": "light"
     },
     "output_type": "display_data"
    }
   ],
   "source": [
    "fires_2015_state.plot('FIRE_SIZE', scheme=\"quantiles\", figsize=(25, 15), legend=True, cmap='coolwarm')\n",
    "plt.xlim(-130,-60)\n",
    "plt.ylim(20,55)\n",
    "plt.title('Surface brûlée par les incendies en 2015 par état',fontsize=25);"
   ]
  },
  {
   "cell_type": "code",
   "execution_count": 48,
   "id": "b457b42b",
   "metadata": {},
   "outputs": [],
   "source": [
    "contiguous_usa = gpd.read_file(gplt.datasets.get_path(\"contiguous_usa\"))"
   ]
  },
  {
   "cell_type": "code",
   "execution_count": 50,
   "id": "d9acb701",
   "metadata": {
    "scrolled": true
   },
   "outputs": [
    {
     "data": {
      "text/plain": [
       "<AxesSubplot:>"
      ]
     },
     "execution_count": 50,
     "metadata": {},
     "output_type": "execute_result"
    },
    {
     "data": {
      "image/png": "[encoded data removed]",
      "text/plain": [
       "<Figure size 432x288 with 1 Axes>"
      ]
     },
     "metadata": {
      "needs_background": "light"
     },
     "output_type": "display_data"
    }
   ],
   "source": [
    "contiguous_usa.plot()"
   ]
  },
  {
   "cell_type": "code",
   "execution_count": 52,
   "id": "b48ab03a",
   "metadata": {},
   "outputs": [
    {
     "data": {
      "text/html": [
       "<div>\n",
       "<style scoped>\n",
       "    .dataframe tbody tr th:only-of-type {\n",
       "        vertical-align: middle;\n",
       "    }\n",
       "\n",
       "    .dataframe tbody tr th {\n",
       "        vertical-align: top;\n",
       "    }\n",
       "\n",
       "    .dataframe thead th {\n",
       "        text-align: right;\n",
       "    }\n",
       "</style>\n",
       "<table border=\"1\" class=\"dataframe\">\n",
       "  <thead>\n",
       "    <tr style=\"text-align: right;\">\n",
       "      <th></th>\n",
       "      <th>state</th>\n",
       "      <th>adm1_code</th>\n",
       "      <th>population</th>\n",
       "      <th>geometry</th>\n",
       "    </tr>\n",
       "  </thead>\n",
       "  <tbody>\n",
       "    <tr>\n",
       "      <th>0</th>\n",
       "      <td>Minnesota</td>\n",
       "      <td>USA-3514</td>\n",
       "      <td>5303925</td>\n",
       "      <td>POLYGON ((-89.59941 48.01027, -89.48888 48.013...</td>\n",
       "    </tr>\n",
       "    <tr>\n",
       "      <th>1</th>\n",
       "      <td>Montana</td>\n",
       "      <td>USA-3515</td>\n",
       "      <td>989415</td>\n",
       "      <td>POLYGON ((-111.19419 44.56116, -111.29155 44.7...</td>\n",
       "    </tr>\n",
       "    <tr>\n",
       "      <th>2</th>\n",
       "      <td>North Dakota</td>\n",
       "      <td>USA-3516</td>\n",
       "      <td>672591</td>\n",
       "      <td>POLYGON ((-96.60136 46.35136, -96.53891 46.199...</td>\n",
       "    </tr>\n",
       "    <tr>\n",
       "      <th>3</th>\n",
       "      <td>Idaho</td>\n",
       "      <td>USA-3518</td>\n",
       "      <td>1567582</td>\n",
       "      <td>POLYGON ((-111.04973 44.48816, -111.05025 42.0...</td>\n",
       "    </tr>\n",
       "    <tr>\n",
       "      <th>4</th>\n",
       "      <td>Washington</td>\n",
       "      <td>USA-3519</td>\n",
       "      <td>6724540</td>\n",
       "      <td>POLYGON ((-116.99807 46.33017, -116.90653 46.1...</td>\n",
       "    </tr>\n",
       "  </tbody>\n",
       "</table>\n",
       "</div>"
      ],
      "text/plain": [
       "          state adm1_code  population  \\\n",
       "0     Minnesota  USA-3514     5303925   \n",
       "1       Montana  USA-3515      989415   \n",
       "2  North Dakota  USA-3516      672591   \n",
       "3         Idaho  USA-3518     1567582   \n",
       "4    Washington  USA-3519     6724540   \n",
       "\n",
       "                                            geometry  \n",
       "0  POLYGON ((-89.59941 48.01027, -89.48888 48.013...  \n",
       "1  POLYGON ((-111.19419 44.56116, -111.29155 44.7...  \n",
       "2  POLYGON ((-96.60136 46.35136, -96.53891 46.199...  \n",
       "3  POLYGON ((-111.04973 44.48816, -111.05025 42.0...  \n",
       "4  POLYGON ((-116.99807 46.33017, -116.90653 46.1...  "
      ]
     },
     "execution_count": 52,
     "metadata": {},
     "output_type": "execute_result"
    }
   ],
   "source": [
    "contiguous_usa.head()"
   ]
  },
  {
   "cell_type": "code",
   "execution_count": 49,
   "id": "3c8538c0",
   "metadata": {},
   "outputs": [
    {
     "data": {
      "text/plain": [
       "Index(['OBJECTID', 'FOD_ID', 'FPA_ID', 'SOURCE_SYSTEM_TYPE', 'SOURCE_SYSTEM',\n",
       "       'NWCG_REPORTING_AGENCY', 'NWCG_REPORTING_UNIT_ID',\n",
       "       'NWCG_REPORTING_UNIT_NAME', 'SOURCE_REPORTING_UNIT',\n",
       "       'SOURCE_REPORTING_UNIT_NAME', 'LOCAL_FIRE_REPORT_ID',\n",
       "       'LOCAL_INCIDENT_ID', 'FIRE_CODE', 'FIRE_NAME',\n",
       "       'ICS_209_INCIDENT_NUMBER', 'ICS_209_NAME', 'MTBS_ID', 'MTBS_FIRE_NAME',\n",
       "       'COMPLEX_NAME', 'FIRE_YEAR', 'DISCOVERY_DATE', 'DISCOVERY_DOY',\n",
       "       'DISCOVERY_TIME', 'STAT_CAUSE_CODE', 'STAT_CAUSE_DESCR', 'CONT_DATE',\n",
       "       'CONT_DOY', 'CONT_TIME', 'FIRE_SIZE', 'FIRE_SIZE_CLASS', 'LATITUDE',\n",
       "       'LONGITUDE', 'OWNER_CODE', 'OWNER_DESCR', 'STATE', 'COUNTY',\n",
       "       'FIPS_CODE', 'FIPS_NAME', 'Shape'],\n",
       "      dtype='object')"
      ]
     },
     "execution_count": 49,
     "metadata": {},
     "output_type": "execute_result"
    }
   ],
   "source": [
    "fires_all.columns"
   ]
  }
 ],
 "metadata": {
  "kernelspec": {
   "display_name": "Python 3 (ipykernel)",
   "language": "python",
   "name": "python3"
  },
  "language_info": {
   "codemirror_mode": {
    "name": "ipython",
    "version": 3
   },
   "file_extension": ".py",
   "mimetype": "text/x-python",
   "name": "python",
   "nbconvert_exporter": "python",
   "pygments_lexer": "ipython3",
   "version": "3.9.7"
  }
 },
 "nbformat": 4,
 "nbformat_minor": 5
}
