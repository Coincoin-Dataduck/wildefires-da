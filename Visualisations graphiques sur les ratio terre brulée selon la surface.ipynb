{
 "cells": [
  {
   "cell_type": "code",
   "execution_count": 8,
   "id": "54cc208c",
   "metadata": {},
   "outputs": [
    {
     "name": "stderr",
     "output_type": "stream",
     "text": [
      "C:\\Users\\33767\\AppData\\Local\\Temp\\ipykernel_7740\\3122406381.py:7: DtypeWarning: Columns (8,10,11,12,13,14,15,16,17,18,35,37) have mixed types. Specify dtype option on import or set low_memory=False.\n",
      "  df = pd.read_csv(r\"C:\\fires_utf8.csv\")\n"
     ]
    }
   ],
   "source": [
    "import pandas as pd\n",
    "import numpy as np\n",
    "import matplotlib.pyplot as plt\n",
    "import seaborn as sns\n",
    "%matplotlib inline\n",
    "\n",
    "df = pd.read_csv(r\"C:\\fires_utf8.csv\")\n",
    "size = pd.read_csv(r\"C:\\us_size.csv\", sep = ',')"
   ]
  },
  {
   "cell_type": "markdown",
   "id": "daa83cb6",
   "metadata": {},
   "source": [
    "#### Modification des noms d'états par leur abréviations sur le df 'size'"
   ]
  },
  {
   "cell_type": "code",
   "execution_count": 9,
   "id": "8e1a2eb0",
   "metadata": {},
   "outputs": [],
   "source": [
    "size = size.replace({\n",
    "    \"Alabama\": \"AL\",\n",
    "    \"Alaska\": \"AK\",\n",
    "    \"Arizona\": \"AZ\",\n",
    "    \"Arkansas\": \"AR\",\n",
    "    \"California\": \"CA\",\n",
    "    \"Colorado\": \"CO\",\n",
    "    \"Connecticut\": \"CT\",\n",
    "    \"Delaware\": \"DE\",\n",
    "    \"Florida\": \"FL\",\n",
    "    \"Georgia\": \"GA\",\n",
    "    \"Hawaii\": \"HI\",\n",
    "    \"Idaho\": \"ID\",\n",
    "    \"Illinois\": \"IL\",\n",
    "    \"Indiana\": \"IN\",\n",
    "    \"Iowa\": \"IA\",\n",
    "    \"Kansas\": \"KS\",\n",
    "    \"Kentucky\": \"KY\",\n",
    "    \"Louisiana\": \"LA\",\n",
    "    \"Maine\": \"ME\",\n",
    "    \"Maryland\": \"MD\",\n",
    "    \"Massachusetts\": \"MA\",\n",
    "    \"Michigan\": \"MI\",\n",
    "    \"Minnesota\": \"MN\",\n",
    "    \"Mississippi\": \"MS\",\n",
    "    \"Missouri\": \"MO\",\n",
    "    \"Montana\": \"MT\",\n",
    "    \"Nebraska\": \"NE\",\n",
    "    \"Nevada\": \"NV\",\n",
    "    \"New Hampshire\": \"NH\",\n",
    "    \"New Jersey\": \"NJ\",\n",
    "    \"New Mexico\": \"NM\",\n",
    "    \"New York\": \"NY\",\n",
    "    \"North Carolina\": \"NC\",\n",
    "    \"North Dakota\": \"ND\",\n",
    "    \"Ohio\": \"OH\",\n",
    "    \"Oklahoma\": \"OK\",\n",
    "    \"Oregon\": \"OR\",\n",
    "    \"Pennsylvania\": \"PA\",\n",
    "    \"Rhode Island\": \"RI\",\n",
    "    \"South Carolina\": \"SC\",\n",
    "    \"South Dakota\": \"SD\",\n",
    "    \"Tennessee\": \"TN\",\n",
    "    \"Texas\": \"TX\",\n",
    "    \"Utah\": \"UT\",\n",
    "    \"Vermont\": \"VT\",\n",
    "    \"Virginia\": \"VA\",\n",
    "    \"Washington\": \"WA\",\n",
    "    \"West Virginia\": \"WV\",\n",
    "    \"Wisconsin\": \"WI\",\n",
    "    \"Wyoming\": \"WY\",\n",
    "    \"District of Columbia\": \"DC\",\n",
    "    \"American Samoa\": \"AS\",\n",
    "    \"Guam\": \"GU\",\n",
    "    \"Northern Mariana Islands\": \"MP\",\n",
    "    \"Puerto Rico\": \"PR\",\n",
    "    \"United States Minor Outlying Islands\": \"UM\",\n",
    "    \"U.S. Virgin Islands\": \"VI\",\n",
    "})"
   ]
  },
  {
   "cell_type": "code",
   "execution_count": 10,
   "id": "a3512431",
   "metadata": {},
   "outputs": [],
   "source": [
    "size.columns = ['STATE', 'STATE_AREA']"
   ]
  },
  {
   "cell_type": "markdown",
   "id": "38d7ba4a",
   "metadata": {},
   "source": [
    "#### Nettoyage de la bdd"
   ]
  },
  {
   "cell_type": "code",
   "execution_count": 11,
   "id": "80ca2416",
   "metadata": {},
   "outputs": [],
   "source": [
    "df.drop(['Shape','FOD_ID', 'FPA_ID', 'SOURCE_SYSTEM_TYPE', 'SOURCE_SYSTEM', 'NWCG_REPORTING_AGENCY', 'NWCG_REPORTING_UNIT_ID', 'NWCG_REPORTING_UNIT_NAME', 'SOURCE_REPORTING_UNIT', 'SOURCE_REPORTING_UNIT_NAME', 'LOCAL_FIRE_REPORT_ID', 'LOCAL_INCIDENT_ID', 'FIRE_CODE', 'ICS_209_INCIDENT_NUMBER', 'ICS_209_NAME', 'MTBS_ID', 'MTBS_FIRE_NAME', 'COMPLEX_NAME'], axis = 1, inplace = True)"
   ]
  },
  {
   "cell_type": "markdown",
   "id": "5355ee7d",
   "metadata": {},
   "source": [
    "## Premier graphique : Le nombre de feux par états"
   ]
  },
  {
   "cell_type": "code",
   "execution_count": 12,
   "id": "31f86aa0",
   "metadata": {},
   "outputs": [],
   "source": [
    "df_counts = df['STATE']"
   ]
  },
  {
   "cell_type": "code",
   "execution_count": 13,
   "id": "3147fb09",
   "metadata": {},
   "outputs": [
    {
     "data": {
      "image/png": "[encoded data removed]",
      "text/plain": [
       "<Figure size 864x576 with 1 Axes>"
      ]
     },
     "metadata": {
      "needs_background": "light"
     },
     "output_type": "display_data"
    }
   ],
   "source": [
    "plt.figure(figsize = (12, 8))\n",
    "df_counts.value_counts().sort_values(ascending = False).plot(kind = 'bar', width = 0.8, alpha = 0.9,  edgecolor = 'darkblue', \n",
    "                                                            color = 'purple', ylabel = \"Feux enregistrés\", title = 'Nombre de feux par état');"
   ]
  },
  {
   "cell_type": "code",
   "execution_count": 24,
   "id": "f9fc40ce",
   "metadata": {},
   "outputs": [
    {
     "name": "stdout",
     "output_type": "stream",
     "text": [
      "CA    189550\n",
      "GA    168867\n",
      "TX    142021\n",
      "Name: STATE, dtype: int64\n"
     ]
    }
   ],
   "source": [
    "print(df_counts.value_counts().head(3))"
   ]
  },
  {
   "cell_type": "raw",
   "id": "5506584d",
   "metadata": {},
   "source": [
    "La Californie est l'état comptant le plus de feux depuis 1992 avec 189 550 feux rescencés."
   ]
  },
  {
   "cell_type": "markdown",
   "id": "5b173079",
   "metadata": {},
   "source": [
    "#### Ajout des tailles d'états dans le df "
   ]
  },
  {
   "cell_type": "code",
   "execution_count": 14,
   "id": "3dc22aa0",
   "metadata": {},
   "outputs": [],
   "source": [
    "df = df.groupby(['STATE']).sum()"
   ]
  },
  {
   "cell_type": "code",
   "execution_count": 15,
   "id": "dafcf171",
   "metadata": {},
   "outputs": [],
   "source": [
    "df_new = df.join(size.set_index('STATE'), on='STATE')"
   ]
  },
  {
   "cell_type": "code",
   "execution_count": 16,
   "id": "8e9ab72f",
   "metadata": {},
   "outputs": [
    {
     "data": {
      "text/html": [
       "<div>\n",
       "<style scoped>\n",
       "    .dataframe tbody tr th:only-of-type {\n",
       "        vertical-align: middle;\n",
       "    }\n",
       "\n",
       "    .dataframe tbody tr th {\n",
       "        vertical-align: top;\n",
       "    }\n",
       "\n",
       "    .dataframe thead th {\n",
       "        text-align: right;\n",
       "    }\n",
       "</style>\n",
       "<table border=\"1\" class=\"dataframe\">\n",
       "  <thead>\n",
       "    <tr style=\"text-align: right;\">\n",
       "      <th></th>\n",
       "      <th>OBJECTID</th>\n",
       "      <th>FIRE_YEAR</th>\n",
       "      <th>DISCOVERY_DATE</th>\n",
       "      <th>DISCOVERY_DOY</th>\n",
       "      <th>DISCOVERY_TIME</th>\n",
       "      <th>STAT_CAUSE_CODE</th>\n",
       "      <th>CONT_DATE</th>\n",
       "      <th>CONT_DOY</th>\n",
       "      <th>CONT_TIME</th>\n",
       "      <th>FIRE_SIZE</th>\n",
       "      <th>LATITUDE</th>\n",
       "      <th>LONGITUDE</th>\n",
       "      <th>OWNER_CODE</th>\n",
       "      <th>FIPS_CODE</th>\n",
       "      <th>STATE_AREA</th>\n",
       "    </tr>\n",
       "    <tr>\n",
       "      <th>STATE</th>\n",
       "      <th></th>\n",
       "      <th></th>\n",
       "      <th></th>\n",
       "      <th></th>\n",
       "      <th></th>\n",
       "      <th></th>\n",
       "      <th></th>\n",
       "      <th></th>\n",
       "      <th></th>\n",
       "      <th></th>\n",
       "      <th></th>\n",
       "      <th></th>\n",
       "      <th></th>\n",
       "      <th></th>\n",
       "      <th></th>\n",
       "    </tr>\n",
       "  </thead>\n",
       "  <tbody>\n",
       "    <tr>\n",
       "      <th>AK</th>\n",
       "      <td>10082406848</td>\n",
       "      <td>25727739</td>\n",
       "      <td>3.150260e+10</td>\n",
       "      <td>2174064</td>\n",
       "      <td>8505314.0</td>\n",
       "      <td>65585</td>\n",
       "      <td>2.133541e+10</td>\n",
       "      <td>1603957.0</td>\n",
       "      <td>7979298.0</td>\n",
       "      <td>3.223309e+07</td>\n",
       "      <td>8.087091e+05</td>\n",
       "      <td>-1.915751e+06</td>\n",
       "      <td>113331</td>\n",
       "      <td>54898.0</td>\n",
       "      <td>656425</td>\n",
       "    </tr>\n",
       "    <tr>\n",
       "      <th>AL</th>\n",
       "      <td>77454402680</td>\n",
       "      <td>133338606</td>\n",
       "      <td>1.632818e+11</td>\n",
       "      <td>9962095</td>\n",
       "      <td>46791028.0</td>\n",
       "      <td>404764</td>\n",
       "      <td>7.623578e+10</td>\n",
       "      <td>4719620.0</td>\n",
       "      <td>33707937.0</td>\n",
       "      <td>9.205453e+05</td>\n",
       "      <td>2.179350e+06</td>\n",
       "      <td>-5.781334e+06</td>\n",
       "      <td>917814</td>\n",
       "      <td>2814564.0</td>\n",
       "      <td>52423</td>\n",
       "    </tr>\n",
       "    <tr>\n",
       "      <th>AR</th>\n",
       "      <td>29134959371</td>\n",
       "      <td>63506536</td>\n",
       "      <td>7.769449e+10</td>\n",
       "      <td>5313264</td>\n",
       "      <td>20321649.0</td>\n",
       "      <td>187562</td>\n",
       "      <td>2.494632e+10</td>\n",
       "      <td>1617250.0</td>\n",
       "      <td>15519533.0</td>\n",
       "      <td>5.089118e+05</td>\n",
       "      <td>1.100262e+06</td>\n",
       "      <td>-2.939985e+06</td>\n",
       "      <td>358655</td>\n",
       "      <td>1518278.0</td>\n",
       "      <td>53182</td>\n",
       "    </tr>\n",
       "    <tr>\n",
       "      <th>AZ</th>\n",
       "      <td>38165429587</td>\n",
       "      <td>143329695</td>\n",
       "      <td>1.755668e+11</td>\n",
       "      <td>13001635</td>\n",
       "      <td>96297555.0</td>\n",
       "      <td>346374</td>\n",
       "      <td>1.627348e+11</td>\n",
       "      <td>12162190.0</td>\n",
       "      <td>98555959.0</td>\n",
       "      <td>5.576681e+06</td>\n",
       "      <td>2.440451e+06</td>\n",
       "      <td>-7.969784e+06</td>\n",
       "      <td>391277</td>\n",
       "      <td>270208.0</td>\n",
       "      <td>114006</td>\n",
       "    </tr>\n",
       "    <tr>\n",
       "      <th>CA</th>\n",
       "      <td>177304918294</td>\n",
       "      <td>379691069</td>\n",
       "      <td>4.649442e+11</td>\n",
       "      <td>38212251</td>\n",
       "      <td>152513076.0</td>\n",
       "      <td>1078677</td>\n",
       "      <td>2.254822e+11</td>\n",
       "      <td>18713179.0</td>\n",
       "      <td>134455404.0</td>\n",
       "      <td>1.274586e+07</td>\n",
       "      <td>7.095646e+06</td>\n",
       "      <td>-2.278055e+07</td>\n",
       "      <td>2040892</td>\n",
       "      <td>3183993.0</td>\n",
       "      <td>163707</td>\n",
       "    </tr>\n",
       "  </tbody>\n",
       "</table>\n",
       "</div>"
      ],
      "text/plain": [
       "           OBJECTID  FIRE_YEAR  DISCOVERY_DATE  DISCOVERY_DOY  DISCOVERY_TIME  \\\n",
       "STATE                                                                           \n",
       "AK      10082406848   25727739    3.150260e+10        2174064       8505314.0   \n",
       "AL      77454402680  133338606    1.632818e+11        9962095      46791028.0   \n",
       "AR      29134959371   63506536    7.769449e+10        5313264      20321649.0   \n",
       "AZ      38165429587  143329695    1.755668e+11       13001635      96297555.0   \n",
       "CA     177304918294  379691069    4.649442e+11       38212251     152513076.0   \n",
       "\n",
       "       STAT_CAUSE_CODE     CONT_DATE    CONT_DOY    CONT_TIME     FIRE_SIZE  \\\n",
       "STATE                                                                         \n",
       "AK               65585  2.133541e+10   1603957.0    7979298.0  3.223309e+07   \n",
       "AL              404764  7.623578e+10   4719620.0   33707937.0  9.205453e+05   \n",
       "AR              187562  2.494632e+10   1617250.0   15519533.0  5.089118e+05   \n",
       "AZ              346374  1.627348e+11  12162190.0   98555959.0  5.576681e+06   \n",
       "CA             1078677  2.254822e+11  18713179.0  134455404.0  1.274586e+07   \n",
       "\n",
       "           LATITUDE     LONGITUDE  OWNER_CODE  FIPS_CODE  STATE_AREA  \n",
       "STATE                                                                 \n",
       "AK     8.087091e+05 -1.915751e+06      113331    54898.0      656425  \n",
       "AL     2.179350e+06 -5.781334e+06      917814  2814564.0       52423  \n",
       "AR     1.100262e+06 -2.939985e+06      358655  1518278.0       53182  \n",
       "AZ     2.440451e+06 -7.969784e+06      391277   270208.0      114006  \n",
       "CA     7.095646e+06 -2.278055e+07     2040892  3183993.0      163707  "
      ]
     },
     "execution_count": 16,
     "metadata": {},
     "output_type": "execute_result"
    }
   ],
   "source": [
    "df_new.head()"
   ]
  },
  {
   "cell_type": "code",
   "execution_count": 17,
   "id": "9eeb5440",
   "metadata": {},
   "outputs": [],
   "source": [
    "df_new['FIRE_SIZE'] = df_new['FIRE_SIZE'] / 640\n",
    "\n",
    "#conversion des acres en miles carrés"
   ]
  },
  {
   "cell_type": "code",
   "execution_count": 18,
   "id": "0e01eaba",
   "metadata": {},
   "outputs": [],
   "source": [
    "df2 = df_new.sort_values(by = 'FIRE_SIZE', ascending=False)"
   ]
  },
  {
   "cell_type": "markdown",
   "id": "052cdc0d",
   "metadata": {},
   "source": [
    "## Deuxième graphique : la surface totale brulée par état"
   ]
  },
  {
   "cell_type": "code",
   "execution_count": 19,
   "id": "b9df2d9c",
   "metadata": {},
   "outputs": [
    {
     "data": {
      "image/png": "[encoded data removed]",
      "text/plain": [
       "<Figure size 864x576 with 1 Axes>"
      ]
     },
     "metadata": {
      "needs_background": "light"
     },
     "output_type": "display_data"
    }
   ],
   "source": [
    "plt.figure(figsize = (12, 8))\n",
    "plt.bar(df2.index,df2['FIRE_SIZE'],width = 0.9, color = 'r', label = 'Surface brulée')\n",
    "plt.bar(range(len(df_new)),df2['STATE_AREA'],width = 0.9, bottom = df2['FIRE_SIZE'], color = 'g', label = 'Surface totale')\n",
    "plt.xticks(rotation=90)\n",
    "plt.title(\"Comparaison entre surface totale et surface brulée\")\n",
    "plt.ylabel('taille en miles carrés')\n",
    "plt.legend();"
   ]
  },
  {
   "cell_type": "code",
   "execution_count": 26,
   "id": "2a3c62cc",
   "metadata": {},
   "outputs": [
    {
     "name": "stdout",
     "output_type": "stream",
     "text": [
      "STATE\n",
      "AK    50364.209753\n",
      "ID    21381.773314\n",
      "CA    19915.404019\n",
      "Name: FIRE_SIZE, dtype: float64\n"
     ]
    }
   ],
   "source": [
    "print(df2['FIRE_SIZE'].head(3))"
   ]
  },
  {
   "cell_type": "raw",
   "id": "1c6ea803",
   "metadata": {},
   "source": [
    "L'état avec la plus grande surface brulée est l'Alaska avec 50364 miles carrés (environ 130442 kilomètres carrés) brulés depuis 1992."
   ]
  },
  {
   "cell_type": "markdown",
   "id": "06fb15dd",
   "metadata": {},
   "source": [
    "## Troisième graphique : le ratio de surface brulée par rapport à la surface de l'état"
   ]
  },
  {
   "cell_type": "code",
   "execution_count": 20,
   "id": "72b7520d",
   "metadata": {},
   "outputs": [],
   "source": [
    "df2['ratio'] = df2['FIRE_SIZE'] / df2['STATE_AREA']*100"
   ]
  },
  {
   "cell_type": "code",
   "execution_count": 21,
   "id": "e275181a",
   "metadata": {},
   "outputs": [],
   "source": [
    "df3 = df2.sort_values(by = 'ratio', ascending=False)"
   ]
  },
  {
   "cell_type": "code",
   "execution_count": 22,
   "id": "0a1cab7b",
   "metadata": {},
   "outputs": [
    {
     "data": {
      "image/png": "[encoded data removed]",
      "text/plain": [
       "<Figure size 864x576 with 1 Axes>"
      ]
     },
     "metadata": {
      "needs_background": "light"
     },
     "output_type": "display_data"
    }
   ],
   "source": [
    "plt.figure(figsize = (12, 8))\n",
    "plt.bar(df3.index,df3['ratio'],width = 0.9, color = 'orange')\n",
    "plt.xticks(rotation=90)\n",
    "plt.title('Ration entre la Surface brulée divisée par surface totale')\n",
    "plt.ylabel('Pourcentage brulé ');"
   ]
  },
  {
   "cell_type": "code",
   "execution_count": 29,
   "id": "156aad63",
   "metadata": {},
   "outputs": [
    {
     "name": "stdout",
     "output_type": "stream",
     "text": [
      "STATE\n",
      "ID    25.584241\n",
      "OR    13.360643\n",
      "NV    12.740939\n",
      "Name: ratio, dtype: float64\n"
     ]
    }
   ],
   "source": [
    "print(df3['ratio'].head(3))"
   ]
  },
  {
   "cell_type": "raw",
   "id": "2070e0b4",
   "metadata": {},
   "source": [
    "l'Idaho est l'état avec le plus gros pourcentage de surface brulée (25% de la surface totale) depuis 1992."
   ]
  }
 ],
 "metadata": {
  "kernelspec": {
   "display_name": "Python 3 (ipykernel)",
   "language": "python",
   "name": "python3"
  },
  "language_info": {
   "codemirror_mode": {
    "name": "ipython",
    "version": 3
   },
   "file_extension": ".py",
   "mimetype": "text/x-python",
   "name": "python",
   "nbconvert_exporter": "python",
   "pygments_lexer": "ipython3",
   "version": "3.9.12"
  }
 },
 "nbformat": 4,
 "nbformat_minor": 5
}
