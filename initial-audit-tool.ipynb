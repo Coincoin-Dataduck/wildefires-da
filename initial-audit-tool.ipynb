{
 "cells": [
  {
   "cell_type": "markdown",
   "source": [
    "# Main goal of this tool is to build a csv table to audit the file"
   ],
   "metadata": {
    "collapsed": false
   }
  },
  {
   "cell_type": "code",
   "execution_count": 2,
   "metadata": {
    "collapsed": true
   },
   "outputs": [
    {
     "name": "stderr",
     "output_type": "stream",
     "text": [
      "/tmp/ipykernel_30083/1238125319.py:2: DtypeWarning: Columns (8,10,11,12,13,14,15,16,17,18,35,37) have mixed types. Specify dtype option on import or set low_memory=False.\n",
      "  df = pd.read_csv(\"fires.csv\")\n"
     ]
    },
    {
     "data": {
      "text/plain": "         OBJECTID     FOD_ID             FPA_ID SOURCE_SYSTEM_TYPE  \\\n0               1          1         FS-1418826                FED   \n1               2          2         FS-1418827                FED   \n2               3          3         FS-1418835                FED   \n3               4          4         FS-1418845                FED   \n4               5          5         FS-1418847                FED   \n...           ...        ...                ...                ...   \n1880460   1880461  300348363  2015CAIRS29019636             NONFED   \n1880461   1880462  300348373  2015CAIRS29217935             NONFED   \n1880462   1880463  300348375  2015CAIRS28364460             NONFED   \n1880463   1880464  300348377  2015CAIRS29218079             NONFED   \n1880464   1880465  300348399  2015CAIRS26733926             NONFED   \n\n        SOURCE_SYSTEM NWCG_REPORTING_AGENCY NWCG_REPORTING_UNIT_ID  \\\n0         FS-FIRESTAT                    FS                USCAPNF   \n1         FS-FIRESTAT                    FS                USCAENF   \n2         FS-FIRESTAT                    FS                USCAENF   \n3         FS-FIRESTAT                    FS                USCAENF   \n4         FS-FIRESTAT                    FS                USCAENF   \n...               ...                   ...                    ...   \n1880460      ST-CACDF                ST/C&L                USCASHU   \n1880461      ST-CACDF                ST/C&L                USCATCU   \n1880462      ST-CACDF                ST/C&L                USCATCU   \n1880463      ST-CACDF                ST/C&L                USCATCU   \n1880464      ST-CACDF                ST/C&L                USCABDU   \n\n         NWCG_REPORTING_UNIT_NAME SOURCE_REPORTING_UNIT  \\\n0          Plumas National Forest                   511   \n1        Eldorado National Forest                   503   \n2        Eldorado National Forest                   503   \n3        Eldorado National Forest                   503   \n4        Eldorado National Forest                   503   \n...                           ...                   ...   \n1880460       Shasta-Trinity Unit                 CASHU   \n1880461   Tuolumne-Calaveras Unit                 CATCU   \n1880462   Tuolumne-Calaveras Unit                 CATCU   \n1880463   Tuolumne-Calaveras Unit                 CATCU   \n1880464       San Bernardino Unit                 CABDU   \n\n        SOURCE_REPORTING_UNIT_NAME  ... FIRE_SIZE_CLASS   LATITUDE  \\\n0           Plumas National Forest  ...               A  40.036944   \n1         Eldorado National Forest  ...               A  38.933056   \n2         Eldorado National Forest  ...               A  38.984167   \n3         Eldorado National Forest  ...               A  38.559167   \n4         Eldorado National Forest  ...               A  38.559167   \n...                            ...  ...             ...        ...   \n1880460        Shasta-Trinity Unit  ...               A  40.481637   \n1880461    Tuolumne-Calaveras Unit  ...               A  37.617619   \n1880462    Tuolumne-Calaveras Unit  ...               A  37.617619   \n1880463    Tuolumne-Calaveras Unit  ...               B  37.672235   \n1880464  CDF - San Bernardino Unit  ...               A  34.263217   \n\n          LONGITUDE OWNER_CODE       OWNER_DESCR STATE COUNTY FIPS_CODE  \\\n0       -121.005833        5.0              USFS    CA   63.0      63.0   \n1       -120.404444        5.0              USFS    CA   61.0      61.0   \n2       -120.735556       13.0  STATE OR PRIVATE    CA   17.0      17.0   \n3       -119.913333        5.0              USFS    CA    3.0       3.0   \n4       -119.933056        5.0              USFS    CA    3.0       3.0   \n...             ...        ...               ...   ...    ...       ...   \n1880460 -122.389375       13.0  STATE OR PRIVATE    CA    NaN       NaN   \n1880461 -120.938570       12.0   MUNICIPAL/LOCAL    CA    NaN       NaN   \n1880462 -120.938570       12.0   MUNICIPAL/LOCAL    CA    NaN       NaN   \n1880463 -120.898356       12.0   MUNICIPAL/LOCAL    CA    NaN       NaN   \n1880464 -116.830950       13.0  STATE OR PRIVATE    CA    NaN       NaN   \n\n         FIPS_NAME                                              Shape  \n0           Plumas  AAGtEAAA6GTCkl9AXsDgyGyYugREQOhkwpJfQF7A4MhsmL...  \n1           Placer  AAGtEAAAVLbuauIZXsCQxlVdbndDQFS27mriGV7AkMZVXW...  \n2        El Dorado  AAGtEAAA0KWgVxMvXsBQu2Ys+X1DQNCloFcTL17AULtmLP...  \n3           Alpine  AAGtEAAAlKyjDXT6XcDoVADGkkdDQJSsow10+l3A6FQAxp...  \n4           Alpine  AAGtEAAAQOOqLrf7XcDoVADGkkdDQEDjqi63+13A6FQAxp...  \n...            ...                                                ...  \n1880460        NaN  AAGtEAAAULgeheuYXsCYxf1Hpj1EQFC4HoXrmF7AmMX9R6...  \n1880461        NaN  AAGtEAAAAIC+iBE8XsCoygYlDs9CQACAvogRPF7AqMoGJQ...  \n1880462        NaN  AAGtEAAAAIC+iBE8XsCoygYlDs9CQACAvogRPF7AqMoGJQ...  \n1880463        NaN  AAGtEAAAeLpfqn45XsC4ZEzJC9ZCQHi6X6p+OV7AuGRMyQ...  \n1880464        NaN  AAGtEAAAHKfoSC41XcAwYDsYsSFBQByn6EguNV3AMGA7GL...  \n\n[1880465 rows x 39 columns]",
      "text/html": "<div>\n<style scoped>\n    .dataframe tbody tr th:only-of-type {\n        vertical-align: middle;\n    }\n\n    .dataframe tbody tr th {\n        vertical-align: top;\n    }\n\n    .dataframe thead th {\n        text-align: right;\n    }\n</style>\n<table border=\"1\" class=\"dataframe\">\n  <thead>\n    <tr style=\"text-align: right;\">\n      <th></th>\n      <th>OBJECTID</th>\n      <th>FOD_ID</th>\n      <th>FPA_ID</th>\n      <th>SOURCE_SYSTEM_TYPE</th>\n      <th>SOURCE_SYSTEM</th>\n      <th>NWCG_REPORTING_AGENCY</th>\n      <th>NWCG_REPORTING_UNIT_ID</th>\n      <th>NWCG_REPORTING_UNIT_NAME</th>\n      <th>SOURCE_REPORTING_UNIT</th>\n      <th>SOURCE_REPORTING_UNIT_NAME</th>\n      <th>...</th>\n      <th>FIRE_SIZE_CLASS</th>\n      <th>LATITUDE</th>\n      <th>LONGITUDE</th>\n      <th>OWNER_CODE</th>\n      <th>OWNER_DESCR</th>\n      <th>STATE</th>\n      <th>COUNTY</th>\n      <th>FIPS_CODE</th>\n      <th>FIPS_NAME</th>\n      <th>Shape</th>\n    </tr>\n  </thead>\n  <tbody>\n    <tr>\n      <th>0</th>\n      <td>1</td>\n      <td>1</td>\n      <td>FS-1418826</td>\n      <td>FED</td>\n      <td>FS-FIRESTAT</td>\n      <td>FS</td>\n      <td>USCAPNF</td>\n      <td>Plumas National Forest</td>\n      <td>511</td>\n      <td>Plumas National Forest</td>\n      <td>...</td>\n      <td>A</td>\n      <td>40.036944</td>\n      <td>-121.005833</td>\n      <td>5.0</td>\n      <td>USFS</td>\n      <td>CA</td>\n      <td>63.0</td>\n      <td>63.0</td>\n      <td>Plumas</td>\n      <td>AAGtEAAA6GTCkl9AXsDgyGyYugREQOhkwpJfQF7A4MhsmL...</td>\n    </tr>\n    <tr>\n      <th>1</th>\n      <td>2</td>\n      <td>2</td>\n      <td>FS-1418827</td>\n      <td>FED</td>\n      <td>FS-FIRESTAT</td>\n      <td>FS</td>\n      <td>USCAENF</td>\n      <td>Eldorado National Forest</td>\n      <td>503</td>\n      <td>Eldorado National Forest</td>\n      <td>...</td>\n      <td>A</td>\n      <td>38.933056</td>\n      <td>-120.404444</td>\n      <td>5.0</td>\n      <td>USFS</td>\n      <td>CA</td>\n      <td>61.0</td>\n      <td>61.0</td>\n      <td>Placer</td>\n      <td>AAGtEAAAVLbuauIZXsCQxlVdbndDQFS27mriGV7AkMZVXW...</td>\n    </tr>\n    <tr>\n      <th>2</th>\n      <td>3</td>\n      <td>3</td>\n      <td>FS-1418835</td>\n      <td>FED</td>\n      <td>FS-FIRESTAT</td>\n      <td>FS</td>\n      <td>USCAENF</td>\n      <td>Eldorado National Forest</td>\n      <td>503</td>\n      <td>Eldorado National Forest</td>\n      <td>...</td>\n      <td>A</td>\n      <td>38.984167</td>\n      <td>-120.735556</td>\n      <td>13.0</td>\n      <td>STATE OR PRIVATE</td>\n      <td>CA</td>\n      <td>17.0</td>\n      <td>17.0</td>\n      <td>El Dorado</td>\n      <td>AAGtEAAA0KWgVxMvXsBQu2Ys+X1DQNCloFcTL17AULtmLP...</td>\n    </tr>\n    <tr>\n      <th>3</th>\n      <td>4</td>\n      <td>4</td>\n      <td>FS-1418845</td>\n      <td>FED</td>\n      <td>FS-FIRESTAT</td>\n      <td>FS</td>\n      <td>USCAENF</td>\n      <td>Eldorado National Forest</td>\n      <td>503</td>\n      <td>Eldorado National Forest</td>\n      <td>...</td>\n      <td>A</td>\n      <td>38.559167</td>\n      <td>-119.913333</td>\n      <td>5.0</td>\n      <td>USFS</td>\n      <td>CA</td>\n      <td>3.0</td>\n      <td>3.0</td>\n      <td>Alpine</td>\n      <td>AAGtEAAAlKyjDXT6XcDoVADGkkdDQJSsow10+l3A6FQAxp...</td>\n    </tr>\n    <tr>\n      <th>4</th>\n      <td>5</td>\n      <td>5</td>\n      <td>FS-1418847</td>\n      <td>FED</td>\n      <td>FS-FIRESTAT</td>\n      <td>FS</td>\n      <td>USCAENF</td>\n      <td>Eldorado National Forest</td>\n      <td>503</td>\n      <td>Eldorado National Forest</td>\n      <td>...</td>\n      <td>A</td>\n      <td>38.559167</td>\n      <td>-119.933056</td>\n      <td>5.0</td>\n      <td>USFS</td>\n      <td>CA</td>\n      <td>3.0</td>\n      <td>3.0</td>\n      <td>Alpine</td>\n      <td>AAGtEAAAQOOqLrf7XcDoVADGkkdDQEDjqi63+13A6FQAxp...</td>\n    </tr>\n    <tr>\n      <th>...</th>\n      <td>...</td>\n      <td>...</td>\n      <td>...</td>\n      <td>...</td>\n      <td>...</td>\n      <td>...</td>\n      <td>...</td>\n      <td>...</td>\n      <td>...</td>\n      <td>...</td>\n      <td>...</td>\n      <td>...</td>\n      <td>...</td>\n      <td>...</td>\n      <td>...</td>\n      <td>...</td>\n      <td>...</td>\n      <td>...</td>\n      <td>...</td>\n      <td>...</td>\n      <td>...</td>\n    </tr>\n    <tr>\n      <th>1880460</th>\n      <td>1880461</td>\n      <td>300348363</td>\n      <td>2015CAIRS29019636</td>\n      <td>NONFED</td>\n      <td>ST-CACDF</td>\n      <td>ST/C&amp;L</td>\n      <td>USCASHU</td>\n      <td>Shasta-Trinity Unit</td>\n      <td>CASHU</td>\n      <td>Shasta-Trinity Unit</td>\n      <td>...</td>\n      <td>A</td>\n      <td>40.481637</td>\n      <td>-122.389375</td>\n      <td>13.0</td>\n      <td>STATE OR PRIVATE</td>\n      <td>CA</td>\n      <td>NaN</td>\n      <td>NaN</td>\n      <td>NaN</td>\n      <td>AAGtEAAAULgeheuYXsCYxf1Hpj1EQFC4HoXrmF7AmMX9R6...</td>\n    </tr>\n    <tr>\n      <th>1880461</th>\n      <td>1880462</td>\n      <td>300348373</td>\n      <td>2015CAIRS29217935</td>\n      <td>NONFED</td>\n      <td>ST-CACDF</td>\n      <td>ST/C&amp;L</td>\n      <td>USCATCU</td>\n      <td>Tuolumne-Calaveras Unit</td>\n      <td>CATCU</td>\n      <td>Tuolumne-Calaveras Unit</td>\n      <td>...</td>\n      <td>A</td>\n      <td>37.617619</td>\n      <td>-120.938570</td>\n      <td>12.0</td>\n      <td>MUNICIPAL/LOCAL</td>\n      <td>CA</td>\n      <td>NaN</td>\n      <td>NaN</td>\n      <td>NaN</td>\n      <td>AAGtEAAAAIC+iBE8XsCoygYlDs9CQACAvogRPF7AqMoGJQ...</td>\n    </tr>\n    <tr>\n      <th>1880462</th>\n      <td>1880463</td>\n      <td>300348375</td>\n      <td>2015CAIRS28364460</td>\n      <td>NONFED</td>\n      <td>ST-CACDF</td>\n      <td>ST/C&amp;L</td>\n      <td>USCATCU</td>\n      <td>Tuolumne-Calaveras Unit</td>\n      <td>CATCU</td>\n      <td>Tuolumne-Calaveras Unit</td>\n      <td>...</td>\n      <td>A</td>\n      <td>37.617619</td>\n      <td>-120.938570</td>\n      <td>12.0</td>\n      <td>MUNICIPAL/LOCAL</td>\n      <td>CA</td>\n      <td>NaN</td>\n      <td>NaN</td>\n      <td>NaN</td>\n      <td>AAGtEAAAAIC+iBE8XsCoygYlDs9CQACAvogRPF7AqMoGJQ...</td>\n    </tr>\n    <tr>\n      <th>1880463</th>\n      <td>1880464</td>\n      <td>300348377</td>\n      <td>2015CAIRS29218079</td>\n      <td>NONFED</td>\n      <td>ST-CACDF</td>\n      <td>ST/C&amp;L</td>\n      <td>USCATCU</td>\n      <td>Tuolumne-Calaveras Unit</td>\n      <td>CATCU</td>\n      <td>Tuolumne-Calaveras Unit</td>\n      <td>...</td>\n      <td>B</td>\n      <td>37.672235</td>\n      <td>-120.898356</td>\n      <td>12.0</td>\n      <td>MUNICIPAL/LOCAL</td>\n      <td>CA</td>\n      <td>NaN</td>\n      <td>NaN</td>\n      <td>NaN</td>\n      <td>AAGtEAAAeLpfqn45XsC4ZEzJC9ZCQHi6X6p+OV7AuGRMyQ...</td>\n    </tr>\n    <tr>\n      <th>1880464</th>\n      <td>1880465</td>\n      <td>300348399</td>\n      <td>2015CAIRS26733926</td>\n      <td>NONFED</td>\n      <td>ST-CACDF</td>\n      <td>ST/C&amp;L</td>\n      <td>USCABDU</td>\n      <td>San Bernardino Unit</td>\n      <td>CABDU</td>\n      <td>CDF - San Bernardino Unit</td>\n      <td>...</td>\n      <td>A</td>\n      <td>34.263217</td>\n      <td>-116.830950</td>\n      <td>13.0</td>\n      <td>STATE OR PRIVATE</td>\n      <td>CA</td>\n      <td>NaN</td>\n      <td>NaN</td>\n      <td>NaN</td>\n      <td>AAGtEAAAHKfoSC41XcAwYDsYsSFBQByn6EguNV3AMGA7GL...</td>\n    </tr>\n  </tbody>\n</table>\n<p>1880465 rows × 39 columns</p>\n</div>"
     },
     "execution_count": 2,
     "metadata": {},
     "output_type": "execute_result"
    }
   ],
   "source": [
    "import pandas as pd\n",
    "df = pd.read_csv(\"fires.csv\")\n",
    "df"
   ]
  },
  {
   "cell_type": "code",
   "execution_count": 3,
   "outputs": [
    {
     "data": {
      "text/plain": "Empty DataFrame\nColumns: [column_name, var_kind, usage, var_type, na_rate, na_handling_method, value_distribution, var_cat, balance, var_relevance, source_reliability, corr_wt_targets, comment]\nIndex: []",
      "text/html": "<div>\n<style scoped>\n    .dataframe tbody tr th:only-of-type {\n        vertical-align: middle;\n    }\n\n    .dataframe tbody tr th {\n        vertical-align: top;\n    }\n\n    .dataframe thead th {\n        text-align: right;\n    }\n</style>\n<table border=\"1\" class=\"dataframe\">\n  <thead>\n    <tr style=\"text-align: right;\">\n      <th></th>\n      <th>column_name</th>\n      <th>var_kind</th>\n      <th>usage</th>\n      <th>var_type</th>\n      <th>na_rate</th>\n      <th>na_handling_method</th>\n      <th>value_distribution</th>\n      <th>var_cat</th>\n      <th>balance</th>\n      <th>var_relevance</th>\n      <th>source_reliability</th>\n      <th>corr_wt_targets</th>\n      <th>comment</th>\n    </tr>\n  </thead>\n  <tbody>\n  </tbody>\n</table>\n</div>"
     },
     "execution_count": 3,
     "metadata": {},
     "output_type": "execute_result"
    }
   ],
   "source": [
    "#Création de la structure de la table\n",
    "\n",
    "df_info = pd.DataFrame(columns= [\"column_name\", \"var_kind\", \"usage\", \"var_type\", \"na_rate\", \"na_handling_method\", \"value_distribution\", \"var_cat\", \"balance\", \"var_relevance\", \"source_reliability\", \"corr_wt_targets\", \"comment\"])\n",
    "df_info"
   ],
   "metadata": {
    "collapsed": false,
    "pycharm": {
     "name": "#%%\n"
    }
   }
  },
  {
   "cell_type": "markdown",
   "source": [
    "### Data_info colums\n",
    "- column_name = name of the colum in the data set\n",
    "- var_kind = explanation of what kind of data is shown in this var\n",
    "- usage = purpose of the variable in the data frame\n",
    "- var_type = data type\n",
    "- na_rate = rate of nan\n",
    "- na_handling_method = ideas for handling nan in this var\n",
    "- value_distribution = distribution of the value\n",
    "- var_cat = for object type, \"value category\"\n",
    "- balance = show if variable are gathered or spread\n",
    "- var_relevance = relevance of the variable for data analysis\n",
    "- source_reliability = is the source reliable\n",
    "- corr_wt_targets = corr rate this the target var\n",
    "- comment = other comment"
   ],
   "metadata": {
    "collapsed": false
   }
  },
  {
   "cell_type": "markdown",
   "source": [
    "## Adding column name"
   ],
   "metadata": {
    "collapsed": false
   }
  },
  {
   "cell_type": "code",
   "execution_count": 4,
   "outputs": [
    {
     "data": {
      "text/plain": "                   column_name var_kind usage var_type na_rate  \\\n0                     OBJECTID      NaN   NaN      NaN     NaN   \n1                       FOD_ID      NaN   NaN      NaN     NaN   \n2                       FPA_ID      NaN   NaN      NaN     NaN   \n3           SOURCE_SYSTEM_TYPE      NaN   NaN      NaN     NaN   \n4                SOURCE_SYSTEM      NaN   NaN      NaN     NaN   \n5        NWCG_REPORTING_AGENCY      NaN   NaN      NaN     NaN   \n6       NWCG_REPORTING_UNIT_ID      NaN   NaN      NaN     NaN   \n7     NWCG_REPORTING_UNIT_NAME      NaN   NaN      NaN     NaN   \n8        SOURCE_REPORTING_UNIT      NaN   NaN      NaN     NaN   \n9   SOURCE_REPORTING_UNIT_NAME      NaN   NaN      NaN     NaN   \n10        LOCAL_FIRE_REPORT_ID      NaN   NaN      NaN     NaN   \n11           LOCAL_INCIDENT_ID      NaN   NaN      NaN     NaN   \n12                   FIRE_CODE      NaN   NaN      NaN     NaN   \n13                   FIRE_NAME      NaN   NaN      NaN     NaN   \n14     ICS_209_INCIDENT_NUMBER      NaN   NaN      NaN     NaN   \n15                ICS_209_NAME      NaN   NaN      NaN     NaN   \n16                     MTBS_ID      NaN   NaN      NaN     NaN   \n17              MTBS_FIRE_NAME      NaN   NaN      NaN     NaN   \n18                COMPLEX_NAME      NaN   NaN      NaN     NaN   \n19                   FIRE_YEAR      NaN   NaN      NaN     NaN   \n20              DISCOVERY_DATE      NaN   NaN      NaN     NaN   \n21               DISCOVERY_DOY      NaN   NaN      NaN     NaN   \n22              DISCOVERY_TIME      NaN   NaN      NaN     NaN   \n23             STAT_CAUSE_CODE      NaN   NaN      NaN     NaN   \n24            STAT_CAUSE_DESCR      NaN   NaN      NaN     NaN   \n25                   CONT_DATE      NaN   NaN      NaN     NaN   \n26                    CONT_DOY      NaN   NaN      NaN     NaN   \n27                   CONT_TIME      NaN   NaN      NaN     NaN   \n28                   FIRE_SIZE      NaN   NaN      NaN     NaN   \n29             FIRE_SIZE_CLASS      NaN   NaN      NaN     NaN   \n30                    LATITUDE      NaN   NaN      NaN     NaN   \n31                   LONGITUDE      NaN   NaN      NaN     NaN   \n32                  OWNER_CODE      NaN   NaN      NaN     NaN   \n33                 OWNER_DESCR      NaN   NaN      NaN     NaN   \n34                       STATE      NaN   NaN      NaN     NaN   \n35                      COUNTY      NaN   NaN      NaN     NaN   \n36                   FIPS_CODE      NaN   NaN      NaN     NaN   \n37                   FIPS_NAME      NaN   NaN      NaN     NaN   \n38                       Shape      NaN   NaN      NaN     NaN   \n\n   na_handling_method value_distribution var_cat balance var_relevance  \\\n0                 NaN                NaN     NaN     NaN           NaN   \n1                 NaN                NaN     NaN     NaN           NaN   \n2                 NaN                NaN     NaN     NaN           NaN   \n3                 NaN                NaN     NaN     NaN           NaN   \n4                 NaN                NaN     NaN     NaN           NaN   \n5                 NaN                NaN     NaN     NaN           NaN   \n6                 NaN                NaN     NaN     NaN           NaN   \n7                 NaN                NaN     NaN     NaN           NaN   \n8                 NaN                NaN     NaN     NaN           NaN   \n9                 NaN                NaN     NaN     NaN           NaN   \n10                NaN                NaN     NaN     NaN           NaN   \n11                NaN                NaN     NaN     NaN           NaN   \n12                NaN                NaN     NaN     NaN           NaN   \n13                NaN                NaN     NaN     NaN           NaN   \n14                NaN                NaN     NaN     NaN           NaN   \n15                NaN                NaN     NaN     NaN           NaN   \n16                NaN                NaN     NaN     NaN           NaN   \n17                NaN                NaN     NaN     NaN           NaN   \n18                NaN                NaN     NaN     NaN           NaN   \n19                NaN                NaN     NaN     NaN           NaN   \n20                NaN                NaN     NaN     NaN           NaN   \n21                NaN                NaN     NaN     NaN           NaN   \n22                NaN                NaN     NaN     NaN           NaN   \n23                NaN                NaN     NaN     NaN           NaN   \n24                NaN                NaN     NaN     NaN           NaN   \n25                NaN                NaN     NaN     NaN           NaN   \n26                NaN                NaN     NaN     NaN           NaN   \n27                NaN                NaN     NaN     NaN           NaN   \n28                NaN                NaN     NaN     NaN           NaN   \n29                NaN                NaN     NaN     NaN           NaN   \n30                NaN                NaN     NaN     NaN           NaN   \n31                NaN                NaN     NaN     NaN           NaN   \n32                NaN                NaN     NaN     NaN           NaN   \n33                NaN                NaN     NaN     NaN           NaN   \n34                NaN                NaN     NaN     NaN           NaN   \n35                NaN                NaN     NaN     NaN           NaN   \n36                NaN                NaN     NaN     NaN           NaN   \n37                NaN                NaN     NaN     NaN           NaN   \n38                NaN                NaN     NaN     NaN           NaN   \n\n   source_reliability corr_wt_targets comment  \n0                 NaN             NaN     NaN  \n1                 NaN             NaN     NaN  \n2                 NaN             NaN     NaN  \n3                 NaN             NaN     NaN  \n4                 NaN             NaN     NaN  \n5                 NaN             NaN     NaN  \n6                 NaN             NaN     NaN  \n7                 NaN             NaN     NaN  \n8                 NaN             NaN     NaN  \n9                 NaN             NaN     NaN  \n10                NaN             NaN     NaN  \n11                NaN             NaN     NaN  \n12                NaN             NaN     NaN  \n13                NaN             NaN     NaN  \n14                NaN             NaN     NaN  \n15                NaN             NaN     NaN  \n16                NaN             NaN     NaN  \n17                NaN             NaN     NaN  \n18                NaN             NaN     NaN  \n19                NaN             NaN     NaN  \n20                NaN             NaN     NaN  \n21                NaN             NaN     NaN  \n22                NaN             NaN     NaN  \n23                NaN             NaN     NaN  \n24                NaN             NaN     NaN  \n25                NaN             NaN     NaN  \n26                NaN             NaN     NaN  \n27                NaN             NaN     NaN  \n28                NaN             NaN     NaN  \n29                NaN             NaN     NaN  \n30                NaN             NaN     NaN  \n31                NaN             NaN     NaN  \n32                NaN             NaN     NaN  \n33                NaN             NaN     NaN  \n34                NaN             NaN     NaN  \n35                NaN             NaN     NaN  \n36                NaN             NaN     NaN  \n37                NaN             NaN     NaN  \n38                NaN             NaN     NaN  ",
      "text/html": "<div>\n<style scoped>\n    .dataframe tbody tr th:only-of-type {\n        vertical-align: middle;\n    }\n\n    .dataframe tbody tr th {\n        vertical-align: top;\n    }\n\n    .dataframe thead th {\n        text-align: right;\n    }\n</style>\n<table border=\"1\" class=\"dataframe\">\n  <thead>\n    <tr style=\"text-align: right;\">\n      <th></th>\n      <th>column_name</th>\n      <th>var_kind</th>\n      <th>usage</th>\n      <th>var_type</th>\n      <th>na_rate</th>\n      <th>na_handling_method</th>\n      <th>value_distribution</th>\n      <th>var_cat</th>\n      <th>balance</th>\n      <th>var_relevance</th>\n      <th>source_reliability</th>\n      <th>corr_wt_targets</th>\n      <th>comment</th>\n    </tr>\n  </thead>\n  <tbody>\n    <tr>\n      <th>0</th>\n      <td>OBJECTID</td>\n      <td>NaN</td>\n      <td>NaN</td>\n      <td>NaN</td>\n      <td>NaN</td>\n      <td>NaN</td>\n      <td>NaN</td>\n      <td>NaN</td>\n      <td>NaN</td>\n      <td>NaN</td>\n      <td>NaN</td>\n      <td>NaN</td>\n      <td>NaN</td>\n    </tr>\n    <tr>\n      <th>1</th>\n      <td>FOD_ID</td>\n      <td>NaN</td>\n      <td>NaN</td>\n      <td>NaN</td>\n      <td>NaN</td>\n      <td>NaN</td>\n      <td>NaN</td>\n      <td>NaN</td>\n      <td>NaN</td>\n      <td>NaN</td>\n      <td>NaN</td>\n      <td>NaN</td>\n      <td>NaN</td>\n    </tr>\n    <tr>\n      <th>2</th>\n      <td>FPA_ID</td>\n      <td>NaN</td>\n      <td>NaN</td>\n      <td>NaN</td>\n      <td>NaN</td>\n      <td>NaN</td>\n      <td>NaN</td>\n      <td>NaN</td>\n      <td>NaN</td>\n      <td>NaN</td>\n      <td>NaN</td>\n      <td>NaN</td>\n      <td>NaN</td>\n    </tr>\n    <tr>\n      <th>3</th>\n      <td>SOURCE_SYSTEM_TYPE</td>\n      <td>NaN</td>\n      <td>NaN</td>\n      <td>NaN</td>\n      <td>NaN</td>\n      <td>NaN</td>\n      <td>NaN</td>\n      <td>NaN</td>\n      <td>NaN</td>\n      <td>NaN</td>\n      <td>NaN</td>\n      <td>NaN</td>\n      <td>NaN</td>\n    </tr>\n    <tr>\n      <th>4</th>\n      <td>SOURCE_SYSTEM</td>\n      <td>NaN</td>\n      <td>NaN</td>\n      <td>NaN</td>\n      <td>NaN</td>\n      <td>NaN</td>\n      <td>NaN</td>\n      <td>NaN</td>\n      <td>NaN</td>\n      <td>NaN</td>\n      <td>NaN</td>\n      <td>NaN</td>\n      <td>NaN</td>\n    </tr>\n    <tr>\n      <th>5</th>\n      <td>NWCG_REPORTING_AGENCY</td>\n      <td>NaN</td>\n      <td>NaN</td>\n      <td>NaN</td>\n      <td>NaN</td>\n      <td>NaN</td>\n      <td>NaN</td>\n      <td>NaN</td>\n      <td>NaN</td>\n      <td>NaN</td>\n      <td>NaN</td>\n      <td>NaN</td>\n      <td>NaN</td>\n    </tr>\n    <tr>\n      <th>6</th>\n      <td>NWCG_REPORTING_UNIT_ID</td>\n      <td>NaN</td>\n      <td>NaN</td>\n      <td>NaN</td>\n      <td>NaN</td>\n      <td>NaN</td>\n      <td>NaN</td>\n      <td>NaN</td>\n      <td>NaN</td>\n      <td>NaN</td>\n      <td>NaN</td>\n      <td>NaN</td>\n      <td>NaN</td>\n    </tr>\n    <tr>\n      <th>7</th>\n      <td>NWCG_REPORTING_UNIT_NAME</td>\n      <td>NaN</td>\n      <td>NaN</td>\n      <td>NaN</td>\n      <td>NaN</td>\n      <td>NaN</td>\n      <td>NaN</td>\n      <td>NaN</td>\n      <td>NaN</td>\n      <td>NaN</td>\n      <td>NaN</td>\n      <td>NaN</td>\n      <td>NaN</td>\n    </tr>\n    <tr>\n      <th>8</th>\n      <td>SOURCE_REPORTING_UNIT</td>\n      <td>NaN</td>\n      <td>NaN</td>\n      <td>NaN</td>\n      <td>NaN</td>\n      <td>NaN</td>\n      <td>NaN</td>\n      <td>NaN</td>\n      <td>NaN</td>\n      <td>NaN</td>\n      <td>NaN</td>\n      <td>NaN</td>\n      <td>NaN</td>\n    </tr>\n    <tr>\n      <th>9</th>\n      <td>SOURCE_REPORTING_UNIT_NAME</td>\n      <td>NaN</td>\n      <td>NaN</td>\n      <td>NaN</td>\n      <td>NaN</td>\n      <td>NaN</td>\n      <td>NaN</td>\n      <td>NaN</td>\n      <td>NaN</td>\n      <td>NaN</td>\n      <td>NaN</td>\n      <td>NaN</td>\n      <td>NaN</td>\n    </tr>\n    <tr>\n      <th>10</th>\n      <td>LOCAL_FIRE_REPORT_ID</td>\n      <td>NaN</td>\n      <td>NaN</td>\n      <td>NaN</td>\n      <td>NaN</td>\n      <td>NaN</td>\n      <td>NaN</td>\n      <td>NaN</td>\n      <td>NaN</td>\n      <td>NaN</td>\n      <td>NaN</td>\n      <td>NaN</td>\n      <td>NaN</td>\n    </tr>\n    <tr>\n      <th>11</th>\n      <td>LOCAL_INCIDENT_ID</td>\n      <td>NaN</td>\n      <td>NaN</td>\n      <td>NaN</td>\n      <td>NaN</td>\n      <td>NaN</td>\n      <td>NaN</td>\n      <td>NaN</td>\n      <td>NaN</td>\n      <td>NaN</td>\n      <td>NaN</td>\n      <td>NaN</td>\n      <td>NaN</td>\n    </tr>\n    <tr>\n      <th>12</th>\n      <td>FIRE_CODE</td>\n      <td>NaN</td>\n      <td>NaN</td>\n      <td>NaN</td>\n      <td>NaN</td>\n      <td>NaN</td>\n      <td>NaN</td>\n      <td>NaN</td>\n      <td>NaN</td>\n      <td>NaN</td>\n      <td>NaN</td>\n      <td>NaN</td>\n      <td>NaN</td>\n    </tr>\n    <tr>\n      <th>13</th>\n      <td>FIRE_NAME</td>\n      <td>NaN</td>\n      <td>NaN</td>\n      <td>NaN</td>\n      <td>NaN</td>\n      <td>NaN</td>\n      <td>NaN</td>\n      <td>NaN</td>\n      <td>NaN</td>\n      <td>NaN</td>\n      <td>NaN</td>\n      <td>NaN</td>\n      <td>NaN</td>\n    </tr>\n    <tr>\n      <th>14</th>\n      <td>ICS_209_INCIDENT_NUMBER</td>\n      <td>NaN</td>\n      <td>NaN</td>\n      <td>NaN</td>\n      <td>NaN</td>\n      <td>NaN</td>\n      <td>NaN</td>\n      <td>NaN</td>\n      <td>NaN</td>\n      <td>NaN</td>\n      <td>NaN</td>\n      <td>NaN</td>\n      <td>NaN</td>\n    </tr>\n    <tr>\n      <th>15</th>\n      <td>ICS_209_NAME</td>\n      <td>NaN</td>\n      <td>NaN</td>\n      <td>NaN</td>\n      <td>NaN</td>\n      <td>NaN</td>\n      <td>NaN</td>\n      <td>NaN</td>\n      <td>NaN</td>\n      <td>NaN</td>\n      <td>NaN</td>\n      <td>NaN</td>\n      <td>NaN</td>\n    </tr>\n    <tr>\n      <th>16</th>\n      <td>MTBS_ID</td>\n      <td>NaN</td>\n      <td>NaN</td>\n      <td>NaN</td>\n      <td>NaN</td>\n      <td>NaN</td>\n      <td>NaN</td>\n      <td>NaN</td>\n      <td>NaN</td>\n      <td>NaN</td>\n      <td>NaN</td>\n      <td>NaN</td>\n      <td>NaN</td>\n    </tr>\n    <tr>\n      <th>17</th>\n      <td>MTBS_FIRE_NAME</td>\n      <td>NaN</td>\n      <td>NaN</td>\n      <td>NaN</td>\n      <td>NaN</td>\n      <td>NaN</td>\n      <td>NaN</td>\n      <td>NaN</td>\n      <td>NaN</td>\n      <td>NaN</td>\n      <td>NaN</td>\n      <td>NaN</td>\n      <td>NaN</td>\n    </tr>\n    <tr>\n      <th>18</th>\n      <td>COMPLEX_NAME</td>\n      <td>NaN</td>\n      <td>NaN</td>\n      <td>NaN</td>\n      <td>NaN</td>\n      <td>NaN</td>\n      <td>NaN</td>\n      <td>NaN</td>\n      <td>NaN</td>\n      <td>NaN</td>\n      <td>NaN</td>\n      <td>NaN</td>\n      <td>NaN</td>\n    </tr>\n    <tr>\n      <th>19</th>\n      <td>FIRE_YEAR</td>\n      <td>NaN</td>\n      <td>NaN</td>\n      <td>NaN</td>\n      <td>NaN</td>\n      <td>NaN</td>\n      <td>NaN</td>\n      <td>NaN</td>\n      <td>NaN</td>\n      <td>NaN</td>\n      <td>NaN</td>\n      <td>NaN</td>\n      <td>NaN</td>\n    </tr>\n    <tr>\n      <th>20</th>\n      <td>DISCOVERY_DATE</td>\n      <td>NaN</td>\n      <td>NaN</td>\n      <td>NaN</td>\n      <td>NaN</td>\n      <td>NaN</td>\n      <td>NaN</td>\n      <td>NaN</td>\n      <td>NaN</td>\n      <td>NaN</td>\n      <td>NaN</td>\n      <td>NaN</td>\n      <td>NaN</td>\n    </tr>\n    <tr>\n      <th>21</th>\n      <td>DISCOVERY_DOY</td>\n      <td>NaN</td>\n      <td>NaN</td>\n      <td>NaN</td>\n      <td>NaN</td>\n      <td>NaN</td>\n      <td>NaN</td>\n      <td>NaN</td>\n      <td>NaN</td>\n      <td>NaN</td>\n      <td>NaN</td>\n      <td>NaN</td>\n      <td>NaN</td>\n    </tr>\n    <tr>\n      <th>22</th>\n      <td>DISCOVERY_TIME</td>\n      <td>NaN</td>\n      <td>NaN</td>\n      <td>NaN</td>\n      <td>NaN</td>\n      <td>NaN</td>\n      <td>NaN</td>\n      <td>NaN</td>\n      <td>NaN</td>\n      <td>NaN</td>\n      <td>NaN</td>\n      <td>NaN</td>\n      <td>NaN</td>\n    </tr>\n    <tr>\n      <th>23</th>\n      <td>STAT_CAUSE_CODE</td>\n      <td>NaN</td>\n      <td>NaN</td>\n      <td>NaN</td>\n      <td>NaN</td>\n      <td>NaN</td>\n      <td>NaN</td>\n      <td>NaN</td>\n      <td>NaN</td>\n      <td>NaN</td>\n      <td>NaN</td>\n      <td>NaN</td>\n      <td>NaN</td>\n    </tr>\n    <tr>\n      <th>24</th>\n      <td>STAT_CAUSE_DESCR</td>\n      <td>NaN</td>\n      <td>NaN</td>\n      <td>NaN</td>\n      <td>NaN</td>\n      <td>NaN</td>\n      <td>NaN</td>\n      <td>NaN</td>\n      <td>NaN</td>\n      <td>NaN</td>\n      <td>NaN</td>\n      <td>NaN</td>\n      <td>NaN</td>\n    </tr>\n    <tr>\n      <th>25</th>\n      <td>CONT_DATE</td>\n      <td>NaN</td>\n      <td>NaN</td>\n      <td>NaN</td>\n      <td>NaN</td>\n      <td>NaN</td>\n      <td>NaN</td>\n      <td>NaN</td>\n      <td>NaN</td>\n      <td>NaN</td>\n      <td>NaN</td>\n      <td>NaN</td>\n      <td>NaN</td>\n    </tr>\n    <tr>\n      <th>26</th>\n      <td>CONT_DOY</td>\n      <td>NaN</td>\n      <td>NaN</td>\n      <td>NaN</td>\n      <td>NaN</td>\n      <td>NaN</td>\n      <td>NaN</td>\n      <td>NaN</td>\n      <td>NaN</td>\n      <td>NaN</td>\n      <td>NaN</td>\n      <td>NaN</td>\n      <td>NaN</td>\n    </tr>\n    <tr>\n      <th>27</th>\n      <td>CONT_TIME</td>\n      <td>NaN</td>\n      <td>NaN</td>\n      <td>NaN</td>\n      <td>NaN</td>\n      <td>NaN</td>\n      <td>NaN</td>\n      <td>NaN</td>\n      <td>NaN</td>\n      <td>NaN</td>\n      <td>NaN</td>\n      <td>NaN</td>\n      <td>NaN</td>\n    </tr>\n    <tr>\n      <th>28</th>\n      <td>FIRE_SIZE</td>\n      <td>NaN</td>\n      <td>NaN</td>\n      <td>NaN</td>\n      <td>NaN</td>\n      <td>NaN</td>\n      <td>NaN</td>\n      <td>NaN</td>\n      <td>NaN</td>\n      <td>NaN</td>\n      <td>NaN</td>\n      <td>NaN</td>\n      <td>NaN</td>\n    </tr>\n    <tr>\n      <th>29</th>\n      <td>FIRE_SIZE_CLASS</td>\n      <td>NaN</td>\n      <td>NaN</td>\n      <td>NaN</td>\n      <td>NaN</td>\n      <td>NaN</td>\n      <td>NaN</td>\n      <td>NaN</td>\n      <td>NaN</td>\n      <td>NaN</td>\n      <td>NaN</td>\n      <td>NaN</td>\n      <td>NaN</td>\n    </tr>\n    <tr>\n      <th>30</th>\n      <td>LATITUDE</td>\n      <td>NaN</td>\n      <td>NaN</td>\n      <td>NaN</td>\n      <td>NaN</td>\n      <td>NaN</td>\n      <td>NaN</td>\n      <td>NaN</td>\n      <td>NaN</td>\n      <td>NaN</td>\n      <td>NaN</td>\n      <td>NaN</td>\n      <td>NaN</td>\n    </tr>\n    <tr>\n      <th>31</th>\n      <td>LONGITUDE</td>\n      <td>NaN</td>\n      <td>NaN</td>\n      <td>NaN</td>\n      <td>NaN</td>\n      <td>NaN</td>\n      <td>NaN</td>\n      <td>NaN</td>\n      <td>NaN</td>\n      <td>NaN</td>\n      <td>NaN</td>\n      <td>NaN</td>\n      <td>NaN</td>\n    </tr>\n    <tr>\n      <th>32</th>\n      <td>OWNER_CODE</td>\n      <td>NaN</td>\n      <td>NaN</td>\n      <td>NaN</td>\n      <td>NaN</td>\n      <td>NaN</td>\n      <td>NaN</td>\n      <td>NaN</td>\n      <td>NaN</td>\n      <td>NaN</td>\n      <td>NaN</td>\n      <td>NaN</td>\n      <td>NaN</td>\n    </tr>\n    <tr>\n      <th>33</th>\n      <td>OWNER_DESCR</td>\n      <td>NaN</td>\n      <td>NaN</td>\n      <td>NaN</td>\n      <td>NaN</td>\n      <td>NaN</td>\n      <td>NaN</td>\n      <td>NaN</td>\n      <td>NaN</td>\n      <td>NaN</td>\n      <td>NaN</td>\n      <td>NaN</td>\n      <td>NaN</td>\n    </tr>\n    <tr>\n      <th>34</th>\n      <td>STATE</td>\n      <td>NaN</td>\n      <td>NaN</td>\n      <td>NaN</td>\n      <td>NaN</td>\n      <td>NaN</td>\n      <td>NaN</td>\n      <td>NaN</td>\n      <td>NaN</td>\n      <td>NaN</td>\n      <td>NaN</td>\n      <td>NaN</td>\n      <td>NaN</td>\n    </tr>\n    <tr>\n      <th>35</th>\n      <td>COUNTY</td>\n      <td>NaN</td>\n      <td>NaN</td>\n      <td>NaN</td>\n      <td>NaN</td>\n      <td>NaN</td>\n      <td>NaN</td>\n      <td>NaN</td>\n      <td>NaN</td>\n      <td>NaN</td>\n      <td>NaN</td>\n      <td>NaN</td>\n      <td>NaN</td>\n    </tr>\n    <tr>\n      <th>36</th>\n      <td>FIPS_CODE</td>\n      <td>NaN</td>\n      <td>NaN</td>\n      <td>NaN</td>\n      <td>NaN</td>\n      <td>NaN</td>\n      <td>NaN</td>\n      <td>NaN</td>\n      <td>NaN</td>\n      <td>NaN</td>\n      <td>NaN</td>\n      <td>NaN</td>\n      <td>NaN</td>\n    </tr>\n    <tr>\n      <th>37</th>\n      <td>FIPS_NAME</td>\n      <td>NaN</td>\n      <td>NaN</td>\n      <td>NaN</td>\n      <td>NaN</td>\n      <td>NaN</td>\n      <td>NaN</td>\n      <td>NaN</td>\n      <td>NaN</td>\n      <td>NaN</td>\n      <td>NaN</td>\n      <td>NaN</td>\n      <td>NaN</td>\n    </tr>\n    <tr>\n      <th>38</th>\n      <td>Shape</td>\n      <td>NaN</td>\n      <td>NaN</td>\n      <td>NaN</td>\n      <td>NaN</td>\n      <td>NaN</td>\n      <td>NaN</td>\n      <td>NaN</td>\n      <td>NaN</td>\n      <td>NaN</td>\n      <td>NaN</td>\n      <td>NaN</td>\n      <td>NaN</td>\n    </tr>\n  </tbody>\n</table>\n</div>"
     },
     "execution_count": 4,
     "metadata": {},
     "output_type": "execute_result"
    }
   ],
   "source": [
    "df_info[\"column_name\"] = df.columns\n",
    "df_info"
   ],
   "metadata": {
    "collapsed": false,
    "pycharm": {
     "name": "#%%\n"
    }
   }
  },
  {
   "cell_type": "markdown",
   "source": [
    "## Adding var kind"
   ],
   "metadata": {
    "collapsed": false
   }
  },
  {
   "cell_type": "code",
   "execution_count": 5,
   "outputs": [
    {
     "ename": "SyntaxError",
     "evalue": "invalid syntax (2860020824.py, line 1)",
     "output_type": "error",
     "traceback": [
      "\u001B[0;36m  Input \u001B[0;32mIn [5]\u001B[0;36m\u001B[0m\n\u001B[0;31m    df_info[\"var_kind\"][0] =\u001B[0m\n\u001B[0m                            ^\u001B[0m\n\u001B[0;31mSyntaxError\u001B[0m\u001B[0;31m:\u001B[0m invalid syntax\n"
     ]
    }
   ],
   "source": [
    "#OBJECT ID\n",
    "df_info[\"var_kind\"][0] =\n",
    "#FOD ID\n",
    "df_info[\"var_kind\"][1] =\n",
    "#FPA ID\n",
    "df_info[\"var_kind\"][2] =\n",
    "#SOURCE_SYSTEM_TYPE\n",
    "df_info[\"var_kind\"][3] =\n",
    "#SOURCE_SYSTEM\n",
    "df_info[\"var_kind\"][4] =\n",
    "#NWCG_REPORTING_AGENCY\n",
    "df_info[\"var_kind\"][5] =\n",
    "#NWGC_REPORTING_UNIT_ID\n",
    "df_info[\"var_kind\"][6] =\n",
    "#NWGC_REPORTING_UNIT_NAME\n",
    "df_info[\"var_kind\"][7] =\n",
    "#SOURCE_REPORTING_UNIT\n",
    "df_info[\"var_kind\"][8] =\n",
    "#SOURCE_REPORTING_UNIT_NAME\n",
    "df_info[\"var_kind\"][9] =\n",
    "#LOCAL_FIRE_REPORT_ID\n",
    "df_info[\"var_kind\"][10] =\n",
    "#LOCAL_INIDENT_ID\n",
    "df_info[\"var_kind\"][11] =\n",
    "#FIRE_CODE\n",
    "df_info[\"var_kind\"][12] =\n",
    "#FIRE_NAME\n",
    "df_info[\"var_kind\"][13] =\n",
    "#ISC_209_INCIDENT_NUMBER\n",
    "df_info[\"var_kind\"][14] =\n",
    "#ISC_209_NAME\n",
    "df_info[\"var_kind\"][15] =\n",
    "#MTBS_ID\n",
    "df_info[\"var_kind\"][16] =\n",
    "#MTBS_FIRE_NAME\n",
    "df_info[\"var_kind\"][17] =\n",
    "#COMPLEX_NAME\n",
    "df_info[\"var_kind\"][18] =\n",
    "#FIRE_YEAR\n",
    "df_info[\"var_kind\"][19] =\n",
    "#DISCOVERY_DATE\n",
    "df_info[\"var_kind\"][20] =\n",
    "#DISCOVERY_DOY\n",
    "df_info[\"var_kind\"][21] =\n",
    "#DISCOVERY_TIME\n",
    "df_info[\"var_kind\"][22] =\n",
    "#STAT_CAUSE_CODE\n",
    "df_info[\"var_kind\"][23] =\n",
    "#STAT_CAUSE_DSCR\n",
    "df_info[\"var_kind\"][24] =\n",
    "#CONT_DATE\n",
    "df_info[\"var_kind\"][25] =\n",
    "#CONT_DOY\n",
    "df_info[\"var_kind\"][26] =\n",
    "#CONT_TIME\n",
    "df_info[\"var_kind\"][27] =\n",
    "#FIRE_SIZE\n",
    "df_info[\"var_kind\"][28] =\n",
    "#FIRE_SIZE_CLASS\n",
    "df_info[\"var_kind\"][29] =\n",
    "#LATITUDE\n",
    "df_info[\"var_kind\"][30] =\n",
    "#LONGITUDE\n",
    "df_info[\"var_kind\"][31] =\n",
    "#OWNER_CODE\n",
    "df_info[\"var_kind\"][32] =\n",
    "#OWNER_DESCR\n",
    "df_info[\"var_kind\"][33] =\n",
    "#STATE\n",
    "df_info[\"var_kind\"][34] =\n",
    "#COUNTY\n",
    "df_info[\"var_kind\"][35] =\n",
    "#FIPS_CODE\n",
    "df_info[\"var_kind\"][36] =\n",
    "#FIPS_NAME\n",
    "df_info[\"var_kind\"][37] =\n",
    "#SHAPE\n",
    "df_info[\"var_kind\"][38] ="
   ],
   "metadata": {
    "collapsed": false,
    "pycharm": {
     "name": "#%%\n"
    }
   }
  },
  {
   "cell_type": "markdown",
   "source": [
    "## Adding usage"
   ],
   "metadata": {
    "collapsed": false
   }
  },
  {
   "cell_type": "code",
   "source": [
    "#OBJECT ID\n",
    "df_info[\"usage\"][0] =\n",
    "#FOD ID\n",
    "df_info[\"usage\"][1] =\n",
    "#FPA ID\n",
    "df_info[\"usage\"][2] =\n",
    "#SOURCE_SYSTEM_TYPE\n",
    "df_info[\"usage\"][3] =\n",
    "#SOURCE_SYSTEM\n",
    "df_info[\"usage\"][4] =\n",
    "#NWCG_REPORTING_AGENCY\n",
    "df_info[\"usage\"][5] =\n",
    "#NWGC_REPORTING_UNIT_ID\n",
    "df_info[\"usage\"][6] =\n",
    "#NWGC_REPORTING_UNIT_NAME\n",
    "df_info[\"usage\"][7] =\n",
    "#SOURCE_REPORTING_UNIT\n",
    "df_info[\"usage\"][8] =\n",
    "#SOURCE_REPORTING_UNIT_NAME\n",
    "df_info[\"usage\"][9] =\n",
    "#LOCAL_FIRE_REPORT_ID\n",
    "df_info[\"usage\"][10] =\n",
    "#LOCAL_INIDENT_ID\n",
    "df_info[\"usage\"][11] =\n",
    "#FIRE_CODE\n",
    "df_info[\"usage\"][12] =\n",
    "#FIRE_NAME\n",
    "df_info[\"usage\"][13] =\n",
    "#ISC_209_INCIDENT_NUMBER\n",
    "df_info[\"usage\"][14] =\n",
    "#ISC_209_NAME\n",
    "df_info[\"usage\"][15] =\n",
    "#MTBS_ID\n",
    "df_info[\"usage\"][16] =\n",
    "#MTBS_FIRE_NAME\n",
    "df_info[\"usage\"][17] =\n",
    "#COMPLEX_NAME\n",
    "df_info[\"usage\"][18] =\n",
    "#FIRE_YEAR\n",
    "df_info[\"usage\"][19] =\n",
    "#DISCOVERY_DATE\n",
    "df_info[\"usage\"][20] =\n",
    "#DISCOVERY_DOY\n",
    "df_info[\"usage\"][21] =\n",
    "#DISCOVERY_TIME\n",
    "df_info[\"usage\"][22] =\n",
    "#STAT_CAUSE_CODE\n",
    "df_info[\"usage\"][23] =\n",
    "#STAT_CAUSE_DSCR\n",
    "df_info[\"usage\"][24] =\n",
    "#CONT_DATE\n",
    "df_info[\"usage\"][25] =\n",
    "#CONT_DOY\n",
    "df_info[\"usage\"][26] =\n",
    "#CONT_TIME\n",
    "df_info[\"usage\"][27] =\n",
    "#FIRE_SIZE\n",
    "df_info[\"usage\"][28] =\n",
    "#FIRE_SIZE_CLASS\n",
    "df_info[\"usage\"][29] =\n",
    "#LATITUDE\n",
    "df_info[\"usage\"][30] =\n",
    "#LONGITUDE\n",
    "df_info[\"usage\"][31] =\n",
    "#OWNER_CODE\n",
    "df_info[\"usage\"][32] =\n",
    "#OWNER_DESCR\n",
    "df_info[\"usage\"][33] =\n",
    "#STATE\n",
    "df_info[\"usage\"][34] =\n",
    "#COUNTY\n",
    "df_info[\"usage\"][35] =\n",
    "#FIPS_CODE\n",
    "df_info[\"usage\"][36] =\n",
    "#FIPS_NAME\n",
    "df_info[\"usage\"][37] =\n",
    "#SHAPE\n",
    "df_info[\"usage\"][38] ="
   ],
   "metadata": {
    "collapsed": false,
    "pycharm": {
     "name": "#%%\n"
    }
   },
   "execution_count": null,
   "outputs": []
  },
  {
   "cell_type": "markdown",
   "source": [
    "## Adding var type"
   ],
   "metadata": {
    "collapsed": false
   }
  },
  {
   "cell_type": "code",
   "execution_count": 10,
   "outputs": [
    {
     "data": {
      "text/plain": "                   column_name var_kind usage var_type na_rate  \\\n0                     OBJECTID      NaN   NaN    int64     NaN   \n1                       FOD_ID      NaN   NaN    int64     NaN   \n2                       FPA_ID      NaN   NaN   object     NaN   \n3           SOURCE_SYSTEM_TYPE      NaN   NaN   object     NaN   \n4                SOURCE_SYSTEM      NaN   NaN   object     NaN   \n5        NWCG_REPORTING_AGENCY      NaN   NaN   object     NaN   \n6       NWCG_REPORTING_UNIT_ID      NaN   NaN   object     NaN   \n7     NWCG_REPORTING_UNIT_NAME      NaN   NaN   object     NaN   \n8        SOURCE_REPORTING_UNIT      NaN   NaN   object     NaN   \n9   SOURCE_REPORTING_UNIT_NAME      NaN   NaN   object     NaN   \n10        LOCAL_FIRE_REPORT_ID      NaN   NaN   object     NaN   \n11           LOCAL_INCIDENT_ID      NaN   NaN   object     NaN   \n12                   FIRE_CODE      NaN   NaN   object     NaN   \n13                   FIRE_NAME      NaN   NaN   object     NaN   \n14     ICS_209_INCIDENT_NUMBER      NaN   NaN   object     NaN   \n15                ICS_209_NAME      NaN   NaN   object     NaN   \n16                     MTBS_ID      NaN   NaN   object     NaN   \n17              MTBS_FIRE_NAME      NaN   NaN   object     NaN   \n18                COMPLEX_NAME      NaN   NaN   object     NaN   \n19                   FIRE_YEAR      NaN   NaN    int64     NaN   \n20              DISCOVERY_DATE      NaN   NaN  float64     NaN   \n21               DISCOVERY_DOY      NaN   NaN    int64     NaN   \n22              DISCOVERY_TIME      NaN   NaN  float64     NaN   \n23             STAT_CAUSE_CODE      NaN   NaN  float64     NaN   \n24            STAT_CAUSE_DESCR      NaN   NaN   object     NaN   \n25                   CONT_DATE      NaN   NaN  float64     NaN   \n26                    CONT_DOY      NaN   NaN  float64     NaN   \n27                   CONT_TIME      NaN   NaN  float64     NaN   \n28                   FIRE_SIZE      NaN   NaN  float64     NaN   \n29             FIRE_SIZE_CLASS      NaN   NaN   object     NaN   \n30                    LATITUDE      NaN   NaN  float64     NaN   \n31                   LONGITUDE      NaN   NaN  float64     NaN   \n32                  OWNER_CODE      NaN   NaN  float64     NaN   \n33                 OWNER_DESCR      NaN   NaN   object     NaN   \n34                       STATE      NaN   NaN   object     NaN   \n35                      COUNTY      NaN   NaN   object     NaN   \n36                   FIPS_CODE      NaN   NaN  float64     NaN   \n37                   FIPS_NAME      NaN   NaN   object     NaN   \n38                       Shape      NaN   NaN   object     NaN   \n\n   na_handling_method value_distribution var_cat balance var_relevance  \\\n0                 NaN                NaN     NaN     NaN           NaN   \n1                 NaN                NaN     NaN     NaN           NaN   \n2                 NaN                NaN     NaN     NaN           NaN   \n3                 NaN                NaN     NaN     NaN           NaN   \n4                 NaN                NaN     NaN     NaN           NaN   \n5                 NaN                NaN     NaN     NaN           NaN   \n6                 NaN                NaN     NaN     NaN           NaN   \n7                 NaN                NaN     NaN     NaN           NaN   \n8                 NaN                NaN     NaN     NaN           NaN   \n9                 NaN                NaN     NaN     NaN           NaN   \n10                NaN                NaN     NaN     NaN           NaN   \n11                NaN                NaN     NaN     NaN           NaN   \n12                NaN                NaN     NaN     NaN           NaN   \n13                NaN                NaN     NaN     NaN           NaN   \n14                NaN                NaN     NaN     NaN           NaN   \n15                NaN                NaN     NaN     NaN           NaN   \n16                NaN                NaN     NaN     NaN           NaN   \n17                NaN                NaN     NaN     NaN           NaN   \n18                NaN                NaN     NaN     NaN           NaN   \n19                NaN                NaN     NaN     NaN           NaN   \n20                NaN                NaN     NaN     NaN           NaN   \n21                NaN                NaN     NaN     NaN           NaN   \n22                NaN                NaN     NaN     NaN           NaN   \n23                NaN                NaN     NaN     NaN           NaN   \n24                NaN                NaN     NaN     NaN           NaN   \n25                NaN                NaN     NaN     NaN           NaN   \n26                NaN                NaN     NaN     NaN           NaN   \n27                NaN                NaN     NaN     NaN           NaN   \n28                NaN                NaN     NaN     NaN           NaN   \n29                NaN                NaN     NaN     NaN           NaN   \n30                NaN                NaN     NaN     NaN           NaN   \n31                NaN                NaN     NaN     NaN           NaN   \n32                NaN                NaN     NaN     NaN           NaN   \n33                NaN                NaN     NaN     NaN           NaN   \n34                NaN                NaN     NaN     NaN           NaN   \n35                NaN                NaN     NaN     NaN           NaN   \n36                NaN                NaN     NaN     NaN           NaN   \n37                NaN                NaN     NaN     NaN           NaN   \n38                NaN                NaN     NaN     NaN           NaN   \n\n   source_reliability corr_wt_targets comment  \n0                 NaN             NaN     NaN  \n1                 NaN             NaN     NaN  \n2                 NaN             NaN     NaN  \n3                 NaN             NaN     NaN  \n4                 NaN             NaN     NaN  \n5                 NaN             NaN     NaN  \n6                 NaN             NaN     NaN  \n7                 NaN             NaN     NaN  \n8                 NaN             NaN     NaN  \n9                 NaN             NaN     NaN  \n10                NaN             NaN     NaN  \n11                NaN             NaN     NaN  \n12                NaN             NaN     NaN  \n13                NaN             NaN     NaN  \n14                NaN             NaN     NaN  \n15                NaN             NaN     NaN  \n16                NaN             NaN     NaN  \n17                NaN             NaN     NaN  \n18                NaN             NaN     NaN  \n19                NaN             NaN     NaN  \n20                NaN             NaN     NaN  \n21                NaN             NaN     NaN  \n22                NaN             NaN     NaN  \n23                NaN             NaN     NaN  \n24                NaN             NaN     NaN  \n25                NaN             NaN     NaN  \n26                NaN             NaN     NaN  \n27                NaN             NaN     NaN  \n28                NaN             NaN     NaN  \n29                NaN             NaN     NaN  \n30                NaN             NaN     NaN  \n31                NaN             NaN     NaN  \n32                NaN             NaN     NaN  \n33                NaN             NaN     NaN  \n34                NaN             NaN     NaN  \n35                NaN             NaN     NaN  \n36                NaN             NaN     NaN  \n37                NaN             NaN     NaN  \n38                NaN             NaN     NaN  ",
      "text/html": "<div>\n<style scoped>\n    .dataframe tbody tr th:only-of-type {\n        vertical-align: middle;\n    }\n\n    .dataframe tbody tr th {\n        vertical-align: top;\n    }\n\n    .dataframe thead th {\n        text-align: right;\n    }\n</style>\n<table border=\"1\" class=\"dataframe\">\n  <thead>\n    <tr style=\"text-align: right;\">\n      <th></th>\n      <th>column_name</th>\n      <th>var_kind</th>\n      <th>usage</th>\n      <th>var_type</th>\n      <th>na_rate</th>\n      <th>na_handling_method</th>\n      <th>value_distribution</th>\n      <th>var_cat</th>\n      <th>balance</th>\n      <th>var_relevance</th>\n      <th>source_reliability</th>\n      <th>corr_wt_targets</th>\n      <th>comment</th>\n    </tr>\n  </thead>\n  <tbody>\n    <tr>\n      <th>0</th>\n      <td>OBJECTID</td>\n      <td>NaN</td>\n      <td>NaN</td>\n      <td>int64</td>\n      <td>NaN</td>\n      <td>NaN</td>\n      <td>NaN</td>\n      <td>NaN</td>\n      <td>NaN</td>\n      <td>NaN</td>\n      <td>NaN</td>\n      <td>NaN</td>\n      <td>NaN</td>\n    </tr>\n    <tr>\n      <th>1</th>\n      <td>FOD_ID</td>\n      <td>NaN</td>\n      <td>NaN</td>\n      <td>int64</td>\n      <td>NaN</td>\n      <td>NaN</td>\n      <td>NaN</td>\n      <td>NaN</td>\n      <td>NaN</td>\n      <td>NaN</td>\n      <td>NaN</td>\n      <td>NaN</td>\n      <td>NaN</td>\n    </tr>\n    <tr>\n      <th>2</th>\n      <td>FPA_ID</td>\n      <td>NaN</td>\n      <td>NaN</td>\n      <td>object</td>\n      <td>NaN</td>\n      <td>NaN</td>\n      <td>NaN</td>\n      <td>NaN</td>\n      <td>NaN</td>\n      <td>NaN</td>\n      <td>NaN</td>\n      <td>NaN</td>\n      <td>NaN</td>\n    </tr>\n    <tr>\n      <th>3</th>\n      <td>SOURCE_SYSTEM_TYPE</td>\n      <td>NaN</td>\n      <td>NaN</td>\n      <td>object</td>\n      <td>NaN</td>\n      <td>NaN</td>\n      <td>NaN</td>\n      <td>NaN</td>\n      <td>NaN</td>\n      <td>NaN</td>\n      <td>NaN</td>\n      <td>NaN</td>\n      <td>NaN</td>\n    </tr>\n    <tr>\n      <th>4</th>\n      <td>SOURCE_SYSTEM</td>\n      <td>NaN</td>\n      <td>NaN</td>\n      <td>object</td>\n      <td>NaN</td>\n      <td>NaN</td>\n      <td>NaN</td>\n      <td>NaN</td>\n      <td>NaN</td>\n      <td>NaN</td>\n      <td>NaN</td>\n      <td>NaN</td>\n      <td>NaN</td>\n    </tr>\n    <tr>\n      <th>5</th>\n      <td>NWCG_REPORTING_AGENCY</td>\n      <td>NaN</td>\n      <td>NaN</td>\n      <td>object</td>\n      <td>NaN</td>\n      <td>NaN</td>\n      <td>NaN</td>\n      <td>NaN</td>\n      <td>NaN</td>\n      <td>NaN</td>\n      <td>NaN</td>\n      <td>NaN</td>\n      <td>NaN</td>\n    </tr>\n    <tr>\n      <th>6</th>\n      <td>NWCG_REPORTING_UNIT_ID</td>\n      <td>NaN</td>\n      <td>NaN</td>\n      <td>object</td>\n      <td>NaN</td>\n      <td>NaN</td>\n      <td>NaN</td>\n      <td>NaN</td>\n      <td>NaN</td>\n      <td>NaN</td>\n      <td>NaN</td>\n      <td>NaN</td>\n      <td>NaN</td>\n    </tr>\n    <tr>\n      <th>7</th>\n      <td>NWCG_REPORTING_UNIT_NAME</td>\n      <td>NaN</td>\n      <td>NaN</td>\n      <td>object</td>\n      <td>NaN</td>\n      <td>NaN</td>\n      <td>NaN</td>\n      <td>NaN</td>\n      <td>NaN</td>\n      <td>NaN</td>\n      <td>NaN</td>\n      <td>NaN</td>\n      <td>NaN</td>\n    </tr>\n    <tr>\n      <th>8</th>\n      <td>SOURCE_REPORTING_UNIT</td>\n      <td>NaN</td>\n      <td>NaN</td>\n      <td>object</td>\n      <td>NaN</td>\n      <td>NaN</td>\n      <td>NaN</td>\n      <td>NaN</td>\n      <td>NaN</td>\n      <td>NaN</td>\n      <td>NaN</td>\n      <td>NaN</td>\n      <td>NaN</td>\n    </tr>\n    <tr>\n      <th>9</th>\n      <td>SOURCE_REPORTING_UNIT_NAME</td>\n      <td>NaN</td>\n      <td>NaN</td>\n      <td>object</td>\n      <td>NaN</td>\n      <td>NaN</td>\n      <td>NaN</td>\n      <td>NaN</td>\n      <td>NaN</td>\n      <td>NaN</td>\n      <td>NaN</td>\n      <td>NaN</td>\n      <td>NaN</td>\n    </tr>\n    <tr>\n      <th>10</th>\n      <td>LOCAL_FIRE_REPORT_ID</td>\n      <td>NaN</td>\n      <td>NaN</td>\n      <td>object</td>\n      <td>NaN</td>\n      <td>NaN</td>\n      <td>NaN</td>\n      <td>NaN</td>\n      <td>NaN</td>\n      <td>NaN</td>\n      <td>NaN</td>\n      <td>NaN</td>\n      <td>NaN</td>\n    </tr>\n    <tr>\n      <th>11</th>\n      <td>LOCAL_INCIDENT_ID</td>\n      <td>NaN</td>\n      <td>NaN</td>\n      <td>object</td>\n      <td>NaN</td>\n      <td>NaN</td>\n      <td>NaN</td>\n      <td>NaN</td>\n      <td>NaN</td>\n      <td>NaN</td>\n      <td>NaN</td>\n      <td>NaN</td>\n      <td>NaN</td>\n    </tr>\n    <tr>\n      <th>12</th>\n      <td>FIRE_CODE</td>\n      <td>NaN</td>\n      <td>NaN</td>\n      <td>object</td>\n      <td>NaN</td>\n      <td>NaN</td>\n      <td>NaN</td>\n      <td>NaN</td>\n      <td>NaN</td>\n      <td>NaN</td>\n      <td>NaN</td>\n      <td>NaN</td>\n      <td>NaN</td>\n    </tr>\n    <tr>\n      <th>13</th>\n      <td>FIRE_NAME</td>\n      <td>NaN</td>\n      <td>NaN</td>\n      <td>object</td>\n      <td>NaN</td>\n      <td>NaN</td>\n      <td>NaN</td>\n      <td>NaN</td>\n      <td>NaN</td>\n      <td>NaN</td>\n      <td>NaN</td>\n      <td>NaN</td>\n      <td>NaN</td>\n    </tr>\n    <tr>\n      <th>14</th>\n      <td>ICS_209_INCIDENT_NUMBER</td>\n      <td>NaN</td>\n      <td>NaN</td>\n      <td>object</td>\n      <td>NaN</td>\n      <td>NaN</td>\n      <td>NaN</td>\n      <td>NaN</td>\n      <td>NaN</td>\n      <td>NaN</td>\n      <td>NaN</td>\n      <td>NaN</td>\n      <td>NaN</td>\n    </tr>\n    <tr>\n      <th>15</th>\n      <td>ICS_209_NAME</td>\n      <td>NaN</td>\n      <td>NaN</td>\n      <td>object</td>\n      <td>NaN</td>\n      <td>NaN</td>\n      <td>NaN</td>\n      <td>NaN</td>\n      <td>NaN</td>\n      <td>NaN</td>\n      <td>NaN</td>\n      <td>NaN</td>\n      <td>NaN</td>\n    </tr>\n    <tr>\n      <th>16</th>\n      <td>MTBS_ID</td>\n      <td>NaN</td>\n      <td>NaN</td>\n      <td>object</td>\n      <td>NaN</td>\n      <td>NaN</td>\n      <td>NaN</td>\n      <td>NaN</td>\n      <td>NaN</td>\n      <td>NaN</td>\n      <td>NaN</td>\n      <td>NaN</td>\n      <td>NaN</td>\n    </tr>\n    <tr>\n      <th>17</th>\n      <td>MTBS_FIRE_NAME</td>\n      <td>NaN</td>\n      <td>NaN</td>\n      <td>object</td>\n      <td>NaN</td>\n      <td>NaN</td>\n      <td>NaN</td>\n      <td>NaN</td>\n      <td>NaN</td>\n      <td>NaN</td>\n      <td>NaN</td>\n      <td>NaN</td>\n      <td>NaN</td>\n    </tr>\n    <tr>\n      <th>18</th>\n      <td>COMPLEX_NAME</td>\n      <td>NaN</td>\n      <td>NaN</td>\n      <td>object</td>\n      <td>NaN</td>\n      <td>NaN</td>\n      <td>NaN</td>\n      <td>NaN</td>\n      <td>NaN</td>\n      <td>NaN</td>\n      <td>NaN</td>\n      <td>NaN</td>\n      <td>NaN</td>\n    </tr>\n    <tr>\n      <th>19</th>\n      <td>FIRE_YEAR</td>\n      <td>NaN</td>\n      <td>NaN</td>\n      <td>int64</td>\n      <td>NaN</td>\n      <td>NaN</td>\n      <td>NaN</td>\n      <td>NaN</td>\n      <td>NaN</td>\n      <td>NaN</td>\n      <td>NaN</td>\n      <td>NaN</td>\n      <td>NaN</td>\n    </tr>\n    <tr>\n      <th>20</th>\n      <td>DISCOVERY_DATE</td>\n      <td>NaN</td>\n      <td>NaN</td>\n      <td>float64</td>\n      <td>NaN</td>\n      <td>NaN</td>\n      <td>NaN</td>\n      <td>NaN</td>\n      <td>NaN</td>\n      <td>NaN</td>\n      <td>NaN</td>\n      <td>NaN</td>\n      <td>NaN</td>\n    </tr>\n    <tr>\n      <th>21</th>\n      <td>DISCOVERY_DOY</td>\n      <td>NaN</td>\n      <td>NaN</td>\n      <td>int64</td>\n      <td>NaN</td>\n      <td>NaN</td>\n      <td>NaN</td>\n      <td>NaN</td>\n      <td>NaN</td>\n      <td>NaN</td>\n      <td>NaN</td>\n      <td>NaN</td>\n      <td>NaN</td>\n    </tr>\n    <tr>\n      <th>22</th>\n      <td>DISCOVERY_TIME</td>\n      <td>NaN</td>\n      <td>NaN</td>\n      <td>float64</td>\n      <td>NaN</td>\n      <td>NaN</td>\n      <td>NaN</td>\n      <td>NaN</td>\n      <td>NaN</td>\n      <td>NaN</td>\n      <td>NaN</td>\n      <td>NaN</td>\n      <td>NaN</td>\n    </tr>\n    <tr>\n      <th>23</th>\n      <td>STAT_CAUSE_CODE</td>\n      <td>NaN</td>\n      <td>NaN</td>\n      <td>float64</td>\n      <td>NaN</td>\n      <td>NaN</td>\n      <td>NaN</td>\n      <td>NaN</td>\n      <td>NaN</td>\n      <td>NaN</td>\n      <td>NaN</td>\n      <td>NaN</td>\n      <td>NaN</td>\n    </tr>\n    <tr>\n      <th>24</th>\n      <td>STAT_CAUSE_DESCR</td>\n      <td>NaN</td>\n      <td>NaN</td>\n      <td>object</td>\n      <td>NaN</td>\n      <td>NaN</td>\n      <td>NaN</td>\n      <td>NaN</td>\n      <td>NaN</td>\n      <td>NaN</td>\n      <td>NaN</td>\n      <td>NaN</td>\n      <td>NaN</td>\n    </tr>\n    <tr>\n      <th>25</th>\n      <td>CONT_DATE</td>\n      <td>NaN</td>\n      <td>NaN</td>\n      <td>float64</td>\n      <td>NaN</td>\n      <td>NaN</td>\n      <td>NaN</td>\n      <td>NaN</td>\n      <td>NaN</td>\n      <td>NaN</td>\n      <td>NaN</td>\n      <td>NaN</td>\n      <td>NaN</td>\n    </tr>\n    <tr>\n      <th>26</th>\n      <td>CONT_DOY</td>\n      <td>NaN</td>\n      <td>NaN</td>\n      <td>float64</td>\n      <td>NaN</td>\n      <td>NaN</td>\n      <td>NaN</td>\n      <td>NaN</td>\n      <td>NaN</td>\n      <td>NaN</td>\n      <td>NaN</td>\n      <td>NaN</td>\n      <td>NaN</td>\n    </tr>\n    <tr>\n      <th>27</th>\n      <td>CONT_TIME</td>\n      <td>NaN</td>\n      <td>NaN</td>\n      <td>float64</td>\n      <td>NaN</td>\n      <td>NaN</td>\n      <td>NaN</td>\n      <td>NaN</td>\n      <td>NaN</td>\n      <td>NaN</td>\n      <td>NaN</td>\n      <td>NaN</td>\n      <td>NaN</td>\n    </tr>\n    <tr>\n      <th>28</th>\n      <td>FIRE_SIZE</td>\n      <td>NaN</td>\n      <td>NaN</td>\n      <td>float64</td>\n      <td>NaN</td>\n      <td>NaN</td>\n      <td>NaN</td>\n      <td>NaN</td>\n      <td>NaN</td>\n      <td>NaN</td>\n      <td>NaN</td>\n      <td>NaN</td>\n      <td>NaN</td>\n    </tr>\n    <tr>\n      <th>29</th>\n      <td>FIRE_SIZE_CLASS</td>\n      <td>NaN</td>\n      <td>NaN</td>\n      <td>object</td>\n      <td>NaN</td>\n      <td>NaN</td>\n      <td>NaN</td>\n      <td>NaN</td>\n      <td>NaN</td>\n      <td>NaN</td>\n      <td>NaN</td>\n      <td>NaN</td>\n      <td>NaN</td>\n    </tr>\n    <tr>\n      <th>30</th>\n      <td>LATITUDE</td>\n      <td>NaN</td>\n      <td>NaN</td>\n      <td>float64</td>\n      <td>NaN</td>\n      <td>NaN</td>\n      <td>NaN</td>\n      <td>NaN</td>\n      <td>NaN</td>\n      <td>NaN</td>\n      <td>NaN</td>\n      <td>NaN</td>\n      <td>NaN</td>\n    </tr>\n    <tr>\n      <th>31</th>\n      <td>LONGITUDE</td>\n      <td>NaN</td>\n      <td>NaN</td>\n      <td>float64</td>\n      <td>NaN</td>\n      <td>NaN</td>\n      <td>NaN</td>\n      <td>NaN</td>\n      <td>NaN</td>\n      <td>NaN</td>\n      <td>NaN</td>\n      <td>NaN</td>\n      <td>NaN</td>\n    </tr>\n    <tr>\n      <th>32</th>\n      <td>OWNER_CODE</td>\n      <td>NaN</td>\n      <td>NaN</td>\n      <td>float64</td>\n      <td>NaN</td>\n      <td>NaN</td>\n      <td>NaN</td>\n      <td>NaN</td>\n      <td>NaN</td>\n      <td>NaN</td>\n      <td>NaN</td>\n      <td>NaN</td>\n      <td>NaN</td>\n    </tr>\n    <tr>\n      <th>33</th>\n      <td>OWNER_DESCR</td>\n      <td>NaN</td>\n      <td>NaN</td>\n      <td>object</td>\n      <td>NaN</td>\n      <td>NaN</td>\n      <td>NaN</td>\n      <td>NaN</td>\n      <td>NaN</td>\n      <td>NaN</td>\n      <td>NaN</td>\n      <td>NaN</td>\n      <td>NaN</td>\n    </tr>\n    <tr>\n      <th>34</th>\n      <td>STATE</td>\n      <td>NaN</td>\n      <td>NaN</td>\n      <td>object</td>\n      <td>NaN</td>\n      <td>NaN</td>\n      <td>NaN</td>\n      <td>NaN</td>\n      <td>NaN</td>\n      <td>NaN</td>\n      <td>NaN</td>\n      <td>NaN</td>\n      <td>NaN</td>\n    </tr>\n    <tr>\n      <th>35</th>\n      <td>COUNTY</td>\n      <td>NaN</td>\n      <td>NaN</td>\n      <td>object</td>\n      <td>NaN</td>\n      <td>NaN</td>\n      <td>NaN</td>\n      <td>NaN</td>\n      <td>NaN</td>\n      <td>NaN</td>\n      <td>NaN</td>\n      <td>NaN</td>\n      <td>NaN</td>\n    </tr>\n    <tr>\n      <th>36</th>\n      <td>FIPS_CODE</td>\n      <td>NaN</td>\n      <td>NaN</td>\n      <td>float64</td>\n      <td>NaN</td>\n      <td>NaN</td>\n      <td>NaN</td>\n      <td>NaN</td>\n      <td>NaN</td>\n      <td>NaN</td>\n      <td>NaN</td>\n      <td>NaN</td>\n      <td>NaN</td>\n    </tr>\n    <tr>\n      <th>37</th>\n      <td>FIPS_NAME</td>\n      <td>NaN</td>\n      <td>NaN</td>\n      <td>object</td>\n      <td>NaN</td>\n      <td>NaN</td>\n      <td>NaN</td>\n      <td>NaN</td>\n      <td>NaN</td>\n      <td>NaN</td>\n      <td>NaN</td>\n      <td>NaN</td>\n      <td>NaN</td>\n    </tr>\n    <tr>\n      <th>38</th>\n      <td>Shape</td>\n      <td>NaN</td>\n      <td>NaN</td>\n      <td>object</td>\n      <td>NaN</td>\n      <td>NaN</td>\n      <td>NaN</td>\n      <td>NaN</td>\n      <td>NaN</td>\n      <td>NaN</td>\n      <td>NaN</td>\n      <td>NaN</td>\n      <td>NaN</td>\n    </tr>\n  </tbody>\n</table>\n</div>"
     },
     "execution_count": 10,
     "metadata": {},
     "output_type": "execute_result"
    }
   ],
   "source": [
    "df_info[\"var_type\"] = df.dtypes.reset_index(drop=True)\n",
    "df_info"
   ],
   "metadata": {
    "collapsed": false,
    "pycharm": {
     "name": "#%%\n"
    }
   }
  },
  {
   "cell_type": "markdown",
   "source": [
    "## Adding na rate"
   ],
   "metadata": {
    "collapsed": false
   }
  },
  {
   "cell_type": "code",
   "execution_count": 15,
   "outputs": [
    {
     "data": {
      "text/plain": "                   column_name var_kind usage var_type   na_rate  \\\n0                     OBJECTID      NaN   NaN    int64  0.000000   \n1                       FOD_ID      NaN   NaN    int64  0.000000   \n2                       FPA_ID      NaN   NaN   object  0.000000   \n3           SOURCE_SYSTEM_TYPE      NaN   NaN   object  0.000000   \n4                SOURCE_SYSTEM      NaN   NaN   object  0.000000   \n5        NWCG_REPORTING_AGENCY      NaN   NaN   object  0.000000   \n6       NWCG_REPORTING_UNIT_ID      NaN   NaN   object  0.000000   \n7     NWCG_REPORTING_UNIT_NAME      NaN   NaN   object  0.000000   \n8        SOURCE_REPORTING_UNIT      NaN   NaN   object  0.000000   \n9   SOURCE_REPORTING_UNIT_NAME      NaN   NaN   object  0.000000   \n10        LOCAL_FIRE_REPORT_ID      NaN   NaN   object  0.776024   \n11           LOCAL_INCIDENT_ID      NaN   NaN   object  0.436499   \n12                   FIRE_CODE      NaN   NaN   object  0.827317   \n13                   FIRE_NAME      NaN   NaN   object  0.510767   \n14     ICS_209_INCIDENT_NUMBER      NaN   NaN   object  0.986324   \n15                ICS_209_NAME      NaN   NaN   object  0.986324   \n16                     MTBS_ID      NaN   NaN   object  0.994149   \n17              MTBS_FIRE_NAME      NaN   NaN   object  0.994149   \n18                COMPLEX_NAME      NaN   NaN   object  0.997244   \n19                   FIRE_YEAR      NaN   NaN    int64  0.000000   \n20              DISCOVERY_DATE      NaN   NaN  float64  0.000000   \n21               DISCOVERY_DOY      NaN   NaN    int64  0.000000   \n22              DISCOVERY_TIME      NaN   NaN  float64  0.469372   \n23             STAT_CAUSE_CODE      NaN   NaN  float64  0.000000   \n24            STAT_CAUSE_DESCR      NaN   NaN   object  0.000000   \n25                   CONT_DATE      NaN   NaN  float64  0.474101   \n26                    CONT_DOY      NaN   NaN  float64  0.474101   \n27                   CONT_TIME      NaN   NaN  float64  0.517188   \n28                   FIRE_SIZE      NaN   NaN  float64  0.000000   \n29             FIRE_SIZE_CLASS      NaN   NaN   object  0.000000   \n30                    LATITUDE      NaN   NaN  float64  0.000000   \n31                   LONGITUDE      NaN   NaN  float64  0.000000   \n32                  OWNER_CODE      NaN   NaN  float64  0.000000   \n33                 OWNER_DESCR      NaN   NaN   object  0.000000   \n34                       STATE      NaN   NaN   object  0.000000   \n35                      COUNTY      NaN   NaN   object  0.360628   \n36                   FIPS_CODE      NaN   NaN  float64  0.360628   \n37                   FIPS_NAME      NaN   NaN   object  0.360628   \n38                       Shape      NaN   NaN   object  0.000000   \n\n   na_handling_method value_distribution var_cat balance var_relevance  \\\n0                 NaN                NaN     NaN     NaN           NaN   \n1                 NaN                NaN     NaN     NaN           NaN   \n2                 NaN                NaN     NaN     NaN           NaN   \n3                 NaN                NaN     NaN     NaN           NaN   \n4                 NaN                NaN     NaN     NaN           NaN   \n5                 NaN                NaN     NaN     NaN           NaN   \n6                 NaN                NaN     NaN     NaN           NaN   \n7                 NaN                NaN     NaN     NaN           NaN   \n8                 NaN                NaN     NaN     NaN           NaN   \n9                 NaN                NaN     NaN     NaN           NaN   \n10                NaN                NaN     NaN     NaN           NaN   \n11                NaN                NaN     NaN     NaN           NaN   \n12                NaN                NaN     NaN     NaN           NaN   \n13                NaN                NaN     NaN     NaN           NaN   \n14                NaN                NaN     NaN     NaN           NaN   \n15                NaN                NaN     NaN     NaN           NaN   \n16                NaN                NaN     NaN     NaN           NaN   \n17                NaN                NaN     NaN     NaN           NaN   \n18                NaN                NaN     NaN     NaN           NaN   \n19                NaN                NaN     NaN     NaN           NaN   \n20                NaN                NaN     NaN     NaN           NaN   \n21                NaN                NaN     NaN     NaN           NaN   \n22                NaN                NaN     NaN     NaN           NaN   \n23                NaN                NaN     NaN     NaN           NaN   \n24                NaN                NaN     NaN     NaN           NaN   \n25                NaN                NaN     NaN     NaN           NaN   \n26                NaN                NaN     NaN     NaN           NaN   \n27                NaN                NaN     NaN     NaN           NaN   \n28                NaN                NaN     NaN     NaN           NaN   \n29                NaN                NaN     NaN     NaN           NaN   \n30                NaN                NaN     NaN     NaN           NaN   \n31                NaN                NaN     NaN     NaN           NaN   \n32                NaN                NaN     NaN     NaN           NaN   \n33                NaN                NaN     NaN     NaN           NaN   \n34                NaN                NaN     NaN     NaN           NaN   \n35                NaN                NaN     NaN     NaN           NaN   \n36                NaN                NaN     NaN     NaN           NaN   \n37                NaN                NaN     NaN     NaN           NaN   \n38                NaN                NaN     NaN     NaN           NaN   \n\n   source_reliability corr_wt_targets comment  \n0                 NaN             NaN     NaN  \n1                 NaN             NaN     NaN  \n2                 NaN             NaN     NaN  \n3                 NaN             NaN     NaN  \n4                 NaN             NaN     NaN  \n5                 NaN             NaN     NaN  \n6                 NaN             NaN     NaN  \n7                 NaN             NaN     NaN  \n8                 NaN             NaN     NaN  \n9                 NaN             NaN     NaN  \n10                NaN             NaN     NaN  \n11                NaN             NaN     NaN  \n12                NaN             NaN     NaN  \n13                NaN             NaN     NaN  \n14                NaN             NaN     NaN  \n15                NaN             NaN     NaN  \n16                NaN             NaN     NaN  \n17                NaN             NaN     NaN  \n18                NaN             NaN     NaN  \n19                NaN             NaN     NaN  \n20                NaN             NaN     NaN  \n21                NaN             NaN     NaN  \n22                NaN             NaN     NaN  \n23                NaN             NaN     NaN  \n24                NaN             NaN     NaN  \n25                NaN             NaN     NaN  \n26                NaN             NaN     NaN  \n27                NaN             NaN     NaN  \n28                NaN             NaN     NaN  \n29                NaN             NaN     NaN  \n30                NaN             NaN     NaN  \n31                NaN             NaN     NaN  \n32                NaN             NaN     NaN  \n33                NaN             NaN     NaN  \n34                NaN             NaN     NaN  \n35                NaN             NaN     NaN  \n36                NaN             NaN     NaN  \n37                NaN             NaN     NaN  \n38                NaN             NaN     NaN  ",
      "text/html": "<div>\n<style scoped>\n    .dataframe tbody tr th:only-of-type {\n        vertical-align: middle;\n    }\n\n    .dataframe tbody tr th {\n        vertical-align: top;\n    }\n\n    .dataframe thead th {\n        text-align: right;\n    }\n</style>\n<table border=\"1\" class=\"dataframe\">\n  <thead>\n    <tr style=\"text-align: right;\">\n      <th></th>\n      <th>column_name</th>\n      <th>var_kind</th>\n      <th>usage</th>\n      <th>var_type</th>\n      <th>na_rate</th>\n      <th>na_handling_method</th>\n      <th>value_distribution</th>\n      <th>var_cat</th>\n      <th>balance</th>\n      <th>var_relevance</th>\n      <th>source_reliability</th>\n      <th>corr_wt_targets</th>\n      <th>comment</th>\n    </tr>\n  </thead>\n  <tbody>\n    <tr>\n      <th>0</th>\n      <td>OBJECTID</td>\n      <td>NaN</td>\n      <td>NaN</td>\n      <td>int64</td>\n      <td>0.000000</td>\n      <td>NaN</td>\n      <td>NaN</td>\n      <td>NaN</td>\n      <td>NaN</td>\n      <td>NaN</td>\n      <td>NaN</td>\n      <td>NaN</td>\n      <td>NaN</td>\n    </tr>\n    <tr>\n      <th>1</th>\n      <td>FOD_ID</td>\n      <td>NaN</td>\n      <td>NaN</td>\n      <td>int64</td>\n      <td>0.000000</td>\n      <td>NaN</td>\n      <td>NaN</td>\n      <td>NaN</td>\n      <td>NaN</td>\n      <td>NaN</td>\n      <td>NaN</td>\n      <td>NaN</td>\n      <td>NaN</td>\n    </tr>\n    <tr>\n      <th>2</th>\n      <td>FPA_ID</td>\n      <td>NaN</td>\n      <td>NaN</td>\n      <td>object</td>\n      <td>0.000000</td>\n      <td>NaN</td>\n      <td>NaN</td>\n      <td>NaN</td>\n      <td>NaN</td>\n      <td>NaN</td>\n      <td>NaN</td>\n      <td>NaN</td>\n      <td>NaN</td>\n    </tr>\n    <tr>\n      <th>3</th>\n      <td>SOURCE_SYSTEM_TYPE</td>\n      <td>NaN</td>\n      <td>NaN</td>\n      <td>object</td>\n      <td>0.000000</td>\n      <td>NaN</td>\n      <td>NaN</td>\n      <td>NaN</td>\n      <td>NaN</td>\n      <td>NaN</td>\n      <td>NaN</td>\n      <td>NaN</td>\n      <td>NaN</td>\n    </tr>\n    <tr>\n      <th>4</th>\n      <td>SOURCE_SYSTEM</td>\n      <td>NaN</td>\n      <td>NaN</td>\n      <td>object</td>\n      <td>0.000000</td>\n      <td>NaN</td>\n      <td>NaN</td>\n      <td>NaN</td>\n      <td>NaN</td>\n      <td>NaN</td>\n      <td>NaN</td>\n      <td>NaN</td>\n      <td>NaN</td>\n    </tr>\n    <tr>\n      <th>5</th>\n      <td>NWCG_REPORTING_AGENCY</td>\n      <td>NaN</td>\n      <td>NaN</td>\n      <td>object</td>\n      <td>0.000000</td>\n      <td>NaN</td>\n      <td>NaN</td>\n      <td>NaN</td>\n      <td>NaN</td>\n      <td>NaN</td>\n      <td>NaN</td>\n      <td>NaN</td>\n      <td>NaN</td>\n    </tr>\n    <tr>\n      <th>6</th>\n      <td>NWCG_REPORTING_UNIT_ID</td>\n      <td>NaN</td>\n      <td>NaN</td>\n      <td>object</td>\n      <td>0.000000</td>\n      <td>NaN</td>\n      <td>NaN</td>\n      <td>NaN</td>\n      <td>NaN</td>\n      <td>NaN</td>\n      <td>NaN</td>\n      <td>NaN</td>\n      <td>NaN</td>\n    </tr>\n    <tr>\n      <th>7</th>\n      <td>NWCG_REPORTING_UNIT_NAME</td>\n      <td>NaN</td>\n      <td>NaN</td>\n      <td>object</td>\n      <td>0.000000</td>\n      <td>NaN</td>\n      <td>NaN</td>\n      <td>NaN</td>\n      <td>NaN</td>\n      <td>NaN</td>\n      <td>NaN</td>\n      <td>NaN</td>\n      <td>NaN</td>\n    </tr>\n    <tr>\n      <th>8</th>\n      <td>SOURCE_REPORTING_UNIT</td>\n      <td>NaN</td>\n      <td>NaN</td>\n      <td>object</td>\n      <td>0.000000</td>\n      <td>NaN</td>\n      <td>NaN</td>\n      <td>NaN</td>\n      <td>NaN</td>\n      <td>NaN</td>\n      <td>NaN</td>\n      <td>NaN</td>\n      <td>NaN</td>\n    </tr>\n    <tr>\n      <th>9</th>\n      <td>SOURCE_REPORTING_UNIT_NAME</td>\n      <td>NaN</td>\n      <td>NaN</td>\n      <td>object</td>\n      <td>0.000000</td>\n      <td>NaN</td>\n      <td>NaN</td>\n      <td>NaN</td>\n      <td>NaN</td>\n      <td>NaN</td>\n      <td>NaN</td>\n      <td>NaN</td>\n      <td>NaN</td>\n    </tr>\n    <tr>\n      <th>10</th>\n      <td>LOCAL_FIRE_REPORT_ID</td>\n      <td>NaN</td>\n      <td>NaN</td>\n      <td>object</td>\n      <td>0.776024</td>\n      <td>NaN</td>\n      <td>NaN</td>\n      <td>NaN</td>\n      <td>NaN</td>\n      <td>NaN</td>\n      <td>NaN</td>\n      <td>NaN</td>\n      <td>NaN</td>\n    </tr>\n    <tr>\n      <th>11</th>\n      <td>LOCAL_INCIDENT_ID</td>\n      <td>NaN</td>\n      <td>NaN</td>\n      <td>object</td>\n      <td>0.436499</td>\n      <td>NaN</td>\n      <td>NaN</td>\n      <td>NaN</td>\n      <td>NaN</td>\n      <td>NaN</td>\n      <td>NaN</td>\n      <td>NaN</td>\n      <td>NaN</td>\n    </tr>\n    <tr>\n      <th>12</th>\n      <td>FIRE_CODE</td>\n      <td>NaN</td>\n      <td>NaN</td>\n      <td>object</td>\n      <td>0.827317</td>\n      <td>NaN</td>\n      <td>NaN</td>\n      <td>NaN</td>\n      <td>NaN</td>\n      <td>NaN</td>\n      <td>NaN</td>\n      <td>NaN</td>\n      <td>NaN</td>\n    </tr>\n    <tr>\n      <th>13</th>\n      <td>FIRE_NAME</td>\n      <td>NaN</td>\n      <td>NaN</td>\n      <td>object</td>\n      <td>0.510767</td>\n      <td>NaN</td>\n      <td>NaN</td>\n      <td>NaN</td>\n      <td>NaN</td>\n      <td>NaN</td>\n      <td>NaN</td>\n      <td>NaN</td>\n      <td>NaN</td>\n    </tr>\n    <tr>\n      <th>14</th>\n      <td>ICS_209_INCIDENT_NUMBER</td>\n      <td>NaN</td>\n      <td>NaN</td>\n      <td>object</td>\n      <td>0.986324</td>\n      <td>NaN</td>\n      <td>NaN</td>\n      <td>NaN</td>\n      <td>NaN</td>\n      <td>NaN</td>\n      <td>NaN</td>\n      <td>NaN</td>\n      <td>NaN</td>\n    </tr>\n    <tr>\n      <th>15</th>\n      <td>ICS_209_NAME</td>\n      <td>NaN</td>\n      <td>NaN</td>\n      <td>object</td>\n      <td>0.986324</td>\n      <td>NaN</td>\n      <td>NaN</td>\n      <td>NaN</td>\n      <td>NaN</td>\n      <td>NaN</td>\n      <td>NaN</td>\n      <td>NaN</td>\n      <td>NaN</td>\n    </tr>\n    <tr>\n      <th>16</th>\n      <td>MTBS_ID</td>\n      <td>NaN</td>\n      <td>NaN</td>\n      <td>object</td>\n      <td>0.994149</td>\n      <td>NaN</td>\n      <td>NaN</td>\n      <td>NaN</td>\n      <td>NaN</td>\n      <td>NaN</td>\n      <td>NaN</td>\n      <td>NaN</td>\n      <td>NaN</td>\n    </tr>\n    <tr>\n      <th>17</th>\n      <td>MTBS_FIRE_NAME</td>\n      <td>NaN</td>\n      <td>NaN</td>\n      <td>object</td>\n      <td>0.994149</td>\n      <td>NaN</td>\n      <td>NaN</td>\n      <td>NaN</td>\n      <td>NaN</td>\n      <td>NaN</td>\n      <td>NaN</td>\n      <td>NaN</td>\n      <td>NaN</td>\n    </tr>\n    <tr>\n      <th>18</th>\n      <td>COMPLEX_NAME</td>\n      <td>NaN</td>\n      <td>NaN</td>\n      <td>object</td>\n      <td>0.997244</td>\n      <td>NaN</td>\n      <td>NaN</td>\n      <td>NaN</td>\n      <td>NaN</td>\n      <td>NaN</td>\n      <td>NaN</td>\n      <td>NaN</td>\n      <td>NaN</td>\n    </tr>\n    <tr>\n      <th>19</th>\n      <td>FIRE_YEAR</td>\n      <td>NaN</td>\n      <td>NaN</td>\n      <td>int64</td>\n      <td>0.000000</td>\n      <td>NaN</td>\n      <td>NaN</td>\n      <td>NaN</td>\n      <td>NaN</td>\n      <td>NaN</td>\n      <td>NaN</td>\n      <td>NaN</td>\n      <td>NaN</td>\n    </tr>\n    <tr>\n      <th>20</th>\n      <td>DISCOVERY_DATE</td>\n      <td>NaN</td>\n      <td>NaN</td>\n      <td>float64</td>\n      <td>0.000000</td>\n      <td>NaN</td>\n      <td>NaN</td>\n      <td>NaN</td>\n      <td>NaN</td>\n      <td>NaN</td>\n      <td>NaN</td>\n      <td>NaN</td>\n      <td>NaN</td>\n    </tr>\n    <tr>\n      <th>21</th>\n      <td>DISCOVERY_DOY</td>\n      <td>NaN</td>\n      <td>NaN</td>\n      <td>int64</td>\n      <td>0.000000</td>\n      <td>NaN</td>\n      <td>NaN</td>\n      <td>NaN</td>\n      <td>NaN</td>\n      <td>NaN</td>\n      <td>NaN</td>\n      <td>NaN</td>\n      <td>NaN</td>\n    </tr>\n    <tr>\n      <th>22</th>\n      <td>DISCOVERY_TIME</td>\n      <td>NaN</td>\n      <td>NaN</td>\n      <td>float64</td>\n      <td>0.469372</td>\n      <td>NaN</td>\n      <td>NaN</td>\n      <td>NaN</td>\n      <td>NaN</td>\n      <td>NaN</td>\n      <td>NaN</td>\n      <td>NaN</td>\n      <td>NaN</td>\n    </tr>\n    <tr>\n      <th>23</th>\n      <td>STAT_CAUSE_CODE</td>\n      <td>NaN</td>\n      <td>NaN</td>\n      <td>float64</td>\n      <td>0.000000</td>\n      <td>NaN</td>\n      <td>NaN</td>\n      <td>NaN</td>\n      <td>NaN</td>\n      <td>NaN</td>\n      <td>NaN</td>\n      <td>NaN</td>\n      <td>NaN</td>\n    </tr>\n    <tr>\n      <th>24</th>\n      <td>STAT_CAUSE_DESCR</td>\n      <td>NaN</td>\n      <td>NaN</td>\n      <td>object</td>\n      <td>0.000000</td>\n      <td>NaN</td>\n      <td>NaN</td>\n      <td>NaN</td>\n      <td>NaN</td>\n      <td>NaN</td>\n      <td>NaN</td>\n      <td>NaN</td>\n      <td>NaN</td>\n    </tr>\n    <tr>\n      <th>25</th>\n      <td>CONT_DATE</td>\n      <td>NaN</td>\n      <td>NaN</td>\n      <td>float64</td>\n      <td>0.474101</td>\n      <td>NaN</td>\n      <td>NaN</td>\n      <td>NaN</td>\n      <td>NaN</td>\n      <td>NaN</td>\n      <td>NaN</td>\n      <td>NaN</td>\n      <td>NaN</td>\n    </tr>\n    <tr>\n      <th>26</th>\n      <td>CONT_DOY</td>\n      <td>NaN</td>\n      <td>NaN</td>\n      <td>float64</td>\n      <td>0.474101</td>\n      <td>NaN</td>\n      <td>NaN</td>\n      <td>NaN</td>\n      <td>NaN</td>\n      <td>NaN</td>\n      <td>NaN</td>\n      <td>NaN</td>\n      <td>NaN</td>\n    </tr>\n    <tr>\n      <th>27</th>\n      <td>CONT_TIME</td>\n      <td>NaN</td>\n      <td>NaN</td>\n      <td>float64</td>\n      <td>0.517188</td>\n      <td>NaN</td>\n      <td>NaN</td>\n      <td>NaN</td>\n      <td>NaN</td>\n      <td>NaN</td>\n      <td>NaN</td>\n      <td>NaN</td>\n      <td>NaN</td>\n    </tr>\n    <tr>\n      <th>28</th>\n      <td>FIRE_SIZE</td>\n      <td>NaN</td>\n      <td>NaN</td>\n      <td>float64</td>\n      <td>0.000000</td>\n      <td>NaN</td>\n      <td>NaN</td>\n      <td>NaN</td>\n      <td>NaN</td>\n      <td>NaN</td>\n      <td>NaN</td>\n      <td>NaN</td>\n      <td>NaN</td>\n    </tr>\n    <tr>\n      <th>29</th>\n      <td>FIRE_SIZE_CLASS</td>\n      <td>NaN</td>\n      <td>NaN</td>\n      <td>object</td>\n      <td>0.000000</td>\n      <td>NaN</td>\n      <td>NaN</td>\n      <td>NaN</td>\n      <td>NaN</td>\n      <td>NaN</td>\n      <td>NaN</td>\n      <td>NaN</td>\n      <td>NaN</td>\n    </tr>\n    <tr>\n      <th>30</th>\n      <td>LATITUDE</td>\n      <td>NaN</td>\n      <td>NaN</td>\n      <td>float64</td>\n      <td>0.000000</td>\n      <td>NaN</td>\n      <td>NaN</td>\n      <td>NaN</td>\n      <td>NaN</td>\n      <td>NaN</td>\n      <td>NaN</td>\n      <td>NaN</td>\n      <td>NaN</td>\n    </tr>\n    <tr>\n      <th>31</th>\n      <td>LONGITUDE</td>\n      <td>NaN</td>\n      <td>NaN</td>\n      <td>float64</td>\n      <td>0.000000</td>\n      <td>NaN</td>\n      <td>NaN</td>\n      <td>NaN</td>\n      <td>NaN</td>\n      <td>NaN</td>\n      <td>NaN</td>\n      <td>NaN</td>\n      <td>NaN</td>\n    </tr>\n    <tr>\n      <th>32</th>\n      <td>OWNER_CODE</td>\n      <td>NaN</td>\n      <td>NaN</td>\n      <td>float64</td>\n      <td>0.000000</td>\n      <td>NaN</td>\n      <td>NaN</td>\n      <td>NaN</td>\n      <td>NaN</td>\n      <td>NaN</td>\n      <td>NaN</td>\n      <td>NaN</td>\n      <td>NaN</td>\n    </tr>\n    <tr>\n      <th>33</th>\n      <td>OWNER_DESCR</td>\n      <td>NaN</td>\n      <td>NaN</td>\n      <td>object</td>\n      <td>0.000000</td>\n      <td>NaN</td>\n      <td>NaN</td>\n      <td>NaN</td>\n      <td>NaN</td>\n      <td>NaN</td>\n      <td>NaN</td>\n      <td>NaN</td>\n      <td>NaN</td>\n    </tr>\n    <tr>\n      <th>34</th>\n      <td>STATE</td>\n      <td>NaN</td>\n      <td>NaN</td>\n      <td>object</td>\n      <td>0.000000</td>\n      <td>NaN</td>\n      <td>NaN</td>\n      <td>NaN</td>\n      <td>NaN</td>\n      <td>NaN</td>\n      <td>NaN</td>\n      <td>NaN</td>\n      <td>NaN</td>\n    </tr>\n    <tr>\n      <th>35</th>\n      <td>COUNTY</td>\n      <td>NaN</td>\n      <td>NaN</td>\n      <td>object</td>\n      <td>0.360628</td>\n      <td>NaN</td>\n      <td>NaN</td>\n      <td>NaN</td>\n      <td>NaN</td>\n      <td>NaN</td>\n      <td>NaN</td>\n      <td>NaN</td>\n      <td>NaN</td>\n    </tr>\n    <tr>\n      <th>36</th>\n      <td>FIPS_CODE</td>\n      <td>NaN</td>\n      <td>NaN</td>\n      <td>float64</td>\n      <td>0.360628</td>\n      <td>NaN</td>\n      <td>NaN</td>\n      <td>NaN</td>\n      <td>NaN</td>\n      <td>NaN</td>\n      <td>NaN</td>\n      <td>NaN</td>\n      <td>NaN</td>\n    </tr>\n    <tr>\n      <th>37</th>\n      <td>FIPS_NAME</td>\n      <td>NaN</td>\n      <td>NaN</td>\n      <td>object</td>\n      <td>0.360628</td>\n      <td>NaN</td>\n      <td>NaN</td>\n      <td>NaN</td>\n      <td>NaN</td>\n      <td>NaN</td>\n      <td>NaN</td>\n      <td>NaN</td>\n      <td>NaN</td>\n    </tr>\n    <tr>\n      <th>38</th>\n      <td>Shape</td>\n      <td>NaN</td>\n      <td>NaN</td>\n      <td>object</td>\n      <td>0.000000</td>\n      <td>NaN</td>\n      <td>NaN</td>\n      <td>NaN</td>\n      <td>NaN</td>\n      <td>NaN</td>\n      <td>NaN</td>\n      <td>NaN</td>\n      <td>NaN</td>\n    </tr>\n  </tbody>\n</table>\n</div>"
     },
     "execution_count": 15,
     "metadata": {},
     "output_type": "execute_result"
    }
   ],
   "source": [
    "df_info['na_rate'] = df.isna().sum(axis=0).reset_index(drop=True)/df.shape[0]\n",
    "df_info"
   ],
   "metadata": {
    "collapsed": false,
    "pycharm": {
     "name": "#%%\n"
    }
   }
  },
  {
   "cell_type": "markdown",
   "source": [
    "## Adding na handling method"
   ],
   "metadata": {
    "collapsed": false
   }
  },
  {
   "cell_type": "code",
   "execution_count": null,
   "outputs": [],
   "source": [
    "#OBJECT ID\n",
    "df_info[\"na_handling_method\"][0] =\n",
    "#FOD ID\n",
    "df_info[\"na_handling_method\"][1] =\n",
    "#FPA ID\n",
    "df_info[\"na_handling_method\"][2] =\n",
    "#SOURCE_SYSTEM_TYPE\n",
    "df_info[\"na_handling_method\"][3] =\n",
    "#SOURCE_SYSTEM\n",
    "df_info[\"na_handling_method\"][4] =\n",
    "#NWCG_REPORTING_AGENCY\n",
    "df_info[\"na_handling_method\"][5] =\n",
    "#NWGC_REPORTING_UNIT_ID\n",
    "df_info[\"na_handling_method\"][6] =\n",
    "#NWGC_REPORTING_UNIT_NAME\n",
    "df_info[\"na_handling_method\"][7] =\n",
    "#SOURCE_REPORTING_UNIT\n",
    "df_info[\"na_handling_method\"][8] =\n",
    "#SOURCE_REPORTING_UNIT_NAME\n",
    "df_info[\"na_handling_method\"][9] =\n",
    "#LOCAL_FIRE_REPORT_ID\n",
    "df_info[\"na_handling_method\"][10] =\n",
    "#LOCAL_INIDENT_ID\n",
    "df_info[\"na_handling_method\"][11] =\n",
    "#FIRE_CODE\n",
    "df_info[\"na_handling_method\"][12] =\n",
    "#FIRE_NAME\n",
    "df_info[\"na_handling_method\"][13] =\n",
    "#ISC_209_INCIDENT_NUMBER\n",
    "df_info[\"na_handling_method\"][14] =\n",
    "#ISC_209_NAME\n",
    "df_info[\"na_handling_method\"][15] =\n",
    "#MTBS_ID\n",
    "df_info[\"na_handling_method\"][16] =\n",
    "#MTBS_FIRE_NAME\n",
    "df_info[\"na_handling_method\"][17] =\n",
    "#COMPLEX_NAME\n",
    "df_info[\"na_handling_method\"][18] =\n",
    "#FIRE_YEAR\n",
    "df_info[\"na_handling_method\"][19] =\n",
    "#DISCOVERY_DATE\n",
    "df_info[\"na_handling_method\"][20] =\n",
    "#DISCOVERY_DOY\n",
    "df_info[\"na_handling_method\"][21] =\n",
    "#DISCOVERY_TIME\n",
    "df_info[\"na_handling_method\"][22] =\n",
    "#STAT_CAUSE_CODE\n",
    "df_info[\"na_handling_method\"][23] =\n",
    "#STAT_CAUSE_DSCR\n",
    "df_info[\"na_handling_method\"][24] =\n",
    "#CONT_DATE\n",
    "df_info[\"na_handling_method\"][25] =\n",
    "#CONT_DOY\n",
    "df_info[\"na_handling_method\"][26] =\n",
    "#CONT_TIME\n",
    "df_info[\"na_handling_method\"][27] =\n",
    "#FIRE_SIZE\n",
    "df_info[\"na_handling_method\"][28] =\n",
    "#FIRE_SIZE_CLASS\n",
    "df_info[\"na_handling_method\"][29] =\n",
    "#LATITUDE\n",
    "df_info[\"na_handling_method\"][30] =\n",
    "#LONGITUDE\n",
    "df_info[\"na_handling_method\"][31] =\n",
    "#OWNER_CODE\n",
    "df_info[\"na_handling_method\"][32] =\n",
    "#OWNER_DESCR\n",
    "df_info[\"na_handling_method\"][33] =\n",
    "#STATE\n",
    "df_info[\"na_handling_method\"][34] =\n",
    "#COUNTY\n",
    "df_info[\"na_handling_method\"][35] =\n",
    "#FIPS_CODE\n",
    "df_info[\"na_handling_method\"][36] =\n",
    "#FIPS_NAME\n",
    "df_info[\"na_handling_method\"][37] =\n",
    "#SHAPE\n",
    "df_info[\"na_handling_method\"][38] ="
   ],
   "metadata": {
    "collapsed": false,
    "pycharm": {
     "name": "#%%\n"
    }
   }
  },
  {
   "cell_type": "markdown",
   "source": [
    "## Adding distribution"
   ],
   "metadata": {
    "collapsed": false
   }
  },
  {
   "cell_type": "markdown",
   "source": [
    "## Adding var cat"
   ],
   "metadata": {
    "collapsed": false
   }
  },
  {
   "cell_type": "markdown",
   "source": [
    "## Adding balance"
   ],
   "metadata": {
    "collapsed": false,
    "pycharm": {
     "name": "#%% md\n"
    }
   }
  },
  {
   "cell_type": "markdown",
   "source": [
    "## Adding source reliability"
   ],
   "metadata": {
    "collapsed": false
   }
  },
  {
   "cell_type": "code",
   "execution_count": null,
   "outputs": [],
   "source": [
    "#OBJECT ID\n",
    "df_info[\"source_reliability\"][0] =\n",
    "#FOD ID\n",
    "df_info[\"source_reliability\"][1] =\n",
    "#FPA ID\n",
    "df_info[\"source_reliability\"][2] =\n",
    "#SOURCE_SYSTEM_TYPE\n",
    "df_info[\"source_reliability\"][3] =\n",
    "#SOURCE_SYSTEM\n",
    "df_info[\"source_reliability\"][4] =\n",
    "#NWCG_REPORTING_AGENCY\n",
    "df_info[\"source_reliability\"][5] =\n",
    "#NWGC_REPORTING_UNIT_ID\n",
    "df_info[\"source_reliability\"][6] =\n",
    "#NWGC_REPORTING_UNIT_NAME\n",
    "df_info[\"source_reliability\"][7] =\n",
    "#SOURCE_REPORTING_UNIT\n",
    "df_info[\"source_reliability\"][8] =\n",
    "#SOURCE_REPORTING_UNIT_NAME\n",
    "df_info[\"source_reliability\"][9] =\n",
    "#LOCAL_FIRE_REPORT_ID\n",
    "df_info[\"source_reliability\"][10] =\n",
    "#LOCAL_INIDENT_ID\n",
    "df_info[\"source_reliability\"][11] =\n",
    "#FIRE_CODE\n",
    "df_info[\"source_reliability\"][12] =\n",
    "#FIRE_NAME\n",
    "df_info[\"source_reliability\"][13] =\n",
    "#ISC_209_INCIDENT_NUMBER\n",
    "df_info[\"source_reliability\"][14] =\n",
    "#ISC_209_NAME\n",
    "df_info[\"source_reliability\"][15] =\n",
    "#MTBS_ID\n",
    "df_info[\"source_reliability\"][16] =\n",
    "#MTBS_FIRE_NAME\n",
    "df_info[\"source_reliability\"][17] =\n",
    "#COMPLEX_NAME\n",
    "df_info[\"source_reliability\"][18] =\n",
    "#FIRE_YEAR\n",
    "df_info[\"source_reliability\"][19] =\n",
    "#DISCOVERY_DATE\n",
    "df_info[\"source_reliability\"][20] =\n",
    "#DISCOVERY_DOY\n",
    "df_info[\"source_reliability\"][21] =\n",
    "#DISCOVERY_TIME\n",
    "df_info[\"source_reliability\"][22] =\n",
    "#STAT_CAUSE_CODE\n",
    "df_info[\"source_reliability\"][23] =\n",
    "#STAT_CAUSE_DSCR\n",
    "df_info[\"source_reliability\"][24] =\n",
    "#CONT_DATE\n",
    "df_info[\"source_reliability\"][25] =\n",
    "#CONT_DOY\n",
    "df_info[\"source_reliability\"][26] =\n",
    "#CONT_TIME\n",
    "df_info[\"source_reliability\"][27] =\n",
    "#FIRE_SIZE\n",
    "df_info[\"source_reliability\"][28] =\n",
    "#FIRE_SIZE_CLASS\n",
    "df_info[\"source_reliability\"][29] =\n",
    "#LATITUDE\n",
    "df_info[\"source_reliability\"][30] =\n",
    "#LONGITUDE\n",
    "df_info[\"source_reliability\"][31] =\n",
    "#OWNER_CODE\n",
    "df_info[\"source_reliability\"][32] =\n",
    "#OWNER_DESCR\n",
    "df_info[\"source_reliability\"][33] =\n",
    "#STATE\n",
    "df_info[\"source_reliability\"][34] =\n",
    "#COUNTY\n",
    "df_info[\"source_reliability\"][35] =\n",
    "#FIPS_CODE\n",
    "df_info[\"source_reliability\"][36] =\n",
    "#FIPS_NAME\n",
    "df_info[\"source_reliability\"][37] =\n",
    "#SHAPE\n",
    "df_info[\"source_reliability\"][38] ="
   ],
   "metadata": {
    "collapsed": false,
    "pycharm": {
     "name": "#%%\n"
    }
   }
  },
  {
   "cell_type": "markdown",
   "source": [
    "## Adding correlation with target"
   ],
   "metadata": {
    "collapsed": false
   }
  },
  {
   "cell_type": "markdown",
   "source": [
    "## Adding comment"
   ],
   "metadata": {
    "collapsed": false,
    "pycharm": {
     "name": "#%% md\n"
    }
   }
  },
  {
   "cell_type": "code",
   "execution_count": null,
   "outputs": [],
   "source": [
    "#OBJECT ID\n",
    "df_info[\"comment\"][0] =\n",
    "#FOD ID\n",
    "df_info[\"comment\"][1] =\n",
    "#FPA ID\n",
    "df_info[\"comment\"][2] =\n",
    "#SOURCE_SYSTEM_TYPE\n",
    "df_info[\"comment\"][3] =\n",
    "#SOURCE_SYSTEM\n",
    "df_info[\"comment\"][4] =\n",
    "#NWCG_REPORTING_AGENCY\n",
    "df_info[\"comment\"][5] =\n",
    "#NWGC_REPORTING_UNIT_ID\n",
    "df_info[\"comment\"][6] =\n",
    "#NWGC_REPORTING_UNIT_NAME\n",
    "df_info[\"comment\"][7] =\n",
    "#SOURCE_REPORTING_UNIT\n",
    "df_info[\"comment\"][8] =\n",
    "#SOURCE_REPORTING_UNIT_NAME\n",
    "df_info[\"comment\"][9] =\n",
    "#LOCAL_FIRE_REPORT_ID\n",
    "df_info[\"comment\"][10] =\n",
    "#LOCAL_INIDENT_ID\n",
    "df_info[\"comment\"][11] =\n",
    "#FIRE_CODE\n",
    "df_info[\"comment\"][12] =\n",
    "#FIRE_NAME\n",
    "df_info[\"comment\"][13] =\n",
    "#ISC_209_INCIDENT_NUMBER\n",
    "df_info[\"comment\"][14] =\n",
    "#ISC_209_NAME\n",
    "df_info[\"comment\"][15] =\n",
    "#MTBS_ID\n",
    "df_info[\"comment\"][16] =\n",
    "#MTBS_FIRE_NAME\n",
    "df_info[\"comment\"][17] =\n",
    "#COMPLEX_NAME\n",
    "df_info[\"comment\"][18] =\n",
    "#FIRE_YEAR\n",
    "df_info[\"comment\"][19] =\n",
    "#DISCOVERY_DATE\n",
    "df_info[\"comment\"][20] =\n",
    "#DISCOVERY_DOY\n",
    "df_info[\"comment\"][21] =\n",
    "#DISCOVERY_TIME\n",
    "df_info[\"comment\"][22] =\n",
    "#STAT_CAUSE_CODE\n",
    "df_info[\"comment\"][23] =\n",
    "#STAT_CAUSE_DSCR\n",
    "df_info[\"comment\"][24] =\n",
    "#CONT_DATE\n",
    "df_info[\"comment\"][25] =\n",
    "#CONT_DOY\n",
    "df_info[\"comment\"][26] =\n",
    "#CONT_TIME\n",
    "df_info[\"comment\"][27] =\n",
    "#FIRE_SIZE\n",
    "df_info[\"comment\"][28] =\n",
    "#FIRE_SIZE_CLASS\n",
    "df_info[\"comment\"][29] =\n",
    "#LATITUDE\n",
    "df_info[\"comment\"][30] =\n",
    "#LONGITUDE\n",
    "df_info[\"comment\"][31] =\n",
    "#OWNER_CODE\n",
    "df_info[\"comment\"][32] =\n",
    "#OWNER_DESCR\n",
    "df_info[\"comment\"][33] =\n",
    "#STATE\n",
    "df_info[\"comment\"][34] =\n",
    "#COUNTY\n",
    "df_info[\"comment\"][35] =\n",
    "#FIPS_CODE\n",
    "df_info[\"comment\"][36] =\n",
    "#FIPS_NAME\n",
    "df_info[\"comment\"][37] =\n",
    "#SHAPE\n",
    "df_info[\"comment\"][38] ="
   ],
   "metadata": {
    "collapsed": false,
    "pycharm": {
     "name": "#%%\n"
    }
   }
  }
 ],
 "metadata": {
  "kernelspec": {
   "display_name": "Python 3",
   "language": "python",
   "name": "python3"
  },
  "language_info": {
   "codemirror_mode": {
    "name": "ipython",
    "version": 2
   },
   "file_extension": ".py",
   "mimetype": "text/x-python",
   "name": "python",
   "nbconvert_exporter": "python",
   "pygments_lexer": "ipython2",
   "version": "2.7.6"
  }
 },
 "nbformat": 4,
 "nbformat_minor": 0
}