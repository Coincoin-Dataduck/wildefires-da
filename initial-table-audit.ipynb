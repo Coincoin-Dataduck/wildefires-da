{
 "cells": [
  {
   "cell_type": "markdown",
   "id": "30454ef1",
   "metadata": {},
   "source": [
    "### 1- Import des librairies utiles"
   ]
  },
  {
   "cell_type": "code",
   "execution_count": 1,
   "id": "86882765",
   "metadata": {},
   "outputs": [],
   "source": [
    "import pandas as pd\n",
    "import numpy as np\n",
    "import sqlalchemy as db\n",
    "\n",
    "import warnings\n",
    "warnings.filterwarnings('ignore')"
   ]
  },
  {
   "cell_type": "markdown",
   "id": "ebb4b7f4",
   "metadata": {},
   "source": [
    "### 2- Création du contexte SQLAlchemy"
   ]
  },
  {
   "cell_type": "code",
   "execution_count": 63,
   "id": "86b5944f",
   "metadata": {},
   "outputs": [],
   "source": [
    "from sqlalchemy import create_engine, MetaData, Table, inspect"
   ]
  },
  {
   "cell_type": "code",
   "execution_count": 39,
   "id": "d0235da0",
   "metadata": {},
   "outputs": [],
   "source": [
    "engine = db.create_engine('sqlite:///FPA_FOD_20170508.sqlite')\n",
    "connection = engine.connect()\n",
    "metadata = db.MetaData(bind=engine)"
   ]
  },
  {
   "cell_type": "markdown",
   "id": "88ccbe20",
   "metadata": {},
   "source": [
    "### 3- Listing des tables"
   ]
  },
  {
   "cell_type": "code",
   "execution_count": 40,
   "id": "a87c55fc",
   "metadata": {},
   "outputs": [],
   "source": [
    "inspector = inspect(engine)"
   ]
  },
  {
   "cell_type": "code",
   "execution_count": 41,
   "id": "59708e9e",
   "metadata": {},
   "outputs": [
    {
     "data": {
      "text/plain": [
       "['ElementaryGeometries',\n",
       " 'Fires',\n",
       " 'KNN',\n",
       " 'NWCG_UnitIDActive_20170109',\n",
       " 'SpatialIndex',\n",
       " 'geometry_columns',\n",
       " 'geometry_columns_auth',\n",
       " 'geometry_columns_field_infos',\n",
       " 'geometry_columns_statistics',\n",
       " 'geometry_columns_time',\n",
       " 'idx_Fires_Shape',\n",
       " 'idx_Fires_Shape_node',\n",
       " 'idx_Fires_Shape_parent',\n",
       " 'idx_Fires_Shape_rowid',\n",
       " 'spatial_ref_sys',\n",
       " 'spatial_ref_sys_aux',\n",
       " 'spatialite_history',\n",
       " 'sql_statements_log',\n",
       " 'sqlite_sequence',\n",
       " 'views_geometry_columns',\n",
       " 'views_geometry_columns_auth',\n",
       " 'views_geometry_columns_field_infos',\n",
       " 'views_geometry_columns_statistics',\n",
       " 'virts_geometry_columns',\n",
       " 'virts_geometry_columns_auth',\n",
       " 'virts_geometry_columns_field_infos',\n",
       " 'virts_geometry_columns_statistics']"
      ]
     },
     "execution_count": 41,
     "metadata": {},
     "output_type": "execute_result"
    }
   ],
   "source": [
    "inspector.get_table_names()"
   ]
  },
  {
   "cell_type": "code",
   "execution_count": 22,
   "id": "e4136305",
   "metadata": {
    "scrolled": true
   },
   "outputs": [
    {
     "name": "stdout",
     "output_type": "stream",
     "text": [
      "Nb de tables : 27\n"
     ]
    }
   ],
   "source": [
    "print('Nb de tables :',len(inspector.get_table_names()))"
   ]
  },
  {
   "cell_type": "markdown",
   "id": "d7abde2c",
   "metadata": {},
   "source": [
    "J'ai remarqué que certaines tables n'étaient pas valides et ne pouvaient être chargées, j'essaie donc de définir les tables valides à étudier et sortir les tables non-exploitables :"
   ]
  },
  {
   "cell_type": "code",
   "execution_count": 42,
   "id": "80064525",
   "metadata": {},
   "outputs": [],
   "source": [
    "list_tables_OK = []\n",
    "list_tables_NOK = []\n",
    "\n",
    "for table_name in inspector.get_table_names():\n",
    "    try:\n",
    "        inspector.has_table(table_name)\n",
    "        list_tables_OK.append(table_name)\n",
    "    except:\n",
    "        list_tables_NOK.append(table_name)"
   ]
  },
  {
   "cell_type": "code",
   "execution_count": 43,
   "id": "2d7d4c5b",
   "metadata": {
    "scrolled": false
   },
   "outputs": [
    {
     "data": {
      "text/plain": [
       "['Fires',\n",
       " 'NWCG_UnitIDActive_20170109',\n",
       " 'geometry_columns',\n",
       " 'geometry_columns_auth',\n",
       " 'geometry_columns_field_infos',\n",
       " 'geometry_columns_statistics',\n",
       " 'geometry_columns_time',\n",
       " 'idx_Fires_Shape',\n",
       " 'idx_Fires_Shape_node',\n",
       " 'idx_Fires_Shape_parent',\n",
       " 'idx_Fires_Shape_rowid',\n",
       " 'spatial_ref_sys',\n",
       " 'spatial_ref_sys_aux',\n",
       " 'spatialite_history',\n",
       " 'sql_statements_log',\n",
       " 'sqlite_sequence',\n",
       " 'views_geometry_columns',\n",
       " 'views_geometry_columns_auth',\n",
       " 'views_geometry_columns_field_infos',\n",
       " 'views_geometry_columns_statistics',\n",
       " 'virts_geometry_columns',\n",
       " 'virts_geometry_columns_auth',\n",
       " 'virts_geometry_columns_field_infos',\n",
       " 'virts_geometry_columns_statistics']"
      ]
     },
     "execution_count": 43,
     "metadata": {},
     "output_type": "execute_result"
    }
   ],
   "source": [
    "list_tables_OK"
   ]
  },
  {
   "cell_type": "code",
   "execution_count": 44,
   "id": "9d85b6e6",
   "metadata": {},
   "outputs": [
    {
     "data": {
      "text/plain": [
       "['ElementaryGeometries', 'KNN', 'SpatialIndex']"
      ]
     },
     "execution_count": 44,
     "metadata": {},
     "output_type": "execute_result"
    }
   ],
   "source": [
    "list_tables_NOK"
   ]
  },
  {
   "cell_type": "markdown",
   "id": "766bcc93",
   "metadata": {},
   "source": [
    "### 4- Relevé du nombre de lignes et colonnes"
   ]
  },
  {
   "cell_type": "markdown",
   "id": "ed689838",
   "metadata": {},
   "source": [
    "Chargement des metadata pour les tables OK :"
   ]
  },
  {
   "cell_type": "code",
   "execution_count": 49,
   "id": "cfc5b8e8",
   "metadata": {},
   "outputs": [],
   "source": [
    "metadata.reflect(only = list_tables_OK)"
   ]
  },
  {
   "cell_type": "markdown",
   "id": "ca1c6cb9",
   "metadata": {},
   "source": [
    "Relevé du nombres lignes par table :"
   ]
  },
  {
   "cell_type": "code",
   "execution_count": 53,
   "id": "ccea64ba",
   "metadata": {
    "scrolled": false
   },
   "outputs": [
    {
     "name": "stdout",
     "output_type": "stream",
     "text": [
      "Table : Fires || Nb lignes : 1880465\n",
      "Table : NWCG_UnitIDActive_20170109 || Nb lignes : 5867\n",
      "Table : geometry_columns || Nb lignes : 1\n",
      "Table : geometry_columns_auth || Nb lignes : 1\n",
      "Table : geometry_columns_field_infos || Nb lignes : 0\n",
      "Table : geometry_columns_statistics || Nb lignes : 1\n",
      "Table : geometry_columns_time || Nb lignes : 1\n",
      "Table : idx_Fires_Shape || Nb lignes : 1880465\n",
      "Table : idx_Fires_Shape_node || Nb lignes : 72263\n",
      "Table : idx_Fires_Shape_parent || Nb lignes : 72262\n",
      "Table : idx_Fires_Shape_rowid || Nb lignes : 1880465\n",
      "Table : spatial_ref_sys || Nb lignes : 4924\n",
      "Table : spatial_ref_sys_aux || Nb lignes : 4873\n",
      "Table : spatialite_history || Nb lignes : 16\n",
      "Table : sql_statements_log || Nb lignes : 0\n",
      "Table : sqlite_sequence || Nb lignes : 3\n",
      "Table : views_geometry_columns || Nb lignes : 0\n",
      "Table : views_geometry_columns_auth || Nb lignes : 0\n",
      "Table : views_geometry_columns_field_infos || Nb lignes : 0\n",
      "Table : views_geometry_columns_statistics || Nb lignes : 0\n",
      "Table : virts_geometry_columns || Nb lignes : 0\n",
      "Table : virts_geometry_columns_auth || Nb lignes : 0\n",
      "Table : virts_geometry_columns_field_infos || Nb lignes : 0\n",
      "Table : virts_geometry_columns_statistics || Nb lignes : 0\n"
     ]
    }
   ],
   "source": [
    "for table_name in list_tables_OK:\n",
    "    print('Table :', table_name, '|| Nb lignes :', db.select([db.func.count()]).select_from(metadata.tables[table_name]).scalar())"
   ]
  },
  {
   "cell_type": "markdown",
   "id": "4c747f75",
   "metadata": {},
   "source": [
    "Relevé du nombre de colonnes par table :"
   ]
  },
  {
   "cell_type": "code",
   "execution_count": 58,
   "id": "f98c4c06",
   "metadata": {},
   "outputs": [
    {
     "name": "stdout",
     "output_type": "stream",
     "text": [
      "Table : Fires || Nb colonnes : 39\n",
      "Table : NWCG_UnitIDActive_20170109 || Nb colonnes : 13\n",
      "Table : geometry_columns || Nb colonnes : 6\n",
      "Table : geometry_columns_auth || Nb colonnes : 4\n",
      "Table : geometry_columns_field_infos || Nb colonnes : 14\n",
      "Table : geometry_columns_statistics || Nb colonnes : 8\n",
      "Table : geometry_columns_time || Nb colonnes : 5\n",
      "Table : idx_Fires_Shape || Nb colonnes : 5\n",
      "Table : idx_Fires_Shape_node || Nb colonnes : 2\n",
      "Table : idx_Fires_Shape_parent || Nb colonnes : 2\n",
      "Table : idx_Fires_Shape_rowid || Nb colonnes : 2\n",
      "Table : spatial_ref_sys || Nb colonnes : 6\n",
      "Table : spatial_ref_sys_aux || Nb colonnes : 12\n",
      "Table : spatialite_history || Nb colonnes : 7\n",
      "Table : sql_statements_log || Nb colonnes : 7\n",
      "Table : sqlite_sequence || Nb colonnes : 2\n",
      "Table : views_geometry_columns || Nb colonnes : 6\n",
      "Table : views_geometry_columns_auth || Nb colonnes : 3\n",
      "Table : views_geometry_columns_field_infos || Nb colonnes : 14\n",
      "Table : views_geometry_columns_statistics || Nb colonnes : 8\n",
      "Table : virts_geometry_columns || Nb colonnes : 5\n",
      "Table : virts_geometry_columns_auth || Nb colonnes : 3\n",
      "Table : virts_geometry_columns_field_infos || Nb colonnes : 14\n",
      "Table : virts_geometry_columns_statistics || Nb colonnes : 8\n"
     ]
    }
   ],
   "source": [
    "for table_name in list_tables_OK:\n",
    "      print('Table :', table_name, '|| Nb colonnes :', len(metadata.tables[table_name].columns.keys()))"
   ]
  },
  {
   "cell_type": "markdown",
   "id": "83fd1a5c",
   "metadata": {},
   "source": [
    "Requête globale en vue d'une reprise sous Excel :"
   ]
  },
  {
   "cell_type": "code",
   "execution_count": 62,
   "id": "7dc58f7f",
   "metadata": {},
   "outputs": [
    {
     "name": "stdout",
     "output_type": "stream",
     "text": [
      "Table_name , Nb lignes , Nb colonnes\n",
      "Fires , 1880465 , 39\n",
      "NWCG_UnitIDActive_20170109 , 5867 , 13\n",
      "geometry_columns , 1 , 6\n",
      "geometry_columns_auth , 1 , 4\n",
      "geometry_columns_field_infos , 0 , 14\n",
      "geometry_columns_statistics , 1 , 8\n",
      "geometry_columns_time , 1 , 5\n",
      "idx_Fires_Shape , 1880465 , 5\n",
      "idx_Fires_Shape_node , 72263 , 2\n",
      "idx_Fires_Shape_parent , 72262 , 2\n",
      "idx_Fires_Shape_rowid , 1880465 , 2\n",
      "spatial_ref_sys , 4924 , 6\n",
      "spatial_ref_sys_aux , 4873 , 12\n",
      "spatialite_history , 16 , 7\n",
      "sql_statements_log , 0 , 7\n",
      "sqlite_sequence , 3 , 2\n",
      "views_geometry_columns , 0 , 6\n",
      "views_geometry_columns_auth , 0 , 3\n",
      "views_geometry_columns_field_infos , 0 , 14\n",
      "views_geometry_columns_statistics , 0 , 8\n",
      "virts_geometry_columns , 0 , 5\n",
      "virts_geometry_columns_auth , 0 , 3\n",
      "virts_geometry_columns_field_infos , 0 , 14\n",
      "virts_geometry_columns_statistics , 0 , 8\n"
     ]
    }
   ],
   "source": [
    "print('Table_name', ',', 'Nb lignes', ',', 'Nb colonnes')\n",
    "for table_name in list_tables_OK:\n",
    "    print(table_name, ',',db.select([db.func.count()]).select_from(metadata.tables[table_name]).scalar(), ',', len(metadata.tables[table_name].columns.keys()))"
   ]
  }
 ],
 "metadata": {
  "kernelspec": {
   "display_name": "Python 3 (ipykernel)",
   "language": "python",
   "name": "python3"
  },
  "language_info": {
   "codemirror_mode": {
    "name": "ipython",
    "version": 3
   },
   "file_extension": ".py",
   "mimetype": "text/x-python",
   "name": "python",
   "nbconvert_exporter": "python",
   "pygments_lexer": "ipython3",
   "version": "3.9.7"
  }
 },
 "nbformat": 4,
 "nbformat_minor": 5
}
