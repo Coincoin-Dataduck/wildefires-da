{
 "cells": [
  {
   "cell_type": "code",
   "execution_count": 18,
   "id": "9899111a",
   "metadata": {},
   "outputs": [
    {
     "name": "stderr",
     "output_type": "stream",
     "text": [
      "C:\\Users\\33767\\anaconda3\\lib\\site-packages\\IPython\\core\\interactiveshell.py:3444: DtypeWarning: Columns (8,10,11,12,13,14,15,16,17,18,35,37) have mixed types.Specify dtype option on import or set low_memory=False.\n",
      "  exec(code_obj, self.user_global_ns, self.user_ns)\n"
     ]
    }
   ],
   "source": [
    "import pandas as pd\n",
    "import numpy as np\n",
    "import matplotlib.pyplot as plt\n",
    "import seaborn as sns\n",
    "\n",
    "df = pd.read_csv(r\"C:\\fires_utf8.csv\")\n"
   ]
  },
  {
   "cell_type": "code",
   "execution_count": 2,
   "id": "fafad051",
   "metadata": {},
   "outputs": [
    {
     "name": "stdout",
     "output_type": "stream",
     "text": [
      "<class 'pandas.core.frame.DataFrame'>\n",
      "RangeIndex: 1880465 entries, 0 to 1880464\n",
      "Data columns (total 39 columns):\n",
      " #   Column                      Dtype  \n",
      "---  ------                      -----  \n",
      " 0   OBJECTID                    int64  \n",
      " 1   FOD_ID                      int64  \n",
      " 2   FPA_ID                      object \n",
      " 3   SOURCE_SYSTEM_TYPE          object \n",
      " 4   SOURCE_SYSTEM               object \n",
      " 5   NWCG_REPORTING_AGENCY       object \n",
      " 6   NWCG_REPORTING_UNIT_ID      object \n",
      " 7   NWCG_REPORTING_UNIT_NAME    object \n",
      " 8   SOURCE_REPORTING_UNIT       object \n",
      " 9   SOURCE_REPORTING_UNIT_NAME  object \n",
      " 10  LOCAL_FIRE_REPORT_ID        object \n",
      " 11  LOCAL_INCIDENT_ID           object \n",
      " 12  FIRE_CODE                   object \n",
      " 13  FIRE_NAME                   object \n",
      " 14  ICS_209_INCIDENT_NUMBER     object \n",
      " 15  ICS_209_NAME                object \n",
      " 16  MTBS_ID                     object \n",
      " 17  MTBS_FIRE_NAME              object \n",
      " 18  COMPLEX_NAME                object \n",
      " 19  FIRE_YEAR                   int64  \n",
      " 20  DISCOVERY_DATE              float64\n",
      " 21  DISCOVERY_DOY               int64  \n",
      " 22  DISCOVERY_TIME              float64\n",
      " 23  STAT_CAUSE_CODE             int64  \n",
      " 24  STAT_CAUSE_DESCR            object \n",
      " 25  CONT_DATE                   float64\n",
      " 26  CONT_DOY                    float64\n",
      " 27  CONT_TIME                   float64\n",
      " 28  FIRE_SIZE                   float64\n",
      " 29  FIRE_SIZE_CLASS             object \n",
      " 30  LATITUDE                    float64\n",
      " 31  LONGITUDE                   float64\n",
      " 32  OWNER_CODE                  int64  \n",
      " 33  OWNER_DESCR                 object \n",
      " 34  STATE                       object \n",
      " 35  COUNTY                      object \n",
      " 36  FIPS_CODE                   float64\n",
      " 37  FIPS_NAME                   object \n",
      " 38  Shape                       float64\n",
      "dtypes: float64(10), int64(6), object(23)\n",
      "memory usage: 559.5+ MB\n"
     ]
    }
   ],
   "source": [
    "df.info()"
   ]
  },
  {
   "cell_type": "markdown",
   "id": "092e5723",
   "metadata": {},
   "source": [
    "# Nombre et taille des feux par états"
   ]
  },
  {
   "cell_type": "code",
   "execution_count": 3,
   "id": "0584320b",
   "metadata": {},
   "outputs": [
    {
     "data": {
      "image/png": "[encoded data removed]",
      "text/plain": [
       "<Figure size 432x288 with 1 Axes>"
      ]
     },
     "metadata": {
      "needs_background": "light"
     },
     "output_type": "display_data"
    }
   ],
   "source": [
    "df['STATE'].value_counts().sort_values(ascending = False)[:15].plot(kind = 'bar', width = 0.8, alpha = 0.9,  edgecolor = 'darkblue', \n",
    "                                                            ylabel = \"Number of fires\", xlabel = 'States', title = 'Fires by state');"
   ]
  },
  {
   "cell_type": "markdown",
   "id": "439ae02f",
   "metadata": {},
   "source": [
    "### Nouveau DF avec seulement les tailles des feux par états"
   ]
  },
  {
   "cell_type": "code",
   "execution_count": 4,
   "id": "4ccebf6b",
   "metadata": {},
   "outputs": [
    {
     "data": {
      "text/html": [
       "<div>\n",
       "<style scoped>\n",
       "    .dataframe tbody tr th:only-of-type {\n",
       "        vertical-align: middle;\n",
       "    }\n",
       "\n",
       "    .dataframe tbody tr th {\n",
       "        vertical-align: top;\n",
       "    }\n",
       "\n",
       "    .dataframe thead th {\n",
       "        text-align: right;\n",
       "    }\n",
       "</style>\n",
       "<table border=\"1\" class=\"dataframe\">\n",
       "  <thead>\n",
       "    <tr style=\"text-align: right;\">\n",
       "      <th></th>\n",
       "      <th>sum</th>\n",
       "    </tr>\n",
       "    <tr>\n",
       "      <th>STATE</th>\n",
       "      <th></th>\n",
       "    </tr>\n",
       "  </thead>\n",
       "  <tbody>\n",
       "    <tr>\n",
       "      <th>AK</th>\n",
       "      <td>3.223309e+07</td>\n",
       "    </tr>\n",
       "    <tr>\n",
       "      <th>AL</th>\n",
       "      <td>9.205453e+05</td>\n",
       "    </tr>\n",
       "    <tr>\n",
       "      <th>AR</th>\n",
       "      <td>5.089118e+05</td>\n",
       "    </tr>\n",
       "    <tr>\n",
       "      <th>AZ</th>\n",
       "      <td>5.576681e+06</td>\n",
       "    </tr>\n",
       "    <tr>\n",
       "      <th>CA</th>\n",
       "      <td>1.274586e+07</td>\n",
       "    </tr>\n",
       "  </tbody>\n",
       "</table>\n",
       "</div>"
      ],
      "text/plain": [
       "                sum\n",
       "STATE              \n",
       "AK     3.223309e+07\n",
       "AL     9.205453e+05\n",
       "AR     5.089118e+05\n",
       "AZ     5.576681e+06\n",
       "CA     1.274586e+07"
      ]
     },
     "execution_count": 4,
     "metadata": {},
     "output_type": "execute_result"
    }
   ],
   "source": [
    "df_size = df.groupby('STATE')['FIRE_SIZE'].agg(['sum'])\n",
    "\n",
    "df_size.head()"
   ]
  },
  {
   "cell_type": "code",
   "execution_count": 5,
   "id": "7a398afa",
   "metadata": {},
   "outputs": [
    {
     "data": {
      "image/png": "[encoded data removed]",
      "text/plain": [
       "<Figure size 432x288 with 1 Axes>"
      ]
     },
     "metadata": {
      "needs_background": "light"
     },
     "output_type": "display_data"
    }
   ],
   "source": [
    "df_size.sort_values(by = 'sum', ascending=False)[:15].plot(kind=\"bar\", width = 0.8, alpha = 0.9,  edgecolor = 'darkblue', \n",
    "                                                            ylabel = \"Sum of fires size\", xlabel = 'States', title = 'Sum of fires size by state');"
   ]
  },
  {
   "cell_type": "code",
   "execution_count": null,
   "id": "94fb2ba9",
   "metadata": {},
   "outputs": [],
   "source": [
    "# La surface brulée est la plus importante en Alaska tandis que le nombre de feux est le plus important en Californie"
   ]
  },
  {
   "cell_type": "markdown",
   "id": "340361c5",
   "metadata": {},
   "source": [
    "# Nombre et taille des feux par états"
   ]
  },
  {
   "cell_type": "code",
   "execution_count": 14,
   "id": "58bd6189",
   "metadata": {},
   "outputs": [
    {
     "data": {
      "image/png": "[encoded data removed]",
      "text/plain": [
       "<Figure size 432x288 with 1 Axes>"
      ]
     },
     "metadata": {
      "needs_background": "light"
     },
     "output_type": "display_data"
    }
   ],
   "source": [
    "df['FIRE_YEAR'].value_counts().sort_index().plot(kind = 'bar', width = 0.8, alpha = 0.9,  edgecolor = 'darkblue', \n",
    "                                                 ylabel = \"Number of fires\", xlabel = 'Year', title = 'Fires by years');"
   ]
  },
  {
   "cell_type": "markdown",
   "id": "6b221e88",
   "metadata": {},
   "source": [
    "### Nouveau DF avec seulement les tailles des feux par année"
   ]
  },
  {
   "cell_type": "code",
   "execution_count": 7,
   "id": "a10f3b3c",
   "metadata": {},
   "outputs": [
    {
     "data": {
      "text/html": [
       "<div>\n",
       "<style scoped>\n",
       "    .dataframe tbody tr th:only-of-type {\n",
       "        vertical-align: middle;\n",
       "    }\n",
       "\n",
       "    .dataframe tbody tr th {\n",
       "        vertical-align: top;\n",
       "    }\n",
       "\n",
       "    .dataframe thead th {\n",
       "        text-align: right;\n",
       "    }\n",
       "</style>\n",
       "<table border=\"1\" class=\"dataframe\">\n",
       "  <thead>\n",
       "    <tr style=\"text-align: right;\">\n",
       "      <th></th>\n",
       "      <th>sum</th>\n",
       "    </tr>\n",
       "    <tr>\n",
       "      <th>FIRE_YEAR</th>\n",
       "      <th></th>\n",
       "    </tr>\n",
       "  </thead>\n",
       "  <tbody>\n",
       "    <tr>\n",
       "      <th>1992</th>\n",
       "      <td>2199958.001</td>\n",
       "    </tr>\n",
       "    <tr>\n",
       "      <th>1993</th>\n",
       "      <td>2191696.003</td>\n",
       "    </tr>\n",
       "    <tr>\n",
       "      <th>1994</th>\n",
       "      <td>4116675.529</td>\n",
       "    </tr>\n",
       "    <tr>\n",
       "      <th>1995</th>\n",
       "      <td>2049585.058</td>\n",
       "    </tr>\n",
       "    <tr>\n",
       "      <th>1996</th>\n",
       "      <td>6005155.709</td>\n",
       "    </tr>\n",
       "  </tbody>\n",
       "</table>\n",
       "</div>"
      ],
      "text/plain": [
       "                   sum\n",
       "FIRE_YEAR             \n",
       "1992       2199958.001\n",
       "1993       2191696.003\n",
       "1994       4116675.529\n",
       "1995       2049585.058\n",
       "1996       6005155.709"
      ]
     },
     "execution_count": 7,
     "metadata": {},
     "output_type": "execute_result"
    }
   ],
   "source": [
    "df_size_year = df.groupby('FIRE_YEAR')['FIRE_SIZE'].agg(['sum'])\n",
    "\n",
    "df_size_year.head()"
   ]
  },
  {
   "cell_type": "code",
   "execution_count": 16,
   "id": "3d3391ac",
   "metadata": {},
   "outputs": [
    {
     "data": {
      "image/png": "[encoded data removed]",
      "text/plain": [
       "<Figure size 432x288 with 1 Axes>"
      ]
     },
     "metadata": {
      "needs_background": "light"
     },
     "output_type": "display_data"
    }
   ],
   "source": [
    "df_size_year.plot(kind = 'bar', width = 0.8, alpha = 0.9,  edgecolor = 'darkblue', \n",
    "                                                            ylabel = \"Sum of fire sizes\", xlabel = 'Year', title = 'Sum of fires size by years');"
   ]
  },
  {
   "cell_type": "code",
   "execution_count": null,
   "id": "814493c1",
   "metadata": {},
   "outputs": [],
   "source": [
    "# Il semble que les tailles des feux aient augmentés au cours du temps."
   ]
  },
  {
   "cell_type": "code",
   "execution_count": null,
   "id": "496a5a3f",
   "metadata": {},
   "outputs": [],
   "source": [
    "#moyenne feu / surface\n",
    "# scatter plot ? Regression linéaire ?\n",
    "# Par classes de feu ? barres séparées en différentes classes A-B-C....."
   ]
  }
 ],
 "metadata": {
  "celltoolbar": "Format de la Cellule Texte Brut",
  "kernelspec": {
   "display_name": "Python 3 (ipykernel)",
   "language": "python",
   "name": "python3"
  },
  "language_info": {
   "codemirror_mode": {
    "name": "ipython",
    "version": 3
   },
   "file_extension": ".py",
   "mimetype": "text/x-python",
   "name": "python",
   "nbconvert_exporter": "python",
   "pygments_lexer": "ipython3",
   "version": "3.9.7"
  }
 },
 "nbformat": 4,
 "nbformat_minor": 5
}
